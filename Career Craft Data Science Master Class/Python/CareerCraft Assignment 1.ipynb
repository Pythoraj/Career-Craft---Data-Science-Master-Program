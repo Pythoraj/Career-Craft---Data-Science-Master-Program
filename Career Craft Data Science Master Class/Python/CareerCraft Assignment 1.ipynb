{
 "cells": [
  {
   "cell_type": "markdown",
   "id": "93675bd8",
   "metadata": {},
   "source": [
    "Q 1: Check Even or Odd\n",
    "Write a program to check if a number entered by the user is even or odd."
   ]
  },
  {
   "cell_type": "code",
   "execution_count": 1,
   "id": "453652ce",
   "metadata": {},
   "outputs": [],
   "source": [
    "#Write code here"
   ]
  },
  {
   "cell_type": "markdown",
   "id": "484da0a9",
   "metadata": {},
   "source": [
    "Q2: Calculate Monthly In-hand Salary after Deductions\n",
    "Write a program that will give you the in-hand monthly salary after deductions on CTC, with HRA (10%), DA (5%), PF (3%), and the following tax slabs:\n",
    "\n",
    "Salary (Lakhs): Tax (%)\n",
    "Below 5: 0%\n",
    "5-10: 10%\n",
    "10-20: 20%\n",
    "Above 20: 30%"
   ]
  },
  {
   "cell_type": "code",
   "execution_count": 2,
   "id": "933fe307",
   "metadata": {},
   "outputs": [],
   "source": [
    "#Write code here"
   ]
  },
  {
   "cell_type": "code",
   "execution_count": null,
   "id": "59b9607b",
   "metadata": {},
   "outputs": [],
   "source": [
    "Q3.: Determine Profit or Loss\n",
    "Write a program that takes cost price and selling price as input and determines if it's a profit or loss."
   ]
  },
  {
   "cell_type": "code",
   "execution_count": 3,
   "id": "2e27d984",
   "metadata": {},
   "outputs": [],
   "source": [
    "#Write code here"
   ]
  },
  {
   "cell_type": "markdown",
   "id": "f7343d83",
   "metadata": {},
   "source": [
    "Q4: Display the First 10 Terms of the Fibonacci Series\n",
    "Write a program to print the first 10 terms of the Fibonacci series."
   ]
  },
  {
   "cell_type": "code",
   "execution_count": 4,
   "id": "9298cc2b",
   "metadata": {},
   "outputs": [],
   "source": [
    "#Write code here"
   ]
  },
  {
   "cell_type": "markdown",
   "id": "f4a5a8a1",
   "metadata": {},
   "source": [
    "Q5: Calculate Factorial of a Number\n",
    "Write a program to find the factorial of a given number."
   ]
  },
  {
   "cell_type": "code",
   "execution_count": 5,
   "id": "810fd1e7",
   "metadata": {},
   "outputs": [],
   "source": [
    "#Write code here"
   ]
  },
  {
   "cell_type": "markdown",
   "id": "9962c977",
   "metadata": {},
   "source": [
    "Q6: Reverse a Given Integer without uing inbuilt function\n",
    "Write a program to reverse a given integer numbe"
   ]
  },
  {
   "cell_type": "code",
   "execution_count": null,
   "id": "7b9b1ce3",
   "metadata": {},
   "outputs": [],
   "source": [
    "#Write code here"
   ]
  },
  {
   "cell_type": "markdown",
   "id": "411b20ad",
   "metadata": {},
   "source": [
    "Q7: Sum from 1 to N with Conditions\n",
    "Take a user input integer N and find the sum from 1 to N. Skip numbers divisible by 5, and stop if the sum exceeds 300."
   ]
  },
  {
   "cell_type": "code",
   "execution_count": null,
   "id": "e00585fc",
   "metadata": {},
   "outputs": [],
   "source": [
    "#Write code here"
   ]
  },
  {
   "cell_type": "markdown",
   "id": "cda01133",
   "metadata": {},
   "source": [
    "Q8: Accept Numbers Until Zero, Then Display Sum and Average\n",
    "Write a program that keeps accepting numbers until the user enters zero. Display the sum and average of all numbers."
   ]
  },
  {
   "cell_type": "code",
   "execution_count": null,
   "id": "b033379d",
   "metadata": {},
   "outputs": [],
   "source": [
    "#Write code here"
   ]
  },
  {
   "cell_type": "code",
   "execution_count": null,
   "id": "60bd9145",
   "metadata": {},
   "outputs": [],
   "source": [
    "Q9: Find Numbers Divisible by 7 but Not by 5\n",
    "Write a program to find numbers between 2000 and 3200 that are divisible by 7 but not multiples of 5. Display them in a comma-separated sequence."
   ]
  },
  {
   "cell_type": "code",
   "execution_count": null,
   "id": "e482b570",
   "metadata": {},
   "outputs": [],
   "source": [
    "#Write code here"
   ]
  },
  {
   "cell_type": "code",
   "execution_count": null,
   "id": "c87354b9",
   "metadata": {},
   "outputs": [],
   "source": [
    "Q10. Calculate the Angle Between Clock Hands\n",
    "Write a program to calculate the angle between the hour and minute hands of a clock, given time in H hours and M minutes."
   ]
  },
  {
   "cell_type": "code",
   "execution_count": null,
   "id": "1df85567",
   "metadata": {},
   "outputs": [],
   "source": [
    "#Write code here"
   ]
  },
  {
   "cell_type": "code",
   "execution_count": null,
   "id": "623f1c46",
   "metadata": {},
   "outputs": [],
   "source": [
    "Q11. Check for Rectangle Overlap\n",
    "Write a program to check if two rectangles overlap, given the coordinates of their top-left and bottom-right corners.\n"
   ]
  },
  {
   "cell_type": "code",
   "execution_count": null,
   "id": "804860c5",
   "metadata": {},
   "outputs": [],
   "source": [
    "#Write code here"
   ]
  },
  {
   "cell_type": "markdown",
   "id": "4647fc20",
   "metadata": {},
   "source": [
    "Q12. Calculate the Number of Bottles That Can Fit in a Tank\n",
    "Given the volume of a water tank and the volume of a single bottle, calculate how many bottles of water can be filled from the tank. Assume all inputs are provided by the user."
   ]
  },
  {
   "cell_type": "code",
   "execution_count": null,
   "id": "87232fd1",
   "metadata": {},
   "outputs": [],
   "source": [
    "#Write code here"
   ]
  },
  {
   "cell_type": "code",
   "execution_count": null,
   "id": "d8821947",
   "metadata": {},
   "outputs": [],
   "source": [
    "Q13. Find the Nth Term of a Geometric Sequence\n",
    "Given the first term and common ratio of a geometric sequence, find the Nth term. Assume all inputs are provided by the user."
   ]
  },
  {
   "cell_type": "code",
   "execution_count": null,
   "id": "112cd123",
   "metadata": {},
   "outputs": [],
   "source": [
    "#Write code here"
   ]
  },
  {
   "cell_type": "code",
   "execution_count": null,
   "id": "8a3f00c1",
   "metadata": {},
   "outputs": [],
   "source": [
    "Q14. Sum of Cubes of First N Natural Numbers\n",
    "Write a program to find the sum of cubes of the first n natural numbers. The user will provide the value of n."
   ]
  },
  {
   "cell_type": "code",
   "execution_count": null,
   "id": "d41dbc5e",
   "metadata": {},
   "outputs": [],
   "source": [
    "#Write code here"
   ]
  },
  {
   "cell_type": "code",
   "execution_count": null,
   "id": "da81b61d",
   "metadata": {},
   "outputs": [],
   "source": [
    "Q15. Calculate the Manhattan Distance Between Two Points\n",
    "Write a program to calculate the Manhattan distance between two coordinates in a 2D plane. Take both coordinates from the user as input."
   ]
  },
  {
   "cell_type": "code",
   "execution_count": null,
   "id": "44fdcae9",
   "metadata": {},
   "outputs": [],
   "source": [
    "#Write code here"
   ]
  },
  {
   "cell_type": "code",
   "execution_count": null,
   "id": "3e03ae11",
   "metadata": {},
   "outputs": [],
   "source": [
    "Q16. Swap Two Numbers Without Using a Third Variable\n",
    "Take two integers as input from the user. Write a program to swap their values without using a third variable."
   ]
  },
  {
   "cell_type": "code",
   "execution_count": null,
   "id": "db1d84d6",
   "metadata": {},
   "outputs": [],
   "source": [
    "#Write code here"
   ]
  },
  {
   "cell_type": "code",
   "execution_count": null,
   "id": "47867e8e",
   "metadata": {},
   "outputs": [],
   "source": [
    "Q17. Convert Kilometers to Miles\n",
    "Write a program to convert a distance from kilometers to miles. Assume 1 kilometer is approximately 0.621371 miles."
   ]
  },
  {
   "cell_type": "code",
   "execution_count": null,
   "id": "04a8325f",
   "metadata": {},
   "outputs": [],
   "source": [
    "#Write code here"
   ]
  },
  {
   "cell_type": "markdown",
   "id": "6a865643",
   "metadata": {},
   "source": [
    "Q18. Sum and Average of Entered Numbers\n",
    "Write a program that keeps accepting numbers from the user until zero is entered. Display the sum and average of the numbers."
   ]
  },
  {
   "cell_type": "code",
   "execution_count": null,
   "id": "3114a30d",
   "metadata": {},
   "outputs": [],
   "source": [
    "#Write code here"
   ]
  },
  {
   "cell_type": "code",
   "execution_count": null,
   "id": "c5ab08de",
   "metadata": {},
   "outputs": [],
   "source": [
    "Q19. Using conditional statement design a menu driven calculator. It should take two operands \n",
    "and operation to be done as input and do the calculation."
   ]
  },
  {
   "cell_type": "code",
   "execution_count": null,
   "id": "ac541f0d",
   "metadata": {},
   "outputs": [],
   "source": [
    "#Write code here"
   ]
  },
  {
   "cell_type": "code",
   "execution_count": null,
   "id": "8b649e7c",
   "metadata": {},
   "outputs": [],
   "source": [
    "Q20. Make a restaurant menu and suggest best dish for a veg starter except paneer."
   ]
  },
  {
   "cell_type": "code",
   "execution_count": null,
   "id": "b1b7dfef",
   "metadata": {},
   "outputs": [],
   "source": [
    "#Write code here"
   ]
  },
  {
   "cell_type": "code",
   "execution_count": null,
   "id": "aee3493b",
   "metadata": {},
   "outputs": [],
   "source": [
    "Q21. Design an ATM using conditionals."
   ]
  },
  {
   "cell_type": "code",
   "execution_count": null,
   "id": "f36a5473",
   "metadata": {},
   "outputs": [],
   "source": [
    "#Write code here"
   ]
  }
 ],
 "metadata": {
  "kernelspec": {
   "display_name": "Python 3 (ipykernel)",
   "language": "python",
   "name": "python3"
  },
  "language_info": {
   "codemirror_mode": {
    "name": "ipython",
    "version": 3
   },
   "file_extension": ".py",
   "mimetype": "text/x-python",
   "name": "python",
   "nbconvert_exporter": "python",
   "pygments_lexer": "ipython3",
   "version": "3.11.4"
  }
 },
 "nbformat": 4,
 "nbformat_minor": 5
}

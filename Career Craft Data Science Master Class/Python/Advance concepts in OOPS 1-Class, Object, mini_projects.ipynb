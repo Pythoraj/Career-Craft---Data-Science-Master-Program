{
 "cells": [
  {
   "cell_type": "code",
   "execution_count": 1,
   "id": "98d49c69-98e1-4064-a82c-7ac3e7ad548b",
   "metadata": {},
   "outputs": [
    {
     "name": "stdout",
     "output_type": "stream",
     "text": [
      "<class 'list'>\n"
     ]
    }
   ],
   "source": [
    "l=[1,2 ,3, 4]\n",
    "print(type(l))"
   ]
  },
  {
   "cell_type": "code",
   "execution_count": 3,
   "id": "5d03b40b-8ced-41e0-8af5-6c79ebcc0320",
   "metadata": {},
   "outputs": [
    {
     "name": "stdout",
     "output_type": "stream",
     "text": [
      "<class 'str'>\n"
     ]
    }
   ],
   "source": [
    "print(type(\"cc\"))"
   ]
  },
  {
   "cell_type": "code",
   "execution_count": 5,
   "id": "3902d720-cccd-4cc1-8cb9-615867b8d896",
   "metadata": {},
   "outputs": [],
   "source": [
    "#syntax of the class\n",
    "#class StudentInfo: #class name should be pascal case\n",
    "    #pass\n"
   ]
  },
  {
   "cell_type": "code",
   "execution_count": 9,
   "id": "138e15b1-2031-4009-b7d6-ca59df21d57a",
   "metadata": {},
   "outputs": [],
   "source": [
    "class StudentInfo:\n",
    "    pass"
   ]
  },
  {
   "cell_type": "code",
   "execution_count": 11,
   "id": "60d3665d-45ca-4831-bc4f-f9725e9b727c",
   "metadata": {},
   "outputs": [
    {
     "data": {
      "text/plain": [
       "<__main__.StudentInfo at 0x1d0f8a6ad50>"
      ]
     },
     "execution_count": 11,
     "metadata": {},
     "output_type": "execute_result"
    }
   ],
   "source": [
    "StudentInfo() #creating an object at the location 0x1d0f8a6ad50"
   ]
  },
  {
   "cell_type": "code",
   "execution_count": 13,
   "id": "0949082d-220b-4394-bb49-40a7a9b00361",
   "metadata": {},
   "outputs": [],
   "source": [
    "s = StudentInfo()\n",
    "#many learners thinks that s is the object, but actually the moment you write StudentInfo(), object is alreay created\n",
    "#s is reference variable/pointer that points to the object location"
   ]
  },
  {
   "cell_type": "code",
   "execution_count": 16,
   "id": "daf5fa63-a599-42af-9a71-15a869fdc73b",
   "metadata": {},
   "outputs": [
    {
     "data": {
      "text/plain": [
       "<__main__.StudentInfo at 0x1d0f8214e30>"
      ]
     },
     "execution_count": 16,
     "metadata": {},
     "output_type": "execute_result"
    }
   ],
   "source": [
    "s"
   ]
  },
  {
   "cell_type": "code",
   "execution_count": 34,
   "id": "a27d5b9c-d8e9-41bf-abf8-b80c494121ea",
   "metadata": {},
   "outputs": [],
   "source": [
    "#function in a class is called as method\n",
    "#inside a class you can define any no method\n",
    "class Student:\n",
    "    def reading():\n",
    "        print(\"The student is reading\")\n",
    "    def writing():\n",
    "        print(\"The student is writing\")\n",
    "    "
   ]
  },
  {
   "cell_type": "code",
   "execution_count": 36,
   "id": "508c762e-fb8f-4d7e-a436-5e8e2f37a5d7",
   "metadata": {},
   "outputs": [],
   "source": [
    "ram = Student()"
   ]
  },
  {
   "cell_type": "code",
   "execution_count": 38,
   "id": "faabb888-8bdc-44f7-968b-77e97a245923",
   "metadata": {},
   "outputs": [
    {
     "ename": "TypeError",
     "evalue": "Student.reading() takes 0 positional arguments but 1 was given",
     "output_type": "error",
     "traceback": [
      "\u001b[1;31m---------------------------------------------------------------------------\u001b[0m",
      "\u001b[1;31mTypeError\u001b[0m                                 Traceback (most recent call last)",
      "Cell \u001b[1;32mIn[38], line 2\u001b[0m\n\u001b[0;32m      1\u001b[0m \u001b[38;5;66;03m#To access the methods of an object\u001b[39;00m\n\u001b[1;32m----> 2\u001b[0m ram\u001b[38;5;241m.\u001b[39mreading()\n",
      "\u001b[1;31mTypeError\u001b[0m: Student.reading() takes 0 positional arguments but 1 was given"
     ]
    }
   ],
   "source": [
    "#To access the methods of an object\n",
    "ram.reading()"
   ]
  },
  {
   "cell_type": "code",
   "execution_count": 42,
   "id": "f1696610-d893-45c9-bdcc-d29079557e43",
   "metadata": {},
   "outputs": [],
   "source": [
    "class Student:\n",
    "    def reading(self):\n",
    "        print(\"The student is reading\")\n",
    "    def writing(self):\n",
    "        print(\"The student is writing\")"
   ]
  },
  {
   "cell_type": "code",
   "execution_count": 44,
   "id": "4fecb203-7f7a-4420-9b17-0cad9e85c0a8",
   "metadata": {},
   "outputs": [],
   "source": [
    "ram = Student()"
   ]
  },
  {
   "cell_type": "code",
   "execution_count": 46,
   "id": "d92aeafa-5f94-4cae-852a-ab8225b2a6b8",
   "metadata": {},
   "outputs": [
    {
     "name": "stdout",
     "output_type": "stream",
     "text": [
      "The student is reading\n"
     ]
    }
   ],
   "source": [
    "ram.reading()"
   ]
  },
  {
   "cell_type": "code",
   "execution_count": 48,
   "id": "99889508-6c37-4019-9703-5064ff3ff790",
   "metadata": {},
   "outputs": [
    {
     "name": "stdout",
     "output_type": "stream",
     "text": [
      "The student is reading\n"
     ]
    }
   ],
   "source": [
    "shyam = Student()\n",
    "shyam.reading()"
   ]
  },
  {
   "cell_type": "code",
   "execution_count": 50,
   "id": "5a45a6ed-82ee-462d-9395-5ba6db544943",
   "metadata": {},
   "outputs": [],
   "source": [
    "#self is a variable that represents the instance of the class using which the methods and attribute can be accessed\n",
    "#self helps to know that the methods or attribute is associated to the current object\n",
    "#with every method self will be there\n",
    "#self is not a keyword, you can use anything, it is just a convention that we use self\n",
    "#all attributes and methods of a class can only be accessed by the object >> object referencing to the class uses its behaviour"
   ]
  },
  {
   "cell_type": "code",
   "execution_count": 56,
   "id": "e8676543-d142-4f87-8900-82951cc3cba4",
   "metadata": {},
   "outputs": [],
   "source": [
    "class Student:\n",
    "    def reading(Ada):\n",
    "        print(\"The student is reading\")\n",
    "    def writing(Ada):\n",
    "        print(\"The student is writing\")"
   ]
  },
  {
   "cell_type": "code",
   "execution_count": 58,
   "id": "a61eecb2-0053-4774-a02c-3458f34e0646",
   "metadata": {},
   "outputs": [
    {
     "name": "stdout",
     "output_type": "stream",
     "text": [
      "The student is reading\n"
     ]
    }
   ],
   "source": [
    "shyam = Student()\n",
    "shyam.reading()"
   ]
  },
  {
   "cell_type": "code",
   "execution_count": 60,
   "id": "c563d41e-103d-4ca9-a040-f593867af994",
   "metadata": {},
   "outputs": [],
   "source": [
    "#all attributes and methods of a class can only be accessed by the object >> object referencing to the class uses its behaviour\n",
    "\n",
    "class Student:\n",
    "    def reading(self):\n",
    "        print(\"The student is reading\")\n",
    "    def writing(self):\n",
    "        print(\"The student is writing\")"
   ]
  },
  {
   "cell_type": "code",
   "execution_count": 63,
   "id": "6314c462-d7af-4e4c-9f26-a61ae4ceb30e",
   "metadata": {},
   "outputs": [],
   "source": [
    "v = Student()\n",
    "p = Student()\n",
    "s = Student()\n",
    "#3 students, read and write is associated with all the three students\n",
    "#self defines how these read and write is different for each of the students"
   ]
  },
  {
   "cell_type": "code",
   "execution_count": 65,
   "id": "24e44e16-f0e3-4406-9f99-33a55dc6be99",
   "metadata": {},
   "outputs": [
    {
     "ename": "NameError",
     "evalue": "name 'reading' is not defined",
     "output_type": "error",
     "traceback": [
      "\u001b[1;31m---------------------------------------------------------------------------\u001b[0m",
      "\u001b[1;31mNameError\u001b[0m                                 Traceback (most recent call last)",
      "Cell \u001b[1;32mIn[65], line 1\u001b[0m\n\u001b[1;32m----> 1\u001b[0m reading()\n",
      "\u001b[1;31mNameError\u001b[0m: name 'reading' is not defined"
     ]
    }
   ],
   "source": [
    "reading()"
   ]
  },
  {
   "cell_type": "code",
   "execution_count": 67,
   "id": "1d3eda8e-d04c-4c92-8547-3bb0e837ce78",
   "metadata": {},
   "outputs": [
    {
     "name": "stdout",
     "output_type": "stream",
     "text": [
      "The student is reading\n"
     ]
    }
   ],
   "source": [
    "v.reading()"
   ]
  },
  {
   "cell_type": "code",
   "execution_count": 69,
   "id": "c40fadd5-09e3-4d1c-a356-ad12192a2749",
   "metadata": {},
   "outputs": [],
   "source": [
    "#what is this dot\n",
    "#dot helps us to access method and attribute of the object"
   ]
  },
  {
   "cell_type": "code",
   "execution_count": 74,
   "id": "badfe390-2972-466b-979c-b39595ba2451",
   "metadata": {},
   "outputs": [
    {
     "data": {
      "text/plain": [
       "4"
      ]
     },
     "execution_count": 74,
     "metadata": {},
     "output_type": "execute_result"
    }
   ],
   "source": [
    "l = [1, 2, 3, 4, 5]\n",
    "s = \"Ajay\"\n",
    "len(s)"
   ]
  },
  {
   "cell_type": "code",
   "execution_count": 76,
   "id": "28ef5c35-9664-4c72-a3e9-dc8a83b911fc",
   "metadata": {},
   "outputs": [
    {
     "data": {
      "text/plain": [
       "5"
      ]
     },
     "execution_count": 76,
     "metadata": {},
     "output_type": "execute_result"
    }
   ],
   "source": [
    "len(l) #this is a function that can be used across anywhere"
   ]
  },
  {
   "cell_type": "code",
   "execution_count": 78,
   "id": "1556afca-0fe0-459d-999e-1fd4fb8d300d",
   "metadata": {},
   "outputs": [],
   "source": [
    "l.append(4) # a method associated with the class list"
   ]
  },
  {
   "cell_type": "code",
   "execution_count": 80,
   "id": "04cd3d5c-b16c-466e-8490-e3558bc82069",
   "metadata": {},
   "outputs": [
    {
     "data": {
      "text/plain": [
       "[1, 2, 3, 4, 5, 4]"
      ]
     },
     "execution_count": 80,
     "metadata": {},
     "output_type": "execute_result"
    }
   ],
   "source": [
    "l"
   ]
  },
  {
   "cell_type": "code",
   "execution_count": 82,
   "id": "ba046a66-471e-4759-842c-2856d96e8ff1",
   "metadata": {},
   "outputs": [],
   "source": [
    "#self helps to call a method from another method inside the class\n",
    "#self helps us to access the attribute anywhere inside the class\n",
    "#both the pointers above will be explained at a later stage"
   ]
  },
  {
   "cell_type": "code",
   "execution_count": 86,
   "id": "7f373086-0559-41ab-a232-ac18cbb90909",
   "metadata": {},
   "outputs": [],
   "source": [
    "class Bank:\n",
    "    def deposit(self, amount):\n",
    "        print(\"I am depositing some money\")\n",
    "    def withdraw(self, amount):\n",
    "        print(\"I am withdrawing some money\")"
   ]
  },
  {
   "cell_type": "code",
   "execution_count": 88,
   "id": "e29c3281-43d3-41d2-afa5-d1a8bc4aef79",
   "metadata": {},
   "outputs": [],
   "source": [
    "ajay = Bank()\n"
   ]
  },
  {
   "cell_type": "code",
   "execution_count": 92,
   "id": "01557a4a-3aa2-4d75-a6b3-34d4e092aa3d",
   "metadata": {},
   "outputs": [
    {
     "name": "stdout",
     "output_type": "stream",
     "text": [
      "I am depositing some money\n"
     ]
    }
   ],
   "source": [
    "ajay.deposit(1000)"
   ]
  },
  {
   "cell_type": "code",
   "execution_count": 94,
   "id": "45c03700-b28b-430e-8090-3cd62309bb14",
   "metadata": {},
   "outputs": [
    {
     "name": "stdout",
     "output_type": "stream",
     "text": [
      "I am withdrawing some money\n"
     ]
    }
   ],
   "source": [
    "ajay.withdraw(500)"
   ]
  },
  {
   "cell_type": "code",
   "execution_count": 96,
   "id": "0735a0c4-2fa5-4c5c-bb5c-0f3a9c32087c",
   "metadata": {},
   "outputs": [],
   "source": [
    "#whenever you go and open a bank account, there should be a compulosy money/minimum balance\n",
    "\n",
    "class Bank:\n",
    "    amount = 1000\n",
    "    def deposit(self, amount):\n",
    "        print(\"I am depositing some money\")\n",
    "    def withdraw(self, amount):\n",
    "        print(\"I am withdrawing some money\")"
   ]
  },
  {
   "cell_type": "code",
   "execution_count": 98,
   "id": "6eabae59-f338-4447-8145-5ab6ca88516c",
   "metadata": {},
   "outputs": [],
   "source": [
    "raj = Bank()"
   ]
  },
  {
   "cell_type": "code",
   "execution_count": 100,
   "id": "f9d27271-db59-4bcb-a048-b4908e06d3e5",
   "metadata": {},
   "outputs": [
    {
     "name": "stdout",
     "output_type": "stream",
     "text": [
      "I am depositing some money\n"
     ]
    }
   ],
   "source": [
    "raj.deposit(100)"
   ]
  },
  {
   "cell_type": "code",
   "execution_count": 102,
   "id": "4c618317-6de6-4248-b8d4-12d29d7860d7",
   "metadata": {},
   "outputs": [
    {
     "name": "stdout",
     "output_type": "stream",
     "text": [
      "I am withdrawing some money\n"
     ]
    }
   ],
   "source": [
    "raj.withdraw(100)"
   ]
  },
  {
   "cell_type": "code",
   "execution_count": 104,
   "id": "059bb755-2121-4ee7-bffc-2f6c621d9522",
   "metadata": {},
   "outputs": [
    {
     "data": {
      "text/plain": [
       "1000"
      ]
     },
     "execution_count": 104,
     "metadata": {},
     "output_type": "execute_result"
    }
   ],
   "source": [
    "raj.amount"
   ]
  },
  {
   "cell_type": "code",
   "execution_count": 106,
   "id": "b287b600-c155-4558-bfe1-f4258e6acb7d",
   "metadata": {},
   "outputs": [
    {
     "data": {
      "text/plain": [
       "1000"
      ]
     },
     "execution_count": 106,
     "metadata": {},
     "output_type": "execute_result"
    }
   ],
   "source": [
    "ajay = Bank()\n",
    "ajay.amount"
   ]
  },
  {
   "cell_type": "code",
   "execution_count": 108,
   "id": "0a550592-610b-47f2-b524-d3eeeaab33ab",
   "metadata": {},
   "outputs": [],
   "source": [
    "#make any no of object, amount will be only 1000"
   ]
  },
  {
   "cell_type": "code",
   "execution_count": 113,
   "id": "d6a73804-85d9-4e55-a072-e9a69b2fef01",
   "metadata": {},
   "outputs": [],
   "source": [
    "class ListOps:\n",
    "    l = [1, 2, 3, 4, 5]\n",
    "    def extract_even(self, l):\n",
    "        l1= []\n",
    "        for i in l:\n",
    "            if i%2 == 0:\n",
    "                l1.append(i)\n",
    "        return l1\n",
    "    def extract_odd(self, l):\n",
    "        l1= []\n",
    "        for i in l:\n",
    "            if i%2 != 0:\n",
    "                l1.append(i)\n",
    "        return l1"
   ]
  },
  {
   "cell_type": "code",
   "execution_count": 115,
   "id": "9d0cb258-b56d-4c5d-b202-c09b8ca92faa",
   "metadata": {},
   "outputs": [
    {
     "data": {
      "text/plain": [
       "[1, 2, 3, 4, 5]"
      ]
     },
     "execution_count": 115,
     "metadata": {},
     "output_type": "execute_result"
    }
   ],
   "source": [
    "ops1 = ListOps()\n",
    "ops1.l"
   ]
  },
  {
   "cell_type": "code",
   "execution_count": 117,
   "id": "0ae3bf4c-cdab-479e-8f51-9d96afe4033d",
   "metadata": {},
   "outputs": [
    {
     "data": {
      "text/plain": [
       "[1, 2, 3, 4, 5]"
      ]
     },
     "execution_count": 117,
     "metadata": {},
     "output_type": "execute_result"
    }
   ],
   "source": [
    "ops2 = ListOps()\n",
    "ops2.l"
   ]
  },
  {
   "cell_type": "code",
   "execution_count": 123,
   "id": "c77ea49d-2c10-419c-a661-c114e04a823b",
   "metadata": {},
   "outputs": [
    {
     "data": {
      "text/plain": [
       "[2, 4]"
      ]
     },
     "execution_count": 123,
     "metadata": {},
     "output_type": "execute_result"
    }
   ],
   "source": [
    "ops2.extract_even(ops2.l)"
   ]
  },
  {
   "cell_type": "code",
   "execution_count": 125,
   "id": "1ecf9f7f-02d1-42ff-997c-b9898ec388ea",
   "metadata": {},
   "outputs": [
    {
     "data": {
      "text/plain": [
       "[8, 10]"
      ]
     },
     "execution_count": 125,
     "metadata": {},
     "output_type": "execute_result"
    }
   ],
   "source": [
    "ops2.extract_even([1, 8, 9, 10]) #a new list"
   ]
  },
  {
   "cell_type": "code",
   "execution_count": 127,
   "id": "322db4cd-2556-4825-904e-9bc33df206a5",
   "metadata": {},
   "outputs": [
    {
     "data": {
      "text/plain": [
       "[1, 2, 3, 4, 5]"
      ]
     },
     "execution_count": 127,
     "metadata": {},
     "output_type": "execute_result"
    }
   ],
   "source": [
    "ops2.l"
   ]
  },
  {
   "cell_type": "code",
   "execution_count": 129,
   "id": "cf0720a5-0aa3-4744-96a3-c9f09088ab4e",
   "metadata": {},
   "outputs": [
    {
     "data": {
      "text/plain": [
       "[1, 2, 3, 4, 5]"
      ]
     },
     "execution_count": 129,
     "metadata": {},
     "output_type": "execute_result"
    }
   ],
   "source": [
    "ops1.l"
   ]
  },
  {
   "cell_type": "code",
   "execution_count": 131,
   "id": "1fbf29f8-16f4-425d-b96d-5aaa855dc23b",
   "metadata": {},
   "outputs": [],
   "source": [
    "#we are still not able to solve the problem of different attribute for different object"
   ]
  },
  {
   "cell_type": "code",
   "execution_count": 158,
   "id": "6b61584e-007f-4226-9a49-a5efb43ac34e",
   "metadata": {},
   "outputs": [],
   "source": [
    "class ListOps:\n",
    "    #magic method\n",
    "    #constructor is one of the magic method\n",
    "    def __init__(self, l):\n",
    "        self.l = l\n",
    "    def extract_even(self):\n",
    "        l = self.l\n",
    "        l1= []\n",
    "        for i in l:\n",
    "            if i%2 == 0:\n",
    "                l1.append(i)\n",
    "        return l1\n",
    "    def extract_odd(self):\n",
    "        l = self.l\n",
    "        l1= []\n",
    "        for i in l:\n",
    "            if i%2 != 0:\n",
    "                l1.append(i)\n",
    "        return l1"
   ]
  },
  {
   "cell_type": "code",
   "execution_count": null,
   "id": "a9992216-48d1-4ac3-a283-070fc6b9f294",
   "metadata": {},
   "outputs": [],
   "source": [
    "#magic/special methods are those methods that starts and ends with two underscore\n",
    "#constructor is a type of special or magic method which you do not need to call\n",
    "#by default when you make an object, the first thing that will be executed is the constructor\n",
    "#the time when you mnake an object, the constructor is by default executed"
   ]
  },
  {
   "cell_type": "code",
   "execution_count": 150,
   "id": "c89cccd6-097a-4645-9b62-4158f5d477f5",
   "metadata": {},
   "outputs": [],
   "source": [
    "class ListOps:\n",
    "    #magic method\n",
    "    #constructor is one of the magic method\n",
    "    #parameterize constructor\n",
    "    def __init__(self, l):\n",
    "        print(\"Inside the constructor oolaalala\")\n",
    "        self.l = l\n",
    "    def extract_even(self):\n",
    "        l = self.l\n",
    "        l1= []\n",
    "        for i in l:\n",
    "            if i%2 == 0:\n",
    "                l1.append(i)\n",
    "        return l1\n",
    "    def extract_odd(self):\n",
    "        l = self.l\n",
    "        l1= []\n",
    "        for i in l:\n",
    "            if i%2 != 0:\n",
    "                l1.append(i)\n",
    "        return l1"
   ]
  },
  {
   "cell_type": "code",
   "execution_count": 152,
   "id": "667a6a14-abca-4c3d-8ed8-2d752c29e2ec",
   "metadata": {},
   "outputs": [
    {
     "ename": "TypeError",
     "evalue": "ListOps.__init__() missing 1 required positional argument: 'l'",
     "output_type": "error",
     "traceback": [
      "\u001b[1;31m---------------------------------------------------------------------------\u001b[0m",
      "\u001b[1;31mTypeError\u001b[0m                                 Traceback (most recent call last)",
      "Cell \u001b[1;32mIn[152], line 1\u001b[0m\n\u001b[1;32m----> 1\u001b[0m ops1 \u001b[38;5;241m=\u001b[39m ListOps()\n",
      "\u001b[1;31mTypeError\u001b[0m: ListOps.__init__() missing 1 required positional argument: 'l'"
     ]
    }
   ],
   "source": [
    "ops1 = ListOps()\n",
    "#it will throw an error, it means the moment you create an object, the init will be executed and it will look for the arguement"
   ]
  },
  {
   "cell_type": "code",
   "execution_count": 154,
   "id": "91896e96-2617-4762-9eaa-c0827c03db3b",
   "metadata": {},
   "outputs": [
    {
     "name": "stdout",
     "output_type": "stream",
     "text": [
      "Inside the constructor oolaalala\n"
     ]
    }
   ],
   "source": [
    "ops1 = ListOps([1, 2, 3,])\n",
    "#again see the print statements the moment object is created the Inside the constructor is printed"
   ]
  },
  {
   "cell_type": "code",
   "execution_count": 156,
   "id": "068ec9e7-70d0-461c-9f4e-e43862286064",
   "metadata": {},
   "outputs": [
    {
     "name": "stdout",
     "output_type": "stream",
     "text": [
      "Inside the constructor oolaalala\n"
     ]
    }
   ],
   "source": [
    "ops2 = ListOps([100, 21, 32,])"
   ]
  },
  {
   "cell_type": "code",
   "execution_count": 146,
   "id": "9b5bc9f0-a3ab-4a33-9d2d-cd723e90ce43",
   "metadata": {},
   "outputs": [
    {
     "data": {
      "text/plain": [
       "[1, 2, 3]"
      ]
     },
     "execution_count": 146,
     "metadata": {},
     "output_type": "execute_result"
    }
   ],
   "source": [
    "ops1.l"
   ]
  },
  {
   "cell_type": "code",
   "execution_count": 148,
   "id": "4956e7ba-c7a5-4dce-99a4-09ad4b9f0cfb",
   "metadata": {},
   "outputs": [
    {
     "data": {
      "text/plain": [
       "[100, 21, 32]"
      ]
     },
     "execution_count": 148,
     "metadata": {},
     "output_type": "execute_result"
    }
   ],
   "source": [
    "ops2.l"
   ]
  },
  {
   "cell_type": "code",
   "execution_count": 160,
   "id": "435f0e27-1112-444b-82a6-d661dd85d6c3",
   "metadata": {},
   "outputs": [],
   "source": [
    "#so the problem of having same value of list for different object is solved\n",
    "#self helps us to access the attribute anywhere inside the class"
   ]
  },
  {
   "cell_type": "code",
   "execution_count": null,
   "id": "3d92f614-8c90-4f8a-b65f-b37c80695263",
   "metadata": {},
   "outputs": [],
   "source": [
    "#what is the use of a constructor?\n",
    "#when you opened the uber app, you will find that app will take some time to open up\n",
    "#the configuration related all the things were initialised>> an instance/object is created>> the first thing that runs\n",
    "#is constructor, in constuctor you might have the information like signin details, location, connecting to database\n",
    "#whatever thing your application needs without letting the user know is actually kept in constructor"
   ]
  },
  {
   "attachments": {
    "67771c11-5561-4e94-b6ed-74bf19dd2d7c.png": {
     "image/png": "[encoded data removed]"
    }
   },
   "cell_type": "markdown",
   "id": "5405dfe9-f434-45c7-97ed-2d819f02611e",
   "metadata": {},
   "source": [
    "#class diagram\n",
    "![image.png](attachment:67771c11-5561-4e94-b6ed-74bf19dd2d7c.png)"
   ]
  },
  {
   "cell_type": "code",
   "execution_count": 166,
   "id": "bedf3aa1-5626-4a3f-bf7d-1acf574fd0cb",
   "metadata": {},
   "outputs": [],
   "source": [
    "#class diagram is representative diagram of a class plan\n",
    "#divided into three parts>> first part class name, 2nd part is name of attribute/data, 3rd part will be function or method\n",
    "# + means public and minus means private"
   ]
  },
  {
   "cell_type": "code",
   "execution_count": null,
   "id": "bf246015-9917-4cb3-b3d9-f3e25ac578fc",
   "metadata": {},
   "outputs": [],
   "source": [
    "#pointers:\n",
    "#data/attribute and methods of a class can only be acceesed by object \n",
    "#object access the method and attribute by dot"
   ]
  },
  {
   "cell_type": "code",
   "execution_count": 170,
   "id": "1216a30f-30f1-4496-856b-9eb3e0e50854",
   "metadata": {},
   "outputs": [
    {
     "name": "stdout",
     "output_type": "stream",
     "text": [
      "Inside the constructor oolaalala\n"
     ]
    }
   ],
   "source": [
    "class ListOps:\n",
    "    #magic method\n",
    "    #constructor is one of the magic method\n",
    "    #parameterize constructor\n",
    "    def __init__(self, l):\n",
    "        self.l = l\n",
    "    def extract_even(self):\n",
    "        l = self.l\n",
    "        l1= []\n",
    "        for i in l:\n",
    "            if i%2 == 0:\n",
    "                l1.append(i)\n",
    "        return l1\n",
    "    def extract_odd(self):\n",
    "        l = self.l\n",
    "        l1= []\n",
    "        for i in l:\n",
    "            if i%2 != 0:\n",
    "                l1.append(i)\n",
    "        return l1\n",
    "\n",
    "\n",
    "o1 = ListOps([1,2 ,3])"
   ]
  },
  {
   "cell_type": "code",
   "execution_count": 172,
   "id": "6263a2a6-7662-469b-a6ea-b4e87055b580",
   "metadata": {},
   "outputs": [
    {
     "data": {
      "text/plain": [
       "[1, 2, 3]"
      ]
     },
     "execution_count": 172,
     "metadata": {},
     "output_type": "execute_result"
    }
   ],
   "source": [
    "o1.l"
   ]
  },
  {
   "cell_type": "code",
   "execution_count": 174,
   "id": "38165009-973d-4194-b7ac-f373449b7035",
   "metadata": {},
   "outputs": [],
   "source": [
    "#pointers\n",
    "#o1 = ListOps([1,2 ,3])>>o1 is the reference to the memeory location\n"
   ]
  },
  {
   "cell_type": "code",
   "execution_count": 181,
   "id": "74b2dd5c-1932-48db-8b56-187e8f286202",
   "metadata": {},
   "outputs": [],
   "source": [
    "#how to pass an object inside a function>>pass by reference\n",
    "class ListOps:\n",
    "    #magic method\n",
    "    #constructor is one of the magic method\n",
    "    #parameterize constructor\n",
    "    def __init__(self, l):\n",
    "        self.l = l\n",
    "    def extract_even(self):\n",
    "        l = self.l\n",
    "        l1= []\n",
    "        for i in l:\n",
    "            if i%2 == 0:\n",
    "                l1.append(i)\n",
    "        return l1\n",
    "    def extract_odd(self):\n",
    "        l = self.l\n",
    "        l1= []\n",
    "        for i in l:\n",
    "            if i%2 != 0:\n",
    "                l1.append(i)\n",
    "        return l1\n",
    "\n",
    "#outside the class\n",
    "def show_value(obj):\n",
    "    print(\"The value of the list is\", obj.l)"
   ]
  },
  {
   "cell_type": "code",
   "execution_count": 183,
   "id": "e1265b29-4438-4bb7-8205-6ed08a154361",
   "metadata": {},
   "outputs": [
    {
     "name": "stdout",
     "output_type": "stream",
     "text": [
      "Inside the constructor oolaalala\n"
     ]
    }
   ],
   "source": [
    "ops = ListOps([1,2 ,3 ,4, 5])"
   ]
  },
  {
   "cell_type": "code",
   "execution_count": 185,
   "id": "be545379-d057-4f93-8667-6cbac7fc5a7e",
   "metadata": {},
   "outputs": [
    {
     "name": "stdout",
     "output_type": "stream",
     "text": [
      "The value of the list is [1, 2, 3, 4, 5]\n"
     ]
    }
   ],
   "source": [
    "show_value(ops)"
   ]
  },
  {
   "cell_type": "code",
   "execution_count": 189,
   "id": "ab7572f9-df59-40ab-baed-7e8d450f24b7",
   "metadata": {},
   "outputs": [],
   "source": [
    "#is the object inside the class and outside the class same\n",
    "\n",
    "#how to pass an object inside a function\n",
    "class ListOps:\n",
    "    #magic method\n",
    "    #constructor is one of the magic method\n",
    "    #parameterize constructor\n",
    "    def __init__(self, l):\n",
    "        self.l = l\n",
    "    def extract_even(self):\n",
    "        l = self.l\n",
    "        l1= []\n",
    "        for i in l:\n",
    "            if i%2 == 0:\n",
    "                l1.append(i)\n",
    "        return l1\n",
    "    def extract_odd(self):\n",
    "        l = self.l\n",
    "        l1= []\n",
    "        for i in l:\n",
    "            if i%2 != 0:\n",
    "                l1.append(i)\n",
    "        return l1\n",
    "\n",
    "#outside the class\n",
    "def show_value(obj):\n",
    "    print(\"inside the function\", id(obj))\n",
    "    print(\"The value of the list is\", obj.l)"
   ]
  },
  {
   "cell_type": "code",
   "execution_count": 191,
   "id": "af0b4fc1-4c89-4274-a78d-4a6a2f11a87d",
   "metadata": {},
   "outputs": [
    {
     "name": "stdout",
     "output_type": "stream",
     "text": [
      "this is id of object 1997057166272\n",
      "inside the function 1997057166272\n",
      "The value of the list is [1, 2, 3, 4, 5]\n"
     ]
    }
   ],
   "source": [
    "ops = ListOps([1,2 ,3 ,4, 5])\n",
    "print(\"this is id of object\", id(ops))\n",
    "show_value(ops)"
   ]
  },
  {
   "cell_type": "code",
   "execution_count": 193,
   "id": "5d583569-6eda-4265-b467-4fbf47e06a3a",
   "metadata": {},
   "outputs": [],
   "source": [
    "#reverified: ops is not an object but a referencento the object"
   ]
  },
  {
   "cell_type": "code",
   "execution_count": null,
   "id": "744b5824-fa41-409b-b7f9-65dc65746ee7",
   "metadata": {},
   "outputs": [],
   "source": [
    "#is object mutable? Object is mutable"
   ]
  },
  {
   "cell_type": "code",
   "execution_count": 200,
   "id": "44a5f93c-1951-494e-9b17-11d742f3e7ec",
   "metadata": {},
   "outputs": [
    {
     "name": "stdout",
     "output_type": "stream",
     "text": [
      "1997057173616\n",
      "1997057173616\n"
     ]
    }
   ],
   "source": [
    "class Student:\n",
    "    def __init__(self, name, gender):\n",
    "        self.name = name\n",
    "        self.gender = gender\n",
    "#outside the class \n",
    "def study(stud):\n",
    "    stud.name = \"Ajay\"\n",
    "    return stud\n",
    "\n",
    "s = Student(\"raj\", \"male\")\n",
    "print(id(s))\n",
    "s_another = study(s)\n",
    "print(id(s_another))"
   ]
  },
  {
   "cell_type": "code",
   "execution_count": 204,
   "id": "2b2747a1-4cdc-44d6-bb18-1696efcd6bc9",
   "metadata": {},
   "outputs": [
    {
     "data": {
      "text/plain": [
       "'Ajay'"
      ]
     },
     "execution_count": 204,
     "metadata": {},
     "output_type": "execute_result"
    }
   ],
   "source": [
    "s_another.name"
   ]
  },
  {
   "cell_type": "code",
   "execution_count": 206,
   "id": "de54beab-2a37-4733-8fd4-7c4549739ef2",
   "metadata": {},
   "outputs": [],
   "source": [
    "#design a e-commerce store using oops\n",
    "#by doing this mini project you will understand the power of oops\n",
    "#excecution plan >> decide attributes/data>>name, stock, price, the decide method>>buy, restock\n",
    "#__str__>> whenever you print an object __str__ is executed, this is also magic method"
   ]
  },
  {
   "cell_type": "code",
   "execution_count": 262,
   "id": "2a3172fa-c0d5-4f74-8394-56c784d679f0",
   "metadata": {},
   "outputs": [],
   "source": [
    "class Product:\n",
    "    def __init__(self, name, price, stock):\n",
    "        self.name = name\n",
    "        self.price = price\n",
    "        self.stock = stock\n",
    "    \n",
    "    def __str__(self):\n",
    "        return f\"Product: {self.name}, Price: {self.price}, Stock: {self.stock}\"\n",
    "    \n",
    "    def buy(self, quantity):\n",
    "        if quantity > self.stock:\n",
    "            return f\"Only {self.stock} items available. Purchase failed\"\n",
    "        self.stock -= quantity\n",
    "        return f\"You purchased {quantity} {self.name} for {quantity * self.price}\"\n",
    "        \n",
    "    \n",
    "    def restock(self, quantity):\n",
    "        self.stock += quantity\n",
    "        return f\"Stock updated, the current stock of {self.name} is {self.stock}\""
   ]
  },
  {
   "cell_type": "code",
   "execution_count": 264,
   "id": "6b4edec4-d962-4987-973f-3799810a5931",
   "metadata": {},
   "outputs": [],
   "source": [
    "obj1 = Product(\"Laptop\", 23000, 5)"
   ]
  },
  {
   "cell_type": "code",
   "execution_count": 266,
   "id": "f35bca7d-64fd-4867-8f6c-022381369f38",
   "metadata": {},
   "outputs": [
    {
     "name": "stdout",
     "output_type": "stream",
     "text": [
      "Product: Laptop, Price: 23000, Stock: 5\n"
     ]
    }
   ],
   "source": [
    "print(obj1) #print is printing the __str__ method"
   ]
  },
  {
   "cell_type": "code",
   "execution_count": 268,
   "id": "1fce5b8d-7d20-42f4-a1d3-c1af73a95d2f",
   "metadata": {},
   "outputs": [
    {
     "name": "stdout",
     "output_type": "stream",
     "text": [
      "You purchased 2 Laptop for 46000\n"
     ]
    }
   ],
   "source": [
    "print(obj1.buy(2))"
   ]
  },
  {
   "cell_type": "code",
   "execution_count": 270,
   "id": "38224a5c-4e1c-431f-a205-4b3f83c1e7a4",
   "metadata": {},
   "outputs": [
    {
     "name": "stdout",
     "output_type": "stream",
     "text": [
      "Product: Laptop, Price: 23000, Stock: 3\n"
     ]
    }
   ],
   "source": [
    "print(obj1)"
   ]
  },
  {
   "cell_type": "code",
   "execution_count": 272,
   "id": "e917e48e-f9e2-49f0-9d14-74197a513304",
   "metadata": {},
   "outputs": [
    {
     "data": {
      "text/plain": [
       "'Stock updated, the current stock of Laptop is 8'"
      ]
     },
     "execution_count": 272,
     "metadata": {},
     "output_type": "execute_result"
    }
   ],
   "source": [
    "obj1.restock(5)"
   ]
  },
  {
   "cell_type": "code",
   "execution_count": 274,
   "id": "9de1fa2a-735b-4339-890e-98d68abe5c70",
   "metadata": {},
   "outputs": [
    {
     "data": {
      "text/plain": [
       "'Only 8 items available. Purchase failed'"
      ]
     },
     "execution_count": 274,
     "metadata": {},
     "output_type": "execute_result"
    }
   ],
   "source": [
    "obj1.buy(10)"
   ]
  },
  {
   "cell_type": "code",
   "execution_count": 276,
   "id": "44609d7e-e8a6-4b29-b5ee-b7dd14143e97",
   "metadata": {},
   "outputs": [
    {
     "data": {
      "text/plain": [
       "'Stock updated, the current stock of Laptop is 13'"
      ]
     },
     "execution_count": 276,
     "metadata": {},
     "output_type": "execute_result"
    }
   ],
   "source": [
    "obj1.restock(5)"
   ]
  },
  {
   "cell_type": "code",
   "execution_count": 278,
   "id": "61ee0732-d6b4-4421-b37e-9fdb57b4074f",
   "metadata": {},
   "outputs": [
    {
     "data": {
      "text/plain": [
       "'You purchased 10 Laptop for 230000'"
      ]
     },
     "execution_count": 278,
     "metadata": {},
     "output_type": "execute_result"
    }
   ],
   "source": [
    "obj1.buy(10)"
   ]
  },
  {
   "cell_type": "code",
   "execution_count": null,
   "id": "62aac745-d2f7-4480-807f-c01c2bfe715f",
   "metadata": {},
   "outputs": [],
   "source": [
    "#if you didnt used oops, this would have been messy for different products\n",
    "#if not oops, you would have written different code line wise line for different products"
   ]
  },
  {
   "cell_type": "code",
   "execution_count": 303,
   "id": "459af806-4f6e-45db-895c-c3b67eb8aa61",
   "metadata": {},
   "outputs": [],
   "source": [
    "#design a cab booking system\n",
    "\n",
    "\n",
    "class Cab:\n",
    "    def __init__(self, cab_id, driver_name, location, is_available = True):\n",
    "        self.cab_id = cab_id\n",
    "        self.driver_name = driver_name\n",
    "        self.location = location\n",
    "        self.is_available = is_available\n",
    "    def __str__(self):\n",
    "        availability = \"Available\" if self.is_available else \"Not Avaialbe\"\n",
    "        return f\"cab id is {self.cab_id}, the driver name {self.driver_name}, at the location {self.location}, is {availability}\"\n",
    "class CabBookingSystem:\n",
    "    def __init__(self):\n",
    "        self.cabs = [] #to hold all the cabs in the system\n",
    "\n",
    "    def add_cabs(self):\n",
    "        pass\n",
    "    def view_available_cabs(self):\n",
    "        pass\n",
    "    def book_cab(self):\n",
    "        pass\n",
    "    def complete_ride(self):\n",
    "        pass\n",
    "    def menu(self):\n",
    "        while True:\n",
    "            user_choice = input(\"\"\"\n",
    "            Welcome to the cab booking system!\n",
    "            Please select the option:\n",
    "            1. Add a new cab\n",
    "            2. View available cabs\n",
    "            3. Book a cab\n",
    "            4. Complete a ride\n",
    "            5. Exit\n",
    "            Your choice \"\"\")\n",
    "\n",
    "            if user_choice == '1':\n",
    "                self.add_cabs()\n",
    "            elif user_choice == '2':\n",
    "                self.view_available_cabs()\n",
    "            elif user_choice == '3':\n",
    "                self.book_cab()\n",
    "            elif user_choice == '4':\n",
    "                self.complete_ride()\n",
    "            elif user_choice == '5':\n",
    "                print(\"Thanks for using cab booking system, good bye\")\n",
    "            else:\n",
    "                print(\"Invalid option, otherwise thanos will kill you\")\n",
    "        \n",
    "\n"
   ]
  },
  {
   "cell_type": "code",
   "execution_count": 305,
   "id": "1802e67a-183d-4783-a13e-acb54f927867",
   "metadata": {},
   "outputs": [],
   "source": [
    "c1 = CabBookingSystem()"
   ]
  },
  {
   "cell_type": "code",
   "execution_count": null,
   "id": "0ef0ebcd-0343-4d62-9bea-eb05786b4084",
   "metadata": {},
   "outputs": [],
   "source": [
    "c1.menu()"
   ]
  },
  {
   "cell_type": "code",
   "execution_count": null,
   "id": "cbe31186-780f-442c-8110-c609f10fdddd",
   "metadata": {},
   "outputs": [],
   "source": [
    "#internal assignment\n",
    "#design a fitness tracker\n",
    "#design a atm\n",
    "#design a movie ticket book system\n",
    "#design a library management system"
   ]
  },
  {
   "cell_type": "code",
   "execution_count": null,
   "id": "a4fe0491-aa1b-4b96-8c8b-0bafac32ba8f",
   "metadata": {},
   "outputs": [],
   "source": [
    "#interview questions:\n",
    "#what is self?\n",
    "#what is a constructior?\n",
    "#how objects are stored?\n",
    "#what is pass by reference?\n",
    "#what is a magic method?\n",
    "#what is __str__ method do?\n",
    "#design a student lms portal ?\n",
    "#what is object and class?\n",
    "#what is a class diagram?"
   ]
  }
 ],
 "metadata": {
  "kernelspec": {
   "display_name": "Python [conda env:base] *",
   "language": "python",
   "name": "conda-base-py"
  },
  "language_info": {
   "codemirror_mode": {
    "name": "ipython",
    "version": 3
   },
   "file_extension": ".py",
   "mimetype": "text/x-python",
   "name": "python",
   "nbconvert_exporter": "python",
   "pygments_lexer": "ipython3",
   "version": "3.9.18"
  }
 },
 "nbformat": 4,
 "nbformat_minor": 5
}

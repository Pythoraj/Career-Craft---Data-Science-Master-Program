{
 "cells": [
  {
   "cell_type": "code",
   "execution_count": 1,
   "id": "c5fc6478-6aae-4734-9353-2018a36291a4",
   "metadata": {},
   "outputs": [
    {
     "data": {
      "text/plain": [
       "3"
      ]
     },
     "execution_count": 1,
     "metadata": {},
     "output_type": "execute_result"
    }
   ],
   "source": [
    "a = 3\n",
    "a"
   ]
  },
  {
   "cell_type": "code",
   "execution_count": 3,
   "id": "587c48d6-2367-42b0-94ea-59c95a923f54",
   "metadata": {},
   "outputs": [],
   "source": [
    "b = \"Ajay\""
   ]
  },
  {
   "cell_type": "code",
   "execution_count": 5,
   "id": "035e578b-8551-471b-9867-fda6faf03bb4",
   "metadata": {},
   "outputs": [
    {
     "data": {
      "text/plain": [
       "'Ajay'"
      ]
     },
     "execution_count": 5,
     "metadata": {},
     "output_type": "execute_result"
    }
   ],
   "source": [
    "b"
   ]
  },
  {
   "cell_type": "code",
   "execution_count": 7,
   "id": "d50ca423-80a8-4579-b03b-7e91e46446a3",
   "metadata": {},
   "outputs": [
    {
     "data": {
      "text/plain": [
       "'A'"
      ]
     },
     "execution_count": 7,
     "metadata": {},
     "output_type": "execute_result"
    }
   ],
   "source": [
    "b[0]"
   ]
  },
  {
   "cell_type": "code",
   "execution_count": 9,
   "id": "4fdce3fc-e103-40c2-ad4c-f1f683337865",
   "metadata": {},
   "outputs": [
    {
     "data": {
      "text/plain": [
       "'j'"
      ]
     },
     "execution_count": 9,
     "metadata": {},
     "output_type": "execute_result"
    }
   ],
   "source": [
    "b[1]"
   ]
  },
  {
   "cell_type": "code",
   "execution_count": 11,
   "id": "91cc72df-a3ba-48fe-ad50-62f68a96d028",
   "metadata": {},
   "outputs": [
    {
     "data": {
      "text/plain": [
       "1"
      ]
     },
     "execution_count": 11,
     "metadata": {},
     "output_type": "execute_result"
    }
   ],
   "source": [
    "#list>> another container to store the data\n",
    "list_cont = [1, \"Ajay\", \"Bijay\", \"Sanjay\", 2, 3]\n",
    "\n",
    "list_cont[0]"
   ]
  },
  {
   "cell_type": "code",
   "execution_count": 13,
   "id": "9741aa5d-8e2c-49bf-a1d5-8d85867efb2b",
   "metadata": {},
   "outputs": [
    {
     "data": {
      "text/plain": [
       "'Ajay'"
      ]
     },
     "execution_count": 13,
     "metadata": {},
     "output_type": "execute_result"
    }
   ],
   "source": [
    "list_cont[1]"
   ]
  },
  {
   "cell_type": "code",
   "execution_count": 21,
   "id": "d1dc6964-d25d-4414-b8d5-4f01b7249a41",
   "metadata": {},
   "outputs": [],
   "source": [
    "list_cont[1] = \"Baingan\""
   ]
  },
  {
   "cell_type": "code",
   "execution_count": 23,
   "id": "d95d6799-f3c2-42b5-aa4f-944c73c91fac",
   "metadata": {},
   "outputs": [
    {
     "data": {
      "text/plain": [
       "[1, 'Baingan', 'Bijay', 'Sanjay', 2, 3]"
      ]
     },
     "execution_count": 23,
     "metadata": {},
     "output_type": "execute_result"
    }
   ],
   "source": [
    "list_cont"
   ]
  },
  {
   "cell_type": "code",
   "execution_count": 25,
   "id": "5e8c6ea7-73e7-4c01-9ee4-3f04a457e220",
   "metadata": {},
   "outputs": [],
   "source": [
    "#mutability >> objects/contaioner whose state or value can be changed after they are are created are called mutable objects"
   ]
  },
  {
   "cell_type": "code",
   "execution_count": 30,
   "id": "cb0fb8b9-1b24-4523-ac50-bfadb94b4d53",
   "metadata": {},
   "outputs": [],
   "source": [
    "b = \"Ajay\""
   ]
  },
  {
   "cell_type": "code",
   "execution_count": 34,
   "id": "6cf274e0-0f37-4c66-a80c-6a483d31927a",
   "metadata": {},
   "outputs": [
    {
     "ename": "TypeError",
     "evalue": "'str' object does not support item assignment",
     "output_type": "error",
     "traceback": [
      "\u001b[1;31m---------------------------------------------------------------------------\u001b[0m",
      "\u001b[1;31mTypeError\u001b[0m                                 Traceback (most recent call last)",
      "Cell \u001b[1;32mIn[34], line 1\u001b[0m\n\u001b[1;32m----> 1\u001b[0m b[\u001b[38;5;241m1\u001b[39m] \u001b[38;5;241m=\u001b[39m \u001b[38;5;124m\"\u001b[39m\u001b[38;5;124mi\u001b[39m\u001b[38;5;124m\"\u001b[39m\n",
      "\u001b[1;31mTypeError\u001b[0m: 'str' object does not support item assignment"
     ]
    }
   ],
   "source": [
    "b[1] = \"i\" #strings are immutable"
   ]
  },
  {
   "cell_type": "code",
   "execution_count": null,
   "id": "315cda0a-ca08-46d1-9f62-905b161b9d01",
   "metadata": {},
   "outputs": [],
   "source": [
    "#what is operator? >> specialkewwords to perform operations\n",
    "#why? >> To manipulate the data"
   ]
  },
  {
   "cell_type": "code",
   "execution_count": 36,
   "id": "1c8e3bbb-57b6-4fb4-b187-58538156313a",
   "metadata": {},
   "outputs": [
    {
     "data": {
      "text/plain": [
       "11"
      ]
     },
     "execution_count": 36,
     "metadata": {},
     "output_type": "execute_result"
    }
   ],
   "source": [
    "#arithmatic operator\n",
    "a = 5\n",
    "b = 6\n",
    "a+b"
   ]
  },
  {
   "cell_type": "code",
   "execution_count": 38,
   "id": "acaf1bb3-f128-4708-870b-bff7fc420777",
   "metadata": {},
   "outputs": [
    {
     "data": {
      "text/plain": [
       "6"
      ]
     },
     "execution_count": 38,
     "metadata": {},
     "output_type": "execute_result"
    }
   ],
   "source": [
    "b"
   ]
  },
  {
   "cell_type": "code",
   "execution_count": 42,
   "id": "9eefc684-b0a1-4e98-925d-d94385255ded",
   "metadata": {},
   "outputs": [
    {
     "data": {
      "text/plain": [
       "11"
      ]
     },
     "execution_count": 42,
     "metadata": {},
     "output_type": "execute_result"
    }
   ],
   "source": [
    "b+a"
   ]
  },
  {
   "cell_type": "code",
   "execution_count": 44,
   "id": "975c395e-5e60-4230-b0ec-303acb94941b",
   "metadata": {},
   "outputs": [
    {
     "data": {
      "text/plain": [
       "9"
      ]
     },
     "execution_count": 44,
     "metadata": {},
     "output_type": "execute_result"
    }
   ],
   "source": [
    "6+3 #addition"
   ]
  },
  {
   "cell_type": "code",
   "execution_count": 46,
   "id": "cf6c3969-a6f7-43bf-a5b8-c616ef5c8a11",
   "metadata": {},
   "outputs": [
    {
     "data": {
      "text/plain": [
       "17"
      ]
     },
     "execution_count": 46,
     "metadata": {},
     "output_type": "execute_result"
    }
   ],
   "source": [
    "20-3 #substraction"
   ]
  },
  {
   "cell_type": "code",
   "execution_count": 48,
   "id": "df51a8c5-5ed1-4694-bb25-7c7c0c6cb80a",
   "metadata": {},
   "outputs": [
    {
     "data": {
      "text/plain": [
       "5.0"
      ]
     },
     "execution_count": 48,
     "metadata": {},
     "output_type": "execute_result"
    }
   ],
   "source": [
    "20 / 4"
   ]
  },
  {
   "cell_type": "code",
   "execution_count": 50,
   "id": "5d251b25-fb51-4e18-b86a-a44606177613",
   "metadata": {},
   "outputs": [
    {
     "data": {
      "text/plain": [
       "1"
      ]
     },
     "execution_count": 50,
     "metadata": {},
     "output_type": "execute_result"
    }
   ],
   "source": [
    "#modulus operator\n",
    "19 % 3"
   ]
  },
  {
   "cell_type": "code",
   "execution_count": 52,
   "id": "43920e6c-6172-4d09-9200-5b7d42b1d745",
   "metadata": {},
   "outputs": [
    {
     "data": {
      "text/plain": [
       "8"
      ]
     },
     "execution_count": 52,
     "metadata": {},
     "output_type": "execute_result"
    }
   ],
   "source": [
    "2 ** 3"
   ]
  },
  {
   "cell_type": "code",
   "execution_count": 56,
   "id": "f1596a14-c188-4091-a11d-025f1070cd49",
   "metadata": {},
   "outputs": [
    {
     "data": {
      "text/plain": [
       "4"
      ]
     },
     "execution_count": 56,
     "metadata": {},
     "output_type": "execute_result"
    }
   ],
   "source": [
    "12 // 3 #integer division or floor operator"
   ]
  },
  {
   "cell_type": "code",
   "execution_count": 58,
   "id": "ebcc49bf-5f70-4de3-9ef3-e249a6111814",
   "metadata": {},
   "outputs": [
    {
     "data": {
      "text/plain": [
       "True"
      ]
     },
     "execution_count": 58,
     "metadata": {},
     "output_type": "execute_result"
    }
   ],
   "source": [
    "#comparison operator >> compare two values >> return to a boolean value\n",
    "2 == 2"
   ]
  },
  {
   "cell_type": "code",
   "execution_count": 60,
   "id": "e7661b4a-bcc9-4486-ac42-df335fb86799",
   "metadata": {},
   "outputs": [
    {
     "data": {
      "text/plain": [
       "False"
      ]
     },
     "execution_count": 60,
     "metadata": {},
     "output_type": "execute_result"
    }
   ],
   "source": [
    "2 != 2"
   ]
  },
  {
   "cell_type": "code",
   "execution_count": 62,
   "id": "74c2f03e-3027-4624-80c2-83f6faed92ed",
   "metadata": {},
   "outputs": [
    {
     "data": {
      "text/plain": [
       "True"
      ]
     },
     "execution_count": 62,
     "metadata": {},
     "output_type": "execute_result"
    }
   ],
   "source": [
    "10 > 2"
   ]
  },
  {
   "cell_type": "code",
   "execution_count": 64,
   "id": "a69d4c8f-7357-4495-8b05-59cf305bf232",
   "metadata": {},
   "outputs": [
    {
     "data": {
      "text/plain": [
       "False"
      ]
     },
     "execution_count": 64,
     "metadata": {},
     "output_type": "execute_result"
    }
   ],
   "source": [
    "10 >= 18"
   ]
  },
  {
   "cell_type": "code",
   "execution_count": 66,
   "id": "295e2a46-ddb7-47c5-b78a-ee859e8b22f4",
   "metadata": {},
   "outputs": [
    {
     "data": {
      "text/plain": [
       "True"
      ]
     },
     "execution_count": 66,
     "metadata": {},
     "output_type": "execute_result"
    }
   ],
   "source": [
    "5 >= 5"
   ]
  },
  {
   "cell_type": "code",
   "execution_count": 68,
   "id": "7c7f2988-ca67-4626-8543-95807bea87af",
   "metadata": {},
   "outputs": [
    {
     "data": {
      "text/plain": [
       "True"
      ]
     },
     "execution_count": 68,
     "metadata": {},
     "output_type": "execute_result"
    }
   ],
   "source": [
    "10 <= 10"
   ]
  },
  {
   "cell_type": "code",
   "execution_count": 70,
   "id": "a27e7824-a8af-4b98-a6ac-14079ad796b5",
   "metadata": {},
   "outputs": [
    {
     "data": {
      "text/plain": [
       "False"
      ]
     },
     "execution_count": 70,
     "metadata": {},
     "output_type": "execute_result"
    }
   ],
   "source": [
    "10 >= 12"
   ]
  },
  {
   "cell_type": "code",
   "execution_count": 72,
   "id": "cf7edbcf-e850-49dc-82ab-158861029d07",
   "metadata": {},
   "outputs": [],
   "source": [
    "#logical operator"
   ]
  },
  {
   "cell_type": "code",
   "execution_count": 76,
   "id": "a3e5e1cf-c34a-481f-9a03-2e3da7ad94a0",
   "metadata": {},
   "outputs": [
    {
     "data": {
      "text/plain": [
       "True"
      ]
     },
     "execution_count": 76,
     "metadata": {},
     "output_type": "execute_result"
    }
   ],
   "source": [
    "True and True"
   ]
  },
  {
   "cell_type": "code",
   "execution_count": 78,
   "id": "83461b35-e77b-4d47-867a-d9af58b1bf0b",
   "metadata": {},
   "outputs": [
    {
     "data": {
      "text/plain": [
       "False"
      ]
     },
     "execution_count": 78,
     "metadata": {},
     "output_type": "execute_result"
    }
   ],
   "source": [
    "True and False"
   ]
  },
  {
   "cell_type": "code",
   "execution_count": 80,
   "id": "bf45dc09-7fdd-4c27-a355-b5f0369d8aa3",
   "metadata": {},
   "outputs": [
    {
     "data": {
      "text/plain": [
       "False"
      ]
     },
     "execution_count": 80,
     "metadata": {},
     "output_type": "execute_result"
    }
   ],
   "source": [
    "False and True"
   ]
  },
  {
   "cell_type": "code",
   "execution_count": 82,
   "id": "330eef84-7c9a-4bff-a65a-419cd241a862",
   "metadata": {},
   "outputs": [
    {
     "data": {
      "text/plain": [
       "False"
      ]
     },
     "execution_count": 82,
     "metadata": {},
     "output_type": "execute_result"
    }
   ],
   "source": [
    "False and False"
   ]
  },
  {
   "cell_type": "code",
   "execution_count": 84,
   "id": "ce9ad7bb-62e9-4e10-a2f0-a01fa3015d1b",
   "metadata": {},
   "outputs": [
    {
     "data": {
      "text/plain": [
       "True"
      ]
     },
     "execution_count": 84,
     "metadata": {},
     "output_type": "execute_result"
    }
   ],
   "source": [
    "True or False"
   ]
  },
  {
   "cell_type": "code",
   "execution_count": 86,
   "id": "fe0fff56-6be8-43d5-881e-ff0c4f0f5e2b",
   "metadata": {},
   "outputs": [
    {
     "data": {
      "text/plain": [
       "True"
      ]
     },
     "execution_count": 86,
     "metadata": {},
     "output_type": "execute_result"
    }
   ],
   "source": [
    "False or True"
   ]
  },
  {
   "cell_type": "code",
   "execution_count": 88,
   "id": "12de55e2-8ff2-482b-91cd-330b36621e06",
   "metadata": {},
   "outputs": [
    {
     "data": {
      "text/plain": [
       "True"
      ]
     },
     "execution_count": 88,
     "metadata": {},
     "output_type": "execute_result"
    }
   ],
   "source": [
    "True or False"
   ]
  },
  {
   "cell_type": "code",
   "execution_count": 90,
   "id": "37f4a777-4583-472a-945c-53188b0294df",
   "metadata": {},
   "outputs": [
    {
     "data": {
      "text/plain": [
       "False"
      ]
     },
     "execution_count": 90,
     "metadata": {},
     "output_type": "execute_result"
    }
   ],
   "source": [
    "#Not operator\n",
    "not True"
   ]
  },
  {
   "cell_type": "code",
   "execution_count": 92,
   "id": "eff5d1e3-b21e-4ebe-b1a0-6ce4114c722d",
   "metadata": {},
   "outputs": [
    {
     "data": {
      "text/plain": [
       "True"
      ]
     },
     "execution_count": 92,
     "metadata": {},
     "output_type": "execute_result"
    }
   ],
   "source": [
    "not False"
   ]
  },
  {
   "cell_type": "code",
   "execution_count": 94,
   "id": "b5255e6c-478b-4b6e-ab66-5af061aa7747",
   "metadata": {},
   "outputs": [
    {
     "data": {
      "text/plain": [
       "10"
      ]
     },
     "execution_count": 94,
     "metadata": {},
     "output_type": "execute_result"
    }
   ],
   "source": [
    "#assignment operator\n",
    "a = 10\n",
    "a"
   ]
  },
  {
   "cell_type": "code",
   "execution_count": 96,
   "id": "4a461e73-9cfb-4797-ad06-2ccb98264a14",
   "metadata": {},
   "outputs": [
    {
     "data": {
      "text/plain": [
       "15"
      ]
     },
     "execution_count": 96,
     "metadata": {},
     "output_type": "execute_result"
    }
   ],
   "source": [
    "a + 5"
   ]
  },
  {
   "cell_type": "code",
   "execution_count": 98,
   "id": "42903f27-e691-4900-8bc7-d03f0e5f952a",
   "metadata": {},
   "outputs": [
    {
     "data": {
      "text/plain": [
       "15"
      ]
     },
     "execution_count": 98,
     "metadata": {},
     "output_type": "execute_result"
    }
   ],
   "source": [
    "a = 10\n",
    "a = a+5\n",
    "a"
   ]
  },
  {
   "cell_type": "code",
   "execution_count": 100,
   "id": "51d10bbe-1214-49d7-a399-6381676cbc32",
   "metadata": {},
   "outputs": [],
   "source": [
    "a += 12"
   ]
  },
  {
   "cell_type": "code",
   "execution_count": 102,
   "id": "c80ff93d-884d-4813-8565-b22f67bee22b",
   "metadata": {},
   "outputs": [
    {
     "data": {
      "text/plain": [
       "27"
      ]
     },
     "execution_count": 102,
     "metadata": {},
     "output_type": "execute_result"
    }
   ],
   "source": [
    "a"
   ]
  },
  {
   "cell_type": "code",
   "execution_count": 104,
   "id": "74e23738-5dc7-41ab-8a54-a70fbb7dea82",
   "metadata": {},
   "outputs": [
    {
     "data": {
      "text/plain": [
       "10"
      ]
     },
     "execution_count": 104,
     "metadata": {},
     "output_type": "execute_result"
    }
   ],
   "source": [
    "a  = 2\n",
    "a*5"
   ]
  },
  {
   "cell_type": "code",
   "execution_count": 106,
   "id": "14e02844-11c9-45b6-a996-784ed77ad1b0",
   "metadata": {},
   "outputs": [],
   "source": [
    "a *= 4"
   ]
  },
  {
   "cell_type": "code",
   "execution_count": 108,
   "id": "1ab78f5f-ffab-4162-b966-e432468a5fcd",
   "metadata": {},
   "outputs": [
    {
     "data": {
      "text/plain": [
       "8"
      ]
     },
     "execution_count": 108,
     "metadata": {},
     "output_type": "execute_result"
    }
   ],
   "source": [
    "a"
   ]
  },
  {
   "cell_type": "code",
   "execution_count": 110,
   "id": "ae513176-7649-43eb-8695-fe344b128200",
   "metadata": {},
   "outputs": [],
   "source": [
    "a /= 3"
   ]
  },
  {
   "cell_type": "code",
   "execution_count": 112,
   "id": "7ad137da-ddce-49b8-a971-97b5aec5143a",
   "metadata": {},
   "outputs": [
    {
     "data": {
      "text/plain": [
       "2.6666666666666665"
      ]
     },
     "execution_count": 112,
     "metadata": {},
     "output_type": "execute_result"
    }
   ],
   "source": [
    "a"
   ]
  },
  {
   "cell_type": "code",
   "execution_count": 114,
   "id": "7fe84db3-847c-45fa-9ca5-4fbe5e9f2cce",
   "metadata": {},
   "outputs": [
    {
     "data": {
      "text/plain": [
       "True"
      ]
     },
     "execution_count": 114,
     "metadata": {},
     "output_type": "execute_result"
    }
   ],
   "source": [
    "#membership operator\n",
    "a = \"CareerCraft\"\n",
    "\"C\" in a"
   ]
  },
  {
   "cell_type": "code",
   "execution_count": 116,
   "id": "5ccbdca3-914c-42c1-bd44-5351d9d38286",
   "metadata": {},
   "outputs": [
    {
     "data": {
      "text/plain": [
       "False"
      ]
     },
     "execution_count": 116,
     "metadata": {},
     "output_type": "execute_result"
    }
   ],
   "source": [
    "\"z\" in a"
   ]
  },
  {
   "cell_type": "code",
   "execution_count": 118,
   "id": "f9e0d814-0966-42ba-9ef9-6c76fb8ee7c8",
   "metadata": {},
   "outputs": [
    {
     "data": {
      "text/plain": [
       "True"
      ]
     },
     "execution_count": 118,
     "metadata": {},
     "output_type": "execute_result"
    }
   ],
   "source": [
    "\"study\" in \"I study in data science\""
   ]
  },
  {
   "cell_type": "code",
   "execution_count": 120,
   "id": "6f8a4895-3b2d-4af2-8484-b921b3307ef9",
   "metadata": {},
   "outputs": [
    {
     "data": {
      "text/plain": [
       "False"
      ]
     },
     "execution_count": 120,
     "metadata": {},
     "output_type": "execute_result"
    }
   ],
   "source": [
    "\"study\" not in \"I study in data science\""
   ]
  },
  {
   "cell_type": "code",
   "execution_count": 122,
   "id": "4217eb23-4d30-441a-a382-b2e2f978e16c",
   "metadata": {},
   "outputs": [],
   "source": [
    "#Identity operator >> compares the memory location of two object\n",
    "a = 2\n",
    "b = 3"
   ]
  },
  {
   "cell_type": "code",
   "execution_count": 124,
   "id": "73de1bbf-783e-4c68-8e77-f2b6619405c9",
   "metadata": {},
   "outputs": [
    {
     "data": {
      "text/plain": [
       "False"
      ]
     },
     "execution_count": 124,
     "metadata": {},
     "output_type": "execute_result"
    }
   ],
   "source": [
    "a is b"
   ]
  },
  {
   "cell_type": "code",
   "execution_count": 126,
   "id": "64c1e5c8-c6b8-4dc7-9616-d002b3dd699b",
   "metadata": {},
   "outputs": [
    {
     "data": {
      "text/plain": [
       "140721911376344"
      ]
     },
     "execution_count": 126,
     "metadata": {},
     "output_type": "execute_result"
    }
   ],
   "source": [
    "id(a)"
   ]
  },
  {
   "cell_type": "code",
   "execution_count": 128,
   "id": "fd1b199f-ecc4-438e-9274-aabc4afa191c",
   "metadata": {},
   "outputs": [
    {
     "data": {
      "text/plain": [
       "140721911376376"
      ]
     },
     "execution_count": 128,
     "metadata": {},
     "output_type": "execute_result"
    }
   ],
   "source": [
    "id(b)"
   ]
  },
  {
   "cell_type": "code",
   "execution_count": 130,
   "id": "63bdc751-5a30-4d34-9d4e-27a9dba8adae",
   "metadata": {},
   "outputs": [
    {
     "data": {
      "text/plain": [
       "True"
      ]
     },
     "execution_count": 130,
     "metadata": {},
     "output_type": "execute_result"
    }
   ],
   "source": [
    "a = \"Ajay\"\n",
    "b = a\n",
    "a is b"
   ]
  },
  {
   "cell_type": "code",
   "execution_count": 132,
   "id": "3f90e049-bd8d-4c22-9f1a-9bb06bed04b4",
   "metadata": {},
   "outputs": [
    {
     "data": {
      "text/plain": [
       "False"
      ]
     },
     "execution_count": 132,
     "metadata": {},
     "output_type": "execute_result"
    }
   ],
   "source": [
    "a is not b"
   ]
  },
  {
   "cell_type": "code",
   "execution_count": 134,
   "id": "2c9f43b8-9ae5-4e9e-934d-9036b2da2ba0",
   "metadata": {},
   "outputs": [
    {
     "data": {
      "text/plain": [
       "10"
      ]
     },
     "execution_count": 134,
     "metadata": {},
     "output_type": "execute_result"
    }
   ],
   "source": [
    "#bitwise operator >> operations at bit level\n",
    "\n",
    "10 & 10"
   ]
  },
  {
   "cell_type": "code",
   "execution_count": 136,
   "id": "85aa9c94-25fe-44a9-9b4b-330d4c855d73",
   "metadata": {},
   "outputs": [
    {
     "data": {
      "text/plain": [
       "0"
      ]
     },
     "execution_count": 136,
     "metadata": {},
     "output_type": "execute_result"
    }
   ],
   "source": [
    "16 & 3"
   ]
  },
  {
   "cell_type": "code",
   "execution_count": 138,
   "id": "17d97535-1752-4e9a-a65e-605378b80ebf",
   "metadata": {},
   "outputs": [
    {
     "data": {
      "text/plain": [
       "'0b1010'"
      ]
     },
     "execution_count": 138,
     "metadata": {},
     "output_type": "execute_result"
    }
   ],
   "source": [
    "bin(10)"
   ]
  },
  {
   "cell_type": "code",
   "execution_count": 140,
   "id": "01b057f6-a6d5-4f40-8538-98e96a8aabfd",
   "metadata": {},
   "outputs": [
    {
     "data": {
      "text/plain": [
       "'0b10000'"
      ]
     },
     "execution_count": 140,
     "metadata": {},
     "output_type": "execute_result"
    }
   ],
   "source": [
    "bin(16)"
   ]
  },
  {
   "cell_type": "code",
   "execution_count": 142,
   "id": "4c7d4906-14aa-4705-b97d-02d73cba182a",
   "metadata": {},
   "outputs": [
    {
     "data": {
      "text/plain": [
       "'0b11'"
      ]
     },
     "execution_count": 142,
     "metadata": {},
     "output_type": "execute_result"
    }
   ],
   "source": [
    "bin(3)"
   ]
  },
  {
   "cell_type": "code",
   "execution_count": 144,
   "id": "621f5ddc-551b-41d2-8b0c-0d8d3d86a805",
   "metadata": {},
   "outputs": [
    {
     "data": {
      "text/plain": [
       "'0b0'"
      ]
     },
     "execution_count": 144,
     "metadata": {},
     "output_type": "execute_result"
    }
   ],
   "source": [
    "bin(0)"
   ]
  },
  {
   "cell_type": "code",
   "execution_count": 146,
   "id": "d224af97-e712-42e3-a02b-aef76e59556b",
   "metadata": {},
   "outputs": [
    {
     "data": {
      "text/plain": [
       "7"
      ]
     },
     "execution_count": 146,
     "metadata": {},
     "output_type": "execute_result"
    }
   ],
   "source": [
    "3 | 6"
   ]
  },
  {
   "cell_type": "code",
   "execution_count": 148,
   "id": "86c2afa9-fd43-4299-890b-47ecb640fbfc",
   "metadata": {},
   "outputs": [
    {
     "data": {
      "text/plain": [
       "'0b11'"
      ]
     },
     "execution_count": 148,
     "metadata": {},
     "output_type": "execute_result"
    }
   ],
   "source": [
    "bin(3)"
   ]
  },
  {
   "cell_type": "code",
   "execution_count": 150,
   "id": "fda8eabf-75e3-49ab-8e55-f3a43564e181",
   "metadata": {},
   "outputs": [
    {
     "data": {
      "text/plain": [
       "'0b110'"
      ]
     },
     "execution_count": 150,
     "metadata": {},
     "output_type": "execute_result"
    }
   ],
   "source": [
    "bin(6)"
   ]
  },
  {
   "cell_type": "code",
   "execution_count": 152,
   "id": "30f6d4e7-8bb5-480b-84a1-d6f23117bc61",
   "metadata": {},
   "outputs": [
    {
     "data": {
      "text/plain": [
       "'0b111'"
      ]
     },
     "execution_count": 152,
     "metadata": {},
     "output_type": "execute_result"
    }
   ],
   "source": [
    "bin(7)"
   ]
  },
  {
   "cell_type": "code",
   "execution_count": 154,
   "id": "e250445d-f851-4f6a-94fd-9fc7a03fcfe4",
   "metadata": {},
   "outputs": [
    {
     "data": {
      "text/plain": [
       "-4"
      ]
     },
     "execution_count": 154,
     "metadata": {},
     "output_type": "execute_result"
    }
   ],
   "source": [
    "#negation\n",
    "~3"
   ]
  },
  {
   "cell_type": "code",
   "execution_count": 156,
   "id": "32f4c2f2-f8cd-450b-8f91-3aaa945e43b4",
   "metadata": {},
   "outputs": [
    {
     "data": {
      "text/plain": [
       "-101"
      ]
     },
     "execution_count": 156,
     "metadata": {},
     "output_type": "execute_result"
    }
   ],
   "source": [
    "~100"
   ]
  },
  {
   "cell_type": "code",
   "execution_count": 158,
   "id": "52135140-9a61-46c2-bcbb-30a1c5c05da3",
   "metadata": {},
   "outputs": [
    {
     "data": {
      "text/plain": [
       "6"
      ]
     },
     "execution_count": 158,
     "metadata": {},
     "output_type": "execute_result"
    }
   ],
   "source": [
    "#Biwise xor >> return 1 when exactly one operand is 1\n",
    "\n",
    "5 ^ 3"
   ]
  },
  {
   "cell_type": "code",
   "execution_count": 160,
   "id": "804b53b8-a8d7-48aa-ad5c-eb2a25fb58f2",
   "metadata": {},
   "outputs": [
    {
     "data": {
      "text/plain": [
       "'0b101'"
      ]
     },
     "execution_count": 160,
     "metadata": {},
     "output_type": "execute_result"
    }
   ],
   "source": [
    "bin(5)"
   ]
  },
  {
   "cell_type": "code",
   "execution_count": 162,
   "id": "06cb3637-fb3b-47c1-82e1-dc478ca7006e",
   "metadata": {},
   "outputs": [
    {
     "data": {
      "text/plain": [
       "'0b11'"
      ]
     },
     "execution_count": 162,
     "metadata": {},
     "output_type": "execute_result"
    }
   ],
   "source": [
    "bin(3)"
   ]
  },
  {
   "cell_type": "code",
   "execution_count": 164,
   "id": "18a3262b-df34-475d-87ae-9c69ff083e21",
   "metadata": {},
   "outputs": [],
   "source": [
    "#shift >> left shift and right shift\n",
    "\n",
    "#left shift >> put no of zeros on the right side\n"
   ]
  },
  {
   "cell_type": "code",
   "execution_count": 168,
   "id": "75691438-d0a0-4a60-8a87-521eeb93e50c",
   "metadata": {},
   "outputs": [
    {
     "data": {
      "text/plain": [
       "200"
      ]
     },
     "execution_count": 168,
     "metadata": {},
     "output_type": "execute_result"
    }
   ],
   "source": [
    "25 << 3"
   ]
  },
  {
   "cell_type": "code",
   "execution_count": 170,
   "id": "82ded343-45f5-49ee-a3c9-e721cd938453",
   "metadata": {},
   "outputs": [
    {
     "data": {
      "text/plain": [
       "'0b11001'"
      ]
     },
     "execution_count": 170,
     "metadata": {},
     "output_type": "execute_result"
    }
   ],
   "source": [
    "bin(25)"
   ]
  },
  {
   "cell_type": "code",
   "execution_count": 172,
   "id": "784a85b2-1d49-4fd2-8e26-b61ef6bb11a4",
   "metadata": {},
   "outputs": [
    {
     "data": {
      "text/plain": [
       "'0b11001000'"
      ]
     },
     "execution_count": 172,
     "metadata": {},
     "output_type": "execute_result"
    }
   ],
   "source": [
    "bin(200)"
   ]
  },
  {
   "cell_type": "code",
   "execution_count": 174,
   "id": "48266a9e-5146-42b2-a74c-dedddb65c79a",
   "metadata": {},
   "outputs": [
    {
     "data": {
      "text/plain": [
       "8"
      ]
     },
     "execution_count": 174,
     "metadata": {},
     "output_type": "execute_result"
    }
   ],
   "source": [
    "4 << 1"
   ]
  },
  {
   "cell_type": "code",
   "execution_count": 176,
   "id": "126e0e64-e954-4186-be1c-a476566c1650",
   "metadata": {},
   "outputs": [
    {
     "data": {
      "text/plain": [
       "25"
      ]
     },
     "execution_count": 176,
     "metadata": {},
     "output_type": "execute_result"
    }
   ],
   "source": [
    "#Right shift operator >> remove the no of elements in the binary\n",
    "\n",
    "200 >> 3"
   ]
  },
  {
   "cell_type": "code",
   "execution_count": 178,
   "id": "57f39c48-5b4d-49e3-8baa-e8bf1a7c1250",
   "metadata": {},
   "outputs": [
    {
     "data": {
      "text/plain": [
       "'0b11001000'"
      ]
     },
     "execution_count": 178,
     "metadata": {},
     "output_type": "execute_result"
    }
   ],
   "source": [
    "bin(200)"
   ]
  },
  {
   "cell_type": "code",
   "execution_count": 180,
   "id": "922004d1-aede-4e92-ac63-36f1848bdb3d",
   "metadata": {},
   "outputs": [
    {
     "data": {
      "text/plain": [
       "'0b11001'"
      ]
     },
     "execution_count": 180,
     "metadata": {},
     "output_type": "execute_result"
    }
   ],
   "source": [
    "bin(25)"
   ]
  },
  {
   "cell_type": "code",
   "execution_count": 182,
   "id": "3aff8b68-485a-406a-9ce9-abd790c9b69e",
   "metadata": {},
   "outputs": [
    {
     "data": {
      "text/plain": [
       "1"
      ]
     },
     "execution_count": 182,
     "metadata": {},
     "output_type": "execute_result"
    }
   ],
   "source": [
    "#order of execution >> will start from left\n",
    "\n",
    "(3+2)-4"
   ]
  },
  {
   "cell_type": "code",
   "execution_count": 184,
   "id": "2155ae05-e895-4343-a0af-853d661db1ef",
   "metadata": {},
   "outputs": [
    {
     "data": {
      "text/plain": [
       "14.666666666666666"
      ]
     },
     "execution_count": 184,
     "metadata": {},
     "output_type": "execute_result"
    }
   ],
   "source": [
    "(10+2) + (8/3)"
   ]
  },
  {
   "cell_type": "code",
   "execution_count": 186,
   "id": "8e6ab3dc-f797-4d74-a69c-375d9b8336de",
   "metadata": {},
   "outputs": [],
   "source": [
    "#conditionals (branching) >> if father is rich, I will go to thailand\n",
    "# if weather is sunny is sunny will go to play cricket\n",
    "#if beta nalayak, pappa will not give all sampatti\n",
    "\n",
    "\n",
    "#>> loops >> i will keep checking out dishes untill all the dishes are over in a buffet"
   ]
  },
  {
   "cell_type": "code",
   "execution_count": null,
   "id": "7888c222-36bb-4cac-a23d-6d4c87dee7ce",
   "metadata": {},
   "outputs": [],
   "source": [
    "#conditional statement >> helps you to ciode decisions based on some precondition\n",
    "#if\n",
    "#if else\n",
    "#if elif else\n",
    "#nested if else"
   ]
  },
  {
   "cell_type": "code",
   "execution_count": null,
   "id": "23eb5e7d-18a5-4c60-9133-d06717105264",
   "metadata": {},
   "outputs": [],
   "source": [
    "#if statements\n",
    "#syntax\n",
    "# if condition True:\n",
    "    # block of code will be executed"
   ]
  },
  {
   "cell_type": "code",
   "execution_count": 192,
   "id": "3dea9345-41fb-490b-8b41-d01e810cbc5d",
   "metadata": {},
   "outputs": [
    {
     "data": {
      "text/plain": [
       "False"
      ]
     },
     "execution_count": 192,
     "metadata": {},
     "output_type": "execute_result"
    }
   ],
   "source": [
    "3 > 4"
   ]
  },
  {
   "cell_type": "code",
   "execution_count": 194,
   "id": "ba3b6843-4949-4c79-a953-539deb7b931b",
   "metadata": {},
   "outputs": [
    {
     "data": {
      "text/plain": [
       "True"
      ]
     },
     "execution_count": 194,
     "metadata": {},
     "output_type": "execute_result"
    }
   ],
   "source": [
    "1 < 6"
   ]
  },
  {
   "cell_type": "code",
   "execution_count": 196,
   "id": "fda6ec2c-52df-4df1-b096-7fca8046c863",
   "metadata": {},
   "outputs": [
    {
     "name": "stdout",
     "output_type": "stream",
     "text": [
      "The number is greater than 10\n"
     ]
    }
   ],
   "source": [
    "a = 100\n",
    "if a > 10:\n",
    "    print(\"The number is greater than 10\")"
   ]
  },
  {
   "cell_type": "code",
   "execution_count": 200,
   "id": "a84a003f-5d8f-471f-a0e3-1f6da7010f42",
   "metadata": {},
   "outputs": [
    {
     "name": "stdout",
     "output_type": "stream",
     "text": [
      "eat pakoda\n"
     ]
    }
   ],
   "source": [
    "weather = \"rainy\"\n",
    "\n",
    "if weather == \"rainy\":\n",
    "    print(\"eat pakoda\")"
   ]
  },
  {
   "cell_type": "code",
   "execution_count": 202,
   "id": "03f54bc4-0207-4224-a8b3-b146ca4c5c5b",
   "metadata": {},
   "outputs": [
    {
     "name": "stdin",
     "output_type": "stream",
     "text": [
      "Enter the weather sunny\n"
     ]
    },
    {
     "name": "stdout",
     "output_type": "stream",
     "text": [
      "Go to play cricket\n"
     ]
    }
   ],
   "source": [
    "#take a input from the user and check if its sunny then print go to play cricket\n",
    "weather = input(\"Enter the weather\")\n",
    "if weather == \"sunny\":\n",
    "    print(\"Go to play cricket\")"
   ]
  },
  {
   "cell_type": "code",
   "execution_count": 208,
   "id": "193bc5f2-4b2a-40b9-9e39-a4b6acb38b54",
   "metadata": {},
   "outputs": [
    {
     "name": "stdout",
     "output_type": "stream",
     "text": [
      "Go to play cricket\n"
     ]
    }
   ],
   "source": [
    "if weather == \"sunny\":\n",
    "    print(\"Go to play cricket\") #indentation is necessary"
   ]
  },
  {
   "cell_type": "code",
   "execution_count": 212,
   "id": "6593ea2a-e431-44a7-8625-9f6d45fb48d9",
   "metadata": {},
   "outputs": [
    {
     "name": "stdout",
     "output_type": "stream",
     "text": [
      "Not a room temp\n"
     ]
    }
   ],
   "source": [
    "temp = 26\n",
    "if temp > 25:\n",
    "    print(\"Not a room temp\")"
   ]
  },
  {
   "cell_type": "code",
   "execution_count": 214,
   "id": "40a5c727-ab8d-45af-bd0c-a355d4c1540d",
   "metadata": {
    "scrolled": true
   },
   "outputs": [
    {
     "name": "stdout",
     "output_type": "stream",
     "text": [
      "I am studying this course\n"
     ]
    }
   ],
   "source": [
    "is_ai_course = True \n",
    "if is_ai_course: #best practice if some condition is true\n",
    "    print(\"I am studying this course\")"
   ]
  },
  {
   "cell_type": "code",
   "execution_count": 216,
   "id": "542329a1-2f8c-4fe4-8278-6e492b45de73",
   "metadata": {},
   "outputs": [
    {
     "data": {
      "text/plain": [
       "0"
      ]
     },
     "execution_count": 216,
     "metadata": {},
     "output_type": "execute_result"
    }
   ],
   "source": [
    "34 % 2"
   ]
  },
  {
   "cell_type": "code",
   "execution_count": 218,
   "id": "10aadb18-615c-44c0-9452-255e7502059c",
   "metadata": {},
   "outputs": [
    {
     "name": "stdout",
     "output_type": "stream",
     "text": [
      "The number is even\n"
     ]
    }
   ],
   "source": [
    "number = 42\n",
    "if number % 2 == 0:\n",
    "    print(\"The number is even\")"
   ]
  },
  {
   "cell_type": "code",
   "execution_count": 222,
   "id": "eb736e0e-2f4c-479d-98a9-84e272dac731",
   "metadata": {},
   "outputs": [
    {
     "name": "stdout",
     "output_type": "stream",
     "text": [
      "The number is odd\n"
     ]
    }
   ],
   "source": [
    "#in real life if one condition is not fulfilled, you will do something else\n",
    "\n",
    "number = 23\n",
    "if number % 2 == 0:\n",
    "    print(\"The number is even\")\n",
    "else:\n",
    "    print(\"The number is odd\")"
   ]
  },
  {
   "cell_type": "code",
   "execution_count": 226,
   "id": "85185c27-adee-4b52-b3fc-89f5dfc516c2",
   "metadata": {},
   "outputs": [
    {
     "name": "stdout",
     "output_type": "stream",
     "text": [
      "I will watch TV\n"
     ]
    }
   ],
   "source": [
    "weather = \"rainy\"\n",
    "if weather == \"sunny\":\n",
    "    print(\"I will play football\")\n",
    "else:\n",
    "    print(\"I will watch TV\")"
   ]
  },
  {
   "cell_type": "code",
   "execution_count": 230,
   "id": "6af1be43-64fd-40c8-876d-8c7ad5485213",
   "metadata": {},
   "outputs": [
    {
     "name": "stdout",
     "output_type": "stream",
     "text": [
      "I will watch TV\n"
     ]
    }
   ],
   "source": [
    "#if else with multiple conditions\n",
    "\n",
    "weather = \"rainy\"\n",
    "money = 100\n",
    "if (weather == \"sunny\") & (money > 10): #always use a parenthesis whenever you are writing multiple conditions\n",
    "    print(\"I will play football\")\n",
    "else:\n",
    "    print(\"I will watch TV\")"
   ]
  },
  {
   "cell_type": "code",
   "execution_count": 238,
   "id": "222b64a5-e875-46e1-8a94-6271440d9ede",
   "metadata": {},
   "outputs": [
    {
     "name": "stdout",
     "output_type": "stream",
     "text": [
      "You are all rounder\n"
     ]
    }
   ],
   "source": [
    "grade = 7\n",
    "co_cirr = True\n",
    "if ((grade > 5) and (co_cirr == True)): #co_cirr only can be used\n",
    "    print(\"You are all rounder\")"
   ]
  },
  {
   "cell_type": "code",
   "execution_count": 240,
   "id": "5e66eea3-ee24-4a83-bcba-cca80aa6fbec",
   "metadata": {},
   "outputs": [
    {
     "name": "stdout",
     "output_type": "stream",
     "text": [
      "You are all rounder\n"
     ]
    }
   ],
   "source": [
    "grade = 7\n",
    "co_cirr = True\n",
    "if grade > 5 and co_cirr == True:\n",
    "    print(\"You are all rounder\")"
   ]
  },
  {
   "cell_type": "code",
   "execution_count": 242,
   "id": "789ab948-aa8c-42f1-9174-2f08ef6aab66",
   "metadata": {},
   "outputs": [
    {
     "name": "stdout",
     "output_type": "stream",
     "text": [
      "Please get out\n"
     ]
    }
   ],
   "source": [
    "age = 16\n",
    "\n",
    "if age >= 18:\n",
    "    print(\"You will be served alcohal\")\n",
    "else:\n",
    "    print(\"Please get out\")"
   ]
  },
  {
   "cell_type": "code",
   "execution_count": 246,
   "id": "3a03cf47-477c-4ab4-af5a-a796154afbc8",
   "metadata": {},
   "outputs": [
    {
     "name": "stdout",
     "output_type": "stream",
     "text": [
      "you are fail\n"
     ]
    }
   ],
   "source": [
    "#if else >> two condition\n",
    "#in real lif we can have multiple conditions\n",
    "\n",
    "score = 40\n",
    "\n",
    "if score >= 90:\n",
    "    print(\"The grade is distinction\")\n",
    "elif (80<= score < 90):\n",
    "    print(\"the grade is A\")\n",
    "elif (70<= score < 90):\n",
    "    print(\"The garde is B\")\n",
    "else:\n",
    "    print(\"you are fail\")"
   ]
  },
  {
   "cell_type": "code",
   "execution_count": 252,
   "id": "42c310a4-d1f4-4ad9-904c-7dbda0b47855",
   "metadata": {},
   "outputs": [
    {
     "name": "stdout",
     "output_type": "stream",
     "text": [
      "You are minority\n"
     ]
    }
   ],
   "source": [
    "age = 5\n",
    "if age < 18:\n",
    "    print(\"You are minority\")\n",
    "elif (18<age<=65):\n",
    "    print(\"You are adult\")\n",
    "else:\n",
    "    print(\"You are senior citizen\")"
   ]
  },
  {
   "cell_type": "code",
   "execution_count": 254,
   "id": "980bd755-e47a-4f6a-a213-060afa55fdec",
   "metadata": {},
   "outputs": [
    {
     "name": "stdout",
     "output_type": "stream",
     "text": [
      "The smallest no is a 5\n"
     ]
    }
   ],
   "source": [
    "#find minimum of 3 numbers\n",
    "\n",
    "a = 5\n",
    "b = 6\n",
    "c= 8\n",
    "\n",
    "if a < b and a < c:\n",
    "    print(\"The smallest no is a\", a)\n",
    "elif b<c:\n",
    "    print(\"smallest is b\", b)\n",
    "else:\n",
    "    print(\"smalles is c\", c)"
   ]
  },
  {
   "cell_type": "code",
   "execution_count": 258,
   "id": "100b183e-62be-4ad7-8369-5b7f326c1fb5",
   "metadata": {},
   "outputs": [
    {
     "name": "stdout",
     "output_type": "stream",
     "text": [
      "X is greater than 5 but y is less than 5\n"
     ]
    }
   ],
   "source": [
    "#nested if else >> you can have multiple if else inside if else\n",
    "\n",
    "x = 7\n",
    "y = 3\n",
    "\n",
    "if x > 5:\n",
    "    if y > 5:\n",
    "        print(\"Both x and y is greater than 5\")\n",
    "    else:\n",
    "        print(\"X is greater than 5 but y is less than 5\")\n",
    "else:\n",
    "    print(\"x is not greater than 5\")"
   ]
  },
  {
   "cell_type": "code",
   "execution_count": 264,
   "id": "914f5633-0f13-4d2e-a301-78f8200d69c1",
   "metadata": {},
   "outputs": [
    {
     "name": "stdout",
     "output_type": "stream",
     "text": [
      "You are vip and very important as you are senior citizen\n"
     ]
    }
   ],
   "source": [
    "is_vip = True\n",
    "age = 66\n",
    "if is_vip:\n",
    "    if age >= 18:\n",
    "        if age < 60:\n",
    "            print(\"Welcome VIP customer\")\n",
    "        else:\n",
    "            print(\"You are vip and very important as you are senior citizen\")\n",
    "    else:\n",
    "        print(\"VIP status is only for adult\")\n",
    "else:\n",
    "    print(\"You are just a regular customer\")"
   ]
  },
  {
   "cell_type": "code",
   "execution_count": 270,
   "id": "867f4ee2-50e8-4dde-8317-5534ab24efe2",
   "metadata": {},
   "outputs": [
    {
     "name": "stdin",
     "output_type": "stream",
     "text": [
      "Please enter your name ajay\n",
      "Please enter your email aj@gmail\n",
      "Please enter your password sfAD\n"
     ]
    },
    {
     "name": "stdout",
     "output_type": "stream",
     "text": [
      "Login/registeration is successfull\n"
     ]
    }
   ],
   "source": [
    "#design a survey form\n",
    "\n",
    "name = input(\"Please enter your name\")\n",
    "email = input(\"Please enter your email\")\n",
    "password = input(\"Please enter your password\")\n",
    "\n",
    "if name == \"\":\n",
    "    print(\"Please enter a valid name, can not empty\")\n",
    "else:\n",
    "    if \"@\" not in email:\n",
    "        print(\"Enter a valid email id pls\")\n",
    "    else:\n",
    "        if len(password) < 0:\n",
    "            print(\"No password entered, please enter a valid password\")\n",
    "        else:\n",
    "            print(\"Login/registeration is successfull\")"
   ]
  },
  {
   "cell_type": "code",
   "execution_count": null,
   "id": "6f23384a-1c6d-4a81-bc56-c05fb7feb321",
   "metadata": {},
   "outputs": [],
   "source": []
  }
 ],
 "metadata": {
  "kernelspec": {
   "display_name": "Python 3 (ipykernel)",
   "language": "python",
   "name": "python3"
  },
  "language_info": {
   "codemirror_mode": {
    "name": "ipython",
    "version": 3
   },
   "file_extension": ".py",
   "mimetype": "text/x-python",
   "name": "python",
   "nbconvert_exporter": "python",
   "pygments_lexer": "ipython3",
   "version": "3.12.7"
  }
 },
 "nbformat": 4,
 "nbformat_minor": 5
}

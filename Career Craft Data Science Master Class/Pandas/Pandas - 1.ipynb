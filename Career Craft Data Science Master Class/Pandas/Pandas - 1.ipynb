{
 "cells": [
  {
   "cell_type": "code",
   "execution_count": 2,
   "id": "3af16388-f784-4925-b3e1-dc367fad63cf",
   "metadata": {},
   "outputs": [],
   "source": [
    "# pandas is a fast, powerful, flexible and easy to use open source data analysis and manipulation tool,\n",
    "# built on top of the Python programming language.\n",
    "#why? dont have alternatives to Pandas in Python\n",
    "#2008, by Mckinney\n",
    "#pandas is used for data analysis with its data structure that is series and dataframe"
   ]
  },
  {
   "cell_type": "code",
   "execution_count": 7,
   "id": "782c2b62-9011-417b-96c1-a9f84e11dd36",
   "metadata": {},
   "outputs": [],
   "source": [
    "import pandas as pd\n",
    "import numpy as np"
   ]
  },
  {
   "cell_type": "code",
   "execution_count": 17,
   "id": "f045fcd7-1ffe-4b67-b836-501b222263e7",
   "metadata": {},
   "outputs": [],
   "source": [
    "df = pd.read_csv('imdb_top_1000.csv')"
   ]
  },
  {
   "cell_type": "code",
   "execution_count": 23,
   "id": "586cb77c-a55a-48ec-9bc4-b185f04f7ca3",
   "metadata": {},
   "outputs": [],
   "source": [
    "#reading the dataset from some other folder where jupyter notebook is not there\n",
    "# pd.read_csv(r\"C:\\Users\\ajayk\\Downloads\\unknown dataset\\weather_forecast_data.csv\")"
   ]
  },
  {
   "cell_type": "code",
   "execution_count": 21,
   "id": "47950a78-c1ed-4132-844d-515e0f973060",
   "metadata": {},
   "outputs": [
    {
     "data": {
      "text/html": [
       "<div>\n",
       "<style scoped>\n",
       "    .dataframe tbody tr th:only-of-type {\n",
       "        vertical-align: middle;\n",
       "    }\n",
       "\n",
       "    .dataframe tbody tr th {\n",
       "        vertical-align: top;\n",
       "    }\n",
       "\n",
       "    .dataframe thead th {\n",
       "        text-align: right;\n",
       "    }\n",
       "</style>\n",
       "<table border=\"1\" class=\"dataframe\">\n",
       "  <thead>\n",
       "    <tr style=\"text-align: right;\">\n",
       "      <th></th>\n",
       "      <th>Poster_Link</th>\n",
       "      <th>Series_Title</th>\n",
       "      <th>Released_Year</th>\n",
       "      <th>Certificate</th>\n",
       "      <th>Runtime</th>\n",
       "      <th>Genre</th>\n",
       "      <th>IMDB_Rating</th>\n",
       "      <th>Overview</th>\n",
       "      <th>Meta_score</th>\n",
       "      <th>Director</th>\n",
       "      <th>Star1</th>\n",
       "      <th>Star2</th>\n",
       "      <th>Star3</th>\n",
       "      <th>Star4</th>\n",
       "      <th>No_of_Votes</th>\n",
       "      <th>Gross</th>\n",
       "    </tr>\n",
       "  </thead>\n",
       "  <tbody>\n",
       "    <tr>\n",
       "      <th>0</th>\n",
       "      <td>https://m.media-amazon.com/images/M/MV5BMDFkYT...</td>\n",
       "      <td>The Shawshank Redemption</td>\n",
       "      <td>1994</td>\n",
       "      <td>A</td>\n",
       "      <td>142 min</td>\n",
       "      <td>Drama</td>\n",
       "      <td>9.3</td>\n",
       "      <td>Two imprisoned men bond over a number of years...</td>\n",
       "      <td>80.0</td>\n",
       "      <td>Frank Darabont</td>\n",
       "      <td>Tim Robbins</td>\n",
       "      <td>Morgan Freeman</td>\n",
       "      <td>Bob Gunton</td>\n",
       "      <td>William Sadler</td>\n",
       "      <td>2343110</td>\n",
       "      <td>28,341,469</td>\n",
       "    </tr>\n",
       "    <tr>\n",
       "      <th>1</th>\n",
       "      <td>https://m.media-amazon.com/images/M/MV5BM2MyNj...</td>\n",
       "      <td>The Godfather</td>\n",
       "      <td>1972</td>\n",
       "      <td>A</td>\n",
       "      <td>175 min</td>\n",
       "      <td>Crime, Drama</td>\n",
       "      <td>9.2</td>\n",
       "      <td>An organized crime dynasty's aging patriarch t...</td>\n",
       "      <td>100.0</td>\n",
       "      <td>Francis Ford Coppola</td>\n",
       "      <td>Marlon Brando</td>\n",
       "      <td>Al Pacino</td>\n",
       "      <td>James Caan</td>\n",
       "      <td>Diane Keaton</td>\n",
       "      <td>1620367</td>\n",
       "      <td>134,966,411</td>\n",
       "    </tr>\n",
       "    <tr>\n",
       "      <th>2</th>\n",
       "      <td>https://m.media-amazon.com/images/M/MV5BMTMxNT...</td>\n",
       "      <td>The Dark Knight</td>\n",
       "      <td>2008</td>\n",
       "      <td>UA</td>\n",
       "      <td>152 min</td>\n",
       "      <td>Action, Crime, Drama</td>\n",
       "      <td>9.0</td>\n",
       "      <td>When the menace known as the Joker wreaks havo...</td>\n",
       "      <td>84.0</td>\n",
       "      <td>Christopher Nolan</td>\n",
       "      <td>Christian Bale</td>\n",
       "      <td>Heath Ledger</td>\n",
       "      <td>Aaron Eckhart</td>\n",
       "      <td>Michael Caine</td>\n",
       "      <td>2303232</td>\n",
       "      <td>534,858,444</td>\n",
       "    </tr>\n",
       "    <tr>\n",
       "      <th>3</th>\n",
       "      <td>https://m.media-amazon.com/images/M/MV5BMWMwMG...</td>\n",
       "      <td>The Godfather: Part II</td>\n",
       "      <td>1974</td>\n",
       "      <td>A</td>\n",
       "      <td>202 min</td>\n",
       "      <td>Crime, Drama</td>\n",
       "      <td>9.0</td>\n",
       "      <td>The early life and career of Vito Corleone in ...</td>\n",
       "      <td>90.0</td>\n",
       "      <td>Francis Ford Coppola</td>\n",
       "      <td>Al Pacino</td>\n",
       "      <td>Robert De Niro</td>\n",
       "      <td>Robert Duvall</td>\n",
       "      <td>Diane Keaton</td>\n",
       "      <td>1129952</td>\n",
       "      <td>57,300,000</td>\n",
       "    </tr>\n",
       "    <tr>\n",
       "      <th>4</th>\n",
       "      <td>https://m.media-amazon.com/images/M/MV5BMWU4N2...</td>\n",
       "      <td>12 Angry Men</td>\n",
       "      <td>1957</td>\n",
       "      <td>U</td>\n",
       "      <td>96 min</td>\n",
       "      <td>Crime, Drama</td>\n",
       "      <td>9.0</td>\n",
       "      <td>A jury holdout attempts to prevent a miscarria...</td>\n",
       "      <td>96.0</td>\n",
       "      <td>Sidney Lumet</td>\n",
       "      <td>Henry Fonda</td>\n",
       "      <td>Lee J. Cobb</td>\n",
       "      <td>Martin Balsam</td>\n",
       "      <td>John Fiedler</td>\n",
       "      <td>689845</td>\n",
       "      <td>4,360,000</td>\n",
       "    </tr>\n",
       "  </tbody>\n",
       "</table>\n",
       "</div>"
      ],
      "text/plain": [
       "                                         Poster_Link  \\\n",
       "0  https://m.media-amazon.com/images/M/MV5BMDFkYT...   \n",
       "1  https://m.media-amazon.com/images/M/MV5BM2MyNj...   \n",
       "2  https://m.media-amazon.com/images/M/MV5BMTMxNT...   \n",
       "3  https://m.media-amazon.com/images/M/MV5BMWMwMG...   \n",
       "4  https://m.media-amazon.com/images/M/MV5BMWU4N2...   \n",
       "\n",
       "               Series_Title Released_Year Certificate  Runtime  \\\n",
       "0  The Shawshank Redemption          1994           A  142 min   \n",
       "1             The Godfather          1972           A  175 min   \n",
       "2           The Dark Knight          2008          UA  152 min   \n",
       "3    The Godfather: Part II          1974           A  202 min   \n",
       "4              12 Angry Men          1957           U   96 min   \n",
       "\n",
       "                  Genre  IMDB_Rating  \\\n",
       "0                 Drama          9.3   \n",
       "1          Crime, Drama          9.2   \n",
       "2  Action, Crime, Drama          9.0   \n",
       "3          Crime, Drama          9.0   \n",
       "4          Crime, Drama          9.0   \n",
       "\n",
       "                                            Overview  Meta_score  \\\n",
       "0  Two imprisoned men bond over a number of years...        80.0   \n",
       "1  An organized crime dynasty's aging patriarch t...       100.0   \n",
       "2  When the menace known as the Joker wreaks havo...        84.0   \n",
       "3  The early life and career of Vito Corleone in ...        90.0   \n",
       "4  A jury holdout attempts to prevent a miscarria...        96.0   \n",
       "\n",
       "               Director           Star1           Star2          Star3  \\\n",
       "0        Frank Darabont     Tim Robbins  Morgan Freeman     Bob Gunton   \n",
       "1  Francis Ford Coppola   Marlon Brando       Al Pacino     James Caan   \n",
       "2     Christopher Nolan  Christian Bale    Heath Ledger  Aaron Eckhart   \n",
       "3  Francis Ford Coppola       Al Pacino  Robert De Niro  Robert Duvall   \n",
       "4          Sidney Lumet     Henry Fonda     Lee J. Cobb  Martin Balsam   \n",
       "\n",
       "            Star4  No_of_Votes        Gross  \n",
       "0  William Sadler      2343110   28,341,469  \n",
       "1    Diane Keaton      1620367  134,966,411  \n",
       "2   Michael Caine      2303232  534,858,444  \n",
       "3    Diane Keaton      1129952   57,300,000  \n",
       "4    John Fiedler       689845    4,360,000  "
      ]
     },
     "execution_count": 21,
     "metadata": {},
     "output_type": "execute_result"
    }
   ],
   "source": [
    "df.head()"
   ]
  },
  {
   "cell_type": "code",
   "execution_count": 29,
   "id": "50afaf7a-28be-48b8-9141-76fc0093a506",
   "metadata": {},
   "outputs": [],
   "source": [
    "#by default pandas considers the first row as the column name\n",
    "# pd.read_csv('imdb_top_1000_without_heading.csv', header = None)\n",
    "#internal integer indexes are provided by pandas"
   ]
  },
  {
   "cell_type": "code",
   "execution_count": 35,
   "id": "6e082030-428f-4786-99d8-72ea614404e9",
   "metadata": {},
   "outputs": [
    {
     "data": {
      "text/html": [
       "<div>\n",
       "<style scoped>\n",
       "    .dataframe tbody tr th:only-of-type {\n",
       "        vertical-align: middle;\n",
       "    }\n",
       "\n",
       "    .dataframe tbody tr th {\n",
       "        vertical-align: top;\n",
       "    }\n",
       "\n",
       "    .dataframe thead th {\n",
       "        text-align: right;\n",
       "    }\n",
       "</style>\n",
       "<table border=\"1\" class=\"dataframe\">\n",
       "  <thead>\n",
       "    <tr style=\"text-align: right;\">\n",
       "      <th></th>\n",
       "      <th>Poster_Link</th>\n",
       "      <th>Series_Title</th>\n",
       "      <th>Released_Year</th>\n",
       "      <th>Certificate</th>\n",
       "      <th>Runtime</th>\n",
       "      <th>Genre</th>\n",
       "      <th>IMDB_Rating</th>\n",
       "      <th>Overview</th>\n",
       "      <th>Meta_score</th>\n",
       "      <th>Director</th>\n",
       "      <th>Star1</th>\n",
       "      <th>Star2</th>\n",
       "      <th>Star3</th>\n",
       "      <th>Star4</th>\n",
       "      <th>No_of_Votes</th>\n",
       "      <th>Gross</th>\n",
       "    </tr>\n",
       "  </thead>\n",
       "  <tbody>\n",
       "    <tr>\n",
       "      <th>0</th>\n",
       "      <td>https://m.media-amazon.com/images/M/MV5BMDFkYT...</td>\n",
       "      <td>The Shawshank Redemption</td>\n",
       "      <td>1994</td>\n",
       "      <td>A</td>\n",
       "      <td>142 min</td>\n",
       "      <td>Drama</td>\n",
       "      <td>9.3</td>\n",
       "      <td>Two imprisoned men bond over a number of years...</td>\n",
       "      <td>80.0</td>\n",
       "      <td>Frank Darabont</td>\n",
       "      <td>Tim Robbins</td>\n",
       "      <td>Morgan Freeman</td>\n",
       "      <td>Bob Gunton</td>\n",
       "      <td>William Sadler</td>\n",
       "      <td>2343110</td>\n",
       "      <td>28,341,469</td>\n",
       "    </tr>\n",
       "    <tr>\n",
       "      <th>1</th>\n",
       "      <td>https://m.media-amazon.com/images/M/MV5BM2MyNj...</td>\n",
       "      <td>The Godfather</td>\n",
       "      <td>1972</td>\n",
       "      <td>A</td>\n",
       "      <td>175 min</td>\n",
       "      <td>Crime, Drama</td>\n",
       "      <td>9.2</td>\n",
       "      <td>An organized crime dynasty's aging patriarch t...</td>\n",
       "      <td>100.0</td>\n",
       "      <td>Francis Ford Coppola</td>\n",
       "      <td>Marlon Brando</td>\n",
       "      <td>Al Pacino</td>\n",
       "      <td>James Caan</td>\n",
       "      <td>Diane Keaton</td>\n",
       "      <td>1620367</td>\n",
       "      <td>134,966,411</td>\n",
       "    </tr>\n",
       "    <tr>\n",
       "      <th>2</th>\n",
       "      <td>https://m.media-amazon.com/images/M/MV5BMTMxNT...</td>\n",
       "      <td>The Dark Knight</td>\n",
       "      <td>2008</td>\n",
       "      <td>UA</td>\n",
       "      <td>152 min</td>\n",
       "      <td>Action, Crime, Drama</td>\n",
       "      <td>9.0</td>\n",
       "      <td>When the menace known as the Joker wreaks havo...</td>\n",
       "      <td>84.0</td>\n",
       "      <td>Christopher Nolan</td>\n",
       "      <td>Christian Bale</td>\n",
       "      <td>Heath Ledger</td>\n",
       "      <td>Aaron Eckhart</td>\n",
       "      <td>Michael Caine</td>\n",
       "      <td>2303232</td>\n",
       "      <td>534,858,444</td>\n",
       "    </tr>\n",
       "    <tr>\n",
       "      <th>3</th>\n",
       "      <td>https://m.media-amazon.com/images/M/MV5BMWMwMG...</td>\n",
       "      <td>The Godfather: Part II</td>\n",
       "      <td>1974</td>\n",
       "      <td>A</td>\n",
       "      <td>202 min</td>\n",
       "      <td>Crime, Drama</td>\n",
       "      <td>9.0</td>\n",
       "      <td>The early life and career of Vito Corleone in ...</td>\n",
       "      <td>90.0</td>\n",
       "      <td>Francis Ford Coppola</td>\n",
       "      <td>Al Pacino</td>\n",
       "      <td>Robert De Niro</td>\n",
       "      <td>Robert Duvall</td>\n",
       "      <td>Diane Keaton</td>\n",
       "      <td>1129952</td>\n",
       "      <td>57,300,000</td>\n",
       "    </tr>\n",
       "    <tr>\n",
       "      <th>4</th>\n",
       "      <td>https://m.media-amazon.com/images/M/MV5BMWU4N2...</td>\n",
       "      <td>12 Angry Men</td>\n",
       "      <td>1957</td>\n",
       "      <td>U</td>\n",
       "      <td>96 min</td>\n",
       "      <td>Crime, Drama</td>\n",
       "      <td>9.0</td>\n",
       "      <td>A jury holdout attempts to prevent a miscarria...</td>\n",
       "      <td>96.0</td>\n",
       "      <td>Sidney Lumet</td>\n",
       "      <td>Henry Fonda</td>\n",
       "      <td>Lee J. Cobb</td>\n",
       "      <td>Martin Balsam</td>\n",
       "      <td>John Fiedler</td>\n",
       "      <td>689845</td>\n",
       "      <td>4,360,000</td>\n",
       "    </tr>\n",
       "    <tr>\n",
       "      <th>...</th>\n",
       "      <td>...</td>\n",
       "      <td>...</td>\n",
       "      <td>...</td>\n",
       "      <td>...</td>\n",
       "      <td>...</td>\n",
       "      <td>...</td>\n",
       "      <td>...</td>\n",
       "      <td>...</td>\n",
       "      <td>...</td>\n",
       "      <td>...</td>\n",
       "      <td>...</td>\n",
       "      <td>...</td>\n",
       "      <td>...</td>\n",
       "      <td>...</td>\n",
       "      <td>...</td>\n",
       "      <td>...</td>\n",
       "    </tr>\n",
       "    <tr>\n",
       "      <th>995</th>\n",
       "      <td>https://m.media-amazon.com/images/M/MV5BNGEwMT...</td>\n",
       "      <td>Breakfast at Tiffany's</td>\n",
       "      <td>1961</td>\n",
       "      <td>A</td>\n",
       "      <td>115 min</td>\n",
       "      <td>Comedy, Drama, Romance</td>\n",
       "      <td>7.6</td>\n",
       "      <td>A young New York socialite becomes interested ...</td>\n",
       "      <td>76.0</td>\n",
       "      <td>Blake Edwards</td>\n",
       "      <td>Audrey Hepburn</td>\n",
       "      <td>George Peppard</td>\n",
       "      <td>Patricia Neal</td>\n",
       "      <td>Buddy Ebsen</td>\n",
       "      <td>166544</td>\n",
       "      <td>NaN</td>\n",
       "    </tr>\n",
       "    <tr>\n",
       "      <th>996</th>\n",
       "      <td>https://m.media-amazon.com/images/M/MV5BODk3Yj...</td>\n",
       "      <td>Giant</td>\n",
       "      <td>1956</td>\n",
       "      <td>G</td>\n",
       "      <td>201 min</td>\n",
       "      <td>Drama, Western</td>\n",
       "      <td>7.6</td>\n",
       "      <td>Sprawling epic covering the life of a Texas ca...</td>\n",
       "      <td>84.0</td>\n",
       "      <td>George Stevens</td>\n",
       "      <td>Elizabeth Taylor</td>\n",
       "      <td>Rock Hudson</td>\n",
       "      <td>James Dean</td>\n",
       "      <td>Carroll Baker</td>\n",
       "      <td>34075</td>\n",
       "      <td>NaN</td>\n",
       "    </tr>\n",
       "    <tr>\n",
       "      <th>997</th>\n",
       "      <td>https://m.media-amazon.com/images/M/MV5BM2U3Yz...</td>\n",
       "      <td>From Here to Eternity</td>\n",
       "      <td>1953</td>\n",
       "      <td>Passed</td>\n",
       "      <td>118 min</td>\n",
       "      <td>Drama, Romance, War</td>\n",
       "      <td>7.6</td>\n",
       "      <td>In Hawaii in 1941, a private is cruelly punish...</td>\n",
       "      <td>85.0</td>\n",
       "      <td>Fred Zinnemann</td>\n",
       "      <td>Burt Lancaster</td>\n",
       "      <td>Montgomery Clift</td>\n",
       "      <td>Deborah Kerr</td>\n",
       "      <td>Donna Reed</td>\n",
       "      <td>43374</td>\n",
       "      <td>30,500,000</td>\n",
       "    </tr>\n",
       "    <tr>\n",
       "      <th>998</th>\n",
       "      <td>https://m.media-amazon.com/images/M/MV5BZTBmMj...</td>\n",
       "      <td>Lifeboat</td>\n",
       "      <td>1944</td>\n",
       "      <td>NaN</td>\n",
       "      <td>97 min</td>\n",
       "      <td>Drama, War</td>\n",
       "      <td>7.6</td>\n",
       "      <td>Several survivors of a torpedoed merchant ship...</td>\n",
       "      <td>78.0</td>\n",
       "      <td>Alfred Hitchcock</td>\n",
       "      <td>Tallulah Bankhead</td>\n",
       "      <td>John Hodiak</td>\n",
       "      <td>Walter Slezak</td>\n",
       "      <td>William Bendix</td>\n",
       "      <td>26471</td>\n",
       "      <td>NaN</td>\n",
       "    </tr>\n",
       "    <tr>\n",
       "      <th>999</th>\n",
       "      <td>https://m.media-amazon.com/images/M/MV5BMTY5OD...</td>\n",
       "      <td>The 39 Steps</td>\n",
       "      <td>1935</td>\n",
       "      <td>NaN</td>\n",
       "      <td>86 min</td>\n",
       "      <td>Crime, Mystery, Thriller</td>\n",
       "      <td>7.6</td>\n",
       "      <td>A man in London tries to help a counter-espion...</td>\n",
       "      <td>93.0</td>\n",
       "      <td>Alfred Hitchcock</td>\n",
       "      <td>Robert Donat</td>\n",
       "      <td>Madeleine Carroll</td>\n",
       "      <td>Lucie Mannheim</td>\n",
       "      <td>Godfrey Tearle</td>\n",
       "      <td>51853</td>\n",
       "      <td>NaN</td>\n",
       "    </tr>\n",
       "  </tbody>\n",
       "</table>\n",
       "<p>1000 rows × 16 columns</p>\n",
       "</div>"
      ],
      "text/plain": [
       "                                           Poster_Link  \\\n",
       "0    https://m.media-amazon.com/images/M/MV5BMDFkYT...   \n",
       "1    https://m.media-amazon.com/images/M/MV5BM2MyNj...   \n",
       "2    https://m.media-amazon.com/images/M/MV5BMTMxNT...   \n",
       "3    https://m.media-amazon.com/images/M/MV5BMWMwMG...   \n",
       "4    https://m.media-amazon.com/images/M/MV5BMWU4N2...   \n",
       "..                                                 ...   \n",
       "995  https://m.media-amazon.com/images/M/MV5BNGEwMT...   \n",
       "996  https://m.media-amazon.com/images/M/MV5BODk3Yj...   \n",
       "997  https://m.media-amazon.com/images/M/MV5BM2U3Yz...   \n",
       "998  https://m.media-amazon.com/images/M/MV5BZTBmMj...   \n",
       "999  https://m.media-amazon.com/images/M/MV5BMTY5OD...   \n",
       "\n",
       "                 Series_Title Released_Year Certificate  Runtime  \\\n",
       "0    The Shawshank Redemption          1994           A  142 min   \n",
       "1               The Godfather          1972           A  175 min   \n",
       "2             The Dark Knight          2008          UA  152 min   \n",
       "3      The Godfather: Part II          1974           A  202 min   \n",
       "4                12 Angry Men          1957           U   96 min   \n",
       "..                        ...           ...         ...      ...   \n",
       "995    Breakfast at Tiffany's          1961           A  115 min   \n",
       "996                     Giant          1956           G  201 min   \n",
       "997     From Here to Eternity          1953      Passed  118 min   \n",
       "998                  Lifeboat          1944         NaN   97 min   \n",
       "999              The 39 Steps          1935         NaN   86 min   \n",
       "\n",
       "                        Genre  IMDB_Rating  \\\n",
       "0                       Drama          9.3   \n",
       "1                Crime, Drama          9.2   \n",
       "2        Action, Crime, Drama          9.0   \n",
       "3                Crime, Drama          9.0   \n",
       "4                Crime, Drama          9.0   \n",
       "..                        ...          ...   \n",
       "995    Comedy, Drama, Romance          7.6   \n",
       "996            Drama, Western          7.6   \n",
       "997       Drama, Romance, War          7.6   \n",
       "998                Drama, War          7.6   \n",
       "999  Crime, Mystery, Thriller          7.6   \n",
       "\n",
       "                                              Overview  Meta_score  \\\n",
       "0    Two imprisoned men bond over a number of years...        80.0   \n",
       "1    An organized crime dynasty's aging patriarch t...       100.0   \n",
       "2    When the menace known as the Joker wreaks havo...        84.0   \n",
       "3    The early life and career of Vito Corleone in ...        90.0   \n",
       "4    A jury holdout attempts to prevent a miscarria...        96.0   \n",
       "..                                                 ...         ...   \n",
       "995  A young New York socialite becomes interested ...        76.0   \n",
       "996  Sprawling epic covering the life of a Texas ca...        84.0   \n",
       "997  In Hawaii in 1941, a private is cruelly punish...        85.0   \n",
       "998  Several survivors of a torpedoed merchant ship...        78.0   \n",
       "999  A man in London tries to help a counter-espion...        93.0   \n",
       "\n",
       "                 Director              Star1              Star2  \\\n",
       "0          Frank Darabont        Tim Robbins     Morgan Freeman   \n",
       "1    Francis Ford Coppola      Marlon Brando          Al Pacino   \n",
       "2       Christopher Nolan     Christian Bale       Heath Ledger   \n",
       "3    Francis Ford Coppola          Al Pacino     Robert De Niro   \n",
       "4            Sidney Lumet        Henry Fonda        Lee J. Cobb   \n",
       "..                    ...                ...                ...   \n",
       "995         Blake Edwards     Audrey Hepburn     George Peppard   \n",
       "996        George Stevens   Elizabeth Taylor        Rock Hudson   \n",
       "997        Fred Zinnemann     Burt Lancaster   Montgomery Clift   \n",
       "998      Alfred Hitchcock  Tallulah Bankhead        John Hodiak   \n",
       "999      Alfred Hitchcock       Robert Donat  Madeleine Carroll   \n",
       "\n",
       "              Star3           Star4  No_of_Votes        Gross  \n",
       "0        Bob Gunton  William Sadler      2343110   28,341,469  \n",
       "1        James Caan    Diane Keaton      1620367  134,966,411  \n",
       "2     Aaron Eckhart   Michael Caine      2303232  534,858,444  \n",
       "3     Robert Duvall    Diane Keaton      1129952   57,300,000  \n",
       "4     Martin Balsam    John Fiedler       689845    4,360,000  \n",
       "..              ...             ...          ...          ...  \n",
       "995   Patricia Neal     Buddy Ebsen       166544          NaN  \n",
       "996      James Dean   Carroll Baker        34075          NaN  \n",
       "997    Deborah Kerr      Donna Reed        43374   30,500,000  \n",
       "998   Walter Slezak  William Bendix        26471          NaN  \n",
       "999  Lucie Mannheim  Godfrey Tearle        51853          NaN  \n",
       "\n",
       "[1000 rows x 16 columns]"
      ]
     },
     "execution_count": 35,
     "metadata": {},
     "output_type": "execute_result"
    }
   ],
   "source": [
    "df"
   ]
  },
  {
   "cell_type": "code",
   "execution_count": 37,
   "id": "4ce6e260-682e-460a-9f32-74d652c0df2c",
   "metadata": {},
   "outputs": [
    {
     "data": {
      "text/html": [
       "<div>\n",
       "<style scoped>\n",
       "    .dataframe tbody tr th:only-of-type {\n",
       "        vertical-align: middle;\n",
       "    }\n",
       "\n",
       "    .dataframe tbody tr th {\n",
       "        vertical-align: top;\n",
       "    }\n",
       "\n",
       "    .dataframe thead th {\n",
       "        text-align: right;\n",
       "    }\n",
       "</style>\n",
       "<table border=\"1\" class=\"dataframe\">\n",
       "  <thead>\n",
       "    <tr style=\"text-align: right;\">\n",
       "      <th></th>\n",
       "      <th>Series_Title</th>\n",
       "      <th>Released_Year</th>\n",
       "    </tr>\n",
       "  </thead>\n",
       "  <tbody>\n",
       "    <tr>\n",
       "      <th>0</th>\n",
       "      <td>The Shawshank Redemption</td>\n",
       "      <td>1994</td>\n",
       "    </tr>\n",
       "    <tr>\n",
       "      <th>1</th>\n",
       "      <td>The Godfather</td>\n",
       "      <td>1972</td>\n",
       "    </tr>\n",
       "    <tr>\n",
       "      <th>2</th>\n",
       "      <td>The Dark Knight</td>\n",
       "      <td>2008</td>\n",
       "    </tr>\n",
       "    <tr>\n",
       "      <th>3</th>\n",
       "      <td>The Godfather: Part II</td>\n",
       "      <td>1974</td>\n",
       "    </tr>\n",
       "    <tr>\n",
       "      <th>4</th>\n",
       "      <td>12 Angry Men</td>\n",
       "      <td>1957</td>\n",
       "    </tr>\n",
       "    <tr>\n",
       "      <th>...</th>\n",
       "      <td>...</td>\n",
       "      <td>...</td>\n",
       "    </tr>\n",
       "    <tr>\n",
       "      <th>995</th>\n",
       "      <td>Breakfast at Tiffany's</td>\n",
       "      <td>1961</td>\n",
       "    </tr>\n",
       "    <tr>\n",
       "      <th>996</th>\n",
       "      <td>Giant</td>\n",
       "      <td>1956</td>\n",
       "    </tr>\n",
       "    <tr>\n",
       "      <th>997</th>\n",
       "      <td>From Here to Eternity</td>\n",
       "      <td>1953</td>\n",
       "    </tr>\n",
       "    <tr>\n",
       "      <th>998</th>\n",
       "      <td>Lifeboat</td>\n",
       "      <td>1944</td>\n",
       "    </tr>\n",
       "    <tr>\n",
       "      <th>999</th>\n",
       "      <td>The 39 Steps</td>\n",
       "      <td>1935</td>\n",
       "    </tr>\n",
       "  </tbody>\n",
       "</table>\n",
       "<p>1000 rows × 2 columns</p>\n",
       "</div>"
      ],
      "text/plain": [
       "                 Series_Title Released_Year\n",
       "0    The Shawshank Redemption          1994\n",
       "1               The Godfather          1972\n",
       "2             The Dark Knight          2008\n",
       "3      The Godfather: Part II          1974\n",
       "4                12 Angry Men          1957\n",
       "..                        ...           ...\n",
       "995    Breakfast at Tiffany's          1961\n",
       "996                     Giant          1956\n",
       "997     From Here to Eternity          1953\n",
       "998                  Lifeboat          1944\n",
       "999              The 39 Steps          1935\n",
       "\n",
       "[1000 rows x 2 columns]"
      ]
     },
     "execution_count": 37,
     "metadata": {},
     "output_type": "execute_result"
    }
   ],
   "source": [
    "#read only relevant columns\n",
    "pd.read_csv('imdb_top_1000.csv', usecols=[\"Series_Title\",\"Released_Year\"])"
   ]
  },
  {
   "cell_type": "code",
   "execution_count": 39,
   "id": "adafac66-a1a6-4111-a2a7-295f04ac3657",
   "metadata": {},
   "outputs": [
    {
     "data": {
      "text/html": [
       "<div>\n",
       "<style scoped>\n",
       "    .dataframe tbody tr th:only-of-type {\n",
       "        vertical-align: middle;\n",
       "    }\n",
       "\n",
       "    .dataframe tbody tr th {\n",
       "        vertical-align: top;\n",
       "    }\n",
       "\n",
       "    .dataframe thead th {\n",
       "        text-align: right;\n",
       "    }\n",
       "</style>\n",
       "<table border=\"1\" class=\"dataframe\">\n",
       "  <thead>\n",
       "    <tr style=\"text-align: right;\">\n",
       "      <th></th>\n",
       "      <th>https://m.media-amazon.com/images/M/MV5BM2MyNjYxNmUtYTAwNi00MTYxLWJmNWYtYzZlODY3ZTk3OTFlXkEyXkFqcGdeQXVyNzkwMjQ5NzM@._V1_UY98_CR1,0,67,98_AL_.jpg</th>\n",
       "      <th>The Godfather</th>\n",
       "      <th>1972</th>\n",
       "      <th>A</th>\n",
       "      <th>175 min</th>\n",
       "      <th>Crime, Drama</th>\n",
       "      <th>9.2</th>\n",
       "      <th>An organized crime dynasty's aging patriarch transfers control of his clandestine empire to his reluctant son.</th>\n",
       "      <th>100</th>\n",
       "      <th>Francis Ford Coppola</th>\n",
       "      <th>Marlon Brando</th>\n",
       "      <th>Al Pacino</th>\n",
       "      <th>James Caan</th>\n",
       "      <th>Diane Keaton</th>\n",
       "      <th>1620367</th>\n",
       "      <th>134,966,411</th>\n",
       "    </tr>\n",
       "  </thead>\n",
       "  <tbody>\n",
       "    <tr>\n",
       "      <th>0</th>\n",
       "      <td>https://m.media-amazon.com/images/M/MV5BMTMxNT...</td>\n",
       "      <td>The Dark Knight</td>\n",
       "      <td>2008</td>\n",
       "      <td>UA</td>\n",
       "      <td>152 min</td>\n",
       "      <td>Action, Crime, Drama</td>\n",
       "      <td>9.0</td>\n",
       "      <td>When the menace known as the Joker wreaks havo...</td>\n",
       "      <td>84.0</td>\n",
       "      <td>Christopher Nolan</td>\n",
       "      <td>Christian Bale</td>\n",
       "      <td>Heath Ledger</td>\n",
       "      <td>Aaron Eckhart</td>\n",
       "      <td>Michael Caine</td>\n",
       "      <td>2303232</td>\n",
       "      <td>534,858,444</td>\n",
       "    </tr>\n",
       "    <tr>\n",
       "      <th>1</th>\n",
       "      <td>https://m.media-amazon.com/images/M/MV5BMWMwMG...</td>\n",
       "      <td>The Godfather: Part II</td>\n",
       "      <td>1974</td>\n",
       "      <td>A</td>\n",
       "      <td>202 min</td>\n",
       "      <td>Crime, Drama</td>\n",
       "      <td>9.0</td>\n",
       "      <td>The early life and career of Vito Corleone in ...</td>\n",
       "      <td>90.0</td>\n",
       "      <td>Francis Ford Coppola</td>\n",
       "      <td>Al Pacino</td>\n",
       "      <td>Robert De Niro</td>\n",
       "      <td>Robert Duvall</td>\n",
       "      <td>Diane Keaton</td>\n",
       "      <td>1129952</td>\n",
       "      <td>57,300,000</td>\n",
       "    </tr>\n",
       "    <tr>\n",
       "      <th>2</th>\n",
       "      <td>https://m.media-amazon.com/images/M/MV5BMWU4N2...</td>\n",
       "      <td>12 Angry Men</td>\n",
       "      <td>1957</td>\n",
       "      <td>U</td>\n",
       "      <td>96 min</td>\n",
       "      <td>Crime, Drama</td>\n",
       "      <td>9.0</td>\n",
       "      <td>A jury holdout attempts to prevent a miscarria...</td>\n",
       "      <td>96.0</td>\n",
       "      <td>Sidney Lumet</td>\n",
       "      <td>Henry Fonda</td>\n",
       "      <td>Lee J. Cobb</td>\n",
       "      <td>Martin Balsam</td>\n",
       "      <td>John Fiedler</td>\n",
       "      <td>689845</td>\n",
       "      <td>4,360,000</td>\n",
       "    </tr>\n",
       "    <tr>\n",
       "      <th>3</th>\n",
       "      <td>https://m.media-amazon.com/images/M/MV5BNzA5ZD...</td>\n",
       "      <td>The Lord of the Rings: The Return of the King</td>\n",
       "      <td>2003</td>\n",
       "      <td>U</td>\n",
       "      <td>201 min</td>\n",
       "      <td>Action, Adventure, Drama</td>\n",
       "      <td>8.9</td>\n",
       "      <td>Gandalf and Aragorn lead the World of Men agai...</td>\n",
       "      <td>94.0</td>\n",
       "      <td>Peter Jackson</td>\n",
       "      <td>Elijah Wood</td>\n",
       "      <td>Viggo Mortensen</td>\n",
       "      <td>Ian McKellen</td>\n",
       "      <td>Orlando Bloom</td>\n",
       "      <td>1642758</td>\n",
       "      <td>377,845,905</td>\n",
       "    </tr>\n",
       "    <tr>\n",
       "      <th>4</th>\n",
       "      <td>https://m.media-amazon.com/images/M/MV5BNGNhMD...</td>\n",
       "      <td>Pulp Fiction</td>\n",
       "      <td>1994</td>\n",
       "      <td>A</td>\n",
       "      <td>154 min</td>\n",
       "      <td>Crime, Drama</td>\n",
       "      <td>8.9</td>\n",
       "      <td>The lives of two mob hitmen, a boxer, a gangst...</td>\n",
       "      <td>94.0</td>\n",
       "      <td>Quentin Tarantino</td>\n",
       "      <td>John Travolta</td>\n",
       "      <td>Uma Thurman</td>\n",
       "      <td>Samuel L. Jackson</td>\n",
       "      <td>Bruce Willis</td>\n",
       "      <td>1826188</td>\n",
       "      <td>107,928,762</td>\n",
       "    </tr>\n",
       "    <tr>\n",
       "      <th>...</th>\n",
       "      <td>...</td>\n",
       "      <td>...</td>\n",
       "      <td>...</td>\n",
       "      <td>...</td>\n",
       "      <td>...</td>\n",
       "      <td>...</td>\n",
       "      <td>...</td>\n",
       "      <td>...</td>\n",
       "      <td>...</td>\n",
       "      <td>...</td>\n",
       "      <td>...</td>\n",
       "      <td>...</td>\n",
       "      <td>...</td>\n",
       "      <td>...</td>\n",
       "      <td>...</td>\n",
       "      <td>...</td>\n",
       "    </tr>\n",
       "    <tr>\n",
       "      <th>993</th>\n",
       "      <td>https://m.media-amazon.com/images/M/MV5BNGEwMT...</td>\n",
       "      <td>Breakfast at Tiffany's</td>\n",
       "      <td>1961</td>\n",
       "      <td>A</td>\n",
       "      <td>115 min</td>\n",
       "      <td>Comedy, Drama, Romance</td>\n",
       "      <td>7.6</td>\n",
       "      <td>A young New York socialite becomes interested ...</td>\n",
       "      <td>76.0</td>\n",
       "      <td>Blake Edwards</td>\n",
       "      <td>Audrey Hepburn</td>\n",
       "      <td>George Peppard</td>\n",
       "      <td>Patricia Neal</td>\n",
       "      <td>Buddy Ebsen</td>\n",
       "      <td>166544</td>\n",
       "      <td>NaN</td>\n",
       "    </tr>\n",
       "    <tr>\n",
       "      <th>994</th>\n",
       "      <td>https://m.media-amazon.com/images/M/MV5BODk3Yj...</td>\n",
       "      <td>Giant</td>\n",
       "      <td>1956</td>\n",
       "      <td>G</td>\n",
       "      <td>201 min</td>\n",
       "      <td>Drama, Western</td>\n",
       "      <td>7.6</td>\n",
       "      <td>Sprawling epic covering the life of a Texas ca...</td>\n",
       "      <td>84.0</td>\n",
       "      <td>George Stevens</td>\n",
       "      <td>Elizabeth Taylor</td>\n",
       "      <td>Rock Hudson</td>\n",
       "      <td>James Dean</td>\n",
       "      <td>Carroll Baker</td>\n",
       "      <td>34075</td>\n",
       "      <td>NaN</td>\n",
       "    </tr>\n",
       "    <tr>\n",
       "      <th>995</th>\n",
       "      <td>https://m.media-amazon.com/images/M/MV5BM2U3Yz...</td>\n",
       "      <td>From Here to Eternity</td>\n",
       "      <td>1953</td>\n",
       "      <td>Passed</td>\n",
       "      <td>118 min</td>\n",
       "      <td>Drama, Romance, War</td>\n",
       "      <td>7.6</td>\n",
       "      <td>In Hawaii in 1941, a private is cruelly punish...</td>\n",
       "      <td>85.0</td>\n",
       "      <td>Fred Zinnemann</td>\n",
       "      <td>Burt Lancaster</td>\n",
       "      <td>Montgomery Clift</td>\n",
       "      <td>Deborah Kerr</td>\n",
       "      <td>Donna Reed</td>\n",
       "      <td>43374</td>\n",
       "      <td>30,500,000</td>\n",
       "    </tr>\n",
       "    <tr>\n",
       "      <th>996</th>\n",
       "      <td>https://m.media-amazon.com/images/M/MV5BZTBmMj...</td>\n",
       "      <td>Lifeboat</td>\n",
       "      <td>1944</td>\n",
       "      <td>NaN</td>\n",
       "      <td>97 min</td>\n",
       "      <td>Drama, War</td>\n",
       "      <td>7.6</td>\n",
       "      <td>Several survivors of a torpedoed merchant ship...</td>\n",
       "      <td>78.0</td>\n",
       "      <td>Alfred Hitchcock</td>\n",
       "      <td>Tallulah Bankhead</td>\n",
       "      <td>John Hodiak</td>\n",
       "      <td>Walter Slezak</td>\n",
       "      <td>William Bendix</td>\n",
       "      <td>26471</td>\n",
       "      <td>NaN</td>\n",
       "    </tr>\n",
       "    <tr>\n",
       "      <th>997</th>\n",
       "      <td>https://m.media-amazon.com/images/M/MV5BMTY5OD...</td>\n",
       "      <td>The 39 Steps</td>\n",
       "      <td>1935</td>\n",
       "      <td>NaN</td>\n",
       "      <td>86 min</td>\n",
       "      <td>Crime, Mystery, Thriller</td>\n",
       "      <td>7.6</td>\n",
       "      <td>A man in London tries to help a counter-espion...</td>\n",
       "      <td>93.0</td>\n",
       "      <td>Alfred Hitchcock</td>\n",
       "      <td>Robert Donat</td>\n",
       "      <td>Madeleine Carroll</td>\n",
       "      <td>Lucie Mannheim</td>\n",
       "      <td>Godfrey Tearle</td>\n",
       "      <td>51853</td>\n",
       "      <td>NaN</td>\n",
       "    </tr>\n",
       "  </tbody>\n",
       "</table>\n",
       "<p>998 rows × 16 columns</p>\n",
       "</div>"
      ],
      "text/plain": [
       "    https://m.media-amazon.com/images/M/MV5BM2MyNjYxNmUtYTAwNi00MTYxLWJmNWYtYzZlODY3ZTk3OTFlXkEyXkFqcGdeQXVyNzkwMjQ5NzM@._V1_UY98_CR1,0,67,98_AL_.jpg  \\\n",
       "0    https://m.media-amazon.com/images/M/MV5BMTMxNT...                                                                                                  \n",
       "1    https://m.media-amazon.com/images/M/MV5BMWMwMG...                                                                                                  \n",
       "2    https://m.media-amazon.com/images/M/MV5BMWU4N2...                                                                                                  \n",
       "3    https://m.media-amazon.com/images/M/MV5BNzA5ZD...                                                                                                  \n",
       "4    https://m.media-amazon.com/images/M/MV5BNGNhMD...                                                                                                  \n",
       "..                                                 ...                                                                                                  \n",
       "993  https://m.media-amazon.com/images/M/MV5BNGEwMT...                                                                                                  \n",
       "994  https://m.media-amazon.com/images/M/MV5BODk3Yj...                                                                                                  \n",
       "995  https://m.media-amazon.com/images/M/MV5BM2U3Yz...                                                                                                  \n",
       "996  https://m.media-amazon.com/images/M/MV5BZTBmMj...                                                                                                  \n",
       "997  https://m.media-amazon.com/images/M/MV5BMTY5OD...                                                                                                  \n",
       "\n",
       "                                     The Godfather  1972       A  175 min  \\\n",
       "0                                  The Dark Knight  2008      UA  152 min   \n",
       "1                           The Godfather: Part II  1974       A  202 min   \n",
       "2                                     12 Angry Men  1957       U   96 min   \n",
       "3    The Lord of the Rings: The Return of the King  2003       U  201 min   \n",
       "4                                     Pulp Fiction  1994       A  154 min   \n",
       "..                                             ...   ...     ...      ...   \n",
       "993                         Breakfast at Tiffany's  1961       A  115 min   \n",
       "994                                          Giant  1956       G  201 min   \n",
       "995                          From Here to Eternity  1953  Passed  118 min   \n",
       "996                                       Lifeboat  1944     NaN   97 min   \n",
       "997                                   The 39 Steps  1935     NaN   86 min   \n",
       "\n",
       "                 Crime, Drama  9.2  \\\n",
       "0        Action, Crime, Drama  9.0   \n",
       "1                Crime, Drama  9.0   \n",
       "2                Crime, Drama  9.0   \n",
       "3    Action, Adventure, Drama  8.9   \n",
       "4                Crime, Drama  8.9   \n",
       "..                        ...  ...   \n",
       "993    Comedy, Drama, Romance  7.6   \n",
       "994            Drama, Western  7.6   \n",
       "995       Drama, Romance, War  7.6   \n",
       "996                Drama, War  7.6   \n",
       "997  Crime, Mystery, Thriller  7.6   \n",
       "\n",
       "    An organized crime dynasty's aging patriarch transfers control of his clandestine empire to his reluctant son.  \\\n",
       "0    When the menace known as the Joker wreaks havo...                                                               \n",
       "1    The early life and career of Vito Corleone in ...                                                               \n",
       "2    A jury holdout attempts to prevent a miscarria...                                                               \n",
       "3    Gandalf and Aragorn lead the World of Men agai...                                                               \n",
       "4    The lives of two mob hitmen, a boxer, a gangst...                                                               \n",
       "..                                                 ...                                                               \n",
       "993  A young New York socialite becomes interested ...                                                               \n",
       "994  Sprawling epic covering the life of a Texas ca...                                                               \n",
       "995  In Hawaii in 1941, a private is cruelly punish...                                                               \n",
       "996  Several survivors of a torpedoed merchant ship...                                                               \n",
       "997  A man in London tries to help a counter-espion...                                                               \n",
       "\n",
       "      100  Francis Ford Coppola      Marlon Brando          Al Pacino  \\\n",
       "0    84.0     Christopher Nolan     Christian Bale       Heath Ledger   \n",
       "1    90.0  Francis Ford Coppola          Al Pacino     Robert De Niro   \n",
       "2    96.0          Sidney Lumet        Henry Fonda        Lee J. Cobb   \n",
       "3    94.0         Peter Jackson        Elijah Wood    Viggo Mortensen   \n",
       "4    94.0     Quentin Tarantino      John Travolta        Uma Thurman   \n",
       "..    ...                   ...                ...                ...   \n",
       "993  76.0         Blake Edwards     Audrey Hepburn     George Peppard   \n",
       "994  84.0        George Stevens   Elizabeth Taylor        Rock Hudson   \n",
       "995  85.0        Fred Zinnemann     Burt Lancaster   Montgomery Clift   \n",
       "996  78.0      Alfred Hitchcock  Tallulah Bankhead        John Hodiak   \n",
       "997  93.0      Alfred Hitchcock       Robert Donat  Madeleine Carroll   \n",
       "\n",
       "            James Caan    Diane Keaton  1620367  134,966,411  \n",
       "0        Aaron Eckhart   Michael Caine  2303232  534,858,444  \n",
       "1        Robert Duvall    Diane Keaton  1129952   57,300,000  \n",
       "2        Martin Balsam    John Fiedler   689845    4,360,000  \n",
       "3         Ian McKellen   Orlando Bloom  1642758  377,845,905  \n",
       "4    Samuel L. Jackson    Bruce Willis  1826188  107,928,762  \n",
       "..                 ...             ...      ...          ...  \n",
       "993      Patricia Neal     Buddy Ebsen   166544          NaN  \n",
       "994         James Dean   Carroll Baker    34075          NaN  \n",
       "995       Deborah Kerr      Donna Reed    43374   30,500,000  \n",
       "996      Walter Slezak  William Bendix    26471          NaN  \n",
       "997     Lucie Mannheim  Godfrey Tearle    51853          NaN  \n",
       "\n",
       "[998 rows x 16 columns]"
      ]
     },
     "execution_count": 39,
     "metadata": {},
     "output_type": "execute_result"
    }
   ],
   "source": [
    "pd.read_csv('imdb_top_1000.csv', skiprows=2) #internal integre indexes are used to skip first two rows"
   ]
  },
  {
   "cell_type": "code",
   "execution_count": null,
   "id": "c2bf7eea-13bb-4ec3-b6b1-c1abdb4cb1f1",
   "metadata": {},
   "outputs": [],
   "source": [
    "#A dataframe is a data structure which has rows and column>> 2d matrix>> 2 dimension\n",
    "#tabular data\n",
    "#In numpy 3d array is made up of 2d array, 2d made of 1d\n",
    "#dataframe (2d) is made up of series(1d)\n",
    "\n",
    "#series in pandas is a column/row in dataframe>>1 dimension,can have any data type"
   ]
  },
  {
   "cell_type": "code",
   "execution_count": 43,
   "id": "47cfa824-2244-4f3f-8481-60ea6160e553",
   "metadata": {},
   "outputs": [
    {
     "data": {
      "text/plain": [
       "pandas.core.frame.DataFrame"
      ]
     },
     "execution_count": 43,
     "metadata": {},
     "output_type": "execute_result"
    }
   ],
   "source": [
    "type(df)"
   ]
  },
  {
   "cell_type": "code",
   "execution_count": 58,
   "id": "8f529be9-ba2e-45d2-bf41-364edad2d132",
   "metadata": {},
   "outputs": [],
   "source": [
    "#Series from a list"
   ]
  },
  {
   "cell_type": "code",
   "execution_count": 71,
   "id": "a016b599-b4bc-4fab-bd94-fe132d675f20",
   "metadata": {},
   "outputs": [
    {
     "data": {
      "text/plain": [
       "list"
      ]
     },
     "execution_count": 71,
     "metadata": {},
     "output_type": "execute_result"
    }
   ],
   "source": [
    "names = [\"Abhi\", \"Vaid\", \"Jyothi\", \"Piyush\", \"Tanya\"]\n",
    "type(names)"
   ]
  },
  {
   "cell_type": "code",
   "execution_count": 75,
   "id": "6496310d-d48c-4f79-9846-d89724271d13",
   "metadata": {},
   "outputs": [],
   "source": [
    "names = pd.Series(names) #convert to a series"
   ]
  },
  {
   "cell_type": "code",
   "execution_count": 77,
   "id": "9c45bb2c-70ef-4729-ba8b-5876bdeed4a3",
   "metadata": {},
   "outputs": [
    {
     "data": {
      "text/plain": [
       "pandas.core.series.Series"
      ]
     },
     "execution_count": 77,
     "metadata": {},
     "output_type": "execute_result"
    }
   ],
   "source": [
    "type(names)"
   ]
  },
  {
   "cell_type": "code",
   "execution_count": 79,
   "id": "3e189de3-1548-4436-b54c-87b51cd5ea59",
   "metadata": {},
   "outputs": [
    {
     "data": {
      "text/plain": [
       "0      Abhi\n",
       "1      Vaid\n",
       "2    Jyothi\n",
       "3    Piyush\n",
       "4     Tanya\n",
       "dtype: object"
      ]
     },
     "execution_count": 79,
     "metadata": {},
     "output_type": "execute_result"
    }
   ],
   "source": [
    "names #0, 1, 2 ... is index used to access elements in memory block"
   ]
  },
  {
   "cell_type": "code",
   "execution_count": 81,
   "id": "b1288f02-9528-4f4e-9c03-bd36a3f227ad",
   "metadata": {},
   "outputs": [
    {
     "data": {
      "text/plain": [
       "0      Abhi\n",
       "1      Vaid\n",
       "2    Jyothi\n",
       "3    Piyush\n",
       "4     Tanya\n",
       "dtype: object"
      ]
     },
     "execution_count": 81,
     "metadata": {},
     "output_type": "execute_result"
    }
   ],
   "source": [
    "#series from tuples\n",
    "t = (\"Abhi\", \"Vaid\", \"Jyothi\", \"Piyush\", \"Tanya\")\n",
    "pd.Series(t)"
   ]
  },
  {
   "cell_type": "code",
   "execution_count": 83,
   "id": "584e75f1-e035-4b2f-a4d5-de405eb930a8",
   "metadata": {},
   "outputs": [
    {
     "data": {
      "text/plain": [
       "Abhi     Excellent\n",
       "Ajay           Avg\n",
       "Tanya    Excellent\n",
       "dtype: object"
      ]
     },
     "execution_count": 83,
     "metadata": {},
     "output_type": "execute_result"
    }
   ],
   "source": [
    "#series from dictionary\n",
    "d = {\n",
    "    \"Abhi\": \"Excellent\",\n",
    "    \"Ajay\": \"Avg\",\n",
    "    \"Tanya\": \"Excellent\"\n",
    "}\n",
    "\n",
    "pd.Series(d)\n",
    "#here the keys of dictionary has become series"
   ]
  },
  {
   "cell_type": "code",
   "execution_count": 85,
   "id": "78c7a535-d9b0-4c16-b0f1-6f1b805806a8",
   "metadata": {},
   "outputs": [
    {
     "ename": "TypeError",
     "evalue": "'set' type is unordered",
     "output_type": "error",
     "traceback": [
      "\u001b[1;31m---------------------------------------------------------------------------\u001b[0m",
      "\u001b[1;31mTypeError\u001b[0m                                 Traceback (most recent call last)",
      "Cell \u001b[1;32mIn[85], line 3\u001b[0m\n\u001b[0;32m      1\u001b[0m \u001b[38;5;66;03m#series from a set\u001b[39;00m\n\u001b[0;32m      2\u001b[0m s \u001b[38;5;241m=\u001b[39m {\u001b[38;5;124m\"\u001b[39m\u001b[38;5;124mAbhi\u001b[39m\u001b[38;5;124m\"\u001b[39m, \u001b[38;5;124m\"\u001b[39m\u001b[38;5;124mVaid\u001b[39m\u001b[38;5;124m\"\u001b[39m, \u001b[38;5;124m\"\u001b[39m\u001b[38;5;124mJyothi\u001b[39m\u001b[38;5;124m\"\u001b[39m, \u001b[38;5;124m\"\u001b[39m\u001b[38;5;124mPiyush\u001b[39m\u001b[38;5;124m\"\u001b[39m, \u001b[38;5;124m\"\u001b[39m\u001b[38;5;124mTanya\u001b[39m\u001b[38;5;124m\"\u001b[39m}\n\u001b[1;32m----> 3\u001b[0m pd\u001b[38;5;241m.\u001b[39mSeries(s)\n",
      "File \u001b[1;32m~\\anaconda3\\Lib\\site-packages\\pandas\\core\\series.py:584\u001b[0m, in \u001b[0;36mSeries.__init__\u001b[1;34m(self, data, index, dtype, name, copy, fastpath)\u001b[0m\n\u001b[0;32m    582\u001b[0m         data \u001b[38;5;241m=\u001b[39m data\u001b[38;5;241m.\u001b[39mcopy()\n\u001b[0;32m    583\u001b[0m \u001b[38;5;28;01melse\u001b[39;00m:\n\u001b[1;32m--> 584\u001b[0m     data \u001b[38;5;241m=\u001b[39m sanitize_array(data, index, dtype, copy)\n\u001b[0;32m    586\u001b[0m     manager \u001b[38;5;241m=\u001b[39m _get_option(\u001b[38;5;124m\"\u001b[39m\u001b[38;5;124mmode.data_manager\u001b[39m\u001b[38;5;124m\"\u001b[39m, silent\u001b[38;5;241m=\u001b[39m\u001b[38;5;28;01mTrue\u001b[39;00m)\n\u001b[0;32m    587\u001b[0m     \u001b[38;5;28;01mif\u001b[39;00m manager \u001b[38;5;241m==\u001b[39m \u001b[38;5;124m\"\u001b[39m\u001b[38;5;124mblock\u001b[39m\u001b[38;5;124m\"\u001b[39m:\n",
      "File \u001b[1;32m~\\anaconda3\\Lib\\site-packages\\pandas\\core\\construction.py:642\u001b[0m, in \u001b[0;36msanitize_array\u001b[1;34m(data, index, dtype, copy, allow_2d)\u001b[0m\n\u001b[0;32m    633\u001b[0m     \u001b[38;5;28;01mreturn\u001b[39;00m sanitize_array(\n\u001b[0;32m    634\u001b[0m         data,\n\u001b[0;32m    635\u001b[0m         index\u001b[38;5;241m=\u001b[39mindex,\n\u001b[1;32m   (...)\u001b[0m\n\u001b[0;32m    638\u001b[0m         allow_2d\u001b[38;5;241m=\u001b[39mallow_2d,\n\u001b[0;32m    639\u001b[0m     )\n\u001b[0;32m    641\u001b[0m \u001b[38;5;28;01melse\u001b[39;00m:\n\u001b[1;32m--> 642\u001b[0m     _sanitize_non_ordered(data)\n\u001b[0;32m    643\u001b[0m     \u001b[38;5;66;03m# materialize e.g. generators, convert e.g. tuples, abc.ValueView\u001b[39;00m\n\u001b[0;32m    644\u001b[0m     data \u001b[38;5;241m=\u001b[39m \u001b[38;5;28mlist\u001b[39m(data)\n",
      "File \u001b[1;32m~\\anaconda3\\Lib\\site-packages\\pandas\\core\\construction.py:693\u001b[0m, in \u001b[0;36m_sanitize_non_ordered\u001b[1;34m(data)\u001b[0m\n\u001b[0;32m    689\u001b[0m \u001b[38;5;250m\u001b[39m\u001b[38;5;124;03m\"\"\"\u001b[39;00m\n\u001b[0;32m    690\u001b[0m \u001b[38;5;124;03mRaise only for unordered sets, e.g., not for dict_keys\u001b[39;00m\n\u001b[0;32m    691\u001b[0m \u001b[38;5;124;03m\"\"\"\u001b[39;00m\n\u001b[0;32m    692\u001b[0m \u001b[38;5;28;01mif\u001b[39;00m \u001b[38;5;28misinstance\u001b[39m(data, (\u001b[38;5;28mset\u001b[39m, \u001b[38;5;28mfrozenset\u001b[39m)):\n\u001b[1;32m--> 693\u001b[0m     \u001b[38;5;28;01mraise\u001b[39;00m \u001b[38;5;167;01mTypeError\u001b[39;00m(\u001b[38;5;124mf\u001b[39m\u001b[38;5;124m\"\u001b[39m\u001b[38;5;124m'\u001b[39m\u001b[38;5;132;01m{\u001b[39;00m\u001b[38;5;28mtype\u001b[39m(data)\u001b[38;5;241m.\u001b[39m\u001b[38;5;18m__name__\u001b[39m\u001b[38;5;132;01m}\u001b[39;00m\u001b[38;5;124m'\u001b[39m\u001b[38;5;124m type is unordered\u001b[39m\u001b[38;5;124m\"\u001b[39m)\n",
      "\u001b[1;31mTypeError\u001b[0m: 'set' type is unordered"
     ]
    }
   ],
   "source": [
    "#series from a set >> will throw error as set has no index, compulsory for series\n",
    "s = {\"Abhi\", \"Vaid\", \"Jyothi\", \"Piyush\", \"Tanya\"}\n",
    "pd.Series(s)"
   ]
  },
  {
   "cell_type": "code",
   "execution_count": 91,
   "id": "0ce02596-9968-4359-a9ab-60b1a188a759",
   "metadata": {},
   "outputs": [
    {
     "data": {
      "text/plain": [
       "0    100\n",
       "1     99\n",
       "2     51\n",
       "dtype: int64"
      ]
     },
     "execution_count": 91,
     "metadata": {},
     "output_type": "execute_result"
    }
   ],
   "source": [
    "#series from a homogenous data\n",
    "m = [100, 99, 51]\n",
    "pd.Series(m)"
   ]
  },
  {
   "cell_type": "code",
   "execution_count": 93,
   "id": "95df50cc-ec6f-4473-a2ed-da61c0a15dab",
   "metadata": {},
   "outputs": [
    {
     "data": {
      "text/plain": [
       "Abhi      100\n",
       "Tanya      99\n",
       "Jyothi     51\n",
       "dtype: int64"
      ]
     },
     "execution_count": 93,
     "metadata": {},
     "output_type": "execute_result"
    }
   ],
   "source": [
    "#your own custom index\n",
    "m = [100, 99, 51]\n",
    "name = [\"Abhi\", \"Tanya\", \"Jyothi\"]\n",
    "pd.Series(m, index = name)"
   ]
  },
  {
   "cell_type": "code",
   "execution_count": 95,
   "id": "70824b6b-f08e-4f0c-a9e3-f76e29cd604a",
   "metadata": {},
   "outputs": [
    {
     "data": {
      "text/plain": [
       "Abhi      100\n",
       "Tanya      99\n",
       "Jyothi     51\n",
       "Name: Student marks, dtype: int64"
      ]
     },
     "execution_count": 95,
     "metadata": {},
     "output_type": "execute_result"
    }
   ],
   "source": [
    "#set the name of series\n",
    "m = [100, 99, 51]\n",
    "name = [\"Abhi\", \"Tanya\", \"Jyothi\"]\n",
    "pd.Series(m, index = name, name=\"Student marks\")"
   ]
  },
  {
   "cell_type": "code",
   "execution_count": 99,
   "id": "c40f92fd-ea5c-4c3d-a698-65233d0b3c7f",
   "metadata": {},
   "outputs": [
    {
     "data": {
      "text/plain": [
       "Abhi       100\n",
       "Tanya     99.3\n",
       "Jyothi    51.2\n",
       "Name: Student marks, dtype: object"
      ]
     },
     "execution_count": 99,
     "metadata": {},
     "output_type": "execute_result"
    }
   ],
   "source": [
    "#covert the value of series into srting, while converting to float make sure data is not last\n",
    "m = [100, 99.3, 51.2]\n",
    "name = [\"Abhi\", \"Tanya\", \"Jyothi\"]\n",
    "pd.Series(m, index = name, name=\"Student marks\", dtype='str')"
   ]
  },
  {
   "cell_type": "code",
   "execution_count": 101,
   "id": "f1d686cb-f38d-44bc-9bfc-f4999c1b94b5",
   "metadata": {},
   "outputs": [
    {
     "data": {
      "text/plain": [
       "Abhi      100.0\n",
       "Tanya      99.0\n",
       "Jyothi     51.0\n",
       "Name: Student marks, dtype: float64"
      ]
     },
     "execution_count": 101,
     "metadata": {},
     "output_type": "execute_result"
    }
   ],
   "source": [
    "m = [100, 99, 51]\n",
    "name = [\"Abhi\", \"Tanya\", \"Jyothi\"]\n",
    "pd.Series(m, index = name, name=\"Student marks\", dtype = 'float')"
   ]
  },
  {
   "cell_type": "code",
   "execution_count": 103,
   "id": "3021c672-513a-42fc-9229-2daf8e480337",
   "metadata": {},
   "outputs": [],
   "source": [
    "#attributes of series\n",
    "\n",
    "m = [100, 99, 51]\n",
    "name = [\"Abhi\", \"Tanya\", \"Jyothi\"]\n",
    "s = pd.Series(m, index = name, name=\"Student marks\")"
   ]
  },
  {
   "cell_type": "code",
   "execution_count": 105,
   "id": "b803d7ef-723b-44ae-a4cc-299d0acf1758",
   "metadata": {},
   "outputs": [
    {
     "data": {
      "text/plain": [
       "Abhi      100\n",
       "Tanya      99\n",
       "Jyothi     51\n",
       "Name: Student marks, dtype: int64"
      ]
     },
     "execution_count": 105,
     "metadata": {},
     "output_type": "execute_result"
    }
   ],
   "source": [
    "s"
   ]
  },
  {
   "cell_type": "code",
   "execution_count": 107,
   "id": "f777b7f5-e80b-4635-9948-951d3101362a",
   "metadata": {},
   "outputs": [
    {
     "data": {
      "text/plain": [
       "Index(['Abhi', 'Tanya', 'Jyothi'], dtype='object')"
      ]
     },
     "execution_count": 107,
     "metadata": {},
     "output_type": "execute_result"
    }
   ],
   "source": [
    "#index\n",
    "s.index"
   ]
  },
  {
   "cell_type": "code",
   "execution_count": 109,
   "id": "e409d4bb-0cbe-4479-ad41-e1e47839b5d3",
   "metadata": {},
   "outputs": [
    {
     "data": {
      "text/plain": [
       "array([100,  99,  51], dtype=int64)"
      ]
     },
     "execution_count": 109,
     "metadata": {},
     "output_type": "execute_result"
    }
   ],
   "source": [
    "#values\n",
    "s.values"
   ]
  },
  {
   "cell_type": "code",
   "execution_count": 111,
   "id": "75f0c82c-4535-42f9-b303-58eb62e52c1f",
   "metadata": {},
   "outputs": [
    {
     "data": {
      "text/plain": [
       "(3,)"
      ]
     },
     "execution_count": 111,
     "metadata": {},
     "output_type": "execute_result"
    }
   ],
   "source": [
    "s.shape"
   ]
  },
  {
   "cell_type": "code",
   "execution_count": 113,
   "id": "3fbd10fe-ce3e-4f48-9816-0d3af1576971",
   "metadata": {},
   "outputs": [
    {
     "data": {
      "text/plain": [
       "3"
      ]
     },
     "execution_count": 113,
     "metadata": {},
     "output_type": "execute_result"
    }
   ],
   "source": [
    "len(s)"
   ]
  },
  {
   "cell_type": "code",
   "execution_count": 115,
   "id": "c0ae23a8-931d-46ad-9847-6b5386edde7d",
   "metadata": {},
   "outputs": [
    {
     "data": {
      "text/plain": [
       "dtype('int64')"
      ]
     },
     "execution_count": 115,
     "metadata": {},
     "output_type": "execute_result"
    }
   ],
   "source": [
    "s.dtype"
   ]
  },
  {
   "cell_type": "code",
   "execution_count": 123,
   "id": "07b57881-25f5-4c9e-8986-b2338417c90c",
   "metadata": {},
   "outputs": [
    {
     "data": {
      "text/plain": [
       "True"
      ]
     },
     "execution_count": 123,
     "metadata": {},
     "output_type": "execute_result"
    }
   ],
   "source": [
    "#if series is empty\n",
    "a = pd.Series([])\n",
    "a.empty"
   ]
  },
  {
   "cell_type": "code",
   "execution_count": 131,
   "id": "fc517483-83ad-4a41-937d-6339f70ec99f",
   "metadata": {},
   "outputs": [],
   "source": [
    "#to check if a series has null value\n",
    "m = [100, 99, 51, np.NaN]\n",
    "name = [\"Abhi\", \"Tanya\", \"Jyothi\", \"Kiran\"]\n",
    "s = pd.Series(m, index = name, name=\"Student marks\")"
   ]
  },
  {
   "cell_type": "code",
   "execution_count": 135,
   "id": "3d8c51a8-99b3-4642-aef0-f7cf96663599",
   "metadata": {},
   "outputs": [
    {
     "data": {
      "text/plain": [
       "Abhi      100.0\n",
       "Tanya      99.0\n",
       "Jyothi     51.0\n",
       "Kiran       NaN\n",
       "Name: Student marks, dtype: float64"
      ]
     },
     "execution_count": 135,
     "metadata": {},
     "output_type": "execute_result"
    }
   ],
   "source": [
    "s"
   ]
  },
  {
   "cell_type": "code",
   "execution_count": 139,
   "id": "d74e0c2d-8c64-4ffd-adec-6cf2ca365af9",
   "metadata": {},
   "outputs": [
    {
     "data": {
      "text/plain": [
       "True"
      ]
     },
     "execution_count": 139,
     "metadata": {},
     "output_type": "execute_result"
    }
   ],
   "source": [
    "s.is_unique"
   ]
  },
  {
   "cell_type": "code",
   "execution_count": null,
   "id": "2fcd2ba3-5c7c-4221-b7fd-14574ce83677",
   "metadata": {},
   "outputs": [],
   "source": [
    "#methods associated with series"
   ]
  },
  {
   "cell_type": "code",
   "execution_count": 141,
   "id": "409d50c8-bb3f-4193-9d71-a8e8aa27688a",
   "metadata": {},
   "outputs": [
    {
     "data": {
      "text/plain": [
       "Abhi      False\n",
       "Tanya     False\n",
       "Jyothi    False\n",
       "Kiran      True\n",
       "Name: Student marks, dtype: bool"
      ]
     },
     "execution_count": 141,
     "metadata": {},
     "output_type": "execute_result"
    }
   ],
   "source": [
    "s.isnull()"
   ]
  },
  {
   "cell_type": "code",
   "execution_count": 144,
   "id": "b35affbb-788c-44bf-8a15-74bf88014f23",
   "metadata": {},
   "outputs": [
    {
     "data": {
      "text/plain": [
       "array([100.,  99.,  51.,  nan])"
      ]
     },
     "execution_count": 144,
     "metadata": {},
     "output_type": "execute_result"
    }
   ],
   "source": [
    "s.unique()"
   ]
  },
  {
   "cell_type": "code",
   "execution_count": 150,
   "id": "47ddf555-8dbd-4140-92e4-e2d24b503504",
   "metadata": {},
   "outputs": [
    {
     "data": {
      "text/plain": [
       "Student marks\n",
       "100.0    1\n",
       "99.0     1\n",
       "51.0     1\n",
       "Name: count, dtype: int64"
      ]
     },
     "execution_count": 150,
     "metadata": {},
     "output_type": "execute_result"
    }
   ],
   "source": [
    "s.value_counts()"
   ]
  },
  {
   "cell_type": "code",
   "execution_count": 152,
   "id": "cb1b7322-eb40-42e9-a551-6880aa0475d2",
   "metadata": {},
   "outputs": [
    {
     "data": {
      "text/plain": [
       "3"
      ]
     },
     "execution_count": 152,
     "metadata": {},
     "output_type": "execute_result"
    }
   ],
   "source": [
    "len(s.value_counts()) #value counts will not consider nan"
   ]
  },
  {
   "cell_type": "code",
   "execution_count": 158,
   "id": "0ce99ee6-0a0c-40cf-adce-664b6e472474",
   "metadata": {},
   "outputs": [],
   "source": [
    "#accessing a column from dataframe to make series\n",
    "m = df['Series_Title']"
   ]
  },
  {
   "cell_type": "code",
   "execution_count": 160,
   "id": "6296be24-879f-4c88-a9c2-4f93a40f8831",
   "metadata": {},
   "outputs": [
    {
     "data": {
      "text/plain": [
       "0      The Shawshank Redemption\n",
       "1                 The Godfather\n",
       "2               The Dark Knight\n",
       "3        The Godfather: Part II\n",
       "4                  12 Angry Men\n",
       "                 ...           \n",
       "995      Breakfast at Tiffany's\n",
       "996                       Giant\n",
       "997       From Here to Eternity\n",
       "998                    Lifeboat\n",
       "999                The 39 Steps\n",
       "Name: Series_Title, Length: 1000, dtype: object"
      ]
     },
     "execution_count": 160,
     "metadata": {},
     "output_type": "execute_result"
    }
   ],
   "source": [
    "m"
   ]
  },
  {
   "cell_type": "code",
   "execution_count": 162,
   "id": "65bc7744-c255-4daf-a472-99ad7c97faa6",
   "metadata": {},
   "outputs": [
    {
     "data": {
      "text/plain": [
       "0      The Shawshank Redemption\n",
       "1                 The Godfather\n",
       "2               The Dark Knight\n",
       "3        The Godfather: Part II\n",
       "4                  12 Angry Men\n",
       "                 ...           \n",
       "995      Breakfast at Tiffany's\n",
       "996                       Giant\n",
       "997       From Here to Eternity\n",
       "998                    Lifeboat\n",
       "999                The 39 Steps\n",
       "Name: Series_Title, Length: 1000, dtype: object"
      ]
     },
     "execution_count": 162,
     "metadata": {},
     "output_type": "execute_result"
    }
   ],
   "source": [
    "#series access through indexing and slicing\n",
    "m"
   ]
  },
  {
   "cell_type": "code",
   "execution_count": 164,
   "id": "3a1216a7-f2f0-4602-9424-4d01160d91f1",
   "metadata": {},
   "outputs": [
    {
     "data": {
      "text/plain": [
       "'The Shawshank Redemption'"
      ]
     },
     "execution_count": 164,
     "metadata": {},
     "output_type": "execute_result"
    }
   ],
   "source": [
    "m[0]"
   ]
  },
  {
   "cell_type": "code",
   "execution_count": 166,
   "id": "a3bacd6e-fdaa-4046-8d0c-eba77bea0ea6",
   "metadata": {},
   "outputs": [
    {
     "data": {
      "text/plain": [
       "'Lifeboat'"
      ]
     },
     "execution_count": 166,
     "metadata": {},
     "output_type": "execute_result"
    }
   ],
   "source": [
    "m[998]"
   ]
  },
  {
   "cell_type": "code",
   "execution_count": 170,
   "id": "11fe1868-9311-43ee-8279-9d06722d1f8a",
   "metadata": {},
   "outputs": [
    {
     "ename": "KeyError",
     "evalue": "-1",
     "output_type": "error",
     "traceback": [
      "\u001b[1;31m---------------------------------------------------------------------------\u001b[0m",
      "\u001b[1;31mValueError\u001b[0m                                Traceback (most recent call last)",
      "File \u001b[1;32m~\\anaconda3\\Lib\\site-packages\\pandas\\core\\indexes\\range.py:413\u001b[0m, in \u001b[0;36mRangeIndex.get_loc\u001b[1;34m(self, key)\u001b[0m\n\u001b[0;32m    412\u001b[0m \u001b[38;5;28;01mtry\u001b[39;00m:\n\u001b[1;32m--> 413\u001b[0m     \u001b[38;5;28;01mreturn\u001b[39;00m \u001b[38;5;28mself\u001b[39m\u001b[38;5;241m.\u001b[39m_range\u001b[38;5;241m.\u001b[39mindex(new_key)\n\u001b[0;32m    414\u001b[0m \u001b[38;5;28;01mexcept\u001b[39;00m \u001b[38;5;167;01mValueError\u001b[39;00m \u001b[38;5;28;01mas\u001b[39;00m err:\n",
      "\u001b[1;31mValueError\u001b[0m: -1 is not in range",
      "\nThe above exception was the direct cause of the following exception:\n",
      "\u001b[1;31mKeyError\u001b[0m                                  Traceback (most recent call last)",
      "Cell \u001b[1;32mIn[170], line 1\u001b[0m\n\u001b[1;32m----> 1\u001b[0m m[\u001b[38;5;241m-\u001b[39m\u001b[38;5;241m1\u001b[39m]\n",
      "File \u001b[1;32m~\\anaconda3\\Lib\\site-packages\\pandas\\core\\series.py:1121\u001b[0m, in \u001b[0;36mSeries.__getitem__\u001b[1;34m(self, key)\u001b[0m\n\u001b[0;32m   1118\u001b[0m     \u001b[38;5;28;01mreturn\u001b[39;00m \u001b[38;5;28mself\u001b[39m\u001b[38;5;241m.\u001b[39m_values[key]\n\u001b[0;32m   1120\u001b[0m \u001b[38;5;28;01melif\u001b[39;00m key_is_scalar:\n\u001b[1;32m-> 1121\u001b[0m     \u001b[38;5;28;01mreturn\u001b[39;00m \u001b[38;5;28mself\u001b[39m\u001b[38;5;241m.\u001b[39m_get_value(key)\n\u001b[0;32m   1123\u001b[0m \u001b[38;5;66;03m# Convert generator to list before going through hashable part\u001b[39;00m\n\u001b[0;32m   1124\u001b[0m \u001b[38;5;66;03m# (We will iterate through the generator there to check for slices)\u001b[39;00m\n\u001b[0;32m   1125\u001b[0m \u001b[38;5;28;01mif\u001b[39;00m is_iterator(key):\n",
      "File \u001b[1;32m~\\anaconda3\\Lib\\site-packages\\pandas\\core\\series.py:1237\u001b[0m, in \u001b[0;36mSeries._get_value\u001b[1;34m(self, label, takeable)\u001b[0m\n\u001b[0;32m   1234\u001b[0m     \u001b[38;5;28;01mreturn\u001b[39;00m \u001b[38;5;28mself\u001b[39m\u001b[38;5;241m.\u001b[39m_values[label]\n\u001b[0;32m   1236\u001b[0m \u001b[38;5;66;03m# Similar to Index.get_value, but we do not fall back to positional\u001b[39;00m\n\u001b[1;32m-> 1237\u001b[0m loc \u001b[38;5;241m=\u001b[39m \u001b[38;5;28mself\u001b[39m\u001b[38;5;241m.\u001b[39mindex\u001b[38;5;241m.\u001b[39mget_loc(label)\n\u001b[0;32m   1239\u001b[0m \u001b[38;5;28;01mif\u001b[39;00m is_integer(loc):\n\u001b[0;32m   1240\u001b[0m     \u001b[38;5;28;01mreturn\u001b[39;00m \u001b[38;5;28mself\u001b[39m\u001b[38;5;241m.\u001b[39m_values[loc]\n",
      "File \u001b[1;32m~\\anaconda3\\Lib\\site-packages\\pandas\\core\\indexes\\range.py:415\u001b[0m, in \u001b[0;36mRangeIndex.get_loc\u001b[1;34m(self, key)\u001b[0m\n\u001b[0;32m    413\u001b[0m         \u001b[38;5;28;01mreturn\u001b[39;00m \u001b[38;5;28mself\u001b[39m\u001b[38;5;241m.\u001b[39m_range\u001b[38;5;241m.\u001b[39mindex(new_key)\n\u001b[0;32m    414\u001b[0m     \u001b[38;5;28;01mexcept\u001b[39;00m \u001b[38;5;167;01mValueError\u001b[39;00m \u001b[38;5;28;01mas\u001b[39;00m err:\n\u001b[1;32m--> 415\u001b[0m         \u001b[38;5;28;01mraise\u001b[39;00m \u001b[38;5;167;01mKeyError\u001b[39;00m(key) \u001b[38;5;28;01mfrom\u001b[39;00m \u001b[38;5;21;01merr\u001b[39;00m\n\u001b[0;32m    416\u001b[0m \u001b[38;5;28;01mif\u001b[39;00m \u001b[38;5;28misinstance\u001b[39m(key, Hashable):\n\u001b[0;32m    417\u001b[0m     \u001b[38;5;28;01mraise\u001b[39;00m \u001b[38;5;167;01mKeyError\u001b[39;00m(key)\n",
      "\u001b[1;31mKeyError\u001b[0m: -1"
     ]
    }
   ],
   "source": [
    "#cant access with negative indexing\n",
    "m[-1]"
   ]
  },
  {
   "cell_type": "code",
   "execution_count": 189,
   "id": "011d1902-410e-4d12-90a9-aa59e818fb2f",
   "metadata": {},
   "outputs": [
    {
     "name": "stderr",
     "output_type": "stream",
     "text": [
      "C:\\Users\\ajayk\\AppData\\Local\\Temp\\ipykernel_20736\\2043369838.py:1: FutureWarning: Series.__getitem__ treating keys as positions is deprecated. In a future version, integer keys will always be treated as labels (consistent with DataFrame behavior). To access a value by position, use `ser.iloc[pos]`\n",
      "  s[-2] #observation, when string is the index of a series then you can access directly using -1\n"
     ]
    },
    {
     "data": {
      "text/plain": [
       "51.0"
      ]
     },
     "execution_count": 189,
     "metadata": {},
     "output_type": "execute_result"
    }
   ],
   "source": [
    "s[-2]  "
   ]
  },
  {
   "cell_type": "code",
   "execution_count": 191,
   "id": "a601c4a5-acd1-4aca-8625-4224b1a95762",
   "metadata": {},
   "outputs": [],
   "source": [
    "#observation,\n",
    "#negative indexing works when string is the index of a series\n",
    "#but if you want to make negative indexing work for any series you have to work with slicing"
   ]
  },
  {
   "cell_type": "code",
   "execution_count": 195,
   "id": "a26fa2cf-48d2-4827-9eba-07afefc0da61",
   "metadata": {},
   "outputs": [],
   "source": [
    "#slicing"
   ]
  },
  {
   "cell_type": "code",
   "execution_count": 201,
   "id": "36605cc2-f565-4649-b562-482eb831f047",
   "metadata": {},
   "outputs": [
    {
     "data": {
      "text/plain": [
       "0                         The Shawshank Redemption\n",
       "1                                    The Godfather\n",
       "2                                  The Dark Knight\n",
       "3                           The Godfather: Part II\n",
       "4                                     12 Angry Men\n",
       "5    The Lord of the Rings: The Return of the King\n",
       "6                                     Pulp Fiction\n",
       "7                                 Schindler's List\n",
       "8                                        Inception\n",
       "9                                       Fight Club\n",
       "Name: Series_Title, dtype: object"
      ]
     },
     "execution_count": 201,
     "metadata": {},
     "output_type": "execute_result"
    }
   ],
   "source": [
    "m[0:10]"
   ]
  },
  {
   "cell_type": "code",
   "execution_count": 203,
   "id": "4ed9fd60-36d1-4501-a869-22bf8cd057b5",
   "metadata": {},
   "outputs": [
    {
     "data": {
      "text/plain": [
       "990              Giù la testa\n",
       "991            Kelly's Heroes\n",
       "992           The Jungle Book\n",
       "993                    Blowup\n",
       "994        A Hard Day's Night\n",
       "995    Breakfast at Tiffany's\n",
       "996                     Giant\n",
       "997     From Here to Eternity\n",
       "998                  Lifeboat\n",
       "999              The 39 Steps\n",
       "Name: Series_Title, dtype: object"
      ]
     },
     "execution_count": 203,
     "metadata": {},
     "output_type": "execute_result"
    }
   ],
   "source": [
    "m[-10:]"
   ]
  },
  {
   "cell_type": "code",
   "execution_count": 205,
   "id": "491a6e5f-3b8a-4da1-a7aa-d983349d21b0",
   "metadata": {},
   "outputs": [
    {
     "data": {
      "text/plain": [
       "0      The Shawshank Redemption\n",
       "2               The Dark Knight\n",
       "4                  12 Angry Men\n",
       "6                  Pulp Fiction\n",
       "8                     Inception\n",
       "                 ...           \n",
       "990                Giù la testa\n",
       "992             The Jungle Book\n",
       "994          A Hard Day's Night\n",
       "996                       Giant\n",
       "998                    Lifeboat\n",
       "Name: Series_Title, Length: 500, dtype: object"
      ]
     },
     "execution_count": 205,
     "metadata": {},
     "output_type": "execute_result"
    }
   ],
   "source": [
    "#step\n",
    "m[::2]"
   ]
  },
  {
   "cell_type": "code",
   "execution_count": 207,
   "id": "b7f1b364-ea9b-4085-b397-df789e0daa65",
   "metadata": {},
   "outputs": [
    {
     "data": {
      "text/plain": [
       "0    The Shawshank Redemption\n",
       "2             The Dark Knight\n",
       "3      The Godfather: Part II\n",
       "Name: Series_Title, dtype: object"
      ]
     },
     "execution_count": 207,
     "metadata": {},
     "output_type": "execute_result"
    }
   ],
   "source": [
    "#fancy indexing\n",
    "m[[0, 2, 3]]"
   ]
  },
  {
   "cell_type": "code",
   "execution_count": 209,
   "id": "b754af97-4aa6-4f2b-9d27-d91b1766b384",
   "metadata": {},
   "outputs": [],
   "source": [
    "#loc and iloc\n",
    "#iloc>> i means implicit, integer, internal indexing\n",
    "#loc means explicit non integer name"
   ]
  },
  {
   "cell_type": "code",
   "execution_count": 217,
   "id": "e6506e97-8e13-431a-9c3f-93558609c43a",
   "metadata": {},
   "outputs": [
    {
     "data": {
      "text/plain": [
       "0                         The Shawshank Redemption\n",
       "1                                    The Godfather\n",
       "2                                  The Dark Knight\n",
       "3                           The Godfather: Part II\n",
       "4                                     12 Angry Men\n",
       "5    The Lord of the Rings: The Return of the King\n",
       "6                                     Pulp Fiction\n",
       "7                                 Schindler's List\n",
       "8                                        Inception\n",
       "9                                       Fight Club\n",
       "Name: Series_Title, dtype: object"
      ]
     },
     "execution_count": 217,
     "metadata": {},
     "output_type": "execute_result"
    }
   ],
   "source": [
    "m.il[0:10]"
   ]
  },
  {
   "cell_type": "code",
   "execution_count": 221,
   "id": "d5301185-adeb-4331-a683-10d958f96d93",
   "metadata": {},
   "outputs": [
    {
     "data": {
      "text/plain": [
       "0                         The Shawshank Redemption\n",
       "1                                    The Godfather\n",
       "2                                  The Dark Knight\n",
       "3                           The Godfather: Part II\n",
       "4                                     12 Angry Men\n",
       "5    The Lord of the Rings: The Return of the King\n",
       "6                                     Pulp Fiction\n",
       "7                                 Schindler's List\n",
       "8                                        Inception\n",
       "Name: Series_Title, dtype: object"
      ]
     },
     "execution_count": 221,
     "metadata": {},
     "output_type": "execute_result"
    }
   ],
   "source": [
    "m.loc[0:8] #0th name to 8th name"
   ]
  },
  {
   "cell_type": "code",
   "execution_count": 251,
   "id": "c6cb1684-4bb6-4450-a52c-38fa0071758a",
   "metadata": {},
   "outputs": [
    {
     "name": "stderr",
     "output_type": "stream",
     "text": [
      "C:\\Users\\ajayk\\AppData\\Local\\Temp\\ipykernel_20736\\1703681828.py:2: SettingWithCopyWarning: \n",
      "A value is trying to be set on a copy of a slice from a DataFrame\n",
      "\n",
      "See the caveats in the documentation: https://pandas.pydata.org/pandas-docs/stable/user_guide/indexing.html#returning-a-view-versus-a-copy\n",
      "  m[0] = \"ulala\"\n"
     ]
    }
   ],
   "source": [
    "#editing the series\n",
    "m[0] = \"ulala\""
   ]
  },
  {
   "cell_type": "code",
   "execution_count": 253,
   "id": "95dedac3-c457-4b0a-877a-a142b317454d",
   "metadata": {},
   "outputs": [
    {
     "data": {
      "text/plain": [
       "0                       ulala\n",
       "1               The Godfather\n",
       "2             The Dark Knight\n",
       "3      The Godfather: Part II\n",
       "4                12 Angry Men\n",
       "                ...          \n",
       "995    Breakfast at Tiffany's\n",
       "996                     Giant\n",
       "997     From Here to Eternity\n",
       "998                  Lifeboat\n",
       "999              The 39 Steps\n",
       "Name: Series_Title, Length: 1000, dtype: object"
      ]
     },
     "execution_count": 253,
     "metadata": {},
     "output_type": "execute_result"
    }
   ],
   "source": [
    "m"
   ]
  },
  {
   "cell_type": "code",
   "execution_count": 257,
   "id": "ca510eba-097a-4f03-96ba-bc355d69bae2",
   "metadata": {},
   "outputs": [
    {
     "name": "stderr",
     "output_type": "stream",
     "text": [
      "C:\\Users\\ajayk\\AppData\\Local\\Temp\\ipykernel_20736\\791285585.py:2: SettingWithCopyWarning: \n",
      "A value is trying to be set on a copy of a slice from a DataFrame\n",
      "\n",
      "See the caveats in the documentation: https://pandas.pydata.org/pandas-docs/stable/user_guide/indexing.html#returning-a-view-versus-a-copy\n",
      "  m[1001] = \"Monjo\"\n"
     ]
    }
   ],
   "source": [
    "#if the index doesnt exit \n",
    "m[1001] = \"Monjo\" #create the new index"
   ]
  },
  {
   "cell_type": "code",
   "execution_count": 259,
   "id": "e6082150-b32a-4f72-8549-ecf86ee167fd",
   "metadata": {},
   "outputs": [
    {
     "data": {
      "text/plain": [
       "0                        ulala\n",
       "1                The Godfather\n",
       "2              The Dark Knight\n",
       "3       The Godfather: Part II\n",
       "4                 12 Angry Men\n",
       "                 ...          \n",
       "996                      Giant\n",
       "997      From Here to Eternity\n",
       "998                   Lifeboat\n",
       "999               The 39 Steps\n",
       "1001                     Monjo\n",
       "Name: Series_Title, Length: 1001, dtype: object"
      ]
     },
     "execution_count": 259,
     "metadata": {},
     "output_type": "execute_result"
    }
   ],
   "source": [
    "m"
   ]
  },
  {
   "cell_type": "code",
   "execution_count": 265,
   "id": "82c81c04-a935-44aa-b4b5-19243d9cb7bd",
   "metadata": {},
   "outputs": [],
   "source": [
    "#editing using slidcing\n",
    "m[0:3] = [\"Monjo\", \"Sonjo\", \"Rongo\"]"
   ]
  },
  {
   "cell_type": "code",
   "execution_count": 267,
   "id": "83359bb6-160b-41c2-b6d3-1f445b1695f5",
   "metadata": {},
   "outputs": [
    {
     "data": {
      "text/plain": [
       "0                        Monjo\n",
       "1                        Sonjo\n",
       "2                        Rongo\n",
       "3       The Godfather: Part II\n",
       "4                 12 Angry Men\n",
       "                 ...          \n",
       "996                      Giant\n",
       "997      From Here to Eternity\n",
       "998                   Lifeboat\n",
       "999               The 39 Steps\n",
       "1001                     Monjo\n",
       "Name: Series_Title, Length: 1001, dtype: object"
      ]
     },
     "execution_count": 267,
     "metadata": {},
     "output_type": "execute_result"
    }
   ],
   "source": [
    "m"
   ]
  },
  {
   "cell_type": "code",
   "execution_count": 271,
   "id": "c1bccbc2-a4bd-4447-8c08-87bd6d3d6f38",
   "metadata": {},
   "outputs": [],
   "source": [
    "#slicing with other functions to edit the sries\n",
    "m[0:10] = list(range(0, 10)) #it will also help you to create custom data you want"
   ]
  },
  {
   "cell_type": "code",
   "execution_count": 275,
   "id": "e21c3f3a-4f83-4be8-a239-af3659d769fe",
   "metadata": {},
   "outputs": [
    {
     "data": {
      "text/plain": [
       "0                                                     0\n",
       "1                                                     1\n",
       "2                                                     2\n",
       "3                                                     3\n",
       "4                                                     4\n",
       "5                                                     5\n",
       "6                                                     6\n",
       "7                                                     7\n",
       "8                                                     8\n",
       "9                                                     9\n",
       "10    The Lord of the Rings: The Fellowship of the Ring\n",
       "Name: Series_Title, dtype: object"
      ]
     },
     "execution_count": 275,
     "metadata": {},
     "output_type": "execute_result"
    }
   ],
   "source": [
    "m[0:11]"
   ]
  },
  {
   "cell_type": "code",
   "execution_count": 279,
   "id": "c566ab80-edcb-4a0e-84b5-7ab0646b4fda",
   "metadata": {},
   "outputs": [],
   "source": [
    "#fancy indexing\n",
    "m[[0, 2, 4]] = [\"Ajay\", \"Bijay\", \"Sanjay\"]"
   ]
  },
  {
   "cell_type": "code",
   "execution_count": 281,
   "id": "f1317b0d-3946-484f-958a-9bf6db05ce09",
   "metadata": {},
   "outputs": [
    {
     "data": {
      "text/plain": [
       "0                        Ajay\n",
       "1                           1\n",
       "2                       Bijay\n",
       "3                           3\n",
       "4                      Sanjay\n",
       "                ...          \n",
       "996                     Giant\n",
       "997     From Here to Eternity\n",
       "998                  Lifeboat\n",
       "999              The 39 Steps\n",
       "1001                    Monjo\n",
       "Name: Series_Title, Length: 1001, dtype: object"
      ]
     },
     "execution_count": 281,
     "metadata": {},
     "output_type": "execute_result"
    }
   ],
   "source": [
    "m"
   ]
  },
  {
   "cell_type": "code",
   "execution_count": 285,
   "id": "20828ea2-968b-470d-a14a-d7efdeb094f9",
   "metadata": {},
   "outputs": [],
   "source": [
    "r = df['IMDB_Rating']"
   ]
  },
  {
   "cell_type": "code",
   "execution_count": 287,
   "id": "5ade67d3-d0b6-42b9-9df8-dccb5509e7e2",
   "metadata": {},
   "outputs": [],
   "source": [
    "#mathematical functions associated with the series"
   ]
  },
  {
   "cell_type": "code",
   "execution_count": 293,
   "id": "e448ee7f-230e-4020-9de7-e6e5e25725d3",
   "metadata": {},
   "outputs": [
    {
     "data": {
      "text/plain": [
       "pandas.core.series.Series"
      ]
     },
     "execution_count": 293,
     "metadata": {},
     "output_type": "execute_result"
    }
   ],
   "source": [
    "type(r)"
   ]
  },
  {
   "cell_type": "code",
   "execution_count": 291,
   "id": "a0d85f48-2b7e-47dc-9a17-83181cea1037",
   "metadata": {},
   "outputs": [
    {
     "data": {
      "text/plain": [
       "7.949299999999999"
      ]
     },
     "execution_count": 291,
     "metadata": {},
     "output_type": "execute_result"
    }
   ],
   "source": [
    "r.mean()"
   ]
  },
  {
   "cell_type": "code",
   "execution_count": 295,
   "id": "be0918a9-0bd2-47ef-a818-00ad38700384",
   "metadata": {},
   "outputs": [
    {
     "data": {
      "text/plain": [
       "7949.299999999999"
      ]
     },
     "execution_count": 295,
     "metadata": {},
     "output_type": "execute_result"
    }
   ],
   "source": [
    "r.sum()"
   ]
  },
  {
   "cell_type": "code",
   "execution_count": 297,
   "id": "7caa2b0e-7c06-4674-8712-5083e751ddb0",
   "metadata": {},
   "outputs": [
    {
     "data": {
      "text/plain": [
       "0    7.7\n",
       "Name: IMDB_Rating, dtype: float64"
      ]
     },
     "execution_count": 297,
     "metadata": {},
     "output_type": "execute_result"
    }
   ],
   "source": [
    "r.mode()"
   ]
  },
  {
   "cell_type": "code",
   "execution_count": 301,
   "id": "d25bfb99-4a86-496b-bd00-5180eaa5f8ad",
   "metadata": {},
   "outputs": [
    {
     "data": {
      "text/plain": [
       "7.9"
      ]
     },
     "execution_count": 301,
     "metadata": {},
     "output_type": "execute_result"
    }
   ],
   "source": [
    "r.median()"
   ]
  },
  {
   "cell_type": "code",
   "execution_count": 303,
   "id": "5a061b1e-21c2-43ee-8128-7ffc4e2c6f34",
   "metadata": {},
   "outputs": [
    {
     "data": {
      "text/plain": [
       "9.3"
      ]
     },
     "execution_count": 303,
     "metadata": {},
     "output_type": "execute_result"
    }
   ],
   "source": [
    "r.max()"
   ]
  },
  {
   "cell_type": "code",
   "execution_count": 305,
   "id": "2f575805-c155-4976-8a19-b8fc8aef5da5",
   "metadata": {},
   "outputs": [
    {
     "data": {
      "text/plain": [
       "7.6"
      ]
     },
     "execution_count": 305,
     "metadata": {},
     "output_type": "execute_result"
    }
   ],
   "source": [
    "r.min()"
   ]
  },
  {
   "cell_type": "code",
   "execution_count": 307,
   "id": "7bd37264-45c7-4be3-a188-db285f237503",
   "metadata": {},
   "outputs": [
    {
     "data": {
      "text/plain": [
       "0.07589540540540526"
      ]
     },
     "execution_count": 307,
     "metadata": {},
     "output_type": "execute_result"
    }
   ],
   "source": [
    "r.var()"
   ]
  },
  {
   "cell_type": "code",
   "execution_count": 309,
   "id": "0f70a734-dd4c-43f5-a895-2752a499494e",
   "metadata": {},
   "outputs": [
    {
     "data": {
      "text/plain": [
       "0.27549120749200917"
      ]
     },
     "execution_count": 309,
     "metadata": {},
     "output_type": "execute_result"
    }
   ],
   "source": [
    "r.std()"
   ]
  },
  {
   "cell_type": "code",
   "execution_count": 311,
   "id": "c2233de3-95cc-499d-81c4-0570fdf4d4e4",
   "metadata": {},
   "outputs": [
    {
     "data": {
      "text/plain": [
       "count    1000.000000\n",
       "mean        7.949300\n",
       "std         0.275491\n",
       "min         7.600000\n",
       "25%         7.700000\n",
       "50%         7.900000\n",
       "75%         8.100000\n",
       "max         9.300000\n",
       "Name: IMDB_Rating, dtype: float64"
      ]
     },
     "execution_count": 311,
     "metadata": {},
     "output_type": "execute_result"
    }
   ],
   "source": [
    "r.describe()"
   ]
  },
  {
   "cell_type": "code",
   "execution_count": 315,
   "id": "341d90e2-c6de-4378-9af4-2f350fe1c3b3",
   "metadata": {},
   "outputs": [
    {
     "data": {
      "text/plain": [
       "[7.6,\n",
       " 7.6,\n",
       " 7.6,\n",
       " 7.6,\n",
       " 7.6,\n",
       " 7.6,\n",
       " 7.6,\n",
       " 7.6,\n",
       " 7.6,\n",
       " 7.6,\n",
       " 7.6,\n",
       " 7.6,\n",
       " 7.6,\n",
       " 7.6,\n",
       " 7.6,\n",
       " 7.6,\n",
       " 7.6,\n",
       " 7.6,\n",
       " 7.6,\n",
       " 7.6,\n",
       " 7.6,\n",
       " 7.6,\n",
       " 7.6,\n",
       " 7.6,\n",
       " 7.6,\n",
       " 7.6,\n",
       " 7.6,\n",
       " 7.6,\n",
       " 7.6,\n",
       " 7.6,\n",
       " 7.6,\n",
       " 7.6,\n",
       " 7.6,\n",
       " 7.6,\n",
       " 7.6,\n",
       " 7.6,\n",
       " 7.6,\n",
       " 7.6,\n",
       " 7.6,\n",
       " 7.6,\n",
       " 7.6,\n",
       " 7.6,\n",
       " 7.6,\n",
       " 7.6,\n",
       " 7.6,\n",
       " 7.6,\n",
       " 7.6,\n",
       " 7.6,\n",
       " 7.6,\n",
       " 7.6,\n",
       " 7.6,\n",
       " 7.6,\n",
       " 7.6,\n",
       " 7.6,\n",
       " 7.6,\n",
       " 7.6,\n",
       " 7.6,\n",
       " 7.6,\n",
       " 7.6,\n",
       " 7.6,\n",
       " 7.6,\n",
       " 7.6,\n",
       " 7.6,\n",
       " 7.6,\n",
       " 7.6,\n",
       " 7.6,\n",
       " 7.6,\n",
       " 7.6,\n",
       " 7.6,\n",
       " 7.6,\n",
       " 7.6,\n",
       " 7.6,\n",
       " 7.6,\n",
       " 7.6,\n",
       " 7.6,\n",
       " 7.6,\n",
       " 7.6,\n",
       " 7.6,\n",
       " 7.6,\n",
       " 7.6,\n",
       " 7.6,\n",
       " 7.6,\n",
       " 7.6,\n",
       " 7.6,\n",
       " 7.6,\n",
       " 7.6,\n",
       " 7.6,\n",
       " 7.6,\n",
       " 7.6,\n",
       " 7.6,\n",
       " 7.6,\n",
       " 7.6,\n",
       " 7.6,\n",
       " 7.6,\n",
       " 7.6,\n",
       " 7.6,\n",
       " 7.6,\n",
       " 7.6,\n",
       " 7.6,\n",
       " 7.6,\n",
       " 7.6,\n",
       " 7.6,\n",
       " 7.6,\n",
       " 7.6,\n",
       " 7.6,\n",
       " 7.6,\n",
       " 7.6,\n",
       " 7.6,\n",
       " 7.6,\n",
       " 7.6,\n",
       " 7.6,\n",
       " 7.6,\n",
       " 7.6,\n",
       " 7.6,\n",
       " 7.6,\n",
       " 7.6,\n",
       " 7.6,\n",
       " 7.6,\n",
       " 7.6,\n",
       " 7.6,\n",
       " 7.6,\n",
       " 7.6,\n",
       " 7.6,\n",
       " 7.7,\n",
       " 7.7,\n",
       " 7.7,\n",
       " 7.7,\n",
       " 7.7,\n",
       " 7.7,\n",
       " 7.7,\n",
       " 7.7,\n",
       " 7.7,\n",
       " 7.7,\n",
       " 7.7,\n",
       " 7.7,\n",
       " 7.7,\n",
       " 7.7,\n",
       " 7.7,\n",
       " 7.7,\n",
       " 7.7,\n",
       " 7.7,\n",
       " 7.7,\n",
       " 7.7,\n",
       " 7.7,\n",
       " 7.7,\n",
       " 7.7,\n",
       " 7.7,\n",
       " 7.7,\n",
       " 7.7,\n",
       " 7.7,\n",
       " 7.7,\n",
       " 7.7,\n",
       " 7.7,\n",
       " 7.7,\n",
       " 7.7,\n",
       " 7.7,\n",
       " 7.7,\n",
       " 7.7,\n",
       " 7.7,\n",
       " 7.7,\n",
       " 7.7,\n",
       " 7.7,\n",
       " 7.7,\n",
       " 7.7,\n",
       " 7.7,\n",
       " 7.7,\n",
       " 7.7,\n",
       " 7.7,\n",
       " 7.7,\n",
       " 7.7,\n",
       " 7.7,\n",
       " 7.7,\n",
       " 7.7,\n",
       " 7.7,\n",
       " 7.7,\n",
       " 7.7,\n",
       " 7.7,\n",
       " 7.7,\n",
       " 7.7,\n",
       " 7.7,\n",
       " 7.7,\n",
       " 7.7,\n",
       " 7.7,\n",
       " 7.7,\n",
       " 7.7,\n",
       " 7.7,\n",
       " 7.7,\n",
       " 7.7,\n",
       " 7.7,\n",
       " 7.7,\n",
       " 7.7,\n",
       " 7.7,\n",
       " 7.7,\n",
       " 7.7,\n",
       " 7.7,\n",
       " 7.7,\n",
       " 7.7,\n",
       " 7.7,\n",
       " 7.7,\n",
       " 7.7,\n",
       " 7.7,\n",
       " 7.7,\n",
       " 7.7,\n",
       " 7.7,\n",
       " 7.7,\n",
       " 7.7,\n",
       " 7.7,\n",
       " 7.7,\n",
       " 7.7,\n",
       " 7.7,\n",
       " 7.7,\n",
       " 7.7,\n",
       " 7.7,\n",
       " 7.7,\n",
       " 7.7,\n",
       " 7.7,\n",
       " 7.7,\n",
       " 7.7,\n",
       " 7.7,\n",
       " 7.7,\n",
       " 7.7,\n",
       " 7.7,\n",
       " 7.7,\n",
       " 7.7,\n",
       " 7.7,\n",
       " 7.7,\n",
       " 7.7,\n",
       " 7.7,\n",
       " 7.7,\n",
       " 7.7,\n",
       " 7.7,\n",
       " 7.7,\n",
       " 7.7,\n",
       " 7.7,\n",
       " 7.7,\n",
       " 7.7,\n",
       " 7.7,\n",
       " 7.7,\n",
       " 7.7,\n",
       " 7.7,\n",
       " 7.7,\n",
       " 7.7,\n",
       " 7.7,\n",
       " 7.7,\n",
       " 7.7,\n",
       " 7.7,\n",
       " 7.7,\n",
       " 7.7,\n",
       " 7.7,\n",
       " 7.7,\n",
       " 7.7,\n",
       " 7.7,\n",
       " 7.7,\n",
       " 7.7,\n",
       " 7.7,\n",
       " 7.7,\n",
       " 7.7,\n",
       " 7.7,\n",
       " 7.7,\n",
       " 7.7,\n",
       " 7.7,\n",
       " 7.7,\n",
       " 7.7,\n",
       " 7.7,\n",
       " 7.7,\n",
       " 7.7,\n",
       " 7.7,\n",
       " 7.7,\n",
       " 7.7,\n",
       " 7.7,\n",
       " 7.7,\n",
       " 7.7,\n",
       " 7.7,\n",
       " 7.7,\n",
       " 7.7,\n",
       " 7.7,\n",
       " 7.7,\n",
       " 7.7,\n",
       " 7.7,\n",
       " 7.7,\n",
       " 7.8,\n",
       " 7.8,\n",
       " 7.8,\n",
       " 7.8,\n",
       " 7.8,\n",
       " 7.8,\n",
       " 7.8,\n",
       " 7.8,\n",
       " 7.8,\n",
       " 7.8,\n",
       " 7.8,\n",
       " 7.8,\n",
       " 7.8,\n",
       " 7.8,\n",
       " 7.8,\n",
       " 7.8,\n",
       " 7.8,\n",
       " 7.8,\n",
       " 7.8,\n",
       " 7.8,\n",
       " 7.8,\n",
       " 7.8,\n",
       " 7.8,\n",
       " 7.8,\n",
       " 7.8,\n",
       " 7.8,\n",
       " 7.8,\n",
       " 7.8,\n",
       " 7.8,\n",
       " 7.8,\n",
       " 7.8,\n",
       " 7.8,\n",
       " 7.8,\n",
       " 7.8,\n",
       " 7.8,\n",
       " 7.8,\n",
       " 7.8,\n",
       " 7.8,\n",
       " 7.8,\n",
       " 7.8,\n",
       " 7.8,\n",
       " 7.8,\n",
       " 7.8,\n",
       " 7.8,\n",
       " 7.8,\n",
       " 7.8,\n",
       " 7.8,\n",
       " 7.8,\n",
       " 7.8,\n",
       " 7.8,\n",
       " 7.8,\n",
       " 7.8,\n",
       " 7.8,\n",
       " 7.8,\n",
       " 7.8,\n",
       " 7.8,\n",
       " 7.8,\n",
       " 7.8,\n",
       " 7.8,\n",
       " 7.8,\n",
       " 7.8,\n",
       " 7.8,\n",
       " 7.8,\n",
       " 7.8,\n",
       " 7.8,\n",
       " 7.8,\n",
       " 7.8,\n",
       " 7.8,\n",
       " 7.8,\n",
       " 7.8,\n",
       " 7.8,\n",
       " 7.8,\n",
       " 7.8,\n",
       " 7.8,\n",
       " 7.8,\n",
       " 7.8,\n",
       " 7.8,\n",
       " 7.8,\n",
       " 7.8,\n",
       " 7.8,\n",
       " 7.8,\n",
       " 7.8,\n",
       " 7.8,\n",
       " 7.8,\n",
       " 7.8,\n",
       " 7.8,\n",
       " 7.8,\n",
       " 7.8,\n",
       " 7.8,\n",
       " 7.8,\n",
       " 7.8,\n",
       " 7.8,\n",
       " 7.8,\n",
       " 7.8,\n",
       " 7.8,\n",
       " 7.8,\n",
       " 7.8,\n",
       " 7.8,\n",
       " 7.8,\n",
       " 7.8,\n",
       " 7.8,\n",
       " 7.8,\n",
       " 7.8,\n",
       " 7.8,\n",
       " 7.8,\n",
       " 7.8,\n",
       " 7.8,\n",
       " 7.8,\n",
       " 7.8,\n",
       " 7.8,\n",
       " 7.8,\n",
       " 7.8,\n",
       " 7.8,\n",
       " 7.8,\n",
       " 7.8,\n",
       " 7.8,\n",
       " 7.8,\n",
       " 7.8,\n",
       " 7.8,\n",
       " 7.8,\n",
       " 7.8,\n",
       " 7.8,\n",
       " 7.8,\n",
       " 7.8,\n",
       " 7.8,\n",
       " 7.8,\n",
       " 7.8,\n",
       " 7.8,\n",
       " 7.8,\n",
       " 7.8,\n",
       " 7.8,\n",
       " 7.8,\n",
       " 7.8,\n",
       " 7.8,\n",
       " 7.8,\n",
       " 7.8,\n",
       " 7.8,\n",
       " 7.8,\n",
       " 7.8,\n",
       " 7.8,\n",
       " 7.8,\n",
       " 7.8,\n",
       " 7.8,\n",
       " 7.8,\n",
       " 7.8,\n",
       " 7.8,\n",
       " 7.8,\n",
       " 7.8,\n",
       " 7.8,\n",
       " 7.8,\n",
       " 7.8,\n",
       " 7.9,\n",
       " 7.9,\n",
       " 7.9,\n",
       " 7.9,\n",
       " 7.9,\n",
       " 7.9,\n",
       " 7.9,\n",
       " 7.9,\n",
       " 7.9,\n",
       " 7.9,\n",
       " 7.9,\n",
       " 7.9,\n",
       " 7.9,\n",
       " 7.9,\n",
       " 7.9,\n",
       " 7.9,\n",
       " 7.9,\n",
       " 7.9,\n",
       " 7.9,\n",
       " 7.9,\n",
       " 7.9,\n",
       " 7.9,\n",
       " 7.9,\n",
       " 7.9,\n",
       " 7.9,\n",
       " 7.9,\n",
       " 7.9,\n",
       " 7.9,\n",
       " 7.9,\n",
       " 7.9,\n",
       " 7.9,\n",
       " 7.9,\n",
       " 7.9,\n",
       " 7.9,\n",
       " 7.9,\n",
       " 7.9,\n",
       " 7.9,\n",
       " 7.9,\n",
       " 7.9,\n",
       " 7.9,\n",
       " 7.9,\n",
       " 7.9,\n",
       " 7.9,\n",
       " 7.9,\n",
       " 7.9,\n",
       " 7.9,\n",
       " 7.9,\n",
       " 7.9,\n",
       " 7.9,\n",
       " 7.9,\n",
       " 7.9,\n",
       " 7.9,\n",
       " 7.9,\n",
       " 7.9,\n",
       " 7.9,\n",
       " 7.9,\n",
       " 7.9,\n",
       " 7.9,\n",
       " 7.9,\n",
       " 7.9,\n",
       " 7.9,\n",
       " 7.9,\n",
       " 7.9,\n",
       " 7.9,\n",
       " 7.9,\n",
       " 7.9,\n",
       " 7.9,\n",
       " 7.9,\n",
       " 7.9,\n",
       " 7.9,\n",
       " 7.9,\n",
       " 7.9,\n",
       " 7.9,\n",
       " 7.9,\n",
       " 7.9,\n",
       " 7.9,\n",
       " 7.9,\n",
       " 7.9,\n",
       " 7.9,\n",
       " 7.9,\n",
       " 7.9,\n",
       " 7.9,\n",
       " 7.9,\n",
       " 7.9,\n",
       " 7.9,\n",
       " 7.9,\n",
       " 7.9,\n",
       " 7.9,\n",
       " 7.9,\n",
       " 7.9,\n",
       " 7.9,\n",
       " 7.9,\n",
       " 7.9,\n",
       " 7.9,\n",
       " 7.9,\n",
       " 7.9,\n",
       " 7.9,\n",
       " 7.9,\n",
       " 7.9,\n",
       " 7.9,\n",
       " 7.9,\n",
       " 7.9,\n",
       " 7.9,\n",
       " 7.9,\n",
       " 7.9,\n",
       " 7.9,\n",
       " 8.0,\n",
       " 8.0,\n",
       " 8.0,\n",
       " 8.0,\n",
       " 8.0,\n",
       " 8.0,\n",
       " 8.0,\n",
       " 8.0,\n",
       " 8.0,\n",
       " 8.0,\n",
       " 8.0,\n",
       " 8.0,\n",
       " 8.0,\n",
       " 8.0,\n",
       " 8.0,\n",
       " 8.0,\n",
       " 8.0,\n",
       " 8.0,\n",
       " 8.0,\n",
       " 8.0,\n",
       " 8.0,\n",
       " 8.0,\n",
       " 8.0,\n",
       " 8.0,\n",
       " 8.0,\n",
       " 8.0,\n",
       " 8.0,\n",
       " 8.0,\n",
       " 8.0,\n",
       " 8.0,\n",
       " 8.0,\n",
       " 8.0,\n",
       " 8.0,\n",
       " 8.0,\n",
       " 8.0,\n",
       " 8.0,\n",
       " 8.0,\n",
       " 8.0,\n",
       " 8.0,\n",
       " 8.0,\n",
       " 8.0,\n",
       " 8.0,\n",
       " 8.0,\n",
       " 8.0,\n",
       " 8.0,\n",
       " 8.0,\n",
       " 8.0,\n",
       " 8.0,\n",
       " 8.0,\n",
       " 8.0,\n",
       " 8.0,\n",
       " 8.0,\n",
       " 8.0,\n",
       " 8.0,\n",
       " 8.0,\n",
       " 8.0,\n",
       " 8.0,\n",
       " 8.0,\n",
       " 8.0,\n",
       " 8.0,\n",
       " 8.0,\n",
       " 8.0,\n",
       " 8.0,\n",
       " 8.0,\n",
       " 8.0,\n",
       " 8.0,\n",
       " 8.0,\n",
       " 8.0,\n",
       " 8.0,\n",
       " 8.0,\n",
       " 8.0,\n",
       " 8.0,\n",
       " 8.0,\n",
       " 8.0,\n",
       " 8.0,\n",
       " 8.0,\n",
       " 8.0,\n",
       " 8.0,\n",
       " 8.0,\n",
       " 8.0,\n",
       " 8.0,\n",
       " 8.0,\n",
       " 8.0,\n",
       " 8.0,\n",
       " 8.0,\n",
       " 8.0,\n",
       " 8.0,\n",
       " 8.0,\n",
       " 8.0,\n",
       " 8.0,\n",
       " 8.0,\n",
       " 8.0,\n",
       " 8.0,\n",
       " 8.0,\n",
       " 8.0,\n",
       " 8.0,\n",
       " 8.0,\n",
       " 8.0,\n",
       " 8.0,\n",
       " 8.0,\n",
       " 8.0,\n",
       " 8.0,\n",
       " 8.0,\n",
       " 8.0,\n",
       " 8.0,\n",
       " 8.0,\n",
       " 8.0,\n",
       " 8.0,\n",
       " 8.0,\n",
       " 8.0,\n",
       " 8.0,\n",
       " 8.0,\n",
       " 8.0,\n",
       " 8.0,\n",
       " 8.0,\n",
       " 8.0,\n",
       " 8.0,\n",
       " 8.0,\n",
       " 8.0,\n",
       " 8.0,\n",
       " 8.0,\n",
       " 8.0,\n",
       " 8.0,\n",
       " 8.0,\n",
       " 8.0,\n",
       " 8.0,\n",
       " 8.0,\n",
       " 8.0,\n",
       " 8.0,\n",
       " 8.0,\n",
       " 8.0,\n",
       " 8.0,\n",
       " 8.0,\n",
       " 8.0,\n",
       " 8.0,\n",
       " 8.0,\n",
       " 8.0,\n",
       " 8.0,\n",
       " 8.0,\n",
       " 8.0,\n",
       " 8.0,\n",
       " 8.1,\n",
       " 8.1,\n",
       " 8.1,\n",
       " 8.1,\n",
       " 8.1,\n",
       " 8.1,\n",
       " 8.1,\n",
       " 8.1,\n",
       " 8.1,\n",
       " 8.1,\n",
       " 8.1,\n",
       " 8.1,\n",
       " 8.1,\n",
       " 8.1,\n",
       " 8.1,\n",
       " 8.1,\n",
       " 8.1,\n",
       " 8.1,\n",
       " 8.1,\n",
       " 8.1,\n",
       " 8.1,\n",
       " 8.1,\n",
       " 8.1,\n",
       " 8.1,\n",
       " 8.1,\n",
       " 8.1,\n",
       " 8.1,\n",
       " 8.1,\n",
       " 8.1,\n",
       " 8.1,\n",
       " 8.1,\n",
       " 8.1,\n",
       " 8.1,\n",
       " 8.1,\n",
       " 8.1,\n",
       " 8.1,\n",
       " 8.1,\n",
       " 8.1,\n",
       " 8.1,\n",
       " 8.1,\n",
       " 8.1,\n",
       " 8.1,\n",
       " 8.1,\n",
       " 8.1,\n",
       " 8.1,\n",
       " 8.1,\n",
       " 8.1,\n",
       " 8.1,\n",
       " 8.1,\n",
       " 8.1,\n",
       " 8.1,\n",
       " 8.1,\n",
       " 8.1,\n",
       " 8.1,\n",
       " 8.1,\n",
       " 8.1,\n",
       " 8.1,\n",
       " 8.1,\n",
       " 8.1,\n",
       " 8.1,\n",
       " 8.1,\n",
       " 8.1,\n",
       " 8.1,\n",
       " 8.1,\n",
       " 8.1,\n",
       " 8.1,\n",
       " 8.1,\n",
       " 8.1,\n",
       " 8.1,\n",
       " 8.1,\n",
       " 8.1,\n",
       " 8.1,\n",
       " 8.1,\n",
       " 8.1,\n",
       " 8.1,\n",
       " 8.1,\n",
       " 8.1,\n",
       " 8.1,\n",
       " 8.1,\n",
       " 8.1,\n",
       " 8.1,\n",
       " 8.1,\n",
       " 8.1,\n",
       " 8.1,\n",
       " 8.1,\n",
       " 8.1,\n",
       " 8.1,\n",
       " 8.1,\n",
       " 8.1,\n",
       " 8.1,\n",
       " 8.1,\n",
       " 8.1,\n",
       " 8.1,\n",
       " 8.1,\n",
       " 8.1,\n",
       " 8.1,\n",
       " 8.1,\n",
       " 8.1,\n",
       " 8.1,\n",
       " 8.1,\n",
       " 8.1,\n",
       " 8.1,\n",
       " 8.1,\n",
       " 8.1,\n",
       " 8.1,\n",
       " 8.1,\n",
       " 8.1,\n",
       " 8.1,\n",
       " 8.1,\n",
       " 8.1,\n",
       " 8.1,\n",
       " 8.1,\n",
       " 8.1,\n",
       " 8.1,\n",
       " 8.1,\n",
       " 8.1,\n",
       " 8.1,\n",
       " 8.1,\n",
       " 8.1,\n",
       " 8.1,\n",
       " 8.1,\n",
       " 8.1,\n",
       " 8.1,\n",
       " 8.1,\n",
       " 8.1,\n",
       " 8.1,\n",
       " 8.1,\n",
       " 8.2,\n",
       " 8.2,\n",
       " 8.2,\n",
       " 8.2,\n",
       " 8.2,\n",
       " 8.2,\n",
       " 8.2,\n",
       " 8.2,\n",
       " 8.2,\n",
       " 8.2,\n",
       " 8.2,\n",
       " 8.2,\n",
       " 8.2,\n",
       " 8.2,\n",
       " 8.2,\n",
       " 8.2,\n",
       " 8.2,\n",
       " 8.2,\n",
       " 8.2,\n",
       " 8.2,\n",
       " 8.2,\n",
       " 8.2,\n",
       " 8.2,\n",
       " 8.2,\n",
       " 8.2,\n",
       " 8.2,\n",
       " 8.2,\n",
       " 8.2,\n",
       " 8.2,\n",
       " 8.2,\n",
       " 8.2,\n",
       " 8.2,\n",
       " 8.2,\n",
       " 8.2,\n",
       " 8.2,\n",
       " 8.2,\n",
       " 8.2,\n",
       " 8.2,\n",
       " 8.2,\n",
       " 8.2,\n",
       " 8.2,\n",
       " 8.2,\n",
       " 8.2,\n",
       " 8.2,\n",
       " 8.2,\n",
       " 8.2,\n",
       " 8.2,\n",
       " 8.2,\n",
       " 8.2,\n",
       " 8.2,\n",
       " 8.2,\n",
       " 8.2,\n",
       " 8.2,\n",
       " 8.2,\n",
       " 8.2,\n",
       " 8.2,\n",
       " 8.2,\n",
       " 8.2,\n",
       " 8.2,\n",
       " 8.2,\n",
       " 8.2,\n",
       " 8.2,\n",
       " 8.2,\n",
       " 8.2,\n",
       " 8.2,\n",
       " 8.2,\n",
       " 8.2,\n",
       " 8.3,\n",
       " 8.3,\n",
       " 8.3,\n",
       " 8.3,\n",
       " 8.3,\n",
       " 8.3,\n",
       " 8.3,\n",
       " 8.3,\n",
       " 8.3,\n",
       " 8.3,\n",
       " 8.3,\n",
       " 8.3,\n",
       " 8.3,\n",
       " 8.3,\n",
       " 8.3,\n",
       " 8.3,\n",
       " 8.3,\n",
       " 8.3,\n",
       " 8.3,\n",
       " 8.3,\n",
       " 8.3,\n",
       " 8.3,\n",
       " 8.3,\n",
       " 8.3,\n",
       " 8.3,\n",
       " 8.3,\n",
       " 8.3,\n",
       " 8.3,\n",
       " 8.3,\n",
       " 8.3,\n",
       " 8.3,\n",
       " 8.3,\n",
       " 8.3,\n",
       " 8.3,\n",
       " 8.3,\n",
       " 8.3,\n",
       " 8.3,\n",
       " 8.3,\n",
       " 8.3,\n",
       " 8.3,\n",
       " 8.3,\n",
       " 8.3,\n",
       " 8.3,\n",
       " 8.3,\n",
       " 8.4,\n",
       " 8.4,\n",
       " 8.4,\n",
       " 8.4,\n",
       " 8.4,\n",
       " 8.4,\n",
       " 8.4,\n",
       " 8.4,\n",
       " 8.4,\n",
       " 8.4,\n",
       " 8.4,\n",
       " 8.4,\n",
       " 8.4,\n",
       " 8.4,\n",
       " 8.4,\n",
       " 8.4,\n",
       " 8.4,\n",
       " 8.4,\n",
       " 8.4,\n",
       " 8.4,\n",
       " 8.4,\n",
       " 8.4,\n",
       " 8.4,\n",
       " 8.4,\n",
       " 8.4,\n",
       " 8.4,\n",
       " 8.4,\n",
       " 8.4,\n",
       " 8.4,\n",
       " 8.4,\n",
       " 8.4,\n",
       " 8.5,\n",
       " 8.5,\n",
       " 8.5,\n",
       " 8.5,\n",
       " 8.5,\n",
       " 8.5,\n",
       " 8.5,\n",
       " 8.5,\n",
       " 8.5,\n",
       " 8.5,\n",
       " 8.5,\n",
       " 8.5,\n",
       " 8.5,\n",
       " 8.5,\n",
       " 8.5,\n",
       " 8.5,\n",
       " 8.5,\n",
       " 8.5,\n",
       " 8.5,\n",
       " 8.5,\n",
       " 8.6,\n",
       " 8.6,\n",
       " 8.6,\n",
       " 8.6,\n",
       " 8.6,\n",
       " 8.6,\n",
       " 8.6,\n",
       " 8.6,\n",
       " 8.6,\n",
       " 8.6,\n",
       " 8.6,\n",
       " 8.6,\n",
       " 8.6,\n",
       " 8.6,\n",
       " 8.6,\n",
       " 8.7,\n",
       " 8.7,\n",
       " 8.7,\n",
       " 8.7,\n",
       " 8.7,\n",
       " 8.8,\n",
       " 8.8,\n",
       " 8.8,\n",
       " 8.8,\n",
       " 8.8,\n",
       " 8.9,\n",
       " 8.9,\n",
       " 8.9,\n",
       " 9.0,\n",
       " 9.0,\n",
       " 9.0,\n",
       " 9.2,\n",
       " 9.3]"
      ]
     },
     "execution_count": 315,
     "metadata": {},
     "output_type": "execute_result"
    }
   ],
   "source": [
    "sorted(r)"
   ]
  },
  {
   "cell_type": "code",
   "execution_count": 317,
   "id": "ff99103a-f78e-4911-9388-4fbecd6009a2",
   "metadata": {},
   "outputs": [
    {
     "data": {
      "text/plain": [
       "pandas.core.series.Series"
      ]
     },
     "execution_count": 317,
     "metadata": {},
     "output_type": "execute_result"
    }
   ],
   "source": [
    "type(r)"
   ]
  },
  {
   "cell_type": "code",
   "execution_count": 367,
   "id": "00561a23-c262-41b6-abfd-56b83f1c3268",
   "metadata": {},
   "outputs": [],
   "source": [
    "#differentiate between loc and iloc"
   ]
  },
  {
   "cell_type": "code",
   "execution_count": 383,
   "id": "f4ed7bc5-0785-4575-b36f-a3cc4b6e2791",
   "metadata": {},
   "outputs": [
    {
     "data": {
      "text/plain": [
       "Index(['Poster_Link', 'Series_Title', 'Released_Year', 'Certificate',\n",
       "       'Runtime', 'Genre', 'IMDB_Rating', 'Overview', 'Meta_score', 'Director',\n",
       "       'Star1', 'Star2', 'Star3', 'Star4', 'No_of_Votes', 'Gross'],\n",
       "      dtype='object')"
      ]
     },
     "execution_count": 383,
     "metadata": {},
     "output_type": "execute_result"
    }
   ],
   "source": [
    "df.columns\n"
   ]
  },
  {
   "cell_type": "code",
   "execution_count": 387,
   "id": "80952d71-9196-4552-89f8-3f82b69e8a40",
   "metadata": {},
   "outputs": [
    {
     "data": {
      "text/plain": [
       "ulala                           Tim Robbins\n",
       "The Godfather                 Marlon Brando\n",
       "The Dark Knight              Christian Bale\n",
       "The Godfather: Part II            Al Pacino\n",
       "12 Angry Men                    Henry Fonda\n",
       "                                ...        \n",
       "Breakfast at Tiffany's       Audrey Hepburn\n",
       "Giant                      Elizabeth Taylor\n",
       "From Here to Eternity        Burt Lancaster\n",
       "Lifeboat                  Tallulah Bankhead\n",
       "The 39 Steps                   Robert Donat\n",
       "Length: 1000, dtype: object"
      ]
     },
     "execution_count": 387,
     "metadata": {},
     "output_type": "execute_result"
    }
   ],
   "source": [
    "ms = df[[\"Series_Title\", \"Star1\"]]\n",
    "ms = pd.Series(df[\"Star1\"].values, index = df[\"Series_Title\"].values)\n",
    "ms"
   ]
  },
  {
   "cell_type": "code",
   "execution_count": 389,
   "id": "befad3f6-9ac2-4b9a-bb9a-ea4237adc369",
   "metadata": {},
   "outputs": [
    {
     "data": {
      "text/plain": [
       "'Marlon Brando'"
      ]
     },
     "execution_count": 389,
     "metadata": {},
     "output_type": "execute_result"
    }
   ],
   "source": [
    "ms[\"The Godfather\"]"
   ]
  },
  {
   "cell_type": "code",
   "execution_count": 391,
   "id": "9dc654b4-1d0f-440a-8cc4-bf3d1ebddcbc",
   "metadata": {},
   "outputs": [
    {
     "data": {
      "text/plain": [
       "'Marlon Brando'"
      ]
     },
     "execution_count": 391,
     "metadata": {},
     "output_type": "execute_result"
    }
   ],
   "source": [
    "ms.loc[\"The Godfather\"]"
   ]
  },
  {
   "cell_type": "code",
   "execution_count": 393,
   "id": "487f871b-b31b-4c54-909f-89a0e15d44e7",
   "metadata": {},
   "outputs": [
    {
     "data": {
      "text/plain": [
       "'Marlon Brando'"
      ]
     },
     "execution_count": 393,
     "metadata": {},
     "output_type": "execute_result"
    }
   ],
   "source": [
    "ms.iloc[1]"
   ]
  },
  {
   "cell_type": "code",
   "execution_count": 395,
   "id": "722431ab-1f4e-475d-adef-a0879043e954",
   "metadata": {},
   "outputs": [
    {
     "data": {
      "text/plain": [
       "'Elizabeth Taylor'"
      ]
     },
     "execution_count": 395,
     "metadata": {},
     "output_type": "execute_result"
    }
   ],
   "source": [
    "ms.loc['Giant'] #in case when you dont know the index of a particular column value and you want to know all the details, then make\n",
    "#it the index and access using loc"
   ]
  },
  {
   "cell_type": "code",
   "execution_count": 399,
   "id": "bfbb6971-a976-46b0-8989-c1eacb616f99",
   "metadata": {},
   "outputs": [
    {
     "data": {
      "text/plain": [
       "ulala                           Tim Robbins\n",
       "The Godfather                 Marlon Brando\n",
       "The Dark Knight              Christian Bale\n",
       "The Godfather: Part II            Al Pacino\n",
       "12 Angry Men                    Henry Fonda\n",
       "                                ...        \n",
       "Breakfast at Tiffany's       Audrey Hepburn\n",
       "Giant                      Elizabeth Taylor\n",
       "From Here to Eternity        Burt Lancaster\n",
       "Lifeboat                  Tallulah Bankhead\n",
       "The 39 Steps                   Robert Donat\n",
       "Length: 1000, dtype: object"
      ]
     },
     "execution_count": 399,
     "metadata": {},
     "output_type": "execute_result"
    }
   ],
   "source": [
    "ms"
   ]
  },
  {
   "cell_type": "code",
   "execution_count": 405,
   "id": "d86e439e-a71c-4aaa-b28c-764bd5176821",
   "metadata": {},
   "outputs": [
    {
     "data": {
      "text/plain": [
       "True"
      ]
     },
     "execution_count": 405,
     "metadata": {},
     "output_type": "execute_result"
    }
   ],
   "source": [
    "#membership operator in series index\n",
    "\"The Godfather\" in ms"
   ]
  },
  {
   "cell_type": "code",
   "execution_count": 407,
   "id": "433a52fc-6795-4077-b147-95e073d05d54",
   "metadata": {},
   "outputs": [
    {
     "data": {
      "text/plain": [
       "True"
      ]
     },
     "execution_count": 407,
     "metadata": {},
     "output_type": "execute_result"
    }
   ],
   "source": [
    "\"Lifeboat\" in ms"
   ]
  },
  {
   "cell_type": "code",
   "execution_count": 409,
   "id": "fad78390-0fe5-4e78-bb76-4886aec85e41",
   "metadata": {},
   "outputs": [
    {
     "data": {
      "text/plain": [
       "False"
      ]
     },
     "execution_count": 409,
     "metadata": {},
     "output_type": "execute_result"
    }
   ],
   "source": [
    "\"Lifeboattytt\" in ms"
   ]
  },
  {
   "cell_type": "code",
   "execution_count": 411,
   "id": "40eac535-9473-486c-89db-19c55c27868e",
   "metadata": {},
   "outputs": [
    {
     "data": {
      "text/plain": [
       "True"
      ]
     },
     "execution_count": 411,
     "metadata": {},
     "output_type": "execute_result"
    }
   ],
   "source": [
    "##membership operator in series values\n",
    "\"Henry Fonda\" in ms.values"
   ]
  },
  {
   "cell_type": "code",
   "execution_count": 413,
   "id": "c165d76d-d8ac-4e80-aecc-9d2cefb638df",
   "metadata": {},
   "outputs": [
    {
     "data": {
      "text/plain": [
       "ulala                           Tim Robbins\n",
       "The Godfather                 Marlon Brando\n",
       "The Dark Knight              Christian Bale\n",
       "The Godfather: Part II            Al Pacino\n",
       "12 Angry Men                    Henry Fonda\n",
       "                                ...        \n",
       "Breakfast at Tiffany's       Audrey Hepburn\n",
       "Giant                      Elizabeth Taylor\n",
       "From Here to Eternity        Burt Lancaster\n",
       "Lifeboat                  Tallulah Bankhead\n",
       "The 39 Steps                   Robert Donat\n",
       "Length: 1000, dtype: object"
      ]
     },
     "execution_count": 413,
     "metadata": {},
     "output_type": "execute_result"
    }
   ],
   "source": [
    "ms"
   ]
  },
  {
   "cell_type": "code",
   "execution_count": 415,
   "id": "6f28bb63-176e-497f-8e68-4c8691948e00",
   "metadata": {},
   "outputs": [
    {
     "data": {
      "text/plain": [
       "ulala                        Tim Robbins\n",
       "The Godfather              Marlon Brando\n",
       "The Dark Knight           Christian Bale\n",
       "The Godfather: Part II         Al Pacino\n",
       "12 Angry Men                 Henry Fonda\n",
       "dtype: object"
      ]
     },
     "execution_count": 415,
     "metadata": {},
     "output_type": "execute_result"
    }
   ],
   "source": [
    "ms.head(5) #first 5 rows of the series"
   ]
  },
  {
   "cell_type": "code",
   "execution_count": 417,
   "id": "6477f4d5-518e-425d-b604-20c9cfe5b227",
   "metadata": {},
   "outputs": [
    {
     "data": {
      "text/plain": [
       "ulala                                                  Tim Robbins\n",
       "The Godfather                                        Marlon Brando\n",
       "The Dark Knight                                     Christian Bale\n",
       "The Godfather: Part II                                   Al Pacino\n",
       "12 Angry Men                                           Henry Fonda\n",
       "The Lord of the Rings: The Return of the King          Elijah Wood\n",
       "Pulp Fiction                                         John Travolta\n",
       "Schindler's List                                       Liam Neeson\n",
       "Inception                                        Leonardo DiCaprio\n",
       "Fight Club                                               Brad Pitt\n",
       "dtype: object"
      ]
     },
     "execution_count": 417,
     "metadata": {},
     "output_type": "execute_result"
    }
   ],
   "source": [
    "ms.head(10)"
   ]
  },
  {
   "cell_type": "code",
   "execution_count": 419,
   "id": "daa24e23-c3e2-4a44-b84a-aee1c3357f9b",
   "metadata": {},
   "outputs": [
    {
     "data": {
      "text/plain": [
       "Breakfast at Tiffany's       Audrey Hepburn\n",
       "Giant                      Elizabeth Taylor\n",
       "From Here to Eternity        Burt Lancaster\n",
       "Lifeboat                  Tallulah Bankhead\n",
       "The 39 Steps                   Robert Donat\n",
       "dtype: object"
      ]
     },
     "execution_count": 419,
     "metadata": {},
     "output_type": "execute_result"
    }
   ],
   "source": [
    "ms.tail(5) #last 5 rows of the series"
   ]
  },
  {
   "cell_type": "code",
   "execution_count": 421,
   "id": "381ea1ec-6e59-4a0f-9a18-6467c115b98a",
   "metadata": {},
   "outputs": [
    {
     "data": {
      "text/plain": [
       "Secrets & Lies          Timothy Spall\n",
       "Pink Floyd: The Wall       Bob Geldof\n",
       "dtype: object"
      ]
     },
     "execution_count": 421,
     "metadata": {},
     "output_type": "execute_result"
    }
   ],
   "source": [
    "ms.sample(2)"
   ]
  },
  {
   "cell_type": "code",
   "execution_count": 423,
   "id": "edabe78b-24ee-4931-af79-f07e215db8b3",
   "metadata": {},
   "outputs": [
    {
     "data": {
      "text/plain": [
       "Tom Hanks          12\n",
       "Robert De Niro     11\n",
       "Al Pacino          10\n",
       "Clint Eastwood     10\n",
       "Humphrey Bogart     9\n",
       "                   ..\n",
       "Preity Zinta        1\n",
       "Javier Bardem       1\n",
       "Ki-duk Kim          1\n",
       "Vladimir Garin      1\n",
       "Robert Donat        1\n",
       "Name: count, Length: 660, dtype: int64"
      ]
     },
     "execution_count": 423,
     "metadata": {},
     "output_type": "execute_result"
    }
   ],
   "source": [
    "ms.value_counts()"
   ]
  },
  {
   "cell_type": "code",
   "execution_count": 427,
   "id": "928e82a5-504e-4bba-b367-b90074d298cb",
   "metadata": {},
   "outputs": [
    {
     "name": "stdout",
     "output_type": "stream",
     "text": [
      "<class 'pandas.core.series.Series'>\n",
      "Index: 1000 entries, ulala to The 39 Steps\n",
      "Series name: None\n",
      "Non-Null Count  Dtype \n",
      "--------------  ----- \n",
      "1000 non-null   object\n",
      "dtypes: object(1)\n",
      "memory usage: 47.9+ KB\n"
     ]
    }
   ],
   "source": [
    "ms.info()"
   ]
  },
  {
   "cell_type": "code",
   "execution_count": 429,
   "id": "6598384c-1d29-4bd7-8a3d-fd3953d4912e",
   "metadata": {},
   "outputs": [
    {
     "data": {
      "text/plain": [
       "ulala                           Tim Robbins\n",
       "The Godfather                 Marlon Brando\n",
       "The Dark Knight              Christian Bale\n",
       "The Godfather: Part II            Al Pacino\n",
       "12 Angry Men                    Henry Fonda\n",
       "                                ...        \n",
       "Breakfast at Tiffany's       Audrey Hepburn\n",
       "Giant                      Elizabeth Taylor\n",
       "From Here to Eternity        Burt Lancaster\n",
       "Lifeboat                  Tallulah Bankhead\n",
       "The 39 Steps                   Robert Donat\n",
       "Length: 1000, dtype: object"
      ]
     },
     "execution_count": 429,
     "metadata": {},
     "output_type": "execute_result"
    }
   ],
   "source": [
    "ms"
   ]
  },
  {
   "cell_type": "code",
   "execution_count": 431,
   "id": "86d4d951-7253-47ec-8ccc-2c737555f5d9",
   "metadata": {},
   "outputs": [],
   "source": [
    "#sort values"
   ]
  },
  {
   "cell_type": "code",
   "execution_count": 439,
   "id": "96501353-b3a3-48a3-8b6e-550c9e67d627",
   "metadata": {},
   "outputs": [
    {
     "data": {
      "text/plain": [
       "Andaz Apna Apna                    Aamir Khan\n",
       "Dangal                             Aamir Khan\n",
       "3 Idiots                           Aamir Khan\n",
       "Dil Chahta Hai                     Aamir Khan\n",
       "Rang De Basanti                    Aamir Khan\n",
       "                                 ...         \n",
       "Trois couleurs: Blanc    Zbigniew Zamachowski\n",
       "(500) Days of Summer          Zooey Deschanel\n",
       "Babam ve Oglum                 Çetin Tekindor\n",
       "The Intouchables                Éric Toledano\n",
       "Vizontele                    Ömer Faruk Sorak\n",
       "Length: 1000, dtype: object"
      ]
     },
     "execution_count": 439,
     "metadata": {},
     "output_type": "execute_result"
    }
   ],
   "source": [
    "ms.sort_values(ascending=True) #A to Z, last few values are special character"
   ]
  },
  {
   "cell_type": "code",
   "execution_count": 441,
   "id": "b7fb8114-56fe-4c56-9bfe-70309fa9846c",
   "metadata": {},
   "outputs": [
    {
     "data": {
      "text/plain": [
       "Vizontele                                Ömer Faruk Sorak\n",
       "The Intouchables                            Éric Toledano\n",
       "Babam ve Oglum                             Çetin Tekindor\n",
       "(500) Days of Summer                      Zooey Deschanel\n",
       "Trois couleurs: Blanc                Zbigniew Zamachowski\n",
       "                                             ...         \n",
       "PK                                             Aamir Khan\n",
       "Lagaan: Once Upon a Time in India              Aamir Khan\n",
       "Andaz Apna Apna                                Aamir Khan\n",
       "3 Idiots                                       Aamir Khan\n",
       "Dangal                                         Aamir Khan\n",
       "Length: 1000, dtype: object"
      ]
     },
     "execution_count": 441,
     "metadata": {},
     "output_type": "execute_result"
    }
   ],
   "source": [
    "ms.sort_values(ascending=False) #special character first then A to Z"
   ]
  },
  {
   "cell_type": "code",
   "execution_count": 455,
   "id": "6c4b512b-0a65-4196-8a4c-ee342b787052",
   "metadata": {},
   "outputs": [],
   "source": [
    "ms.sort_values(ascending=False, inplace=True)"
   ]
  },
  {
   "cell_type": "code",
   "execution_count": 457,
   "id": "7dbacbdc-090a-443d-9e4a-7e3732697497",
   "metadata": {},
   "outputs": [
    {
     "data": {
      "text/plain": [
       "Vizontele                                Ömer Faruk Sorak\n",
       "The Intouchables                            Éric Toledano\n",
       "Babam ve Oglum                             Çetin Tekindor\n",
       "(500) Days of Summer                      Zooey Deschanel\n",
       "Trois couleurs: Blanc                Zbigniew Zamachowski\n",
       "                                             ...         \n",
       "Dil Chahta Hai                                 Aamir Khan\n",
       "Lagaan: Once Upon a Time in India              Aamir Khan\n",
       "Dangal                                         Aamir Khan\n",
       "3 Idiots                                       Aamir Khan\n",
       "Rang De Basanti                                Aamir Khan\n",
       "Length: 1000, dtype: object"
      ]
     },
     "execution_count": 457,
     "metadata": {},
     "output_type": "execute_result"
    }
   ],
   "source": [
    "ms"
   ]
  },
  {
   "cell_type": "code",
   "execution_count": 443,
   "id": "f9459a2c-ce03-4104-b319-2af1fd796d10",
   "metadata": {},
   "outputs": [],
   "source": [
    "#sort index"
   ]
  },
  {
   "cell_type": "code",
   "execution_count": 447,
   "id": "14087711-2987-48b2-9eb1-ef44125993c8",
   "metadata": {},
   "outputs": [
    {
     "data": {
      "text/plain": [
       "(500) Days of Summer                Zooey Deschanel\n",
       "12 Angry Men                            Henry Fonda\n",
       "12 Years a Slave                   Chiwetel Ejiofor\n",
       "1917                           Dean-Charles Chapman\n",
       "2001: A Space Odyssey                   Keir Dullea\n",
       "                                       ...         \n",
       "Zulu                                  Stanley Baker\n",
       "Zwartboek                         Carice van Houten\n",
       "ulala                                   Tim Robbins\n",
       "À bout de souffle                Jean-Paul Belmondo\n",
       "Ôkami kodomo no Ame to Yuki            Aoi Miyazaki\n",
       "Length: 1000, dtype: object"
      ]
     },
     "execution_count": 447,
     "metadata": {},
     "output_type": "execute_result"
    }
   ],
   "source": [
    "ms.sort_index() #first numbers, A-Z and then special character"
   ]
  },
  {
   "cell_type": "code",
   "execution_count": 449,
   "id": "b564e202-8a31-4341-ba2e-ea12f3c15cae",
   "metadata": {},
   "outputs": [
    {
     "data": {
      "text/plain": [
       "ulala                           Tim Robbins\n",
       "The Godfather                 Marlon Brando\n",
       "The Dark Knight              Christian Bale\n",
       "The Godfather: Part II            Al Pacino\n",
       "12 Angry Men                    Henry Fonda\n",
       "                                ...        \n",
       "Breakfast at Tiffany's       Audrey Hepburn\n",
       "Giant                      Elizabeth Taylor\n",
       "From Here to Eternity        Burt Lancaster\n",
       "Lifeboat                  Tallulah Bankhead\n",
       "The 39 Steps                   Robert Donat\n",
       "Length: 1000, dtype: object"
      ]
     },
     "execution_count": 449,
     "metadata": {},
     "output_type": "execute_result"
    }
   ],
   "source": [
    "ms"
   ]
  },
  {
   "cell_type": "code",
   "execution_count": 451,
   "id": "dfc05b34-7f4b-4ee1-9f5c-b4be0d391577",
   "metadata": {},
   "outputs": [],
   "source": [
    "#if you want to modify the original series with new index\n",
    "ms.sort_index(inplace=True)"
   ]
  },
  {
   "cell_type": "code",
   "execution_count": 453,
   "id": "85f53ff3-1e9b-47e1-9239-909b11f71bb0",
   "metadata": {},
   "outputs": [
    {
     "data": {
      "text/plain": [
       "(500) Days of Summer                Zooey Deschanel\n",
       "12 Angry Men                            Henry Fonda\n",
       "12 Years a Slave                   Chiwetel Ejiofor\n",
       "1917                           Dean-Charles Chapman\n",
       "2001: A Space Odyssey                   Keir Dullea\n",
       "                                       ...         \n",
       "Zulu                                  Stanley Baker\n",
       "Zwartboek                         Carice van Houten\n",
       "ulala                                   Tim Robbins\n",
       "À bout de souffle                Jean-Paul Belmondo\n",
       "Ôkami kodomo no Ame to Yuki            Aoi Miyazaki\n",
       "Length: 1000, dtype: object"
      ]
     },
     "execution_count": 453,
     "metadata": {},
     "output_type": "execute_result"
    }
   ],
   "source": [
    "ms"
   ]
  },
  {
   "cell_type": "code",
   "execution_count": 467,
   "id": "e26bde5e-8f89-40c9-b2ea-9f77ca2177b2",
   "metadata": {},
   "outputs": [],
   "source": [
    "s = pd.Series([1, 2, 3, 4])"
   ]
  },
  {
   "cell_type": "code",
   "execution_count": 469,
   "id": "f42b8651-107e-489c-a0aa-c52ef42f54ab",
   "metadata": {},
   "outputs": [
    {
     "data": {
      "text/plain": [
       "0    1\n",
       "1    2\n",
       "2    3\n",
       "3    4\n",
       "dtype: int64"
      ]
     },
     "execution_count": 469,
     "metadata": {},
     "output_type": "execute_result"
    }
   ],
   "source": [
    "s"
   ]
  },
  {
   "cell_type": "code",
   "execution_count": 471,
   "id": "645d5f64-f3eb-4fa1-aacd-024a9b30fc31",
   "metadata": {},
   "outputs": [],
   "source": [
    "#series arithmatic operation"
   ]
  },
  {
   "cell_type": "code",
   "execution_count": 473,
   "id": "bf9401a3-d8ff-4ad7-9e9d-2e9700d53797",
   "metadata": {},
   "outputs": [
    {
     "data": {
      "text/plain": [
       "0    11\n",
       "1    12\n",
       "2    13\n",
       "3    14\n",
       "dtype: int64"
      ]
     },
     "execution_count": 473,
     "metadata": {},
     "output_type": "execute_result"
    }
   ],
   "source": [
    "s+10"
   ]
  },
  {
   "cell_type": "code",
   "execution_count": 477,
   "id": "de18133a-3d56-4782-bf92-6ff92240fcfc",
   "metadata": {},
   "outputs": [
    {
     "data": {
      "text/plain": [
       "0    False\n",
       "1     True\n",
       "2     True\n",
       "3     True\n",
       "dtype: bool"
      ]
     },
     "execution_count": 477,
     "metadata": {},
     "output_type": "execute_result"
    }
   ],
   "source": [
    "s>1 #relational operator"
   ]
  },
  {
   "cell_type": "code",
   "execution_count": 479,
   "id": "b86f1294-f6dd-46ef-916d-f5cca85f1f15",
   "metadata": {},
   "outputs": [
    {
     "data": {
      "text/plain": [
       "1    2\n",
       "2    3\n",
       "3    4\n",
       "dtype: int64"
      ]
     },
     "execution_count": 479,
     "metadata": {},
     "output_type": "execute_result"
    }
   ],
   "source": [
    "s[s>1]"
   ]
  },
  {
   "cell_type": "code",
   "execution_count": 485,
   "id": "a6060d25-0d9b-4ce9-af3b-2002f5ee1c60",
   "metadata": {},
   "outputs": [
    {
     "data": {
      "text/plain": [
       "2"
      ]
     },
     "execution_count": 485,
     "metadata": {},
     "output_type": "execute_result"
    }
   ],
   "source": [
    "#how many values greater than 2\n",
    "s[s> 2].size"
   ]
  },
  {
   "cell_type": "code",
   "execution_count": 487,
   "id": "1cb9e8de-8cc7-4b2b-9cca-f671e9298f27",
   "metadata": {},
   "outputs": [
    {
     "data": {
      "text/plain": [
       "2"
      ]
     },
     "execution_count": 487,
     "metadata": {},
     "output_type": "execute_result"
    }
   ],
   "source": [
    "s[s> 2].count()"
   ]
  },
  {
   "cell_type": "code",
   "execution_count": 501,
   "id": "f8eaed8a-f1c9-4081-991b-c672fbef432d",
   "metadata": {},
   "outputs": [
    {
     "data": {
      "text/plain": [
       "Tom Hanks            12\n",
       "Robert De Niro       11\n",
       "Clint Eastwood       10\n",
       "Al Pacino            10\n",
       "Humphrey Bogart       9\n",
       "Leonardo DiCaprio     9\n",
       "Name: count, dtype: int64"
      ]
     },
     "execution_count": 501,
     "metadata": {},
     "output_type": "execute_result"
    }
   ],
   "source": [
    "#find the actors who has acted in more than 8 movies\n",
    "ms.value_counts()[ms.value_counts() > 8]"
   ]
  },
  {
   "cell_type": "code",
   "execution_count": 503,
   "id": "cd5e540a-1572-465d-a851-3dc10a74e905",
   "metadata": {},
   "outputs": [
    {
     "data": {
      "text/plain": [
       "Vizontele                                Ömer Faruk Sorak\n",
       "The Intouchables                            Éric Toledano\n",
       "Babam ve Oglum                             Çetin Tekindor\n",
       "(500) Days of Summer                      Zooey Deschanel\n",
       "Trois couleurs: Blanc                Zbigniew Zamachowski\n",
       "                                             ...         \n",
       "Dil Chahta Hai                                 Aamir Khan\n",
       "Lagaan: Once Upon a Time in India              Aamir Khan\n",
       "Dangal                                         Aamir Khan\n",
       "3 Idiots                                       Aamir Khan\n",
       "Rang De Basanti                                Aamir Khan\n",
       "Length: 1000, dtype: object"
      ]
     },
     "execution_count": 503,
     "metadata": {},
     "output_type": "execute_result"
    }
   ],
   "source": [
    "#looping with series\n",
    "ms"
   ]
  },
  {
   "cell_type": "code",
   "execution_count": 505,
   "id": "c0c43abe-d84c-4cc0-bb55-266f0632b3bf",
   "metadata": {},
   "outputs": [
    {
     "name": "stdout",
     "output_type": "stream",
     "text": [
      "Vizontele\n",
      "The Intouchables\n",
      "Babam ve Oglum\n",
      "(500) Days of Summer\n",
      "Trois couleurs: Blanc\n",
      "Capharnaüm\n",
      "The Hangover\n",
      "Mononoke-hime\n",
      "Le salaire de la peur\n",
      "Lat sau san taam\n",
      "Dip huet seung hung\n",
      "Wo hu cang long\n",
      "The Magnificent Seven\n",
      "Mimi wo sumaseba\n",
      "Rupan sansei: Kariosutoro no shiro\n",
      "K.G.F: Chapter 1\n",
      "Roma\n",
      "Annie Hall\n",
      "Manhattan\n",
      "Zelig\n",
      "Love and Death\n",
      "Ajeossi\n",
      "Night on Earth\n",
      "Star Trek II: The Wrath of Khan\n",
      "The Thin Man\n",
      "The Adventures of Robin Hood\n",
      "The Bridge on the River Kwai\n",
      "The Wild Bunch\n",
      "Stalag 17\n",
      "Sunset Blvd.\n",
      "The Boondock Saints\n",
      "Togo\n",
      "The Pursuit of Happyness\n",
      "Seven Pounds\n",
      "Stand by Me\n",
      "Das Cabinet des Dr. Caligari\n",
      "Bonnie and Clyde\n",
      "The Taking of Pelham One Two Three\n",
      "Freaks\n",
      "Tropa de Elite\n",
      "Tropa de Elite 2: O Inimigo Agora é Outro\n",
      "Vozvrashchenie\n",
      "A Streetcar Named Desire\n",
      "La haine\n",
      "Gully Boy\n",
      "Green Book\n",
      "Captain Fantastic\n",
      "Kahaani\n",
      "Smultronstället\n",
      "Uri: The Surgical Strike\n",
      "Shrek\n",
      "The Broken Circle Breakdown\n",
      "Little Miss Sunshine\n",
      "Kill Bill: Vol. 2\n",
      "Kill Bill: Vol. 1\n",
      "Adams æbler\n",
      "Festen\n",
      "The Lives of Others\n",
      "Witness for the Prosecution\n",
      "Hotaru no haka\n",
      "South Park: Bigger, Longer & Uncut\n",
      "Shichinin no samurai\n",
      "Tengoku to jigoku\n",
      "Yôjinbô\n",
      "Sanjuro\n",
      "Kakushi-toride no san-akunin\n",
      "Rashômon\n",
      "Kumonosu-jô\n",
      "Fiddler on the Roof\n",
      "Fa yeung nin wah\n",
      "La grande bellezza\n",
      "Mary and Max\n",
      "Down by Law\n",
      "Mad Max: Fury Road\n",
      "Warrior\n",
      "Apollo 13\n",
      "The Green Mile\n",
      "Forrest Gump\n",
      "Bridge of Spies\n",
      "Toy Story\n",
      "Saving Private Ryan\n",
      "Toy Story 4\n",
      "Toy Story 3\n",
      "Captain Phillips\n",
      "Cast Away\n",
      "Philadelphia\n",
      "Road to Perdition\n",
      "The Sandlot\n",
      "Edge of Tomorrow\n",
      "Minority Report\n",
      "A Few Good Men\n",
      "Mission: Impossible - Fallout\n",
      "The Last Samurai\n",
      "Magnolia\n",
      "Secrets & Lies\n",
      "The Last Picture Show\n",
      "La leggenda del pianista sull'oceano\n",
      "ulala\n",
      "Knockin' on Heaven's Door\n",
      "This Is England\n",
      "Me and Earl and the Dying Girl\n",
      "Le dîner de cons\n",
      "Monty Python and the Holy Grail\n",
      "Shadow of a Doubt\n",
      "Cowboy Bebop: Tengoku no tobira\n",
      "Kagemusha\n",
      "Ran\n",
      "Seppuku\n",
      "Batoru rowaiaru\n",
      "Death Note: Desu nôto\n",
      "Hidden Figures\n",
      "Lifeboat\n",
      "Hana-bi\n",
      "Ikiru\n",
      "Kokuhaku\n",
      "What We Do in the Shadows\n",
      "Un prophète\n",
      "Yeopgijeogin geunyeo\n",
      "Pink\n",
      "Rocky\n",
      "First Blood\n",
      "M.S. Dhoni: The Untold Story\n",
      "Dil Bechara\n",
      "Chhichhore\n",
      "Funny Games\n",
      "Soorarai Pottru\n",
      "Life of Pi\n",
      "Kaze no tani no Naushika\n",
      "The Great Escape\n",
      "Papillon\n",
      "Planes, Trains & Automobiles\n",
      "The Killing\n",
      "Kung fu\n",
      "Zulu\n",
      "English Vinglish\n",
      "Judgment at Nuremberg\n",
      "Guess Who's Coming to Dinner\n",
      "Inherit the Wind\n",
      "Les diaboliques\n",
      "Shaun of the Dead\n",
      "Hot Fuzz\n",
      "El ángel exterminador\n",
      "Aliens\n",
      "Alien\n",
      "In the Heat of the Night\n",
      "Kurenai no buta\n",
      "Tôkyô goddofâzâzu\n",
      "District 9\n",
      "The Fault in Our Stars\n",
      "Jab We Met\n",
      "Udta Punjab\n",
      "Haider\n",
      "Forushande\n",
      "Swades: We, the People\n",
      "My Name Is Khan\n",
      "Dilwale Dulhania Le Jayenge\n",
      "Veer-Zaara\n",
      "Chak De! India\n",
      "Bin-jip\n",
      "Eskiya\n",
      "Mystic River\n",
      "21 Grams\n",
      "I Am Sam\n",
      "Der Name der Rose\n",
      "The Man Who Would Be King\n",
      "Goldfinger\n",
      "The Goonies\n",
      "Match Point\n",
      "Little Women\n",
      "Sholay\n",
      "Lage Raho Munna Bhai\n",
      "Munna Bhai M.B.B.S.\n",
      "Gravity\n",
      "The Hateful Eight\n",
      "Fantasia\n",
      "Avatar\n",
      "The Killing Fields\n",
      "The Right Stuff\n",
      "Moon\n",
      "Control\n",
      "Hunt for the Wilderpeople\n",
      "Jurassic Park\n",
      "Bajrangi Bhaijaan\n",
      "Kimi no na wa.\n",
      "Deadpool 2\n",
      "Deadpool\n",
      "Paper Moon\n",
      "Barry Lyndon\n",
      "La La Land\n",
      "Drive\n",
      "Harold and Maude\n",
      "The Insider\n",
      "Cinderella Man\n",
      "Gladiator\n",
      "A Beautiful Mind\n",
      "3:10 to Yuma\n",
      "Dark City\n",
      "All That Jazz\n",
      "Jaws\n",
      "Hable con ella\n",
      "Inside Out\n",
      "Office Space\n",
      "Le locataire\n",
      "Jojo Rabbit\n",
      "En man som heter Ove\n",
      "Under sandet\n",
      "The Birds\n",
      "Giù la testa\n",
      "Dead Poets Society\n",
      "Good Will Hunting\n",
      "La vita è bella\n",
      "Out of the Past\n",
      "The Night of the Hunter\n",
      "Iron Man\n",
      "The Avengers\n",
      "Sherlock Holmes\n",
      "The 39 Steps\n",
      "Goodfellas\n",
      "A Bronx Tale\n",
      "The King of Comedy\n",
      "Raging Bull\n",
      "The Irishman\n",
      "The Deer Hunter\n",
      "Casino\n",
      "Once Upon a Time in America\n",
      "Awakenings\n",
      "Sleepers\n",
      "Taxi Driver\n",
      "This Is Spinal Tap\n",
      "The Lion King\n",
      "Sound of Metal\n",
      "Gilda\n",
      "Toki o kakeru shôjo\n",
      "Scarface: The Shame of the Nation\n",
      "The Visitor\n",
      "Days of Heaven\n",
      "Hachi: A Dog's Tale\n",
      "Primal Fear\n",
      "The Straight Story\n",
      "Withnail & I\n",
      "Close Encounters of the Third Kind\n",
      "Where Eagles Dare\n",
      "Zootopia\n",
      "Nueve reinas\n",
      "El secreto de sus ojos\n",
      "Once Were Warriors\n",
      "The Lost Weekend\n",
      "Dial M for Murder\n",
      "Barfi!\n",
      "Rockstar\n",
      "Bohemian Rhapsody\n",
      "The Grand Budapest Hotel\n",
      "Anand\n",
      "Udaan\n",
      "The Blind Side\n",
      "Sin City\n",
      "Vikram Vedha\n",
      "Kal Ho Naa Ho\n",
      "Underground\n",
      "Bãhubali: The Beginning\n",
      "Baahubali 2: The Conclusion\n",
      "Les yeux sans visage\n",
      "Nuovo Cinema Paradiso\n",
      "Synecdoche, New York\n",
      "The Lego Movie\n",
      "The Jungle Book\n",
      "Being There\n",
      "Dr. Strangelove or: How I Learned to Stop Worrying and Love the Bomb\n",
      "Spider-Man: Into the Spider-Verse\n",
      "Lawrence of Arabia\n",
      "The Lion in Winter\n",
      "M - Eine Stadt sucht einen Mörder\n",
      "The Station Agent\n",
      "A Christmas Story\n",
      "Jodaeiye Nader az Simin\n",
      "A Man for All Seasons\n",
      "Cool Hand Luke\n",
      "The Hustler\n",
      "Butch Cassidy and the Sundance Kid\n",
      "The Sting\n",
      "The Verdict\n",
      "X-Men: Days of Future Past\n",
      "OMG: Oh My God!\n",
      "In America\n",
      "Dead Man's Shoes\n",
      "Midnight in Paris\n",
      "The Third Man\n",
      "Citizen Kane\n",
      "Doctor Zhivago\n",
      "Lilja 4-ever\n",
      "Straight Outta Compton\n",
      "Portrait de la jeune fille en feu\n",
      "The Secret of Kells\n",
      "Dogville\n",
      "The Others\n",
      "Adaptation.\n",
      "Lord of War\n",
      "Serenity\n",
      "Solaris\n",
      "Black Swan\n",
      "Mulholland Dr.\n",
      "Eastern Promises\n",
      "The Best Years of Our Lives\n",
      "Bir Zamanlar Anadolu'da\n",
      "Das Experiment\n",
      "Se7en\n",
      "Gone Baby Gone\n",
      "Drishyam\n",
      "Bacheha-Ye aseman\n",
      "Koe no katachi\n",
      "Akira\n",
      "Whiplash\n",
      "Omohide poro poro\n",
      "Hævnen\n",
      "The Wrestler\n",
      "Les triplettes de Belleville\n",
      "C.R.A.Z.Y.\n",
      "The Peanut Butter Falcon\n",
      "The Day the Earth Stood Still\n",
      "Män som hatar kvinnor\n",
      "Birdman or (The Unexpected Virtue of Ignorance)\n",
      "Back to the Future\n",
      "Back to the Future Part II\n",
      "Falling Down\n",
      "The Game\n",
      "The Muppet Christmas Carol\n",
      "The Warriors\n",
      "Just Mercy\n",
      "Creed\n",
      "Rosemary's Baby\n",
      "The Purple Rose of Cairo\n",
      "Hannah and Her Sisters\n",
      "Lethal Weapon\n",
      "Mad Max 2\n",
      "Braveheart\n",
      "Papurika\n",
      "Tenkû no shiro Rapyuta\n",
      "Jungfrukällan\n",
      "Det sjunde inseglet\n",
      "Nosferatu\n",
      "Full Metal Jacket\n",
      "Interstellar\n",
      "Dallas Buyers Club\n",
      "The Gentlemen\n",
      "Ferris Bueller's Day Off\n",
      "Glory\n",
      "The Martian\n",
      "The Bourne Supremacy\n",
      "Ford v Ferrari\n",
      "The Bourne Ultimatum\n",
      "Il postino\n",
      "Okuribito\n",
      "Nelyubov\n",
      "Apocalypse Now\n",
      "Badlands\n",
      "Crimes and Misdemeanors\n",
      "The Hobbit: An Unexpected Journey\n",
      "The Godfather\n",
      "On the Waterfront\n",
      "The Fighter\n",
      "Boogie Nights\n",
      "Spotlight\n",
      "Dark Waters\n",
      "Star Wars\n",
      "Star Wars: Episode V - The Empire Strikes Back\n",
      "Star Wars: Episode VI - Return of the Jedi\n",
      "Persepolis\n",
      "La Vie En Rose\n",
      "Contratiempo\n",
      "Some Like It Hot\n",
      "Y tu mamá también\n",
      "La passion de Jeanne d'Arc\n",
      "Zerkalo\n",
      "The Shop Around the Corner\n",
      "The Lady Vanishes\n",
      "La dolce vita\n",
      "8½\n",
      "La règle du jeu\n",
      "Gangs of Wasseypur\n",
      "A Clockwork Orange\n",
      "Amarcord\n",
      "Druk\n",
      "Jagten\n",
      "Efter brylluppet\n",
      "Flipped\n",
      "Home Alone\n",
      "La vie d'Adèle\n",
      "Celda 211\n",
      "Incendies\n",
      "Slumdog Millionaire\n",
      "The Perks of Being a Wallflower\n",
      "Cabaret\n",
      "Hamilton\n",
      "Manbiki kazoku\n",
      "The Matrix\n",
      "A Little Princess\n",
      "Schindler's List\n",
      "Taken\n",
      "All Quiet on the Western Front\n",
      "The Naked Gun: From the Files of Police Squad!\n",
      "Ba wang bie ji\n",
      "The Revenant\n",
      "Blood Diamond\n",
      "Catch Me If You Can\n",
      "Shutter Island\n",
      "The Departed\n",
      "The Wolf of Wall Street\n",
      "Titanic\n",
      "Inception\n",
      "Once Upon a Time... in Hollywood\n",
      "Do lok tin si\n",
      "Mandariinid\n",
      "Gongdong gyeongbi guyeok JSA\n",
      "Finding Nemo\n",
      "The Fall\n",
      "The Dirty Dozen\n",
      "Ang-ma-reul bo-at-da\n",
      "Rebecca\n",
      "Sleuth\n",
      "I, Daniel Blake\n",
      "Le scaphandre et le papillon\n",
      "Ladri di biciclette\n",
      "Victoria\n",
      "A Star Is Born\n",
      "Jûbê ninpûchô\n",
      "Låt den rätte komma in\n",
      "Cidade de Deus\n",
      "The Thing\n",
      "Aguirre, der Zorn Gottes\n",
      "Fitzcarraldo\n",
      "Majo no takkyûbin\n",
      "Beauty and the Beast\n",
      "Spartacus\n",
      "Paths of Glory\n",
      "Ace in the Hole\n",
      "Chugyeokja\n",
      "Ah-ga-ssi\n",
      "Bom Yeoareum Gaeul Gyeoul Geurigo Bom\n",
      "American Beauty\n",
      "The Usual Suspects\n",
      "L.A. Confidential\n",
      "Invasion of the Body Snatchers\n",
      "Tombstone\n",
      "The Untouchables\n",
      "Dances with Wolves\n",
      "JFK\n",
      "Hamlet\n",
      "Letters from Iwo Jima\n",
      "Soul\n",
      "Wind River\n",
      "Atonement\n",
      "Pride & Prejudice\n",
      "2001: A Space Odyssey\n",
      "Shin seiki Evangelion Gekijô-ban: Air/Magokoro wo, kimi ni\n",
      "Fried Green Tomatoes\n",
      "On Golden Pond\n",
      "Bringing Up Baby\n",
      "Peeping Tom\n",
      "Queen\n",
      "Boksuneun naui geot\n",
      "Salinui chueok\n",
      "Gisaengchung\n",
      "Die Welle\n",
      "Das Boot\n",
      "Pâfekuto burû\n",
      "Trois couleurs: Bleu\n",
      "The Sound of Music\n",
      "Mary Poppins\n",
      "Children of Men\n",
      "Philomena\n",
      "Enemy at the Gates\n",
      "God's Own Country\n",
      "Lucky Number Slevin\n",
      "Black Hawk Down\n",
      "Only the Brave\n",
      "50/50\n",
      "El cuerpo\n",
      "Brazil\n",
      "Deliverance\n",
      "Blow\n",
      "Ed Wood\n",
      "Edward Scissorhands\n",
      "Fear and Loathing in Las Vegas\n",
      "Pirates of the Caribbean: The Curse of the Black Pearl\n",
      "Finding Neverland\n",
      "Dead Man\n",
      "What's Eating Gilbert Grape\n",
      "The Searchers\n",
      "The Quiet Man\n",
      "Stagecoach\n",
      "Rio Bravo\n",
      "Pulp Fiction\n",
      "The Little Mermaid\n",
      "Aladdin\n",
      "Moana\n",
      "The Last Emperor\n",
      "A Hard Day's Night\n",
      "Watership Down\n",
      "Being John Malkovich\n",
      "Searching\n",
      "Hedwig and the Angry Inch\n",
      "Wreck-It Ralph\n",
      "The Blues Brothers\n",
      "True Grit\n",
      "No Country for Old Men\n",
      "Avengers: Infinity War\n",
      "Captain America: The Winter Soldier\n",
      "Captain America: Civil War\n",
      "Avengers: Endgame\n",
      "My Cousin Vinny\n",
      "The Silence of the Lambs\n",
      "Joker\n",
      "Walk the Line\n",
      "Her\n",
      "The Muppet Movie\n",
      "The Thin Red Line\n",
      "The Count of Monte Cristo\n",
      "Eternal Sunshine of the Spotless Mind\n",
      "The Truman Show\n",
      "Huo Yuan Jia\n",
      "Ying xiong\n",
      "Zombieland\n",
      "The Social Network\n",
      "Le Petit Prince\n",
      "Jules et Jim\n",
      "Les quatre cents coups\n",
      "Delicatessen\n",
      "À bout de souffle\n",
      "Amour\n",
      "Il conformista\n",
      "Du rififi chez les hommes\n",
      "Léon\n",
      "La Grande Illusion\n",
      "The Artist\n",
      "How to Train Your Dragon 2\n",
      "Mar adentro\n",
      "Snatch\n",
      "Rushmore\n",
      "Dazed and Confused\n",
      "Lock, Stock and Two Smoking Barrels\n",
      "Mr. Nobody\n",
      "Moonrise Kingdom\n",
      "Taegukgi hwinalrimyeo\n",
      "Happiness\n",
      "Ratatouille\n",
      "Ray\n",
      "Django Unchained\n",
      "Billy Elliot\n",
      "Mr. Smith Goes to Washington\n",
      "The Man Who Shot Liberty Valance\n",
      "It's a Wonderful Life\n",
      "Harvey\n",
      "Rear Window\n",
      "Vertigo\n",
      "Rope\n",
      "Anatomy of a Murder\n",
      "X: First Class\n",
      "The Last King of Scotland\n",
      "Interstate 60: Episodes of the Road\n",
      "Rebel Without a Cause\n",
      "East of Eden\n",
      "White Heat\n",
      "Misery\n",
      "Brokeback Mountain\n",
      "Zodiac\n",
      "Nightcrawler\n",
      "October Sky\n",
      "End of Watch\n",
      "Donnie Darko\n",
      "Wonder\n",
      "Watchmen\n",
      "The Shining\n",
      "As Good as It Gets\n",
      "Chinatown\n",
      "One Flew Over the Cuckoo's Nest\n",
      "The Apartment\n",
      "The Odd Couple\n",
      "The Butterfly Effect\n",
      "Pan's Labyrinth\n",
      "Blue Velvet\n",
      "La double vie de Véronique\n",
      "Trois couleurs: Rouge\n",
      "Paan Singh Tomar\n",
      "The Lunchbox\n",
      "Talvar\n",
      "Höstsonaten\n",
      "Serbuan maut\n",
      "Serbuan maut 2: Berandal\n",
      "The Hobbit: The Desolation of Smaug\n",
      "Madeo\n",
      "Casablanca\n",
      "To Have and Have Not\n",
      "The Maltese Falcon\n",
      "The African Queen\n",
      "In a Lonely Place\n",
      "The Treasure of the Sierra Madre\n",
      "The Big Sleep\n",
      "Sabrina\n",
      "Key Largo\n",
      "V for Vendetta\n",
      "Loving Vincent\n",
      "Logan\n",
      "Prisoners\n",
      "Zindagi Na Milegi Dobara\n",
      "Tonari no Totoro\n",
      "Omoide no Mânî\n",
      "Million Dollar Baby\n",
      "Kaze tachinu\n",
      "E.T. the Extra-Terrestrial\n",
      "12 Angry Men\n",
      "The Grapes of Wrath\n",
      "Once Upon a Time in the West\n",
      "Reservoir Dogs\n",
      "Paris, Texas\n",
      "Blade Runner 2049\n",
      "Blade Runner\n",
      "Raiders of the Lost Ark\n",
      "The Fugitive\n",
      "Indiana Jones and the Last Crusade\n",
      "Viskningar och rop\n",
      "Kis Uykusu\n",
      "Mustang\n",
      "Les choristes\n",
      "Memento\n",
      "Jeux d'enfants\n",
      "Duck Soup\n",
      "After Hours\n",
      "To Kill a Mockingbird\n",
      "Cape Fear\n",
      "Roman Holiday\n",
      "Life of Brian\n",
      "Dà hóng denglong gaogao guà\n",
      "Darbareye Elly\n",
      "Once\n",
      "Perfetti sconosciuti\n",
      "Le notti di Cabiria\n",
      "Apocalypto\n",
      "300\n",
      "Sunrise: A Song of Two Humans\n",
      "Gone with the Wind\n",
      "The Wizard of Oz\n",
      "Ocean's Eleven\n",
      "Fantastic Mr. Fox\n",
      "Patton\n",
      "La migliore offerta\n",
      "Shine\n",
      "Willy Wonka & the Chocolate Factory\n",
      "Young Frankenstein\n",
      "Laura\n",
      "Singin' in the Rain\n",
      "The French Connection\n",
      "The Conversation\n",
      "Mississippi Burning\n",
      "The Royal Tenenbaums\n",
      "The Notebook\n",
      "Au revoir les enfants\n",
      "Dawn of the Planet of the Apes\n",
      "High Noon\n",
      "Diarios de motocicleta\n",
      "L'avventura\n",
      "Double Indemnity\n",
      "The Bourne Identity\n",
      "Lola rennt\n",
      "The Manchurian Candidate\n",
      "Frost/Nixon\n",
      "Three Billboards Outside Ebbing, Missouri\n",
      "Dunkirk\n",
      "Le charme discret de la bourgeoisie\n",
      "Central do Brasil\n",
      "Sing Street\n",
      "Rogue One\n",
      "Network\n",
      "Strangers on a Train\n",
      "Bhaag Milkha Bhaag\n",
      "Amadeus\n",
      "Big Fish\n",
      "Trainspotting\n",
      "Gattaca\n",
      "Before Midnight\n",
      "Before Sunrise\n",
      "Before Sunset\n",
      "Waking Life\n",
      "Blood Simple\n",
      "O Brother, Where Art Thou?\n",
      "Barton Fink\n",
      "Fargo\n",
      "The Big Lebowski\n",
      "Miller's Crossing\n",
      "King Kong\n",
      "Nefes: Vatan Sagolsun\n",
      "Ayla: The Daughter of War\n",
      "Hiroshima mon amour\n",
      "Sense and Sensibility\n",
      "The Help\n",
      "Breaking the Waves\n",
      "Sicario\n",
      "The Breakfast Club\n",
      "Amores perros\n",
      "Into the Wild\n",
      "The Red Shoes\n",
      "The Long Goodbye\n",
      "The Exorcist\n",
      "Requiem for a Dream\n",
      "Boyhood\n",
      "Giant\n",
      "Who's Afraid of Virginia Woolf?\n",
      "Cat on a Hot Tin Roof\n",
      "The Lord of the Rings: The Fellowship of the Ring\n",
      "The Lord of the Rings: The Return of the King\n",
      "The Lord of the Rings: The Two Towers\n",
      "The Iron Giant\n",
      "The Magdalene Sisters\n",
      "The Illusionist\n",
      "25th Hour\n",
      "American History X\n",
      "The Day of the Jackal\n",
      "Abre los ojos\n",
      "Ivanovo detstvo\n",
      "Miracle on 34th Street\n",
      "A Night at the Opera\n",
      "The Theory of Everything\n",
      "The Trial of the Chicago 7\n",
      "Kramer vs. Kramer\n",
      "The Graduate\n",
      "All the President's Men\n",
      "Midnight Cowboy\n",
      "Rain Man\n",
      "Night of the Living Dead\n",
      "Yip Man\n",
      "Ordinary People\n",
      "Halloween\n",
      "Hotel Rwanda\n",
      "Crash\n",
      "About Time\n",
      "Joyeux Noël\n",
      "Lion\n",
      "Remember the Titans\n",
      "Inside Man\n",
      "The Hurricane\n",
      "Malcolm X\n",
      "American Gangster\n",
      "Training Day\n",
      "Man on Fire\n",
      "Kind Hearts and Coronets\n",
      "The Innocents\n",
      "1917\n",
      "Dom za vesanje\n",
      "Airplane!\n",
      "Naked\n",
      "Monsters, Inc.\n",
      "Song of the Sea\n",
      "The Man from Earth\n",
      "Blowup\n",
      "Dawn of the Dead\n",
      "Sen to Chihiro no kamikakushi\n",
      "Relatos salvajes\n",
      "The Color Purple\n",
      "The Nightmare Before Christmas\n",
      "Do the Right Thing\n",
      "Harry Potter and the Deathly Hallows: Part 2\n",
      "Harry Potter and the Goblet of Fire\n",
      "Harry Potter and the Half-Blood Prince\n",
      "Harry Potter and the Prisoner of Azkaban\n",
      "Harry Potter and the Sorcerer's Stone\n",
      "Harry Potter and the Deathly Hallows: Part 1\n",
      "Get Out\n",
      "My Left Foot: The Story of Christy Brown\n",
      "In the Name of the Father\n",
      "The Last of the Mohicans\n",
      "There Will Be Blood\n",
      "The Girl with the Dragon Tattoo\n",
      "Casino Royale\n",
      "Knives Out\n",
      "Skyfall\n",
      "Rush\n",
      "Good Bye Lenin!\n",
      "Bound by Honor\n",
      "Coraline\n",
      "Star Wars: Episode VII - The Force Awakens\n",
      "Boyz n the Hood\n",
      "Incredibles 2\n",
      "The Incredibles\n",
      "The King's Speech\n",
      "Kingsman: The Secret Service\n",
      "In Bruges\n",
      "Frankenstein\n",
      "Per un pugno di dollari\n",
      "Kelly's Heroes\n",
      "Escape from Alcatraz\n",
      "Dirty Harry\n",
      "The Bridges of Madison County\n",
      "The Outlaw Josey Wales\n",
      "Il buono, il brutto, il cattivo\n",
      "Unforgiven\n",
      "Per qualche dollaro in più\n",
      "Gran Torino\n",
      "Blazing Saddles\n",
      "The Invisible Man\n",
      "It Happened One Night\n",
      "28 Days Later...\n",
      "True Romance\n",
      "Das weiße Band - Eine deutsche Kindergeschichte\n",
      "The Machinist\n",
      "Batman Begins\n",
      "Empire of the Sun\n",
      "The Prestige\n",
      "American Psycho\n",
      "The Big Short\n",
      "The Dark Knight Rises\n",
      "The Dark Knight\n",
      "Big Hero 6\n",
      "How to Train Your Dragon\n",
      "Despicable Me\n",
      "Guardians of the Galaxy Vol. 2\n",
      "Guardians of the Galaxy\n",
      "Star Trek\n",
      "Star Trek Into Darkness\n",
      "Hell or High Water\n",
      "Thor: Ragnarok\n",
      "Gifted\n",
      "Oldeuboi\n",
      "Kaguyahime no monogatari\n",
      "12 Years a Slave\n",
      "Tôkyô monogatari\n",
      "Hauru no ugoku shiro\n",
      "Ben-Hur\n",
      "Planet of the Apes\n",
      "The Ten Commandments\n",
      "Touch of Evil\n",
      "Kubo and the Two Strings\n",
      "Platoon\n",
      "Stardust\n",
      "The Gold Rush\n",
      "City Lights\n",
      "Modern Times\n",
      "The Circus\n",
      "The Kid\n",
      "The Great Dictator\n",
      "G.O.R.A.\n",
      "Brief Encounter\n",
      "Todo sobre mi madre\n",
      "Repulsion\n",
      "Belle de jour\n",
      "Gake no ue no Ponyo\n",
      "Manchester by the Sea\n",
      "The Philadelphia Story\n",
      "North by Northwest\n",
      "Charade\n",
      "His Girl Friday\n",
      "Notorious\n",
      "Arsenic and Old Lace\n",
      "The Princess Bride\n",
      "Saw\n",
      "To Be or Not to Be\n",
      "Klaus\n",
      "Zwartboek\n",
      "Le passé\n",
      "Tangled\n",
      "The General\n",
      "Sherlock Jr.\n",
      "From Here to Eternity\n",
      "Sweet Smell of Success\n",
      "Isle of Dogs\n",
      "Der Untergang\n",
      "Der Himmel über Berlin\n",
      "Die Hard: With a Vengeance\n",
      "Die Hard\n",
      "The Sixth Sense\n",
      "Twelve Monkeys\n",
      "The Fifth Element\n",
      "Enter the Dragon\n",
      "Nebraska\n",
      "Evil Dead II\n",
      "The Florida Project\n",
      "Chung Hing sam lam\n",
      "Metropolis\n",
      "Short Term 12\n",
      "Room\n",
      "Clerks\n",
      "No Man's Land\n",
      "La battaglia di Algeri\n",
      "Mysterious Skin\n",
      "Silver Linings Playbook\n",
      "Moneyball\n",
      "Inglourious Basterds\n",
      "Fight Club\n",
      "The Curious Case of Benjamin Button\n",
      "Midnight Express\n",
      "Batman: Mask of the Phantasm\n",
      "Bride of Frankenstein\n",
      "Up\n",
      "Who Framed Roger Rabbit\n",
      "Pink Floyd: The Wall\n",
      "Dancer in the Dark\n",
      "Gegen die Wand\n",
      "When Harry Met Sally...\n",
      "Almost Famous\n",
      "Sling Blade\n",
      "Lost Highway\n",
      "Pride\n",
      "Lost in Translation\n",
      "Ghostbusters\n",
      "Groundhog Day\n",
      "Persona\n",
      "What Ever Happened to Baby Jane?\n",
      "All About Eve\n",
      "Fanny och Alexander\n",
      "Spoorloos\n",
      "The Imitation Game\n",
      "Paddington 2\n",
      "Gandhi\n",
      "WALL·E\n",
      "Argo\n",
      "Gone Girl\n",
      "Mulan\n",
      "La planète sauvage\n",
      "Auf der anderen Seite\n",
      "Crna macka, beli macor\n",
      "Andhadhun\n",
      "Vicky Donor\n",
      "Badhaai ho\n",
      "Un long dimanche de fiançailles\n",
      "Amélie\n",
      "Breakfast at Tiffany's\n",
      "My Fair Lady\n",
      "Wait Until Dark\n",
      "Kôkaku Kidôtai\n",
      "Toy Story 2\n",
      "The Boy in the Striped Pyjamas\n",
      "Red River\n",
      "The Terminator\n",
      "Predator\n",
      "Terminator 2: Judgment Day\n",
      "Call Me by Your Name\n",
      "Miracle in cell NO.7\n",
      "Ôkami kodomo no Ame to Yuki\n",
      "A Wednesday\n",
      "La piel que habito\n",
      "La Strada\n",
      "The Message\n",
      "Psycho\n",
      "The Elephant Man\n",
      "The World's Fastest Indian\n",
      "The Remains of the Day\n",
      "Baby Driver\n",
      "Mommy\n",
      "Vivre sa vie: Film en douze tableaux\n",
      "Changeling\n",
      "Vampire Hunter D: Bloodlust\n",
      "The Longest Day\n",
      "Hacksaw Ridge\n",
      "Ondskan\n",
      "Short Cuts\n",
      "Andrei Rublev\n",
      "Tumbbad\n",
      "4 luni, 3 saptamâni si 2 zile\n",
      "Kari-gurashi no Arietti\n",
      "Arrival\n",
      "Taare Zameen Par\n",
      "Black\n",
      "Kai po che!\n",
      "Stalker\n",
      "Ex Machina\n",
      "Raazi\n",
      "Leviafan\n",
      "Idi i smotri\n",
      "Bronenosets Potemkin\n",
      "La montaña sagrada\n",
      "The Ladykillers\n",
      "Mou gaan dou\n",
      "Le samouraï\n",
      "Donnie Brasco\n",
      "Scarface\n",
      "Serpico\n",
      "Heat\n",
      "Dog Day Afternoon\n",
      "Scent of a Woman\n",
      "Glengarry Glen Ross\n",
      "The Godfather: Part III\n",
      "The Godfather: Part II\n",
      "Carlito's Way\n",
      "Baby\n",
      "Hera Pheri\n",
      "Airlift\n",
      "Special Chabbis\n",
      "Drishyam\n",
      "Detachment\n",
      "The Pianist\n",
      "Coco\n",
      "Marriage Story\n",
      "Beasts of No Nation\n",
      "Dev.D\n",
      "Kick-Ass\n",
      "Andaz Apna Apna\n",
      "PK\n",
      "Dil Chahta Hai\n",
      "Lagaan: Once Upon a Time in India\n",
      "Dangal\n",
      "3 Idiots\n",
      "Rang De Basanti\n"
     ]
    }
   ],
   "source": [
    "#for index\n",
    "for i in ms.index:\n",
    "    print(i)"
   ]
  },
  {
   "cell_type": "code",
   "execution_count": 507,
   "id": "e350e0d8-eaea-47b6-a51e-d4ade961ec7d",
   "metadata": {},
   "outputs": [
    {
     "name": "stdout",
     "output_type": "stream",
     "text": [
      "Ömer Faruk Sorak\n",
      "Éric Toledano\n",
      "Çetin Tekindor\n",
      "Zooey Deschanel\n",
      "Zbigniew Zamachowski\n",
      "Zain Al Rafeea\n",
      "Zach Galifianakis\n",
      "Yôji Matsuda\n",
      "Yves Montand\n",
      "Yun-Fat Chow\n",
      "Yun-Fat Chow\n",
      "Yun-Fat Chow\n",
      "Yul Brynner\n",
      "Yoko Honna\n",
      "Yasuo Yamada\n",
      "Yash\n",
      "Yalitza Aparicio\n",
      "Woody Allen\n",
      "Woody Allen\n",
      "Woody Allen\n",
      "Woody Allen\n",
      "Won Bin\n",
      "Winona Ryder\n",
      "William Shatner\n",
      "William Powell\n",
      "William Keighley\n",
      "William Holden\n",
      "William Holden\n",
      "William Holden\n",
      "William Holden\n",
      "Willem Dafoe\n",
      "Willem Dafoe\n",
      "Will Smith\n",
      "Will Smith\n",
      "Wil Wheaton\n",
      "Werner Krauss\n",
      "Warren Beatty\n",
      "Walter Matthau\n",
      "Wallace Ford\n",
      "Wagner Moura\n",
      "Wagner Moura\n",
      "Vladimir Garin\n",
      "Vivien Leigh\n",
      "Vincent Cassel\n",
      "Vijay Varma\n",
      "Viggo Mortensen\n",
      "Viggo Mortensen\n",
      "Vidya Balan\n",
      "Victor Sjöström\n",
      "Vicky Kaushal\n",
      "Vicky Jenson\n",
      "Veerle Baetens\n",
      "Valerie Faris\n",
      "Uma Thurman\n",
      "Uma Thurman\n",
      "Ulrich Thomsen\n",
      "Ulrich Thomsen\n",
      "Ulrich Mühe\n",
      "Tyrone Power\n",
      "Tsutomu Tatsumi\n",
      "Trey Parker\n",
      "Toshirô Mifune\n",
      "Toshirô Mifune\n",
      "Toshirô Mifune\n",
      "Toshirô Mifune\n",
      "Toshirô Mifune\n",
      "Toshirô Mifune\n",
      "Toshirô Mifune\n",
      "Topol\n",
      "Tony Chiu-Wai Leung\n",
      "Toni Servillo\n",
      "Toni Collette\n",
      "Tom Waits\n",
      "Tom Hardy\n",
      "Tom Hardy\n",
      "Tom Hanks\n",
      "Tom Hanks\n",
      "Tom Hanks\n",
      "Tom Hanks\n",
      "Tom Hanks\n",
      "Tom Hanks\n",
      "Tom Hanks\n",
      "Tom Hanks\n",
      "Tom Hanks\n",
      "Tom Hanks\n",
      "Tom Hanks\n",
      "Tom Hanks\n",
      "Tom Guiry\n",
      "Tom Cruise\n",
      "Tom Cruise\n",
      "Tom Cruise\n",
      "Tom Cruise\n",
      "Tom Cruise\n",
      "Tom Cruise\n",
      "Timothy Spall\n",
      "Timothy Bottoms\n",
      "Tim Roth\n",
      "Tim Robbins\n",
      "Til Schweiger\n",
      "Thomas Turgoose\n",
      "Thomas Mann\n",
      "Thierry Lhermitte\n",
      "Terry Jones\n",
      "Teresa Wright\n",
      "Tensai Okamura\n",
      "Tatsuya Nakadai\n",
      "Tatsuya Nakadai\n",
      "Tatsuya Nakadai\n",
      "Tatsuya Fujiwara\n",
      "Tatsuya Fujiwara\n",
      "Taraji P. Henson\n",
      "Tallulah Bankhead\n",
      "Takeshi Kitano\n",
      "Takashi Shimura\n",
      "Takako Matsu\n",
      "Taika Waititi\n",
      "Tahar Rahim\n",
      "Tae-Hyun Cha\n",
      "Taapsee Pannu\n",
      "Sylvester Stallone\n",
      "Sylvester Stallone\n",
      "Sushant Singh Rajput\n",
      "Sushant Singh Rajput\n",
      "Sushant Singh Rajput\n",
      "Susanne Lothar\n",
      "Suriya\n",
      "Suraj Sharma\n",
      "Sumi Shimamoto\n",
      "Steve McQueen\n",
      "Steve McQueen\n",
      "Steve Martin\n",
      "Sterling Hayden\n",
      "Stephen Chow\n",
      "Stanley Baker\n",
      "Sridevi\n",
      "Spencer Tracy\n",
      "Spencer Tracy\n",
      "Spencer Tracy\n",
      "Simone Signoret\n",
      "Simon Pegg\n",
      "Simon Pegg\n",
      "Silvia Pinal\n",
      "Sigourney Weaver\n",
      "Sigourney Weaver\n",
      "Sidney Poitier\n",
      "Shûichirô Moriyama\n",
      "Shôgo Furuya\n",
      "Sharlto Copley\n",
      "Shailene Woodley\n",
      "Shahid Kapoor\n",
      "Shahid Kapoor\n",
      "Shahid Kapoor\n",
      "Shahab Hosseini\n",
      "Shah Rukh Khan\n",
      "Shah Rukh Khan\n",
      "Shah Rukh Khan\n",
      "Shah Rukh Khan\n",
      "Shah Rukh Khan\n",
      "Seung-Yun Lee\n",
      "Sener Sen\n",
      "Sean Penn\n",
      "Sean Penn\n",
      "Sean Penn\n",
      "Sean Connery\n",
      "Sean Connery\n",
      "Sean Connery\n",
      "Sean Astin\n",
      "Scarlett Johansson\n",
      "Saoirse Ronan\n",
      "Sanjeev Kumar\n",
      "Sanjay Dutt\n",
      "Sanjay Dutt\n",
      "Sandra Bullock\n",
      "Samuel L. Jackson\n",
      "Samuel Armstrong\n",
      "Sam Worthington\n",
      "Sam Waterston\n",
      "Sam Shepard\n",
      "Sam Rockwell\n",
      "Sam Riley\n",
      "Sam Neill\n",
      "Sam Neill\n",
      "Salman Khan\n",
      "Ryûnosuke Kamiki\n",
      "Ryan Reynolds\n",
      "Ryan Reynolds\n",
      "Ryan O'Neal\n",
      "Ryan O'Neal\n",
      "Ryan Gosling\n",
      "Ryan Gosling\n",
      "Ruth Gordon\n",
      "Russell Crowe\n",
      "Russell Crowe\n",
      "Russell Crowe\n",
      "Russell Crowe\n",
      "Russell Crowe\n",
      "Rufus Sewell\n",
      "Roy Scheider\n",
      "Roy Scheider\n",
      "Rosario Flores\n",
      "Ronnie Del Carmen\n",
      "Ron Livingston\n",
      "Roman Polanski\n",
      "Roman Griffin Davis\n",
      "Rolf Lassgård\n",
      "Roland Møller\n",
      "Rod Taylor\n",
      "Rod Steiger\n",
      "Robin Williams\n",
      "Robin Williams\n",
      "Roberto Benigni\n",
      "Robert Mitchum\n",
      "Robert Mitchum\n",
      "Robert Downey Jr.\n",
      "Robert Downey Jr.\n",
      "Robert Downey Jr.\n",
      "Robert Donat\n",
      "Robert De Niro\n",
      "Robert De Niro\n",
      "Robert De Niro\n",
      "Robert De Niro\n",
      "Robert De Niro\n",
      "Robert De Niro\n",
      "Robert De Niro\n",
      "Robert De Niro\n",
      "Robert De Niro\n",
      "Robert De Niro\n",
      "Robert De Niro\n",
      "Rob Reiner\n",
      "Rob Minkoff\n",
      "Riz Ahmed\n",
      "Rita Hayworth\n",
      "Riisa Naka\n",
      "Richard Rosson\n",
      "Richard Jenkins\n",
      "Richard Gere\n",
      "Richard Gere\n",
      "Richard Gere\n",
      "Richard Farnsworth\n",
      "Richard E. Grant\n",
      "Richard Dreyfuss\n",
      "Richard Burton\n",
      "Rich Moore\n",
      "Ricardo Darín\n",
      "Ricardo Darín\n",
      "Rena Owen\n",
      "Ray Milland\n",
      "Ray Milland\n",
      "Ranbir Kapoor\n",
      "Ranbir Kapoor\n",
      "Rami Malek\n",
      "Ralph Fiennes\n",
      "Rajesh Khanna\n",
      "Rajat Barmecha\n",
      "Quinton Aaron\n",
      "Quentin Tarantino\n",
      "Pushkar\n",
      "Preity Zinta\n",
      "Predrag 'Miki' Manojlovic\n",
      "Prabhas\n",
      "Prabhas\n",
      "Pierre Brasseur\n",
      "Philippe Noiret\n",
      "Philip Seymour Hoffman\n",
      "Phil Lord\n",
      "Phil Harris\n",
      "Peter Sellers\n",
      "Peter Sellers\n",
      "Peter Ramsey\n",
      "Peter O'Toole\n",
      "Peter O'Toole\n",
      "Peter Lorre\n",
      "Peter Dinklage\n",
      "Peter Billingsley\n",
      "Payman Maadi\n",
      "Paul Scofield\n",
      "Paul Newman\n",
      "Paul Newman\n",
      "Paul Newman\n",
      "Paul Newman\n",
      "Paul Newman\n",
      "Patrick Stewart\n",
      "Paresh Rawal\n",
      "Paddy Considine\n",
      "Paddy Considine\n",
      "Owen Wilson\n",
      "Orson Welles\n",
      "Orson Welles\n",
      "Omar Sharif\n",
      "Oksana Akinshina\n",
      "O'Shea Jackson Jr.\n",
      "Noémie Merlant\n",
      "Nora Twomey\n",
      "Nicole Kidman\n",
      "Nicole Kidman\n",
      "Nicolas Cage\n",
      "Nicolas Cage\n",
      "Nathan Fillion\n",
      "Natalya Bondarchuk\n",
      "Natalie Portman\n",
      "Naomi Watts\n",
      "Naomi Watts\n",
      "Myrna Loy\n",
      "Muhammet Uzuner\n",
      "Moritz Bleibtreu\n",
      "Morgan Freeman\n",
      "Morgan Freeman\n",
      "Drishyam      Mohanlal\n",
      "Drishyam    Ajay Devgn\n",
      "dtype: object\n",
      "Mohammad Amir Naji\n",
      "Miyu Irino\n",
      "Mitsuo Iwata\n",
      "Miles Teller\n",
      "Miki Imai\n",
      "Mikael Persbrandt\n",
      "Mickey Rourke\n",
      "Michèle Caucheteux\n",
      "Michel Côté\n",
      "Michael Schwartz\n",
      "Michael Rennie\n",
      "Michael Nyqvist\n",
      "Michael Keaton\n",
      "Michael J. Fox\n",
      "Michael J. Fox\n",
      "Michael Douglas\n",
      "Michael Douglas\n",
      "Michael Caine\n",
      "Michael Beck\n",
      "Michael B. Jordan\n",
      "Michael B. Jordan\n",
      "Mia Farrow\n",
      "Mia Farrow\n",
      "Mia Farrow\n",
      "Mel Gibson\n",
      "Mel Gibson\n",
      "Mel Gibson\n",
      "Megumi Hayashibara\n",
      "Mayumi Tanaka\n",
      "Max von Sydow\n",
      "Max von Sydow\n",
      "Max Schreck\n",
      "Matthew Modine\n",
      "Matthew McConaughey\n",
      "Matthew McConaughey\n",
      "Matthew McConaughey\n",
      "Matthew Broderick\n",
      "Matthew Broderick\n",
      "Matt Damon\n",
      "Matt Damon\n",
      "Matt Damon\n",
      "Matt Damon\n",
      "Massimo Troisi\n",
      "Masahiro Motoki\n",
      "Maryana Spivak\n",
      "Martin Sheen\n",
      "Martin Sheen\n",
      "Martin Landau\n",
      "Martin Freeman\n",
      "Marlon Brando\n",
      "Marlon Brando\n",
      "Mark Wahlberg\n",
      "Mark Wahlberg\n",
      "Mark Ruffalo\n",
      "Mark Ruffalo\n",
      "Mark Hamill\n",
      "Mark Hamill\n",
      "Mark Hamill\n",
      "Marjane Satrapi\n",
      "Marion Cotillard\n",
      "Mario Casas\n",
      "Marilyn Monroe\n",
      "Maribel Verdú\n",
      "Maria Falconetti\n",
      "Margarita Terekhova\n",
      "Margaret Sullavan\n",
      "Margaret Lockwood\n",
      "Marcello Mastroianni\n",
      "Marcello Mastroianni\n",
      "Marcel Dalio\n",
      "Manoj Bajpayee\n",
      "Malcolm McDowell\n",
      "Magali Noël\n",
      "Mads Mikkelsen\n",
      "Mads Mikkelsen\n",
      "Mads Mikkelsen\n",
      "Madeline Carroll\n",
      "Macaulay Culkin\n",
      "Léa Seydoux\n",
      "Luis Tosar\n",
      "Lubna Azabal\n",
      "Loveleen Tandan\n",
      "Logan Lerman\n",
      "Liza Minnelli\n",
      "Lin-Manuel Miranda\n",
      "Lily Franky\n",
      "Lilly Wachowski\n",
      "Liesel Matthews\n",
      "Liam Neeson\n",
      "Liam Neeson\n",
      "Lew Ayres\n",
      "Leslie Nielsen\n",
      "Leslie Cheung\n",
      "Leonardo DiCaprio\n",
      "Leonardo DiCaprio\n",
      "Leonardo DiCaprio\n",
      "Leonardo DiCaprio\n",
      "Leonardo DiCaprio\n",
      "Leonardo DiCaprio\n",
      "Leonardo DiCaprio\n",
      "Leonardo DiCaprio\n",
      "Leonardo DiCaprio\n",
      "Leon Lai\n",
      "Lembit Ulfsak\n",
      "Lee Yeong-ae\n",
      "Lee Unkrich\n",
      "Lee Pace\n",
      "Lee Marvin\n",
      "Lee Byung-Hun\n",
      "Laurence Olivier\n",
      "Laurence Olivier\n",
      "Laura Obiols\n",
      "Laura Obiols\n",
      "Lamberto Maggiorani\n",
      "Laia Costa\n",
      "Lady Gaga\n",
      "Kôichi Yamadera\n",
      "Kåre Hedebrant\n",
      "Kátia Lund\n",
      "Kurt Russell\n",
      "Klaus Kinski\n",
      "Klaus Kinski\n",
      "Kirsten Dunst\n",
      "Kirk Wise\n",
      "Kirk Douglas\n",
      "Kirk Douglas\n",
      "Kirk Douglas\n",
      "Kim Yoon-seok\n",
      "Kim Min-hee\n",
      "Ki-duk Kim\n",
      "Kevin Spacey\n",
      "Kevin Spacey\n",
      "Kevin Spacey\n",
      "Kevin McCarthy\n",
      "Kevin Jarre\n",
      "Kevin Costner\n",
      "Kevin Costner\n",
      "Kevin Costner\n",
      "Kenneth Branagh\n",
      "Ken Watanabe\n",
      "Kemp Powers\n",
      "Kelsey Asbille\n",
      "Keira Knightley\n",
      "Keira Knightley\n",
      "Keir Dullea\n",
      "Kazuya Tsurumaki\n",
      "Kathy Bates\n",
      "Katharine Hepburn\n",
      "Katharine Hepburn\n",
      "Karlheinz Böhm\n",
      "Kangana Ranaut\n",
      "Kang-ho Song\n",
      "Kang-ho Song\n",
      "Kang-ho Song\n",
      "Jürgen Vogel\n",
      "Jürgen Prochnow\n",
      "Junko Iwao\n",
      "Juliette Binoche\n",
      "Julie Andrews\n",
      "Julie Andrews\n",
      "Julianne Moore\n",
      "Judi Dench\n",
      "Jude Law\n",
      "Josh O'Connor\n",
      "Josh Hartnett\n",
      "Josh Hartnett\n",
      "Josh Brolin\n",
      "Joseph Gordon-Levitt\n",
      "Jose Coronado\n",
      "Jonathan Pryce\n",
      "Jon Voight\n",
      "Johnny Depp\n",
      "Johnny Depp\n",
      "Johnny Depp\n",
      "Johnny Depp\n",
      "Johnny Depp\n",
      "Johnny Depp\n",
      "Johnny Depp\n",
      "Johnny Depp\n",
      "John Wayne\n",
      "John Wayne\n",
      "John Wayne\n",
      "John Wayne\n",
      "John Travolta\n",
      "John Musker\n",
      "John Musker\n",
      "John Musker\n",
      "John Lone\n",
      "John Lennon\n",
      "John Hubley\n",
      "John Cusack\n",
      "John Cho\n",
      "John Cameron Mitchell\n",
      "John C. Reilly\n",
      "John Belushi\n",
      "Joel Coen\n",
      "Joel Coen\n",
      "Joe Russo\n",
      "Joe Russo\n",
      "Joe Russo\n",
      "Joe Russo\n",
      "Joe Pesci\n",
      "Jodie Foster\n",
      "Joaquin Phoenix\n",
      "Joaquin Phoenix\n",
      "Joaquin Phoenix\n",
      "Jim Henson\n",
      "Jim Caviezel\n",
      "Jim Caviezel\n",
      "Jim Carrey\n",
      "Jim Carrey\n",
      "Jet Li\n",
      "Jet Li\n",
      "Jesse Eisenberg\n",
      "Jesse Eisenberg\n",
      "Jeff Bridges\n",
      "Jeanne Moreau\n",
      "Jean-Pierre Léaud\n",
      "Jean-Pierre Jeunet\n",
      "Jean-Paul Belmondo\n",
      "Jean-Louis Trintignant\n",
      "Jean-Louis Trintignant\n",
      "Jean Servais\n",
      "Jean Reno\n",
      "Jean Gabin\n",
      "Jean Dujardin\n",
      "Jay Baruchel\n",
      "Javier Bardem\n",
      "Jason Statham\n",
      "Jason Schwartzman\n",
      "Jason London\n",
      "Jason Flemyng\n",
      "Jared Leto\n",
      "Jared Gilman\n",
      "Jang Dong-Gun\n",
      "Jane Adams\n",
      "Jan Pinkava\n",
      "Jamie Foxx\n",
      "Jamie Foxx\n",
      "Jamie Bell\n",
      "James Stewart\n",
      "James Stewart\n",
      "James Stewart\n",
      "James Stewart\n",
      "James Stewart\n",
      "James Stewart\n",
      "James Stewart\n",
      "James Stewart\n",
      "James McAvoy\n",
      "James McAvoy\n",
      "James Marsden\n",
      "James Dean\n",
      "James Dean\n",
      "James Cagney\n",
      "James Caan\n",
      "Jake Gyllenhaal\n",
      "Jake Gyllenhaal\n",
      "Jake Gyllenhaal\n",
      "Jake Gyllenhaal\n",
      "Jake Gyllenhaal\n",
      "Jake Gyllenhaal\n",
      "Jacob Tremblay\n",
      "Jackie Earle Haley\n",
      "Jack Nicholson\n",
      "Jack Nicholson\n",
      "Jack Nicholson\n",
      "Jack Nicholson\n",
      "Jack Lemmon\n",
      "Jack Lemmon\n",
      "J. Mackye Gruber\n",
      "Ivana Baquero\n",
      "Isabella Rossellini\n",
      "Irène Jacob\n",
      "Irène Jacob\n",
      "Irrfan Khan\n",
      "Irrfan Khan\n",
      "Irrfan Khan\n",
      "Ingrid Bergman\n",
      "Iko Uwais\n",
      "Iko Uwais\n",
      "Ian McKellen\n",
      "Hye-ja Kim\n",
      "Humphrey Bogart\n",
      "Humphrey Bogart\n",
      "Humphrey Bogart\n",
      "Humphrey Bogart\n",
      "Humphrey Bogart\n",
      "Humphrey Bogart\n",
      "Humphrey Bogart\n",
      "Humphrey Bogart\n",
      "Humphrey Bogart\n",
      "Hugo Weaving\n",
      "Hugh Welchman\n",
      "Hugh Jackman\n",
      "Hugh Jackman\n",
      "Hrithik Roshan\n",
      "Hitoshi Takagi\n",
      "Hiromasa Yonebayashi\n",
      "Hilary Swank\n",
      "Hideaki Anno\n",
      "Henry Thomas\n",
      "Henry Fonda\n",
      "Henry Fonda\n",
      "Henry Fonda\n",
      "Harvey Keitel\n",
      "Harry Dean Stanton\n",
      "Harrison Ford\n",
      "Harrison Ford\n",
      "Harrison Ford\n",
      "Harrison Ford\n",
      "Harrison Ford\n",
      "Harriet Andersson\n",
      "Haluk Bilginer\n",
      "Günes Sensoy\n",
      "Gérard Jugnot\n",
      "Guy Pearce\n",
      "Guillaume Canet\n",
      "Groucho Marx\n",
      "Griffin Dunne\n",
      "Gregory Peck\n",
      "Gregory Peck\n",
      "Gregory Peck\n",
      "Graham Chapman\n",
      "Gong Li\n",
      "Golshifteh Farahani\n",
      "Glen Hansard\n",
      "Giuseppe Battiston\n",
      "Giulietta Masina\n",
      "Gerardo Taracena\n",
      "Gerard Butler\n",
      "George O'Brien\n",
      "George Cukor\n",
      "George Cukor\n",
      "George Clooney\n",
      "George Clooney\n",
      "George C. Scott\n",
      "Geoffrey Rush\n",
      "Geoffrey Rush\n",
      "Gene Wilder\n",
      "Gene Wilder\n",
      "Gene Tierney\n",
      "Gene Kelly\n",
      "Gene Hackman\n",
      "Gene Hackman\n",
      "Gene Hackman\n",
      "Gene Hackman\n",
      "Gena Rowlands\n",
      "Gaspard Manesse\n",
      "Gary Oldman\n",
      "Gary Cooper\n",
      "Gael García Bernal\n",
      "Gabriele Ferzetti\n",
      "Fred MacMurray\n",
      "Franka Potente\n",
      "Franka Potente\n",
      "Frank Sinatra\n",
      "Frank Langella\n",
      "Frances McDormand\n",
      "Fionn Whitehead\n",
      "Fernando Rey\n",
      "Fernanda Montenegro\n",
      "Ferdia Walsh-Peelo\n",
      "Felicity Jones\n",
      "Faye Dunaway\n",
      "Farley Granger\n",
      "Farhan Akhtar\n",
      "F. Murray Abraham\n",
      "Ewan McGregor\n",
      "Ewan McGregor\n",
      "Ethan Hawke\n",
      "Ethan Hawke\n",
      "Ethan Hawke\n",
      "Ethan Hawke\n",
      "Ethan Hawke\n",
      "Ethan Coen\n",
      "Ethan Coen\n",
      "Ethan Coen\n",
      "Ethan Coen\n",
      "Ethan Coen\n",
      "Ethan Coen\n",
      "Ernest B. Schoedsack\n",
      "Erdem Can\n",
      "Erdem Can\n",
      "Emmanuelle Riva\n",
      "Emma Thompson\n",
      "Emma Stone\n",
      "Emily Watson\n",
      "Emily Blunt\n",
      "Emilio Estevez\n",
      "Emilio Echevarría\n",
      "Emile Hirsch\n",
      "Emeric Pressburger\n",
      "Elliott Gould\n",
      "Ellen Burstyn\n",
      "Ellen Burstyn\n",
      "Ellar Coltrane\n",
      "Elizabeth Taylor\n",
      "Elizabeth Taylor\n",
      "Elizabeth Taylor\n",
      "Elijah Wood\n",
      "Elijah Wood\n",
      "Elijah Wood\n",
      "Eli Marienthal\n",
      "Eileen Walsh\n",
      "Edward Norton\n",
      "Edward Norton\n",
      "Edward Norton\n",
      "Edward Fox\n",
      "Eduardo Noriega\n",
      "Eduard Abalov\n",
      "Edmund Gwenn\n",
      "Edmund Goulding\n",
      "Eddie Redmayne\n",
      "Eddie Redmayne\n",
      "Dustin Hoffman\n",
      "Dustin Hoffman\n",
      "Dustin Hoffman\n",
      "Dustin Hoffman\n",
      "Dustin Hoffman\n",
      "Duane Jones\n",
      "Donnie Yen\n",
      "Donald Sutherland\n",
      "Donald Pleasence\n",
      "Don Cheadle\n",
      "Don Cheadle\n",
      "Domhnall Gleeson\n",
      "Diane Kruger\n",
      "Dev Patel\n",
      "Denzel Washington\n",
      "Denzel Washington\n",
      "Denzel Washington\n",
      "Denzel Washington\n",
      "Denzel Washington\n",
      "Denzel Washington\n",
      "Denzel Washington\n",
      "Dennis Price\n",
      "Deborah Kerr\n",
      "Dean-Charles Chapman\n",
      "Davor Dujmovic\n",
      "David Zucker\n",
      "David Thewlis\n",
      "David Silverman\n",
      "David Rawle\n",
      "David Lee Smith\n",
      "David Hemmings\n",
      "David Emge\n",
      "Daveigh Chase\n",
      "Darío Grandinetti\n",
      "Danny Glover\n",
      "Danny Elfman\n",
      "Danny Aiello\n",
      "Daniel Radcliffe\n",
      "Daniel Radcliffe\n",
      "Daniel Radcliffe\n",
      "Daniel Radcliffe\n",
      "Daniel Radcliffe\n",
      "Daniel Radcliffe\n",
      "Daniel Kaluuya\n",
      "Daniel Day-Lewis\n",
      "Daniel Day-Lewis\n",
      "Daniel Day-Lewis\n",
      "Daniel Day-Lewis\n",
      "Daniel Craig\n",
      "Daniel Craig\n",
      "Daniel Craig\n",
      "Daniel Craig\n",
      "Daniel Brühl\n",
      "Daniel Brühl\n",
      "Damian Chapa\n",
      "Dakota Fanning\n",
      "Daisy Ridley\n",
      "Cuba Gooding Jr.\n",
      "Craig T. Nelson\n",
      "Craig T. Nelson\n",
      "Colin Firth\n",
      "Colin Firth\n",
      "Colin Farrell\n",
      "Colin Clive\n",
      "Clint Eastwood\n",
      "Clint Eastwood\n",
      "Clint Eastwood\n",
      "Clint Eastwood\n",
      "Clint Eastwood\n",
      "Clint Eastwood\n",
      "Clint Eastwood\n",
      "Clint Eastwood\n",
      "Clint Eastwood\n",
      "Clint Eastwood\n",
      "Cleavon Little\n",
      "Claude Rains\n",
      "Clark Gable\n",
      "Cillian Murphy\n",
      "Christian Slater\n",
      "Christian Friedel\n",
      "Christian Bale\n",
      "Christian Bale\n",
      "Christian Bale\n",
      "Christian Bale\n",
      "Christian Bale\n",
      "Christian Bale\n",
      "Christian Bale\n",
      "Christian Bale\n",
      "Chris Williams\n",
      "Chris Sanders\n",
      "Chris Renaud\n",
      "Chris Pratt\n",
      "Chris Pratt\n",
      "Chris Pine\n",
      "Chris Pine\n",
      "Chris Pine\n",
      "Chris Hemsworth\n",
      "Chris Evans\n",
      "Choi Min-sik\n",
      "Chloë Grace Moretz\n",
      "Chiwetel Ejiofor\n",
      "Chishû Ryû\n",
      "Chieko Baishô\n",
      "Charlton Heston\n",
      "Charlton Heston\n",
      "Charlton Heston\n",
      "Charlton Heston\n",
      "Charlize Theron\n",
      "Charlie Sheen\n",
      "Charlie Cox\n",
      "Charles Chaplin\n",
      "Charles Chaplin\n",
      "Charles Chaplin\n",
      "Charles Chaplin\n",
      "Charles Chaplin\n",
      "Charles Chaplin\n",
      "Cem Yilmaz\n",
      "Celia Johnson\n",
      "Cecilia Roth\n",
      "Catherine Deneuve\n",
      "Catherine Deneuve\n",
      "Cate Blanchett\n",
      "Casey Affleck\n",
      "Cary Grant\n",
      "Cary Grant\n",
      "Cary Grant\n",
      "Cary Grant\n",
      "Cary Grant\n",
      "Cary Grant\n",
      "Cary Elwes\n",
      "Cary Elwes\n",
      "Carole Lombard\n",
      "Carlos Martínez López\n",
      "Carice van Houten\n",
      "Bérénice Bejo\n",
      "Byron Howard\n",
      "Buster Keaton\n",
      "Buster Keaton\n",
      "Burt Lancaster\n",
      "Burt Lancaster\n",
      "Bryan Cranston\n",
      "Bruno Ganz\n",
      "Bruno Ganz\n",
      "Bruce Willis\n",
      "Bruce Willis\n",
      "Bruce Willis\n",
      "Bruce Willis\n",
      "Bruce Willis\n",
      "Bruce Lee\n",
      "Bruce Dern\n",
      "Bruce Campbell\n",
      "Brooklynn Prince\n",
      "Brigitte Lin\n",
      "Brigitte Helm\n",
      "Brie Larson\n",
      "Brie Larson\n",
      "Brian O'Halloran\n",
      "Branko Djuric\n",
      "Brahim Hadjadj\n",
      "Brady Corbet\n",
      "Bradley Cooper\n",
      "Brad Pitt\n",
      "Brad Pitt\n",
      "Brad Pitt\n",
      "Brad Pitt\n",
      "Brad Davis\n",
      "Boyd Kirkland\n",
      "Boris Karloff\n",
      "Bob Peterson\n",
      "Bob Hoskins\n",
      "Bob Geldof\n",
      "Björk\n",
      "Birol Ünel\n",
      "Billy Crystal\n",
      "Billy Crudup\n",
      "Billy Bob Thornton\n",
      "Bill Pullman\n",
      "Bill Nighy\n",
      "Bill Murray\n",
      "Bill Murray\n",
      "Bill Murray\n",
      "Bibi Andersson\n",
      "Bette Davis\n",
      "Bette Davis\n",
      "Bertil Guve\n",
      "Bernard-Pierre Donnadieu\n",
      "Benedict Cumberbatch\n",
      "Ben Whishaw\n",
      "Ben Kingsley\n",
      "Ben Burtt\n",
      "Ben Affleck\n",
      "Ben Affleck\n",
      "Barry Cook\n",
      "Barry Bostwick\n",
      "Baki Davrak\n",
      "Bajram Severdzan\n",
      "Ayushmann Khurrana\n",
      "Ayushmann Khurrana\n",
      "Ayushmann Khurrana\n",
      "Audrey Tautou\n",
      "Audrey Tautou\n",
      "Audrey Hepburn\n",
      "Audrey Hepburn\n",
      "Audrey Hepburn\n",
      "Atsuko Tanaka\n",
      "Ash Brannon\n",
      "Asa Butterfield\n",
      "Arthur Rosson\n",
      "Arnold Schwarzenegger\n",
      "Arnold Schwarzenegger\n",
      "Arnold Schwarzenegger\n",
      "Armie Hammer\n",
      "Aras Bulut Iynemli\n",
      "Aoi Miyazaki\n",
      "Anupam Kher\n",
      "Antonio Banderas\n",
      "Anthony Quinn\n",
      "Anthony Quinn\n",
      "Anthony Perkins\n",
      "Anthony Hopkins\n",
      "Anthony Hopkins\n",
      "Anthony Hopkins\n",
      "Ansel Elgort\n",
      "Anne Dorval\n",
      "Anna Karina\n",
      "Angelina Jolie\n",
      "Andrew Philpot\n",
      "Andrew Marton\n",
      "Andrew Garfield\n",
      "Andreas Wilson\n",
      "Andie MacDowell\n",
      "Anatoliy Solonitsyn\n",
      "Anand Gandhi\n",
      "Anamaria Marinca\n",
      "Amy Poehler\n",
      "Amy Adams\n",
      "Amole Gupte\n",
      "Amitabh Bachchan\n",
      "Amit Sadh\n",
      "Alisa Freyndlikh\n",
      "Alicia Vikander\n",
      "Alia Bhatt\n",
      "Aleksey Serebryakov\n",
      "Aleksey Kravchenko\n",
      "Aleksandr Antonov\n",
      "Alejandro Jodorowsky\n",
      "Alec Guinness\n",
      "Alan Mak\n",
      "Alain Delon\n",
      "Al Pacino\n",
      "Al Pacino\n",
      "Al Pacino\n",
      "Al Pacino\n",
      "Al Pacino\n",
      "Al Pacino\n",
      "Al Pacino\n",
      "Al Pacino\n",
      "Al Pacino\n",
      "Al Pacino\n",
      "Akshay Kumar\n",
      "Akshay Kumar\n",
      "Akshay Kumar\n",
      "Akshay Kumar\n",
      "Drishyam      Mohanlal\n",
      "Drishyam    Ajay Devgn\n",
      "dtype: object\n",
      "Adrien Brody\n",
      "Adrien Brody\n",
      "Adrian Molina\n",
      "Adam Driver\n",
      "Abraham Attah\n",
      "Abhay Deol\n",
      "Aaron Taylor-Johnson\n",
      "Aamir Khan\n",
      "Aamir Khan\n",
      "Aamir Khan\n",
      "Aamir Khan\n",
      "Aamir Khan\n",
      "Aamir Khan\n",
      "Aamir Khan\n"
     ]
    }
   ],
   "source": [
    "for i in ms.index:\n",
    "    print(ms[i])"
   ]
  },
  {
   "cell_type": "code",
   "execution_count": 509,
   "id": "8c749940-adc0-4ee2-b07d-1a25de1fa21c",
   "metadata": {},
   "outputs": [
    {
     "name": "stdout",
     "output_type": "stream",
     "text": [
      "Ömer Faruk Sorak\n",
      "Éric Toledano\n",
      "Çetin Tekindor\n",
      "Zooey Deschanel\n",
      "Zbigniew Zamachowski\n",
      "Zain Al Rafeea\n",
      "Zach Galifianakis\n",
      "Yôji Matsuda\n",
      "Yves Montand\n",
      "Yun-Fat Chow\n",
      "Yun-Fat Chow\n",
      "Yun-Fat Chow\n",
      "Yul Brynner\n",
      "Yoko Honna\n",
      "Yasuo Yamada\n",
      "Yash\n",
      "Yalitza Aparicio\n",
      "Woody Allen\n",
      "Woody Allen\n",
      "Woody Allen\n",
      "Woody Allen\n",
      "Won Bin\n",
      "Winona Ryder\n",
      "William Shatner\n",
      "William Powell\n",
      "William Keighley\n",
      "William Holden\n",
      "William Holden\n",
      "William Holden\n",
      "William Holden\n",
      "Willem Dafoe\n",
      "Willem Dafoe\n",
      "Will Smith\n",
      "Will Smith\n",
      "Wil Wheaton\n",
      "Werner Krauss\n",
      "Warren Beatty\n",
      "Walter Matthau\n",
      "Wallace Ford\n",
      "Wagner Moura\n",
      "Wagner Moura\n",
      "Vladimir Garin\n",
      "Vivien Leigh\n",
      "Vincent Cassel\n",
      "Vijay Varma\n",
      "Viggo Mortensen\n",
      "Viggo Mortensen\n",
      "Vidya Balan\n",
      "Victor Sjöström\n",
      "Vicky Kaushal\n",
      "Vicky Jenson\n",
      "Veerle Baetens\n",
      "Valerie Faris\n",
      "Uma Thurman\n",
      "Uma Thurman\n",
      "Ulrich Thomsen\n",
      "Ulrich Thomsen\n",
      "Ulrich Mühe\n",
      "Tyrone Power\n",
      "Tsutomu Tatsumi\n",
      "Trey Parker\n",
      "Toshirô Mifune\n",
      "Toshirô Mifune\n",
      "Toshirô Mifune\n",
      "Toshirô Mifune\n",
      "Toshirô Mifune\n",
      "Toshirô Mifune\n",
      "Toshirô Mifune\n",
      "Topol\n",
      "Tony Chiu-Wai Leung\n",
      "Toni Servillo\n",
      "Toni Collette\n",
      "Tom Waits\n",
      "Tom Hardy\n",
      "Tom Hardy\n",
      "Tom Hanks\n",
      "Tom Hanks\n",
      "Tom Hanks\n",
      "Tom Hanks\n",
      "Tom Hanks\n",
      "Tom Hanks\n",
      "Tom Hanks\n",
      "Tom Hanks\n",
      "Tom Hanks\n",
      "Tom Hanks\n",
      "Tom Hanks\n",
      "Tom Hanks\n",
      "Tom Guiry\n",
      "Tom Cruise\n",
      "Tom Cruise\n",
      "Tom Cruise\n",
      "Tom Cruise\n",
      "Tom Cruise\n",
      "Tom Cruise\n",
      "Timothy Spall\n",
      "Timothy Bottoms\n",
      "Tim Roth\n",
      "Tim Robbins\n",
      "Til Schweiger\n",
      "Thomas Turgoose\n",
      "Thomas Mann\n",
      "Thierry Lhermitte\n",
      "Terry Jones\n",
      "Teresa Wright\n",
      "Tensai Okamura\n",
      "Tatsuya Nakadai\n",
      "Tatsuya Nakadai\n",
      "Tatsuya Nakadai\n",
      "Tatsuya Fujiwara\n",
      "Tatsuya Fujiwara\n",
      "Taraji P. Henson\n",
      "Tallulah Bankhead\n",
      "Takeshi Kitano\n",
      "Takashi Shimura\n",
      "Takako Matsu\n",
      "Taika Waititi\n",
      "Tahar Rahim\n",
      "Tae-Hyun Cha\n",
      "Taapsee Pannu\n",
      "Sylvester Stallone\n",
      "Sylvester Stallone\n",
      "Sushant Singh Rajput\n",
      "Sushant Singh Rajput\n",
      "Sushant Singh Rajput\n",
      "Susanne Lothar\n",
      "Suriya\n",
      "Suraj Sharma\n",
      "Sumi Shimamoto\n",
      "Steve McQueen\n",
      "Steve McQueen\n",
      "Steve Martin\n",
      "Sterling Hayden\n",
      "Stephen Chow\n",
      "Stanley Baker\n",
      "Sridevi\n",
      "Spencer Tracy\n",
      "Spencer Tracy\n",
      "Spencer Tracy\n",
      "Simone Signoret\n",
      "Simon Pegg\n",
      "Simon Pegg\n",
      "Silvia Pinal\n",
      "Sigourney Weaver\n",
      "Sigourney Weaver\n",
      "Sidney Poitier\n",
      "Shûichirô Moriyama\n",
      "Shôgo Furuya\n",
      "Sharlto Copley\n",
      "Shailene Woodley\n",
      "Shahid Kapoor\n",
      "Shahid Kapoor\n",
      "Shahid Kapoor\n",
      "Shahab Hosseini\n",
      "Shah Rukh Khan\n",
      "Shah Rukh Khan\n",
      "Shah Rukh Khan\n",
      "Shah Rukh Khan\n",
      "Shah Rukh Khan\n",
      "Seung-Yun Lee\n",
      "Sener Sen\n",
      "Sean Penn\n",
      "Sean Penn\n",
      "Sean Penn\n",
      "Sean Connery\n",
      "Sean Connery\n",
      "Sean Connery\n",
      "Sean Astin\n",
      "Scarlett Johansson\n",
      "Saoirse Ronan\n",
      "Sanjeev Kumar\n",
      "Sanjay Dutt\n",
      "Sanjay Dutt\n",
      "Sandra Bullock\n",
      "Samuel L. Jackson\n",
      "Samuel Armstrong\n",
      "Sam Worthington\n",
      "Sam Waterston\n",
      "Sam Shepard\n",
      "Sam Rockwell\n",
      "Sam Riley\n",
      "Sam Neill\n",
      "Sam Neill\n",
      "Salman Khan\n",
      "Ryûnosuke Kamiki\n",
      "Ryan Reynolds\n",
      "Ryan Reynolds\n",
      "Ryan O'Neal\n",
      "Ryan O'Neal\n",
      "Ryan Gosling\n",
      "Ryan Gosling\n",
      "Ruth Gordon\n",
      "Russell Crowe\n",
      "Russell Crowe\n",
      "Russell Crowe\n",
      "Russell Crowe\n",
      "Russell Crowe\n",
      "Rufus Sewell\n",
      "Roy Scheider\n",
      "Roy Scheider\n",
      "Rosario Flores\n",
      "Ronnie Del Carmen\n",
      "Ron Livingston\n",
      "Roman Polanski\n",
      "Roman Griffin Davis\n",
      "Rolf Lassgård\n",
      "Roland Møller\n",
      "Rod Taylor\n",
      "Rod Steiger\n",
      "Robin Williams\n",
      "Robin Williams\n",
      "Roberto Benigni\n",
      "Robert Mitchum\n",
      "Robert Mitchum\n",
      "Robert Downey Jr.\n",
      "Robert Downey Jr.\n",
      "Robert Downey Jr.\n",
      "Robert Donat\n",
      "Robert De Niro\n",
      "Robert De Niro\n",
      "Robert De Niro\n",
      "Robert De Niro\n",
      "Robert De Niro\n",
      "Robert De Niro\n",
      "Robert De Niro\n",
      "Robert De Niro\n",
      "Robert De Niro\n",
      "Robert De Niro\n",
      "Robert De Niro\n",
      "Rob Reiner\n",
      "Rob Minkoff\n",
      "Riz Ahmed\n",
      "Rita Hayworth\n",
      "Riisa Naka\n",
      "Richard Rosson\n",
      "Richard Jenkins\n",
      "Richard Gere\n",
      "Richard Gere\n",
      "Richard Gere\n",
      "Richard Farnsworth\n",
      "Richard E. Grant\n",
      "Richard Dreyfuss\n",
      "Richard Burton\n",
      "Rich Moore\n",
      "Ricardo Darín\n",
      "Ricardo Darín\n",
      "Rena Owen\n",
      "Ray Milland\n",
      "Ray Milland\n",
      "Ranbir Kapoor\n",
      "Ranbir Kapoor\n",
      "Rami Malek\n",
      "Ralph Fiennes\n",
      "Rajesh Khanna\n",
      "Rajat Barmecha\n",
      "Quinton Aaron\n",
      "Quentin Tarantino\n",
      "Pushkar\n",
      "Preity Zinta\n",
      "Predrag 'Miki' Manojlovic\n",
      "Prabhas\n",
      "Prabhas\n",
      "Pierre Brasseur\n",
      "Philippe Noiret\n",
      "Philip Seymour Hoffman\n",
      "Phil Lord\n",
      "Phil Harris\n",
      "Peter Sellers\n",
      "Peter Sellers\n",
      "Peter Ramsey\n",
      "Peter O'Toole\n",
      "Peter O'Toole\n",
      "Peter Lorre\n",
      "Peter Dinklage\n",
      "Peter Billingsley\n",
      "Payman Maadi\n",
      "Paul Scofield\n",
      "Paul Newman\n",
      "Paul Newman\n",
      "Paul Newman\n",
      "Paul Newman\n",
      "Paul Newman\n",
      "Patrick Stewart\n",
      "Paresh Rawal\n",
      "Paddy Considine\n",
      "Paddy Considine\n",
      "Owen Wilson\n",
      "Orson Welles\n",
      "Orson Welles\n",
      "Omar Sharif\n",
      "Oksana Akinshina\n",
      "O'Shea Jackson Jr.\n",
      "Noémie Merlant\n",
      "Nora Twomey\n",
      "Nicole Kidman\n",
      "Nicole Kidman\n",
      "Nicolas Cage\n",
      "Nicolas Cage\n",
      "Nathan Fillion\n",
      "Natalya Bondarchuk\n",
      "Natalie Portman\n",
      "Naomi Watts\n",
      "Naomi Watts\n",
      "Myrna Loy\n",
      "Muhammet Uzuner\n",
      "Moritz Bleibtreu\n",
      "Morgan Freeman\n",
      "Morgan Freeman\n",
      "Mohanlal\n",
      "Mohammad Amir Naji\n",
      "Miyu Irino\n",
      "Mitsuo Iwata\n",
      "Miles Teller\n",
      "Miki Imai\n",
      "Mikael Persbrandt\n",
      "Mickey Rourke\n",
      "Michèle Caucheteux\n",
      "Michel Côté\n",
      "Michael Schwartz\n",
      "Michael Rennie\n",
      "Michael Nyqvist\n",
      "Michael Keaton\n",
      "Michael J. Fox\n",
      "Michael J. Fox\n",
      "Michael Douglas\n",
      "Michael Douglas\n",
      "Michael Caine\n",
      "Michael Beck\n",
      "Michael B. Jordan\n",
      "Michael B. Jordan\n",
      "Mia Farrow\n",
      "Mia Farrow\n",
      "Mia Farrow\n",
      "Mel Gibson\n",
      "Mel Gibson\n",
      "Mel Gibson\n",
      "Megumi Hayashibara\n",
      "Mayumi Tanaka\n",
      "Max von Sydow\n",
      "Max von Sydow\n",
      "Max Schreck\n",
      "Matthew Modine\n",
      "Matthew McConaughey\n",
      "Matthew McConaughey\n",
      "Matthew McConaughey\n",
      "Matthew Broderick\n",
      "Matthew Broderick\n",
      "Matt Damon\n",
      "Matt Damon\n",
      "Matt Damon\n",
      "Matt Damon\n",
      "Massimo Troisi\n",
      "Masahiro Motoki\n",
      "Maryana Spivak\n",
      "Martin Sheen\n",
      "Martin Sheen\n",
      "Martin Landau\n",
      "Martin Freeman\n",
      "Marlon Brando\n",
      "Marlon Brando\n",
      "Mark Wahlberg\n",
      "Mark Wahlberg\n",
      "Mark Ruffalo\n",
      "Mark Ruffalo\n",
      "Mark Hamill\n",
      "Mark Hamill\n",
      "Mark Hamill\n",
      "Marjane Satrapi\n",
      "Marion Cotillard\n",
      "Mario Casas\n",
      "Marilyn Monroe\n",
      "Maribel Verdú\n",
      "Maria Falconetti\n",
      "Margarita Terekhova\n",
      "Margaret Sullavan\n",
      "Margaret Lockwood\n",
      "Marcello Mastroianni\n",
      "Marcello Mastroianni\n",
      "Marcel Dalio\n",
      "Manoj Bajpayee\n",
      "Malcolm McDowell\n",
      "Magali Noël\n",
      "Mads Mikkelsen\n",
      "Mads Mikkelsen\n",
      "Mads Mikkelsen\n",
      "Madeline Carroll\n",
      "Macaulay Culkin\n",
      "Léa Seydoux\n",
      "Luis Tosar\n",
      "Lubna Azabal\n",
      "Loveleen Tandan\n",
      "Logan Lerman\n",
      "Liza Minnelli\n",
      "Lin-Manuel Miranda\n",
      "Lily Franky\n",
      "Lilly Wachowski\n",
      "Liesel Matthews\n",
      "Liam Neeson\n",
      "Liam Neeson\n",
      "Lew Ayres\n",
      "Leslie Nielsen\n",
      "Leslie Cheung\n",
      "Leonardo DiCaprio\n",
      "Leonardo DiCaprio\n",
      "Leonardo DiCaprio\n",
      "Leonardo DiCaprio\n",
      "Leonardo DiCaprio\n",
      "Leonardo DiCaprio\n",
      "Leonardo DiCaprio\n",
      "Leonardo DiCaprio\n",
      "Leonardo DiCaprio\n",
      "Leon Lai\n",
      "Lembit Ulfsak\n",
      "Lee Yeong-ae\n",
      "Lee Unkrich\n",
      "Lee Pace\n",
      "Lee Marvin\n",
      "Lee Byung-Hun\n",
      "Laurence Olivier\n",
      "Laurence Olivier\n",
      "Laura Obiols\n",
      "Laura Obiols\n",
      "Lamberto Maggiorani\n",
      "Laia Costa\n",
      "Lady Gaga\n",
      "Kôichi Yamadera\n",
      "Kåre Hedebrant\n",
      "Kátia Lund\n",
      "Kurt Russell\n",
      "Klaus Kinski\n",
      "Klaus Kinski\n",
      "Kirsten Dunst\n",
      "Kirk Wise\n",
      "Kirk Douglas\n",
      "Kirk Douglas\n",
      "Kirk Douglas\n",
      "Kim Yoon-seok\n",
      "Kim Min-hee\n",
      "Ki-duk Kim\n",
      "Kevin Spacey\n",
      "Kevin Spacey\n",
      "Kevin Spacey\n",
      "Kevin McCarthy\n",
      "Kevin Jarre\n",
      "Kevin Costner\n",
      "Kevin Costner\n",
      "Kevin Costner\n",
      "Kenneth Branagh\n",
      "Ken Watanabe\n",
      "Kemp Powers\n",
      "Kelsey Asbille\n",
      "Keira Knightley\n",
      "Keira Knightley\n",
      "Keir Dullea\n",
      "Kazuya Tsurumaki\n",
      "Kathy Bates\n",
      "Katharine Hepburn\n",
      "Katharine Hepburn\n",
      "Karlheinz Böhm\n",
      "Kangana Ranaut\n",
      "Kang-ho Song\n",
      "Kang-ho Song\n",
      "Kang-ho Song\n",
      "Jürgen Vogel\n",
      "Jürgen Prochnow\n",
      "Junko Iwao\n",
      "Juliette Binoche\n",
      "Julie Andrews\n",
      "Julie Andrews\n",
      "Julianne Moore\n",
      "Judi Dench\n",
      "Jude Law\n",
      "Josh O'Connor\n",
      "Josh Hartnett\n",
      "Josh Hartnett\n",
      "Josh Brolin\n",
      "Joseph Gordon-Levitt\n",
      "Jose Coronado\n",
      "Jonathan Pryce\n",
      "Jon Voight\n",
      "Johnny Depp\n",
      "Johnny Depp\n",
      "Johnny Depp\n",
      "Johnny Depp\n",
      "Johnny Depp\n",
      "Johnny Depp\n",
      "Johnny Depp\n",
      "Johnny Depp\n",
      "John Wayne\n",
      "John Wayne\n",
      "John Wayne\n",
      "John Wayne\n",
      "John Travolta\n",
      "John Musker\n",
      "John Musker\n",
      "John Musker\n",
      "John Lone\n",
      "John Lennon\n",
      "John Hubley\n",
      "John Cusack\n",
      "John Cho\n",
      "John Cameron Mitchell\n",
      "John C. Reilly\n",
      "John Belushi\n",
      "Joel Coen\n",
      "Joel Coen\n",
      "Joe Russo\n",
      "Joe Russo\n",
      "Joe Russo\n",
      "Joe Russo\n",
      "Joe Pesci\n",
      "Jodie Foster\n",
      "Joaquin Phoenix\n",
      "Joaquin Phoenix\n",
      "Joaquin Phoenix\n",
      "Jim Henson\n",
      "Jim Caviezel\n",
      "Jim Caviezel\n",
      "Jim Carrey\n",
      "Jim Carrey\n",
      "Jet Li\n",
      "Jet Li\n",
      "Jesse Eisenberg\n",
      "Jesse Eisenberg\n",
      "Jeff Bridges\n",
      "Jeanne Moreau\n",
      "Jean-Pierre Léaud\n",
      "Jean-Pierre Jeunet\n",
      "Jean-Paul Belmondo\n",
      "Jean-Louis Trintignant\n",
      "Jean-Louis Trintignant\n",
      "Jean Servais\n",
      "Jean Reno\n",
      "Jean Gabin\n",
      "Jean Dujardin\n",
      "Jay Baruchel\n",
      "Javier Bardem\n",
      "Jason Statham\n",
      "Jason Schwartzman\n",
      "Jason London\n",
      "Jason Flemyng\n",
      "Jared Leto\n",
      "Jared Gilman\n",
      "Jang Dong-Gun\n",
      "Jane Adams\n",
      "Jan Pinkava\n",
      "Jamie Foxx\n",
      "Jamie Foxx\n",
      "Jamie Bell\n",
      "James Stewart\n",
      "James Stewart\n",
      "James Stewart\n",
      "James Stewart\n",
      "James Stewart\n",
      "James Stewart\n",
      "James Stewart\n",
      "James Stewart\n",
      "James McAvoy\n",
      "James McAvoy\n",
      "James Marsden\n",
      "James Dean\n",
      "James Dean\n",
      "James Cagney\n",
      "James Caan\n",
      "Jake Gyllenhaal\n",
      "Jake Gyllenhaal\n",
      "Jake Gyllenhaal\n",
      "Jake Gyllenhaal\n",
      "Jake Gyllenhaal\n",
      "Jake Gyllenhaal\n",
      "Jacob Tremblay\n",
      "Jackie Earle Haley\n",
      "Jack Nicholson\n",
      "Jack Nicholson\n",
      "Jack Nicholson\n",
      "Jack Nicholson\n",
      "Jack Lemmon\n",
      "Jack Lemmon\n",
      "J. Mackye Gruber\n",
      "Ivana Baquero\n",
      "Isabella Rossellini\n",
      "Irène Jacob\n",
      "Irène Jacob\n",
      "Irrfan Khan\n",
      "Irrfan Khan\n",
      "Irrfan Khan\n",
      "Ingrid Bergman\n",
      "Iko Uwais\n",
      "Iko Uwais\n",
      "Ian McKellen\n",
      "Hye-ja Kim\n",
      "Humphrey Bogart\n",
      "Humphrey Bogart\n",
      "Humphrey Bogart\n",
      "Humphrey Bogart\n",
      "Humphrey Bogart\n",
      "Humphrey Bogart\n",
      "Humphrey Bogart\n",
      "Humphrey Bogart\n",
      "Humphrey Bogart\n",
      "Hugo Weaving\n",
      "Hugh Welchman\n",
      "Hugh Jackman\n",
      "Hugh Jackman\n",
      "Hrithik Roshan\n",
      "Hitoshi Takagi\n",
      "Hiromasa Yonebayashi\n",
      "Hilary Swank\n",
      "Hideaki Anno\n",
      "Henry Thomas\n",
      "Henry Fonda\n",
      "Henry Fonda\n",
      "Henry Fonda\n",
      "Harvey Keitel\n",
      "Harry Dean Stanton\n",
      "Harrison Ford\n",
      "Harrison Ford\n",
      "Harrison Ford\n",
      "Harrison Ford\n",
      "Harrison Ford\n",
      "Harriet Andersson\n",
      "Haluk Bilginer\n",
      "Günes Sensoy\n",
      "Gérard Jugnot\n",
      "Guy Pearce\n",
      "Guillaume Canet\n",
      "Groucho Marx\n",
      "Griffin Dunne\n",
      "Gregory Peck\n",
      "Gregory Peck\n",
      "Gregory Peck\n",
      "Graham Chapman\n",
      "Gong Li\n",
      "Golshifteh Farahani\n",
      "Glen Hansard\n",
      "Giuseppe Battiston\n",
      "Giulietta Masina\n",
      "Gerardo Taracena\n",
      "Gerard Butler\n",
      "George O'Brien\n",
      "George Cukor\n",
      "George Cukor\n",
      "George Clooney\n",
      "George Clooney\n",
      "George C. Scott\n",
      "Geoffrey Rush\n",
      "Geoffrey Rush\n",
      "Gene Wilder\n",
      "Gene Wilder\n",
      "Gene Tierney\n",
      "Gene Kelly\n",
      "Gene Hackman\n",
      "Gene Hackman\n",
      "Gene Hackman\n",
      "Gene Hackman\n",
      "Gena Rowlands\n",
      "Gaspard Manesse\n",
      "Gary Oldman\n",
      "Gary Cooper\n",
      "Gael García Bernal\n",
      "Gabriele Ferzetti\n",
      "Fred MacMurray\n",
      "Franka Potente\n",
      "Franka Potente\n",
      "Frank Sinatra\n",
      "Frank Langella\n",
      "Frances McDormand\n",
      "Fionn Whitehead\n",
      "Fernando Rey\n",
      "Fernanda Montenegro\n",
      "Ferdia Walsh-Peelo\n",
      "Felicity Jones\n",
      "Faye Dunaway\n",
      "Farley Granger\n",
      "Farhan Akhtar\n",
      "F. Murray Abraham\n",
      "Ewan McGregor\n",
      "Ewan McGregor\n",
      "Ethan Hawke\n",
      "Ethan Hawke\n",
      "Ethan Hawke\n",
      "Ethan Hawke\n",
      "Ethan Hawke\n",
      "Ethan Coen\n",
      "Ethan Coen\n",
      "Ethan Coen\n",
      "Ethan Coen\n",
      "Ethan Coen\n",
      "Ethan Coen\n",
      "Ernest B. Schoedsack\n",
      "Erdem Can\n",
      "Erdem Can\n",
      "Emmanuelle Riva\n",
      "Emma Thompson\n",
      "Emma Stone\n",
      "Emily Watson\n",
      "Emily Blunt\n",
      "Emilio Estevez\n",
      "Emilio Echevarría\n",
      "Emile Hirsch\n",
      "Emeric Pressburger\n",
      "Elliott Gould\n",
      "Ellen Burstyn\n",
      "Ellen Burstyn\n",
      "Ellar Coltrane\n",
      "Elizabeth Taylor\n",
      "Elizabeth Taylor\n",
      "Elizabeth Taylor\n",
      "Elijah Wood\n",
      "Elijah Wood\n",
      "Elijah Wood\n",
      "Eli Marienthal\n",
      "Eileen Walsh\n",
      "Edward Norton\n",
      "Edward Norton\n",
      "Edward Norton\n",
      "Edward Fox\n",
      "Eduardo Noriega\n",
      "Eduard Abalov\n",
      "Edmund Gwenn\n",
      "Edmund Goulding\n",
      "Eddie Redmayne\n",
      "Eddie Redmayne\n",
      "Dustin Hoffman\n",
      "Dustin Hoffman\n",
      "Dustin Hoffman\n",
      "Dustin Hoffman\n",
      "Dustin Hoffman\n",
      "Duane Jones\n",
      "Donnie Yen\n",
      "Donald Sutherland\n",
      "Donald Pleasence\n",
      "Don Cheadle\n",
      "Don Cheadle\n",
      "Domhnall Gleeson\n",
      "Diane Kruger\n",
      "Dev Patel\n",
      "Denzel Washington\n",
      "Denzel Washington\n",
      "Denzel Washington\n",
      "Denzel Washington\n",
      "Denzel Washington\n",
      "Denzel Washington\n",
      "Denzel Washington\n",
      "Dennis Price\n",
      "Deborah Kerr\n",
      "Dean-Charles Chapman\n",
      "Davor Dujmovic\n",
      "David Zucker\n",
      "David Thewlis\n",
      "David Silverman\n",
      "David Rawle\n",
      "David Lee Smith\n",
      "David Hemmings\n",
      "David Emge\n",
      "Daveigh Chase\n",
      "Darío Grandinetti\n",
      "Danny Glover\n",
      "Danny Elfman\n",
      "Danny Aiello\n",
      "Daniel Radcliffe\n",
      "Daniel Radcliffe\n",
      "Daniel Radcliffe\n",
      "Daniel Radcliffe\n",
      "Daniel Radcliffe\n",
      "Daniel Radcliffe\n",
      "Daniel Kaluuya\n",
      "Daniel Day-Lewis\n",
      "Daniel Day-Lewis\n",
      "Daniel Day-Lewis\n",
      "Daniel Day-Lewis\n",
      "Daniel Craig\n",
      "Daniel Craig\n",
      "Daniel Craig\n",
      "Daniel Craig\n",
      "Daniel Brühl\n",
      "Daniel Brühl\n",
      "Damian Chapa\n",
      "Dakota Fanning\n",
      "Daisy Ridley\n",
      "Cuba Gooding Jr.\n",
      "Craig T. Nelson\n",
      "Craig T. Nelson\n",
      "Colin Firth\n",
      "Colin Firth\n",
      "Colin Farrell\n",
      "Colin Clive\n",
      "Clint Eastwood\n",
      "Clint Eastwood\n",
      "Clint Eastwood\n",
      "Clint Eastwood\n",
      "Clint Eastwood\n",
      "Clint Eastwood\n",
      "Clint Eastwood\n",
      "Clint Eastwood\n",
      "Clint Eastwood\n",
      "Clint Eastwood\n",
      "Cleavon Little\n",
      "Claude Rains\n",
      "Clark Gable\n",
      "Cillian Murphy\n",
      "Christian Slater\n",
      "Christian Friedel\n",
      "Christian Bale\n",
      "Christian Bale\n",
      "Christian Bale\n",
      "Christian Bale\n",
      "Christian Bale\n",
      "Christian Bale\n",
      "Christian Bale\n",
      "Christian Bale\n",
      "Chris Williams\n",
      "Chris Sanders\n",
      "Chris Renaud\n",
      "Chris Pratt\n",
      "Chris Pratt\n",
      "Chris Pine\n",
      "Chris Pine\n",
      "Chris Pine\n",
      "Chris Hemsworth\n",
      "Chris Evans\n",
      "Choi Min-sik\n",
      "Chloë Grace Moretz\n",
      "Chiwetel Ejiofor\n",
      "Chishû Ryû\n",
      "Chieko Baishô\n",
      "Charlton Heston\n",
      "Charlton Heston\n",
      "Charlton Heston\n",
      "Charlton Heston\n",
      "Charlize Theron\n",
      "Charlie Sheen\n",
      "Charlie Cox\n",
      "Charles Chaplin\n",
      "Charles Chaplin\n",
      "Charles Chaplin\n",
      "Charles Chaplin\n",
      "Charles Chaplin\n",
      "Charles Chaplin\n",
      "Cem Yilmaz\n",
      "Celia Johnson\n",
      "Cecilia Roth\n",
      "Catherine Deneuve\n",
      "Catherine Deneuve\n",
      "Cate Blanchett\n",
      "Casey Affleck\n",
      "Cary Grant\n",
      "Cary Grant\n",
      "Cary Grant\n",
      "Cary Grant\n",
      "Cary Grant\n",
      "Cary Grant\n",
      "Cary Elwes\n",
      "Cary Elwes\n",
      "Carole Lombard\n",
      "Carlos Martínez López\n",
      "Carice van Houten\n",
      "Bérénice Bejo\n",
      "Byron Howard\n",
      "Buster Keaton\n",
      "Buster Keaton\n",
      "Burt Lancaster\n",
      "Burt Lancaster\n",
      "Bryan Cranston\n",
      "Bruno Ganz\n",
      "Bruno Ganz\n",
      "Bruce Willis\n",
      "Bruce Willis\n",
      "Bruce Willis\n",
      "Bruce Willis\n",
      "Bruce Willis\n",
      "Bruce Lee\n",
      "Bruce Dern\n",
      "Bruce Campbell\n",
      "Brooklynn Prince\n",
      "Brigitte Lin\n",
      "Brigitte Helm\n",
      "Brie Larson\n",
      "Brie Larson\n",
      "Brian O'Halloran\n",
      "Branko Djuric\n",
      "Brahim Hadjadj\n",
      "Brady Corbet\n",
      "Bradley Cooper\n",
      "Brad Pitt\n",
      "Brad Pitt\n",
      "Brad Pitt\n",
      "Brad Pitt\n",
      "Brad Davis\n",
      "Boyd Kirkland\n",
      "Boris Karloff\n",
      "Bob Peterson\n",
      "Bob Hoskins\n",
      "Bob Geldof\n",
      "Björk\n",
      "Birol Ünel\n",
      "Billy Crystal\n",
      "Billy Crudup\n",
      "Billy Bob Thornton\n",
      "Bill Pullman\n",
      "Bill Nighy\n",
      "Bill Murray\n",
      "Bill Murray\n",
      "Bill Murray\n",
      "Bibi Andersson\n",
      "Bette Davis\n",
      "Bette Davis\n",
      "Bertil Guve\n",
      "Bernard-Pierre Donnadieu\n",
      "Benedict Cumberbatch\n",
      "Ben Whishaw\n",
      "Ben Kingsley\n",
      "Ben Burtt\n",
      "Ben Affleck\n",
      "Ben Affleck\n",
      "Barry Cook\n",
      "Barry Bostwick\n",
      "Baki Davrak\n",
      "Bajram Severdzan\n",
      "Ayushmann Khurrana\n",
      "Ayushmann Khurrana\n",
      "Ayushmann Khurrana\n",
      "Audrey Tautou\n",
      "Audrey Tautou\n",
      "Audrey Hepburn\n",
      "Audrey Hepburn\n",
      "Audrey Hepburn\n",
      "Atsuko Tanaka\n",
      "Ash Brannon\n",
      "Asa Butterfield\n",
      "Arthur Rosson\n",
      "Arnold Schwarzenegger\n",
      "Arnold Schwarzenegger\n",
      "Arnold Schwarzenegger\n",
      "Armie Hammer\n",
      "Aras Bulut Iynemli\n",
      "Aoi Miyazaki\n",
      "Anupam Kher\n",
      "Antonio Banderas\n",
      "Anthony Quinn\n",
      "Anthony Quinn\n",
      "Anthony Perkins\n",
      "Anthony Hopkins\n",
      "Anthony Hopkins\n",
      "Anthony Hopkins\n",
      "Ansel Elgort\n",
      "Anne Dorval\n",
      "Anna Karina\n",
      "Angelina Jolie\n",
      "Andrew Philpot\n",
      "Andrew Marton\n",
      "Andrew Garfield\n",
      "Andreas Wilson\n",
      "Andie MacDowell\n",
      "Anatoliy Solonitsyn\n",
      "Anand Gandhi\n",
      "Anamaria Marinca\n",
      "Amy Poehler\n",
      "Amy Adams\n",
      "Amole Gupte\n",
      "Amitabh Bachchan\n",
      "Amit Sadh\n",
      "Alisa Freyndlikh\n",
      "Alicia Vikander\n",
      "Alia Bhatt\n",
      "Aleksey Serebryakov\n",
      "Aleksey Kravchenko\n",
      "Aleksandr Antonov\n",
      "Alejandro Jodorowsky\n",
      "Alec Guinness\n",
      "Alan Mak\n",
      "Alain Delon\n",
      "Al Pacino\n",
      "Al Pacino\n",
      "Al Pacino\n",
      "Al Pacino\n",
      "Al Pacino\n",
      "Al Pacino\n",
      "Al Pacino\n",
      "Al Pacino\n",
      "Al Pacino\n",
      "Al Pacino\n",
      "Akshay Kumar\n",
      "Akshay Kumar\n",
      "Akshay Kumar\n",
      "Akshay Kumar\n",
      "Ajay Devgn\n",
      "Adrien Brody\n",
      "Adrien Brody\n",
      "Adrian Molina\n",
      "Adam Driver\n",
      "Abraham Attah\n",
      "Abhay Deol\n",
      "Aaron Taylor-Johnson\n",
      "Aamir Khan\n",
      "Aamir Khan\n",
      "Aamir Khan\n",
      "Aamir Khan\n",
      "Aamir Khan\n",
      "Aamir Khan\n",
      "Aamir Khan\n"
     ]
    }
   ],
   "source": [
    "for i in ms.values:\n",
    "    print(i)"
   ]
  },
  {
   "cell_type": "code",
   "execution_count": 511,
   "id": "ed872cbf-45ee-4f7c-88b0-37ad74550215",
   "metadata": {},
   "outputs": [],
   "source": [
    "#miscellaneous methods in series"
   ]
  },
  {
   "cell_type": "code",
   "execution_count": 521,
   "id": "3b1fee1a-6850-4a9a-b25c-2aa5f175e5df",
   "metadata": {},
   "outputs": [
    {
     "data": {
      "text/plain": [
       "0    1.0\n",
       "1    2.0\n",
       "2    3.0\n",
       "3    4.0\n",
       "4    5.0\n",
       "5    6.0\n",
       "6    7.0\n",
       "7    7.0\n",
       "8    7.0\n",
       "9    NaN\n",
       "dtype: float64"
      ]
     },
     "execution_count": 521,
     "metadata": {},
     "output_type": "execute_result"
    }
   ],
   "source": [
    "s = pd.Series([1, 2, 3, 4, 5, 6, 7,7,7, np.NaN])\n",
    "s"
   ]
  },
  {
   "cell_type": "code",
   "execution_count": 525,
   "id": "4285d493-42c4-4a50-9707-2c5994624ec4",
   "metadata": {},
   "outputs": [
    {
     "data": {
      "text/plain": [
       "2"
      ]
     },
     "execution_count": 525,
     "metadata": {},
     "output_type": "execute_result"
    }
   ],
   "source": [
    "#duplicate values\n",
    "s.duplicated().sum()"
   ]
  },
  {
   "cell_type": "code",
   "execution_count": 527,
   "id": "966bae18-370d-485b-9b4a-5005eebb5efd",
   "metadata": {},
   "outputs": [
    {
     "data": {
      "text/plain": [
       "0     1.0\n",
       "1     3.0\n",
       "2     6.0\n",
       "3    10.0\n",
       "4    15.0\n",
       "5    21.0\n",
       "6    28.0\n",
       "7    35.0\n",
       "8    42.0\n",
       "9     NaN\n",
       "dtype: float64"
      ]
     },
     "execution_count": 527,
     "metadata": {},
     "output_type": "execute_result"
    }
   ],
   "source": [
    "#cumulative sum\n",
    "s.cumsum()"
   ]
  },
  {
   "cell_type": "code",
   "execution_count": 531,
   "id": "1ea1738e-18a5-4ec2-b0a1-7d876a25b775",
   "metadata": {},
   "outputs": [
    {
     "data": {
      "text/plain": [
       "1"
      ]
     },
     "execution_count": 531,
     "metadata": {},
     "output_type": "execute_result"
    }
   ],
   "source": [
    "#to check null value\n",
    "s.isna().sum()"
   ]
  },
  {
   "cell_type": "code",
   "execution_count": 535,
   "id": "e1132c4d-1e4f-4c49-9a9c-0d1464d971b1",
   "metadata": {},
   "outputs": [],
   "source": [
    "#replace the null value\n",
    "s.fillna(s.mean(), inplace=True)"
   ]
  },
  {
   "cell_type": "code",
   "execution_count": 537,
   "id": "7914331b-0713-4aa5-a634-7e57ed5f9607",
   "metadata": {},
   "outputs": [
    {
     "data": {
      "text/plain": [
       "0    1.000000\n",
       "1    2.000000\n",
       "2    3.000000\n",
       "3    4.000000\n",
       "4    5.000000\n",
       "5    6.000000\n",
       "6    7.000000\n",
       "7    7.000000\n",
       "8    7.000000\n",
       "9    4.666667\n",
       "dtype: float64"
      ]
     },
     "execution_count": 537,
     "metadata": {},
     "output_type": "execute_result"
    }
   ],
   "source": [
    "s"
   ]
  },
  {
   "cell_type": "code",
   "execution_count": 539,
   "id": "1841fb44-123e-445c-9d6c-1ca53dc6f5c8",
   "metadata": {},
   "outputs": [
    {
     "data": {
      "text/plain": [
       "0     0.0\n",
       "1     2.0\n",
       "2     6.0\n",
       "3    12.0\n",
       "4    20.0\n",
       "5    30.0\n",
       "6    42.0\n",
       "7    49.0\n",
       "8    56.0\n",
       "9    42.0\n",
       "dtype: float64"
      ]
     },
     "execution_count": 539,
     "metadata": {},
     "output_type": "execute_result"
    }
   ],
   "source": [
    "#you want to multiply series and its index\n",
    "s*s.index"
   ]
  },
  {
   "cell_type": "code",
   "execution_count": 549,
   "id": "281cb8d7-ad5d-459c-b434-ca9f76395811",
   "metadata": {},
   "outputs": [
    {
     "data": {
      "text/plain": [
       "0    101.000000\n",
       "1    102.000000\n",
       "2    103.000000\n",
       "3    104.000000\n",
       "4    105.000000\n",
       "5    106.000000\n",
       "6    107.000000\n",
       "7    107.000000\n",
       "8    107.000000\n",
       "9    104.666667\n",
       "dtype: float64"
      ]
     },
     "execution_count": 549,
     "metadata": {},
     "output_type": "execute_result"
    }
   ],
   "source": [
    "#apply a function element wise >> Invoke function on values of Series.\n",
    "s.apply(lambda x : x+100)"
   ]
  },
  {
   "cell_type": "code",
   "execution_count": 551,
   "id": "b3ec511b-2a9b-4054-816f-c41489de2ec0",
   "metadata": {},
   "outputs": [
    {
     "data": {
      "text/plain": [
       "0     1.000000\n",
       "1     4.000000\n",
       "2     9.000000\n",
       "3    16.000000\n",
       "4    25.000000\n",
       "5    36.000000\n",
       "6    49.000000\n",
       "7    49.000000\n",
       "8    49.000000\n",
       "9    21.777778\n",
       "dtype: float64"
      ]
     },
     "execution_count": 551,
     "metadata": {},
     "output_type": "execute_result"
    }
   ],
   "source": [
    "#applying custom function to the series\n",
    "def sq(x):\n",
    "    return x**2\n",
    "\n",
    "s.apply(sq)"
   ]
  },
  {
   "cell_type": "code",
   "execution_count": 553,
   "id": "51c62811-151d-4440-a2af-d1743fe16c09",
   "metadata": {},
   "outputs": [
    {
     "data": {
      "text/plain": [
       "0    100.500000\n",
       "1      2.000000\n",
       "2      3.000000\n",
       "3      4.000000\n",
       "4      5.000000\n",
       "5      6.000000\n",
       "6      7.000000\n",
       "7      7.000000\n",
       "8      7.000000\n",
       "9      4.666667\n",
       "dtype: float64"
      ]
     },
     "execution_count": 553,
     "metadata": {},
     "output_type": "execute_result"
    }
   ],
   "source": [
    "#replacing the values in a series\n",
    "s.replace(1.0, 100.5)"
   ]
  },
  {
   "cell_type": "code",
   "execution_count": 555,
   "id": "b67eea80-b044-4a4e-8dc3-f651fa9d5246",
   "metadata": {},
   "outputs": [
    {
     "data": {
      "text/plain": [
       "[1.0, 2.0, 3.0, 4.0, 5.0, 6.0, 7.0, 7.0, 7.0, 4.666666666666667]"
      ]
     },
     "execution_count": 555,
     "metadata": {},
     "output_type": "execute_result"
    }
   ],
   "source": [
    "#convert series to list\n",
    "s.tolist()"
   ]
  },
  {
   "cell_type": "code",
   "execution_count": 587,
   "id": "e275e698-2253-4efd-9aaa-7568ab14ae89",
   "metadata": {},
   "outputs": [
    {
     "data": {
      "text/plain": [
       "'{\"0\":11.0,\"1\":2.0,\"2\":3.0,\"3\":4.0,\"4\":5.0,\"5\":6.0,\"6\":7.0,\"7\":7.0,\"8\":7.0,\"9\":4.6666666667}'"
      ]
     },
     "execution_count": 587,
     "metadata": {},
     "output_type": "execute_result"
    }
   ],
   "source": [
    "#convert the series to json\n",
    "s.to_json()"
   ]
  },
  {
   "cell_type": "code",
   "execution_count": 557,
   "id": "8c406a3d-3aa4-4cde-b0af-b31473485b23",
   "metadata": {},
   "outputs": [
    {
     "data": {
      "text/plain": [
       "0    1.000000\n",
       "1    2.000000\n",
       "3    4.000000\n",
       "4    5.000000\n",
       "5    6.000000\n",
       "6    7.000000\n",
       "7    7.000000\n",
       "8    7.000000\n",
       "9    4.666667\n",
       "dtype: float64"
      ]
     },
     "execution_count": 557,
     "metadata": {},
     "output_type": "execute_result"
    }
   ],
   "source": [
    "#remove specific value for series an dfiltering based on condition\n",
    "s[s != 3.0]"
   ]
  },
  {
   "cell_type": "code",
   "execution_count": 559,
   "id": "18b2d464-5407-4233-b6b0-3dfad46680d6",
   "metadata": {},
   "outputs": [
    {
     "data": {
      "text/plain": [
       "5    6.0\n",
       "6    7.0\n",
       "7    7.0\n",
       "8    7.0\n",
       "dtype: float64"
      ]
     },
     "execution_count": 559,
     "metadata": {},
     "output_type": "execute_result"
    }
   ],
   "source": [
    "s[s>5]"
   ]
  },
  {
   "cell_type": "code",
   "execution_count": 561,
   "id": "66f069fe-df12-4dd1-8414-9080f48d3cc7",
   "metadata": {},
   "outputs": [
    {
     "data": {
      "text/plain": [
       "0       2.718282\n",
       "1       7.389056\n",
       "2      20.085537\n",
       "3      54.598150\n",
       "4     148.413159\n",
       "5     403.428793\n",
       "6    1096.633158\n",
       "7    1096.633158\n",
       "8    1096.633158\n",
       "9     106.342675\n",
       "dtype: float64"
      ]
     },
     "execution_count": 561,
     "metadata": {},
     "output_type": "execute_result"
    }
   ],
   "source": [
    "#exponential tranformation in the series \n",
    "np.exp(s)"
   ]
  },
  {
   "cell_type": "code",
   "execution_count": 563,
   "id": "a753a58a-4f89-4c0e-82df-6324d1c8812a",
   "metadata": {},
   "outputs": [
    {
     "data": {
      "text/plain": [
       "0    0.000000\n",
       "1    0.693147\n",
       "2    1.098612\n",
       "3    1.386294\n",
       "4    1.609438\n",
       "5    1.791759\n",
       "6    1.945910\n",
       "7    1.945910\n",
       "8    1.945910\n",
       "9    1.540445\n",
       "dtype: float64"
      ]
     },
     "execution_count": 563,
     "metadata": {},
     "output_type": "execute_result"
    }
   ],
   "source": [
    "np.log(s)"
   ]
  },
  {
   "cell_type": "code",
   "execution_count": 567,
   "id": "c2dc59c8-3ae6-4245-aad7-c1675ee12c29",
   "metadata": {},
   "outputs": [
    {
     "data": {
      "text/plain": [
       "0    1.000000\n",
       "1    2.000000\n",
       "2    3.000000\n",
       "3    4.000000\n",
       "4    5.000000\n",
       "5    6.000000\n",
       "6    7.000000\n",
       "7    7.000000\n",
       "8    7.000000\n",
       "9    4.666667\n",
       "dtype: float64"
      ]
     },
     "execution_count": 567,
     "metadata": {},
     "output_type": "execute_result"
    }
   ],
   "source": [
    "#deep copy and shallow copy\n",
    "t = s.copy() #deep copy >> change in one value will not reflect on another\n",
    "t"
   ]
  },
  {
   "cell_type": "code",
   "execution_count": 571,
   "id": "eaab8466-2e13-4158-989e-f861c7372285",
   "metadata": {},
   "outputs": [],
   "source": [
    "s[0] = 11"
   ]
  },
  {
   "cell_type": "code",
   "execution_count": 573,
   "id": "7d2f4c88-f631-4983-b819-8b98ac66d558",
   "metadata": {},
   "outputs": [
    {
     "data": {
      "text/plain": [
       "0    11.000000\n",
       "1     2.000000\n",
       "2     3.000000\n",
       "3     4.000000\n",
       "4     5.000000\n",
       "5     6.000000\n",
       "6     7.000000\n",
       "7     7.000000\n",
       "8     7.000000\n",
       "9     4.666667\n",
       "dtype: float64"
      ]
     },
     "execution_count": 573,
     "metadata": {},
     "output_type": "execute_result"
    }
   ],
   "source": [
    "s"
   ]
  },
  {
   "cell_type": "code",
   "execution_count": 575,
   "id": "32c526da-4b3e-4093-80c1-120cada4e5a7",
   "metadata": {},
   "outputs": [
    {
     "data": {
      "text/plain": [
       "0    1.000000\n",
       "1    2.000000\n",
       "2    3.000000\n",
       "3    4.000000\n",
       "4    5.000000\n",
       "5    6.000000\n",
       "6    7.000000\n",
       "7    7.000000\n",
       "8    7.000000\n",
       "9    4.666667\n",
       "dtype: float64"
      ]
     },
     "execution_count": 575,
     "metadata": {},
     "output_type": "execute_result"
    }
   ],
   "source": [
    "t"
   ]
  },
  {
   "cell_type": "code",
   "execution_count": 577,
   "id": "6b999e58-26ed-4c6b-951d-a77cd3214b8e",
   "metadata": {},
   "outputs": [
    {
     "data": {
      "text/plain": [
       "0    1.000000\n",
       "1    2.000000\n",
       "2    3.000000\n",
       "3    4.000000\n",
       "4    5.000000\n",
       "5    6.000000\n",
       "6    7.000000\n",
       "7    7.000000\n",
       "8    7.000000\n",
       "9    4.666667\n",
       "dtype: float64"
      ]
     },
     "execution_count": 577,
     "metadata": {},
     "output_type": "execute_result"
    }
   ],
   "source": [
    "#shallow copy\n",
    "s = t\n",
    "t"
   ]
  },
  {
   "cell_type": "code",
   "execution_count": 581,
   "id": "ec3c90d8-9918-4010-beed-7e0028328a70",
   "metadata": {},
   "outputs": [],
   "source": [
    "s[0]=11"
   ]
  },
  {
   "cell_type": "code",
   "execution_count": 583,
   "id": "51372cea-a36e-4f76-adba-6acf4d9cb02c",
   "metadata": {},
   "outputs": [
    {
     "data": {
      "text/plain": [
       "0    11.000000\n",
       "1     2.000000\n",
       "2     3.000000\n",
       "3     4.000000\n",
       "4     5.000000\n",
       "5     6.000000\n",
       "6     7.000000\n",
       "7     7.000000\n",
       "8     7.000000\n",
       "9     4.666667\n",
       "dtype: float64"
      ]
     },
     "execution_count": 583,
     "metadata": {},
     "output_type": "execute_result"
    }
   ],
   "source": [
    "s"
   ]
  },
  {
   "cell_type": "code",
   "execution_count": 585,
   "id": "6094320e-6625-404b-97fa-7c73f31a7e47",
   "metadata": {},
   "outputs": [
    {
     "data": {
      "text/plain": [
       "0    11.000000\n",
       "1     2.000000\n",
       "2     3.000000\n",
       "3     4.000000\n",
       "4     5.000000\n",
       "5     6.000000\n",
       "6     7.000000\n",
       "7     7.000000\n",
       "8     7.000000\n",
       "9     4.666667\n",
       "dtype: float64"
      ]
     },
     "execution_count": 585,
     "metadata": {},
     "output_type": "execute_result"
    }
   ],
   "source": [
    "t"
   ]
  },
  {
   "cell_type": "code",
   "execution_count": 589,
   "id": "fb4f3ec3-500f-4a51-a914-151c7d85f932",
   "metadata": {},
   "outputs": [
    {
     "data": {
      "text/plain": [
       "1"
      ]
     },
     "execution_count": 589,
     "metadata": {},
     "output_type": "execute_result"
    }
   ],
   "source": [
    "#find index of minimum value\n",
    "s.idxmin() #here minimum value is 2 thats why index is 1"
   ]
  },
  {
   "cell_type": "code",
   "execution_count": 591,
   "id": "95787a8e-0194-4897-89a6-efdf8ca85944",
   "metadata": {},
   "outputs": [
    {
     "data": {
      "text/plain": [
       "0    11.000000\n",
       "1     2.000000\n",
       "2     3.000000\n",
       "3     4.000000\n",
       "4     5.000000\n",
       "5     6.000000\n",
       "6     7.000000\n",
       "7     7.000000\n",
       "8     7.000000\n",
       "9     4.666667\n",
       "dtype: float64"
      ]
     },
     "execution_count": 591,
     "metadata": {},
     "output_type": "execute_result"
    }
   ],
   "source": [
    "s"
   ]
  },
  {
   "cell_type": "code",
   "execution_count": 593,
   "id": "aa3f1ec1-5bdf-417e-b2b8-9379031c7429",
   "metadata": {},
   "outputs": [
    {
     "data": {
      "text/plain": [
       "0"
      ]
     },
     "execution_count": 593,
     "metadata": {},
     "output_type": "execute_result"
    }
   ],
   "source": [
    "#find index of maximum value\n",
    "s.idxmax() #here 11 which is first element is maximum"
   ]
  },
  {
   "cell_type": "code",
   "execution_count": 595,
   "id": "ef0ffa51-7272-4b06-91bb-480611fc9104",
   "metadata": {},
   "outputs": [
    {
     "data": {
      "text/plain": [
       "0    11\n",
       "1     2\n",
       "2     3\n",
       "3     4\n",
       "4     5\n",
       "5     6\n",
       "6     7\n",
       "7     7\n",
       "8     7\n",
       "9     4\n",
       "dtype: int32"
      ]
     },
     "execution_count": 595,
     "metadata": {},
     "output_type": "execute_result"
    }
   ],
   "source": [
    "#to convert to integer\n",
    "s.astype(int)"
   ]
  },
  {
   "cell_type": "code",
   "execution_count": 597,
   "id": "044dff8d-9b4a-4db8-94b8-208b577fc2b9",
   "metadata": {},
   "outputs": [
    {
     "data": {
      "text/plain": [
       "0    11.0\n",
       "1     NaN\n",
       "2     NaN\n",
       "3     NaN\n",
       "4     NaN\n",
       "5     6.0\n",
       "6     7.0\n",
       "7     7.0\n",
       "8     7.0\n",
       "9     NaN\n",
       "dtype: float64"
      ]
     },
     "execution_count": 597,
     "metadata": {},
     "output_type": "execute_result"
    }
   ],
   "source": [
    "s.where(s> 5)"
   ]
  },
  {
   "cell_type": "code",
   "execution_count": 601,
   "id": "bee28377-52f9-4c8b-8c84-059f4e8cf5f5",
   "metadata": {},
   "outputs": [
    {
     "data": {
      "text/plain": [
       "0    1.0\n",
       "1    NaN\n",
       "2    3.0\n",
       "3    NaN\n",
       "4    5.0\n",
       "dtype: float64"
      ]
     },
     "execution_count": 601,
     "metadata": {},
     "output_type": "execute_result"
    }
   ],
   "source": [
    "#interpolating missing values\n",
    "w_null = pd.Series([1, None, 3, None, 5])\n",
    "w_null"
   ]
  },
  {
   "cell_type": "code",
   "execution_count": 603,
   "id": "79e89550-d1db-4fd5-a262-2dd9be786a7b",
   "metadata": {},
   "outputs": [
    {
     "data": {
      "text/plain": [
       "0    1.0\n",
       "1    2.0\n",
       "2    3.0\n",
       "3    4.0\n",
       "4    5.0\n",
       "dtype: float64"
      ]
     },
     "execution_count": 603,
     "metadata": {},
     "output_type": "execute_result"
    }
   ],
   "source": [
    "w_null.interpolate()"
   ]
  },
  {
   "cell_type": "code",
   "execution_count": 613,
   "id": "f801d374-505e-44e5-a62f-5dc971d69cba",
   "metadata": {},
   "outputs": [
    {
     "data": {
      "text/plain": [
       "0    100.0\n",
       "1    195.0\n",
       "2    290.0\n",
       "3    220.0\n",
       "4    150.0\n",
       "dtype: float64"
      ]
     },
     "execution_count": 613,
     "metadata": {},
     "output_type": "execute_result"
    }
   ],
   "source": [
    "w_null = pd.Series([100, None, 290, None, 150])\n",
    "w_null.interpolate()"
   ]
  },
  {
   "cell_type": "code",
   "execution_count": 609,
   "id": "4d531d7c-4369-4843-94f5-394e5bec5f8b",
   "metadata": {},
   "outputs": [
    {
     "data": {
      "text/plain": [
       "0    11.000000\n",
       "1     2.000000\n",
       "2     3.000000\n",
       "3     4.000000\n",
       "4     5.000000\n",
       "5     6.000000\n",
       "6     7.000000\n",
       "7     7.000000\n",
       "8     7.000000\n",
       "9     4.666667\n",
       "dtype: float64"
      ]
     },
     "execution_count": 609,
     "metadata": {},
     "output_type": "execute_result"
    }
   ],
   "source": [
    "s"
   ]
  },
  {
   "cell_type": "code",
   "execution_count": 607,
   "id": "a01ed768-438c-423d-89e4-338e497fb53e",
   "metadata": {},
   "outputs": [
    {
     "data": {
      "text/plain": [
       "0     NaN\n",
       "1    11.0\n",
       "2     2.0\n",
       "3     3.0\n",
       "4     4.0\n",
       "5     5.0\n",
       "6     6.0\n",
       "7     7.0\n",
       "8     7.0\n",
       "9     7.0\n",
       "dtype: float64"
      ]
     },
     "execution_count": 607,
     "metadata": {},
     "output_type": "execute_result"
    }
   ],
   "source": [
    "#shift the values of series\n",
    "s.shift(1)"
   ]
  },
  {
   "cell_type": "code",
   "execution_count": 611,
   "id": "e783b71c-323e-476b-908f-5acfc147c546",
   "metadata": {},
   "outputs": [
    {
     "data": {
      "text/plain": [
       "0    2.000000\n",
       "1    3.000000\n",
       "2    4.000000\n",
       "3    5.000000\n",
       "4    6.000000\n",
       "5    7.000000\n",
       "6    7.000000\n",
       "7    7.000000\n",
       "8    4.666667\n",
       "9         NaN\n",
       "dtype: float64"
      ]
     },
     "execution_count": 611,
     "metadata": {},
     "output_type": "execute_result"
    }
   ],
   "source": [
    "s.shift(-1) #shifting in opposite direction"
   ]
  },
  {
   "cell_type": "code",
   "execution_count": 615,
   "id": "b78b90e7-5223-4f8c-b242-241b6e68fa63",
   "metadata": {},
   "outputs": [
    {
     "data": {
      "text/plain": [
       "0    3.000000\n",
       "1    4.000000\n",
       "2    5.000000\n",
       "3    6.000000\n",
       "4    7.000000\n",
       "5    7.000000\n",
       "6    7.000000\n",
       "7    4.666667\n",
       "8         NaN\n",
       "9         NaN\n",
       "dtype: float64"
      ]
     },
     "execution_count": 615,
     "metadata": {},
     "output_type": "execute_result"
    }
   ],
   "source": [
    "s.shift(-2)"
   ]
  },
  {
   "cell_type": "code",
   "execution_count": 617,
   "id": "5e06c76c-b3a4-4c67-920e-9bd210ddca5d",
   "metadata": {},
   "outputs": [
    {
     "data": {
      "text/plain": [
       "0          11.0\n",
       "1          22.0\n",
       "2          66.0\n",
       "3         264.0\n",
       "4        1320.0\n",
       "5        7920.0\n",
       "6       55440.0\n",
       "7      388080.0\n",
       "8     2716560.0\n",
       "9    12677280.0\n",
       "dtype: float64"
      ]
     },
     "execution_count": 617,
     "metadata": {},
     "output_type": "execute_result"
    }
   ],
   "source": [
    "#cumulative product\n",
    "s.cumprod()"
   ]
  },
  {
   "cell_type": "code",
   "execution_count": 619,
   "id": "5d55f44d-677f-466c-8a7b-66b1e57969b1",
   "metadata": {},
   "outputs": [
    {
     "data": {
      "text/plain": [
       "32"
      ]
     },
     "execution_count": 619,
     "metadata": {},
     "output_type": "execute_result"
    }
   ],
   "source": [
    "a = pd.Series([1, 2, 3])\n",
    "b = pd.Series([4, 5, 6])\n",
    "a.dot(b)"
   ]
  },
  {
   "cell_type": "code",
   "execution_count": 633,
   "id": "4ee197c6-91c4-4618-8c56-2ec996042351",
   "metadata": {},
   "outputs": [
    {
     "data": {
      "text/plain": [
       "b    1\n",
       "c    2\n",
       "d    3\n",
       "dtype: int64"
      ]
     },
     "execution_count": 633,
     "metadata": {},
     "output_type": "execute_result"
    }
   ],
   "source": [
    "#reindex\n",
    "a.reindex([\"b\", \"c\", \"d\"], axis=0)"
   ]
  },
  {
   "cell_type": "code",
   "execution_count": 635,
   "id": "1a6a168e-51d3-4a76-b1e0-451b46d42266",
   "metadata": {},
   "outputs": [],
   "source": [
    "a.index = [\"b\", \"c\", \"d\"]"
   ]
  },
  {
   "cell_type": "code",
   "execution_count": 637,
   "id": "781c150a-aa39-4b7a-baa3-1fe1ddaae88e",
   "metadata": {},
   "outputs": [
    {
     "data": {
      "text/plain": [
       "b    1\n",
       "c    2\n",
       "d    3\n",
       "dtype: int64"
      ]
     },
     "execution_count": 637,
     "metadata": {},
     "output_type": "execute_result"
    }
   ],
   "source": [
    "a"
   ]
  },
  {
   "cell_type": "code",
   "execution_count": 643,
   "id": "0587b879-50a3-4d27-95ca-74f59cf853e5",
   "metadata": {},
   "outputs": [],
   "source": [
    "#reset index\n",
    "a.reset_index(inplace=True, drop=True)"
   ]
  },
  {
   "cell_type": "code",
   "execution_count": 645,
   "id": "49bfa5d4-5ee4-4247-b654-bc5444da11a0",
   "metadata": {},
   "outputs": [
    {
     "data": {
      "text/plain": [
       "0    1\n",
       "1    2\n",
       "2    3\n",
       "dtype: int64"
      ]
     },
     "execution_count": 645,
     "metadata": {},
     "output_type": "execute_result"
    }
   ],
   "source": [
    "a"
   ]
  },
  {
   "cell_type": "code",
   "execution_count": 647,
   "id": "6e23f4fc-ccb9-4729-a2d4-9ea87ce13b1d",
   "metadata": {},
   "outputs": [
    {
     "data": {
      "text/plain": [
       "0     True\n",
       "1    False\n",
       "2    False\n",
       "3    False\n",
       "4     True\n",
       "5     True\n",
       "6     True\n",
       "7     True\n",
       "8     True\n",
       "9    False\n",
       "dtype: bool"
      ]
     },
     "execution_count": 647,
     "metadata": {},
     "output_type": "execute_result"
    }
   ],
   "source": [
    " #between() - Checks if values in a Series are between two values.\n",
    "s.between(5, 15)"
   ]
  },
  {
   "cell_type": "code",
   "execution_count": 649,
   "id": "6e8c21c4-baa7-4046-9ddf-9c4f5a4d5a4d",
   "metadata": {},
   "outputs": [
    {
     "data": {
      "text/plain": [
       "0    11.0\n",
       "1     5.0\n",
       "2     5.0\n",
       "3     5.0\n",
       "4     5.0\n",
       "5     6.0\n",
       "6     7.0\n",
       "7     7.0\n",
       "8     7.0\n",
       "9     5.0\n",
       "dtype: float64"
      ]
     },
     "execution_count": 649,
     "metadata": {},
     "output_type": "execute_result"
    }
   ],
   "source": [
    "#clip() - Limits the values in a Series or DataFrame to a specified range.\n",
    "s.clip(lower=5, upper=15)"
   ]
  },
  {
   "cell_type": "code",
   "execution_count": 651,
   "id": "eeb52f5b-61e0-44b1-9552-b4234d4ba15b",
   "metadata": {},
   "outputs": [
    {
     "data": {
      "text/plain": [
       "0    11.000000\n",
       "1     2.000000\n",
       "2     3.000000\n",
       "3     4.000000\n",
       "4     5.000000\n",
       "5     6.000000\n",
       "6     7.000000\n",
       "7     7.000000\n",
       "8     7.000000\n",
       "9     4.666667\n",
       "dtype: float64"
      ]
     },
     "execution_count": 651,
     "metadata": {},
     "output_type": "execute_result"
    }
   ],
   "source": [
    "#dropna() - Removes missing values (i.e., NaN values) from a DataFrame or Series.\n",
    "s.dropna()"
   ]
  },
  {
   "cell_type": "code",
   "execution_count": 659,
   "id": "2edb4676-34b5-44fd-8fea-1eeed6ac9fda",
   "metadata": {},
   "outputs": [
    {
     "data": {
      "text/plain": [
       "<Axes: >"
      ]
     },
     "execution_count": 659,
     "metadata": {},
     "output_type": "execute_result"
    },
    {
     "data": {
      "image/png": "[encoded data removed]",
      "text/plain": [
       "<Figure size 640x480 with 1 Axes>"
      ]
     },
     "metadata": {},
     "output_type": "display_data"
    }
   ],
   "source": [
    "#plotting graphs on series\n",
    "\n",
    "s.plot()"
   ]
  },
  {
   "cell_type": "code",
   "execution_count": 673,
   "id": "979e0996-9405-4d56-9cf6-d36882d47afa",
   "metadata": {},
   "outputs": [
    {
     "data": {
      "text/plain": [
       "<Axes: ylabel='count'>"
      ]
     },
     "execution_count": 673,
     "metadata": {},
     "output_type": "execute_result"
    },
    {
     "data": {
      "image/png": "[encoded data removed]",
      "text/plain": [
       "<Figure size 640x480 with 1 Axes>"
      ]
     },
     "metadata": {},
     "output_type": "display_data"
    }
   ],
   "source": [
    "ms.value_counts().head(10).plot(kind='pie', autopct = \"%1.1f\")"
   ]
  },
  {
   "cell_type": "code",
   "execution_count": null,
   "id": "0ce13242-7c61-4835-8103-08d7cffcc3b3",
   "metadata": {},
   "outputs": [],
   "source": []
  },
  {
   "cell_type": "code",
   "execution_count": 653,
   "id": "ed0c7c77-cb9e-45a9-8448-af42f04d1ba7",
   "metadata": {},
   "outputs": [],
   "source": [
    "#interview questions\n",
    "#what is data structure of Pandas?\n",
    "#questions on indexes\n",
    "#read_csv parameters"
   ]
  },
  {
   "cell_type": "raw",
   "id": "67d0ec69-2d3a-40ce-bc78-3240463bd315",
   "metadata": {},
   "source": [
    "General Methods for Series:\n",
    "astype(): Converts the data type of the Series to a specified type.\n",
    "between(): Checks if elements are between two specified values (inclusive).\n",
    "clip(): Limits the values in the Series to a specified range.\n",
    "drop_duplicates(): Removes duplicate values from the Series.\n",
    "isnull(): Checks if each element in the Series is NaN.\n",
    "notnull(): Checks if each element in the Series is not NaN.\n",
    "dropna(): Removes NaN values from the Series.\n",
    "fillna(): Fills NaN values with a specified value or method.\n",
    "isin(): Checks if each element in the Series is contained in a list or another Series.\n",
    "apply(): Applies a function element-wise to each element of the Series.\n",
    "copy(): Creates a deep copy of the Series.\n",
    "to_frame(): Converts the Series to a DataFrame.\n",
    "unique(): Returns unique values from the Series.\n",
    "nunique(): Returns the count of unique values in the Series.\n",
    "value_counts(): Returns a Series containing counts of unique values.\n",
    "sort_values(): Sorts the values in the Series in ascending order.\n",
    "sort_index(): Sorts the Series by index.\n",
    "head(): Returns the first n rows of the Series.\n",
    "tail(): Returns the last n rows of the Series.\n",
    "reset_index(): Resets the index of the Series.\n",
    "set_index(): Sets a column as the index of the Series.\n",
    "map(): Maps values from the Series using a dictionary or a function.\n",
    "replace(): Replaces values in the Series with another value or a dictionary.\n",
    "sample(): Randomly sample elements from the Series.\n",
    "shift(): Shifts the Series by a specified number of periods.\n",
    "rank(): Ranks the values in the Series.\n",
    "cumsum(): Computes the cumulative sum of the Series.\n",
    "cumprod(): Computes the cumulative product of the Series.\n",
    "cummin(): Computes the cumulative minimum of the Series.\n",
    "cummax(): Computes the cumulative maximum of the Series.\n",
    "describe(): Generates descriptive statistics of the Series.\n",
    "corr(): Computes the correlation of the Series with another Series.\n",
    "cov(): Computes the covariance of the Series with another Series.\n",
    "eq(): Compares each element for equality with another value.\n",
    "ne(): Compares each element for inequality with another value.\n",
    "lt(): Compares if each element is less than another value.\n",
    "le(): Compares if each element is less than or equal to another value.\n",
    "gt(): Compares if each element is greater than another value.\n",
    "ge(): Compares if each element is greater than or equal to another value.\n",
    "abs(): Computes the absolute value of each element in the Series.\n",
    "round(): Rounds each element to a specified number of decimal places.\n",
    "str: String methods for Series of strings (e.g., str.lower(), str.upper()).\n",
    "cat: Methods for categorical data in Series.\n",
    "pivot(): Reshapes the Series to a different shape (used with categorical data).\n",
    "shift(): Shifts the data by a specified number of periods.\n",
    "combine_first(): Combines two Series, prioritizing non-NA values from the calling Series."
   ]
  },
  {
   "cell_type": "code",
   "execution_count": null,
   "id": "06430830-cb51-4875-bd01-3e31eb0c0176",
   "metadata": {},
   "outputs": [],
   "source": []
  },
  {
   "cell_type": "code",
   "execution_count": null,
   "id": "1b47dac6-9b72-4597-8ef3-8f5b7c6309b9",
   "metadata": {},
   "outputs": [],
   "source": []
  }
 ],
 "metadata": {
  "kernelspec": {
   "display_name": "Python 3 (ipykernel)",
   "language": "python",
   "name": "python3"
  },
  "language_info": {
   "codemirror_mode": {
    "name": "ipython",
    "version": 3
   },
   "file_extension": ".py",
   "mimetype": "text/x-python",
   "name": "python",
   "nbconvert_exporter": "python",
   "pygments_lexer": "ipython3",
   "version": "3.12.7"
  }
 },
 "nbformat": 4,
 "nbformat_minor": 5
}

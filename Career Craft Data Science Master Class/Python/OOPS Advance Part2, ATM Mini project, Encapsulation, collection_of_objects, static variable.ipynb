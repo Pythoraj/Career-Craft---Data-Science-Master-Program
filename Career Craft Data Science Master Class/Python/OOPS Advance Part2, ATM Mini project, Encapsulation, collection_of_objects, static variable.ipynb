{
 "cells": [
  {
   "cell_type": "code",
   "execution_count": null,
   "id": "18a9ce14-e68e-4f03-b335-aeacad1254ac",
   "metadata": {},
   "outputs": [],
   "source": [
    "#formatting>> ruff, and black "
   ]
  },
  {
   "cell_type": "code",
   "execution_count": 17,
   "id": "7cd8e9f0-466b-4bbb-ad80-93b5f1f3efbe",
   "metadata": {},
   "outputs": [
    {
     "name": "stdin",
     "output_type": "stream",
     "text": [
      "\n",
      "           Welcome to the ATM!!\n",
      "           Please choose the option otherwise monjolika will kill you\n",
      "           1. Create a new pin\n",
      "           2. Change your existing pin\n",
      "           3. Check your account balance\n",
      "           4. Withdraw money\n",
      "           5. Exit  5\n"
     ]
    },
    {
     "name": "stdout",
     "output_type": "stream",
     "text": [
      "Thank you for using ATM, GOODBYE\n"
     ]
    }
   ],
   "source": [
    " class ATM:\n",
    "\n",
    "    def __init__(self):\n",
    "        self.user_pin = ''\n",
    "        self.account_balance = 0\n",
    "    \n",
    "    #this is to display options to the users\n",
    "    def display_menu(self):\n",
    "        while True: #this is for continuous interaction\n",
    "            user_choice = input(\"\"\"\n",
    "            Welcome to the ATM!!\n",
    "            Please choose the option otherwise monjolika will kill you\n",
    "            1. Create a new pin\n",
    "            2. Change your existing pin\n",
    "            3. Check your account balance\n",
    "            4. Withdraw money\n",
    "            5. Exit \"\"\")\n",
    "            if user_choice == '1':\n",
    "                self.create_new_pin()\n",
    "            elif user_choice == '2':\n",
    "                self.update_pin()\n",
    "            elif user_choice == '3':\n",
    "                self.view_balance()\n",
    "            elif user_choice == '4':\n",
    "                self.withdraw_money()\n",
    "            elif user_choice == '5':\n",
    "                print(\"Thank you for using ATM, GOODBYE\")\n",
    "                break\n",
    "            else:\n",
    "                print(\"Invalid option, my gf monjolika will kill you!!\")\n",
    "\n",
    "    def create_new_pin(self):\n",
    "        while True:\n",
    "            new_pin = input(\"Please enter 4 digit pin: \")\n",
    "            if new_pin.isdigit() and len(new_pin) == 4:\n",
    "                self.user_pin = new_pin\n",
    "                break\n",
    "            else:\n",
    "                print(\"Invalid PIN, are you a thief? Please provide a 4 digit pin\")\n",
    "        self.account_balance = int(input(\"Enter the initial account balance.\"))\n",
    "        print(\"PIN Created successfully and account balance updated\")\n",
    "    def update_pin(self):\n",
    "        entered_old_pin = input(\"Enter your current pin\")\n",
    "        if entered_old_pin == self.user_pin:\n",
    "            while True:\n",
    "                new_pin = input(\"Enter 4 digit new numeric pin: \")\n",
    "                if new_pin.isdigit() and len(new_pin) == 4:\n",
    "                    self.user_pin = new_pin\n",
    "                    print(\"PIN updated successfully\")\n",
    "                    break\n",
    "                else:\n",
    "                    print(\"Invalid pin, please enter a valid pin\")\n",
    "        else:\n",
    "            print(\"Invalid pin, you are thief, how can you change\")\n",
    "        \n",
    "    def view_balance(self):\n",
    "        entered_pin = input(\"Enter your pin to know the balance: \")\n",
    "        if entered_pin == self.user_pin:\n",
    "            print(f\"Your account balance is : {self.account_balance}\")\n",
    "        else:\n",
    "            print(\"Incorrect PIN, access denied\")\n",
    "    def withdraw_money(self):\n",
    "        entered_pin = input(\"Please enter your pin for withdrawal\")\n",
    "        if entered_pin == self.user_pin:\n",
    "            withdrawl_money = int(input(\"Enter the amount you want to withdraw\"))\n",
    "            if withdrawl_money <= self.account_balance:\n",
    "                self.account_balance -= withdrawl_money\n",
    "                print(f\"Transaction successful, have a vodka party. Remaining balance {self.account_balance}\")\n",
    "            else:\n",
    "                print(\"Insufficient fund, approach to bank for loan, don't come here\")\n",
    "        else:\n",
    "            print(\"Invalid pin, you are thief\")\n",
    "\n",
    "\n",
    "a = ATM()\n",
    "a.display_menu()"
   ]
  },
  {
   "cell_type": "code",
   "execution_count": 19,
   "id": "9caa705e-5d08-4d4f-b9bc-d71516517210",
   "metadata": {},
   "outputs": [],
   "source": [
    "#Encapsulation >> means hiding something\n",
    "#in other words bundling of data/attributes and methods\n",
    "#also called as access modifier\n",
    "#analogy>> similar to capsule, we don't care what is inside the the class as far as class give the expected output"
   ]
  },
  {
   "cell_type": "code",
   "execution_count": 23,
   "id": "eb8d903d-84d5-476b-8e43-f797e9271b5a",
   "metadata": {},
   "outputs": [],
   "source": [
    "class ATM:\n",
    "    def __init__(self):\n",
    "        self.balance = 1000\n",
    "\n",
    "tushar = ATM()\n"
   ]
  },
  {
   "cell_type": "code",
   "execution_count": 25,
   "id": "30640ba3-11a3-4957-b3d0-f6c355c12501",
   "metadata": {},
   "outputs": [
    {
     "data": {
      "text/plain": [
       "1000"
      ]
     },
     "execution_count": 25,
     "metadata": {},
     "output_type": "execute_result"
    }
   ],
   "source": [
    "tushar.balance"
   ]
  },
  {
   "cell_type": "code",
   "execution_count": 27,
   "id": "200a93a5-2f91-406e-885f-723de383a3c9",
   "metadata": {},
   "outputs": [],
   "source": [
    "tushar.balance = 2000"
   ]
  },
  {
   "cell_type": "code",
   "execution_count": 29,
   "id": "202fc036-fd0e-4328-bfdb-497c4515e046",
   "metadata": {},
   "outputs": [
    {
     "data": {
      "text/plain": [
       "2000"
      ]
     },
     "execution_count": 29,
     "metadata": {},
     "output_type": "execute_result"
    }
   ],
   "source": [
    "tushar.balance"
   ]
  },
  {
   "cell_type": "code",
   "execution_count": 31,
   "id": "92599928-8a7f-4e60-9fdf-468e2e5f78b0",
   "metadata": {},
   "outputs": [],
   "source": [
    "class Student:\n",
    "    def __init__(self, name, degree):\n",
    "        self.name = name\n",
    "        self.degree = degree\n",
    "stud = Student(\"Shantanu\", \"MS\")"
   ]
  },
  {
   "cell_type": "code",
   "execution_count": 33,
   "id": "fca8ad31-27b6-45ce-a3f5-57e1ca7c9eb2",
   "metadata": {},
   "outputs": [
    {
     "data": {
      "text/plain": [
       "'MS'"
      ]
     },
     "execution_count": 33,
     "metadata": {},
     "output_type": "execute_result"
    }
   ],
   "source": [
    "stud.degree"
   ]
  },
  {
   "cell_type": "code",
   "execution_count": 35,
   "id": "3fcdcf91-886c-44c4-9e24-ccedc338e541",
   "metadata": {},
   "outputs": [
    {
     "data": {
      "text/plain": [
       "'Shantanu'"
      ]
     },
     "execution_count": 35,
     "metadata": {},
     "output_type": "execute_result"
    }
   ],
   "source": [
    "stud.name"
   ]
  },
  {
   "cell_type": "code",
   "execution_count": 37,
   "id": "007146a5-7e87-48cb-908c-6aa9b3b539de",
   "metadata": {},
   "outputs": [],
   "source": [
    "stud.degree = \"PhD\""
   ]
  },
  {
   "cell_type": "code",
   "execution_count": 39,
   "id": "275b9e4b-1bd6-4fde-9e1d-2cb04d39bdbd",
   "metadata": {},
   "outputs": [
    {
     "data": {
      "text/plain": [
       "'PhD'"
      ]
     },
     "execution_count": 39,
     "metadata": {},
     "output_type": "execute_result"
    }
   ],
   "source": [
    "stud.degree"
   ]
  },
  {
   "cell_type": "code",
   "execution_count": 41,
   "id": "c87aad08-95c8-4f70-b966-3757b136e4cb",
   "metadata": {},
   "outputs": [],
   "source": [
    "#comments\n",
    "#junior developer might modify the attribute/data fropm outside the class>> you might get fired\n",
    "#access modifier >> public, private, protected"
   ]
  },
  {
   "cell_type": "code",
   "execution_count": 45,
   "id": "9ed5803e-cc91-4f5e-b09b-79d633f18abe",
   "metadata": {},
   "outputs": [
    {
     "data": {
      "text/plain": [
       "'Shantanu'"
      ]
     },
     "execution_count": 45,
     "metadata": {},
     "output_type": "execute_result"
    }
   ],
   "source": [
    "#public >> accessible from anywhere from outside/inside the class\n",
    "#public attribute/methods can be modified from outside of the class\n",
    "class Student:\n",
    "    def __init__(self, name, degree):\n",
    "        self.name = name\n",
    "        self.degree = degree\n",
    "stud = Student(\"Shantanu\", \"MS\")\n",
    "stud.name"
   ]
  },
  {
   "cell_type": "code",
   "execution_count": 47,
   "id": "6231bbc8-e22d-4178-bc0c-f1d3f3e97a99",
   "metadata": {},
   "outputs": [],
   "source": [
    "#private >> within the class only its accessible, use two(underscores) to make private\n",
    "\n",
    "class Student:\n",
    "    def __init__(self, name, degree):\n",
    "        self.name = name\n",
    "        self.__degree = degree\n",
    "stud = Student(\"Shantanu\", \"MS\")"
   ]
  },
  {
   "cell_type": "code",
   "execution_count": 49,
   "id": "d76fbeb5-7f91-4adb-b118-1cba06d41c95",
   "metadata": {},
   "outputs": [
    {
     "data": {
      "text/plain": [
       "'Shantanu'"
      ]
     },
     "execution_count": 49,
     "metadata": {},
     "output_type": "execute_result"
    }
   ],
   "source": [
    "stud.name"
   ]
  },
  {
   "cell_type": "code",
   "execution_count": 51,
   "id": "d469d90c-261a-4516-a365-692d16bd7231",
   "metadata": {},
   "outputs": [
    {
     "ename": "AttributeError",
     "evalue": "'Student' object has no attribute 'degree'",
     "output_type": "error",
     "traceback": [
      "\u001b[1;31m---------------------------------------------------------------------------\u001b[0m",
      "\u001b[1;31mAttributeError\u001b[0m                            Traceback (most recent call last)",
      "Cell \u001b[1;32mIn[51], line 1\u001b[0m\n\u001b[1;32m----> 1\u001b[0m stud\u001b[38;5;241m.\u001b[39mdegree\n",
      "\u001b[1;31mAttributeError\u001b[0m: 'Student' object has no attribute 'degree'"
     ]
    }
   ],
   "source": [
    "stud.degree #degree is a private variable and cannot be accessed from outside the class and ypu saved your job.\n",
    "#really have you saved your job?"
   ]
  },
  {
   "cell_type": "code",
   "execution_count": 55,
   "id": "c29d72c8-1aa9-4cf1-ab32-0d274c834c1e",
   "metadata": {},
   "outputs": [],
   "source": [
    "stud.degree = \"PhD\" #The moment you made degree a private variable, the \n",
    "#variable in the memory is created with this name _Student__degree\n",
    "#stud.degree will actually create a new variable"
   ]
  },
  {
   "cell_type": "code",
   "execution_count": 57,
   "id": "e95e8e8d-bb94-47b6-851d-ead36577147e",
   "metadata": {},
   "outputs": [
    {
     "data": {
      "text/plain": [
       "'MS'"
      ]
     },
     "execution_count": 57,
     "metadata": {},
     "output_type": "execute_result"
    }
   ],
   "source": [
    "stud._Student__degree #but you cvan access the variable using object and class name"
   ]
  },
  {
   "cell_type": "code",
   "execution_count": 61,
   "id": "6ce9ccb9-c342-4a96-8149-8c2cf91e5336",
   "metadata": {},
   "outputs": [],
   "source": [
    "#why python has given a way to make a variable/attribute private, then why it also gave a way to access it\n",
    "#in java you can not access once made private\n",
    "#Python is a programming language for adults, nothing is truly private"
   ]
  },
  {
   "cell_type": "code",
   "execution_count": null,
   "id": "e63a087c-fa60-4339-a957-e759c3a0d40d",
   "metadata": {},
   "outputs": [],
   "source": [
    "#now you have saved your attributed in getting modified, but you want the junior developer to know what is the attribute\n",
    "#getter and setter"
   ]
  },
  {
   "cell_type": "code",
   "execution_count": 77,
   "id": "02eb980b-71d8-485e-94c1-5b2ff1d65180",
   "metadata": {},
   "outputs": [
    {
     "data": {
      "text/plain": [
       "'MS'"
      ]
     },
     "execution_count": 77,
     "metadata": {},
     "output_type": "execute_result"
    }
   ],
   "source": [
    "#private >> within the class only its accessible, use two(underscores) to make private\n",
    "#both attribute and method can be private\n",
    "\n",
    "class Student:\n",
    "    def __init__(self, name, degree):\n",
    "        self.name = name\n",
    "        self.__degree = degree\n",
    "    #getter method >> expose your private variable/attribute to other developers\n",
    "    def get_degree(self):\n",
    "        return self.__degree #access a private variable inside a class\n",
    "    #setter method >> To change the private attributes\n",
    "    def set_degree(self, new_value):\n",
    "        self.__degree = new_value\n",
    "    #some private method\n",
    "    def __private_method(self):\n",
    "            pass\n",
    "stud = Student(\"Shantanu\", \"MS\")\n",
    "stud.get_degree()"
   ]
  },
  {
   "cell_type": "code",
   "execution_count": 79,
   "id": "46e0bddc-40b7-4a5b-ba2f-8abee2f09cef",
   "metadata": {},
   "outputs": [],
   "source": [
    "stud.set_degree(\"PhD\")"
   ]
  },
  {
   "cell_type": "code",
   "execution_count": 81,
   "id": "a92c070a-1d1b-410f-90fa-c0e18f15f30d",
   "metadata": {},
   "outputs": [
    {
     "data": {
      "text/plain": [
       "'PhD'"
      ]
     },
     "execution_count": 81,
     "metadata": {},
     "output_type": "execute_result"
    }
   ],
   "source": [
    "stud.get_degree()"
   ]
  },
  {
   "cell_type": "code",
   "execution_count": 101,
   "id": "5965fa3f-a7a8-473f-b122-6069de2ff1db",
   "metadata": {},
   "outputs": [],
   "source": [
    "#another example\n",
    "\n",
    "class ATM:\n",
    "    def __init__(self, pin, balance):\n",
    "        self.__balance = balance\n",
    "        self.pin = pin\n",
    "    #getter\n",
    "    def show_balance(self):\n",
    "        return self.__balance\n",
    "    #setter\n",
    "    def modify_balance(self, new_value):\n",
    "        self.__balance = new_value\n",
    "\n",
    "tushar = ATM(\"1234\", \"1000\")"
   ]
  },
  {
   "cell_type": "code",
   "execution_count": 103,
   "id": "b99e0def-4964-45c6-aadc-295178b71e08",
   "metadata": {},
   "outputs": [
    {
     "data": {
      "text/plain": [
       "'1000'"
      ]
     },
     "execution_count": 103,
     "metadata": {},
     "output_type": "execute_result"
    }
   ],
   "source": [
    "tushar.show_balance()"
   ]
  },
  {
   "cell_type": "code",
   "execution_count": 105,
   "id": "60af4856-3f35-479b-a9c0-ff35248b251a",
   "metadata": {},
   "outputs": [],
   "source": [
    "tushar.modify_balance(\"5000\")"
   ]
  },
  {
   "cell_type": "code",
   "execution_count": 109,
   "id": "bc4209aa-ce19-4658-82b3-7a77e7a51c28",
   "metadata": {},
   "outputs": [
    {
     "data": {
      "text/plain": [
       "'5000'"
      ]
     },
     "execution_count": 109,
     "metadata": {},
     "output_type": "execute_result"
    }
   ],
   "source": [
    "tushar.show_balance()"
   ]
  },
  {
   "cell_type": "code",
   "execution_count": 91,
   "id": "b065f106-ae26-4e6c-a062-0658e2db57ea",
   "metadata": {},
   "outputs": [
    {
     "data": {
      "text/plain": [
       "'2000'"
      ]
     },
     "execution_count": 91,
     "metadata": {},
     "output_type": "execute_result"
    }
   ],
   "source": [
    "tushar.balance"
   ]
  },
  {
   "cell_type": "code",
   "execution_count": 111,
   "id": "ed88ffd6-ace7-40f1-a29f-e2ead41177b0",
   "metadata": {},
   "outputs": [],
   "source": [
    "#other things you can take care\n",
    "\n",
    "#another example\n",
    "\n",
    "class ATM:\n",
    "    def __init__(self, pin, balance):\n",
    "        self.__balance = balance\n",
    "        self.pin = pin\n",
    "    #getter\n",
    "    def show_balance(self):\n",
    "        return self.__balance\n",
    "    #setter\n",
    "    def modify_balance(self, new_value):\n",
    "        if type(new_value) == int:\n",
    "            self.__balance = new_value\n",
    "        else:\n",
    "            print(\"Brother dont get me fired\")\n",
    "\n",
    "tushar = ATM(\"1234\", \"1000\")"
   ]
  },
  {
   "cell_type": "code",
   "execution_count": 115,
   "id": "bf5bc465-1668-45ce-99a7-aabae2db7e94",
   "metadata": {},
   "outputs": [],
   "source": [
    "tushar.modify_balance(100)"
   ]
  },
  {
   "cell_type": "code",
   "execution_count": 117,
   "id": "036a0ab4-4816-4f45-b5a0-a0c5ec0e6d9e",
   "metadata": {},
   "outputs": [
    {
     "data": {
      "text/plain": [
       "100"
      ]
     },
     "execution_count": 117,
     "metadata": {},
     "output_type": "execute_result"
    }
   ],
   "source": [
    "tushar.show_balance()"
   ]
  },
  {
   "cell_type": "code",
   "execution_count": 119,
   "id": "beff8773-6c60-4ba9-96d3-a165d798c745",
   "metadata": {},
   "outputs": [],
   "source": [
    "class Car:\n",
    "    def __init__(self, year, make, speed, model):\n",
    "        self.__year = year\n",
    "        self.__make = make\n",
    "        self.__speed = speed\n",
    "        self.__model = model\n",
    "    def set_speed(self, speed):\n",
    "        self.__speed = 0 if speed < 0 else speed\n",
    "    def get_speed(self):\n",
    "        return self.__speed "
   ]
  },
  {
   "cell_type": "code",
   "execution_count": 121,
   "id": "36fa17b6-c54e-4f24-adf6-ce8497a1128d",
   "metadata": {},
   "outputs": [],
   "source": [
    "car = Car(\"1991\", \"Suzuki\", \"80\", \"Breeza\")"
   ]
  },
  {
   "cell_type": "code",
   "execution_count": 123,
   "id": "f10b56b7-b502-4f54-bf22-5ec35ebd7fe5",
   "metadata": {},
   "outputs": [
    {
     "data": {
      "text/plain": [
       "'80'"
      ]
     },
     "execution_count": 123,
     "metadata": {},
     "output_type": "execute_result"
    }
   ],
   "source": [
    "car.get_speed()"
   ]
  },
  {
   "cell_type": "code",
   "execution_count": 125,
   "id": "3f80ffd1-94f2-421a-97b0-f2f94894026e",
   "metadata": {},
   "outputs": [
    {
     "data": {
      "text/plain": [
       "'80'"
      ]
     },
     "execution_count": 125,
     "metadata": {},
     "output_type": "execute_result"
    }
   ],
   "source": [
    "car._Car__speed"
   ]
  },
  {
   "cell_type": "code",
   "execution_count": 127,
   "id": "818ad7da-7ac0-48be-91c2-4786fbbceace",
   "metadata": {},
   "outputs": [],
   "source": [
    "car.set_speed(-100)"
   ]
  },
  {
   "cell_type": "code",
   "execution_count": 129,
   "id": "7a05c24e-3ff8-4254-bf98-f1e5e3585170",
   "metadata": {},
   "outputs": [
    {
     "data": {
      "text/plain": [
       "0"
      ]
     },
     "execution_count": 129,
     "metadata": {},
     "output_type": "execute_result"
    }
   ],
   "source": [
    "car.get_speed()"
   ]
  },
  {
   "cell_type": "code",
   "execution_count": 143,
   "id": "a5507c39-d966-45ef-b51d-79751f426b45",
   "metadata": {},
   "outputs": [],
   "source": [
    "#Protected >> within the class and its subclass protected member can be access , created using one underscore\n",
    "\n",
    "\n",
    "class Vehicle:\n",
    "    def __init__(self):\n",
    "        self._model = \"Maruti\" #protected variable\n",
    "\n",
    "class Car(Vehicle): #this is inheritance>> we will see it at later stage\n",
    "    def __init__(self, name):\n",
    "        self.name = name\n",
    "        Vehicle.__init__(self) #super().__init__()\n",
    "    def show(self):\n",
    "        print(\"name\", self.name, \"model\", self._model)"
   ]
  },
  {
   "cell_type": "code",
   "execution_count": 145,
   "id": "83407bd1-2fb4-427e-b157-58cd0fde45f8",
   "metadata": {},
   "outputs": [],
   "source": [
    "c = Car(\"Breeza\")"
   ]
  },
  {
   "cell_type": "code",
   "execution_count": 147,
   "id": "f9cfada7-30da-4a8a-89f1-426feae7e124",
   "metadata": {},
   "outputs": [
    {
     "data": {
      "text/plain": [
       "'Breeza'"
      ]
     },
     "execution_count": 147,
     "metadata": {},
     "output_type": "execute_result"
    }
   ],
   "source": [
    "c.name"
   ]
  },
  {
   "cell_type": "code",
   "execution_count": 149,
   "id": "80adc751-9e84-432c-bfa2-ee8c65339a38",
   "metadata": {},
   "outputs": [
    {
     "name": "stdout",
     "output_type": "stream",
     "text": [
      "name Breeza model Maruti\n"
     ]
    }
   ],
   "source": [
    "c.show()"
   ]
  },
  {
   "cell_type": "code",
   "execution_count": 155,
   "id": "ee815be1-a28c-4f39-8ced-eed3039d6c17",
   "metadata": {},
   "outputs": [],
   "source": [
    "#collection of objects >>list, dictionary\n",
    "\n",
    "class Student:\n",
    "    def __init__(self, name, degree):\n",
    "        self.name = name\n",
    "        self.degree = degree\n",
    "    #getter method >> expose your private variable/attribute to other developers\n",
    "    def get_degree(self):\n",
    "        return self.degree #access a private variable inside a class\n",
    "    #setter method >> To change the private attributes\n",
    "    def set_degree(self, new_value):\n",
    "        self.__degree = new_value\n",
    "stud1 = Student(\"Shantanu\", \"MS\")\n",
    "stud2 = Student(\"Ramu\", \"PhD\")\n",
    "stud3 = Student(\"Raj\", \"MBA\")"
   ]
  },
  {
   "cell_type": "code",
   "execution_count": 159,
   "id": "556f18f9-3a3e-41d9-8057-0888afde4594",
   "metadata": {},
   "outputs": [
    {
     "name": "stdout",
     "output_type": "stream",
     "text": [
      "Shantanu MS\n",
      "Ramu PhD\n",
      "Raj MBA\n"
     ]
    }
   ],
   "source": [
    "students = [stud1, stud2, stud3]\n",
    "for stu in students:\n",
    "    print(stu.name, stu.degree)"
   ]
  },
  {
   "cell_type": "code",
   "execution_count": 165,
   "id": "ffb811fc-80d8-4e6d-a606-54d6ee9824eb",
   "metadata": {},
   "outputs": [],
   "source": [
    "students_dict = {\"s1\":stud1, \"s2\": stud2, \"s3\":stud3}"
   ]
  },
  {
   "cell_type": "code",
   "execution_count": 169,
   "id": "657ff585-db74-4ecf-b1f6-7ebb3c729e81",
   "metadata": {},
   "outputs": [
    {
     "name": "stdout",
     "output_type": "stream",
     "text": [
      "Shantanu\n",
      "Ramu\n",
      "Raj\n"
     ]
    }
   ],
   "source": [
    "for i in students_dict:\n",
    "    print(students_dict[i].name)"
   ]
  },
  {
   "cell_type": "code",
   "execution_count": 173,
   "id": "200e8f32-b481-4337-a424-784810270c4f",
   "metadata": {},
   "outputs": [],
   "source": [
    "#static variable\n",
    "\n",
    "#here below name and degree are instance variable/object variable\n",
    "#but now, say I want to know how many students are there\n",
    "#or in other words how many time student object is created\n",
    "#in other words >> what is total no of student or for atm problem statement what is total no of tranaction\n",
    "#in other words, I want a variable which increases each time the class object is created\n",
    "\n",
    "\n",
    "\n",
    "class Student:\n",
    "    def __init__(self, name, degree):\n",
    "        self.name = name\n",
    "        self.degree = degree\n",
    "    \n",
    "    def get_degree(self):\n",
    "        return self.degree \n",
    " \n",
    "    def set_degree(self, new_value):\n",
    "        self.__degree = new_value\n",
    "stud1 = Student(\"Shantanu\", \"MS\")\n",
    "stud2 = Student(\"Ramu\", \"PhD\")\n",
    "stud3 = Student(\"Raj\", \"MBA\")"
   ]
  },
  {
   "cell_type": "code",
   "execution_count": 190,
   "id": "f18b0eb7-0f0b-4b02-af7b-9431dc1461e0",
   "metadata": {},
   "outputs": [],
   "source": [
    "class Student:\n",
    "\n",
    "    sid = 0\n",
    "    sid +=1 #this way we can not do because each time the new object is created, sid will be re-initailied\n",
    "    #or in other word sid was independent for each object\n",
    "    def __init__(self, name, degree):\n",
    "        self.name = name\n",
    "        self.degree = degree\n",
    "    \n",
    "    def get_degree(self):\n",
    "        return self.degree \n",
    " \n",
    "    def set_degree(self, new_value):\n",
    "        self.__degree = new_value\n",
    "stud1 = Student(\"Shantanu\", \"MS\")\n",
    "stud2 = Student(\"Ramu\", \"PhD\")\n",
    "stud3 = Student(\"Raj\", \"MBA\")\n",
    "stud3 = Student(\"Ra\", \"MBA\")"
   ]
  },
  {
   "cell_type": "code",
   "execution_count": 192,
   "id": "e4026b7a-855a-4f81-80a2-437fe3e2d632",
   "metadata": {},
   "outputs": [
    {
     "data": {
      "text/plain": [
       "1"
      ]
     },
     "execution_count": 192,
     "metadata": {},
     "output_type": "execute_result"
    }
   ],
   "source": [
    "stud3.sid"
   ]
  },
  {
   "cell_type": "code",
   "execution_count": 200,
   "id": "a76d54c8-829f-4842-af6c-7a440fdd3083",
   "metadata": {},
   "outputs": [],
   "source": [
    "#what we need to do? we need a class variable that is increased each the class is called\n",
    "\n",
    "\n",
    "class Student:\n",
    "\n",
    "    sid = 0 #class variable always will be defined outside the constructor \n",
    "    def __init__(self, name, degree):\n",
    "        self.name = name\n",
    "        self.degree = degree\n",
    "        self.sid = Student.sid\n",
    "        Student.sid = Student.sid+1\n",
    "    \n",
    "    def get_degree(self):\n",
    "        return self.degree \n",
    " \n",
    "    def set_degree(self, new_value):\n",
    "        self.__degree = new_value\n",
    "stud1 = Student(\"Shantanu\", \"MS\")\n",
    "stud2 = Student(\"Ramu\", \"PhD\")\n",
    "stud3 = Student(\"Raj\", \"MBA\")\n",
    "stud4 = Student(\"Ra\", \"MBA\")"
   ]
  },
  {
   "cell_type": "code",
   "execution_count": 202,
   "id": "60da0823-a816-4098-8a76-3957bd89932e",
   "metadata": {},
   "outputs": [
    {
     "data": {
      "text/plain": [
       "4"
      ]
     },
     "execution_count": 202,
     "metadata": {},
     "output_type": "execute_result"
    }
   ],
   "source": [
    "Student.sid #class variable is accessed by classname.variable"
   ]
  },
  {
   "cell_type": "code",
   "execution_count": 204,
   "id": "ee288cb5-0dfe-4f54-9cf0-3447f893a569",
   "metadata": {},
   "outputs": [],
   "source": [
    "#static variable can also be private and you can expose it using any static method\n",
    "\n",
    "class Student:\n",
    "\n",
    "    __sid = 0 \n",
    "    def __init__(self, name, degree):\n",
    "        self.name = name\n",
    "        self.degree = degree\n",
    "        self.sid = Student.__sid #each time new object is created, self.sid will check if any variable by Student.__sid exist\n",
    "        Student.__sid = Student.__sid+1\n",
    "    \n",
    "    def get_degree(self):\n",
    "        return self.degree \n",
    "    #utility function for class method>> you dont need to create object to access this method\n",
    "    @staticmethod\n",
    "    def get_sid(): #in static method you dont need to write self\n",
    "        return Student.__sid\n",
    " \n",
    "    def set_degree(self, new_value):\n",
    "        self.__degree = new_value\n",
    "stud1 = Student(\"Shantanu\", \"MS\")\n",
    "stud2 = Student(\"Ramu\", \"PhD\")\n",
    "stud3 = Student(\"Raj\", \"MBA\")\n",
    "stud4 = Student(\"Ra\", \"MBA\")"
   ]
  },
  {
   "cell_type": "code",
   "execution_count": 208,
   "id": "f874969e-7ef0-464b-8cfb-750a8d3c5848",
   "metadata": {},
   "outputs": [
    {
     "data": {
      "text/plain": [
       "4"
      ]
     },
     "execution_count": 208,
     "metadata": {},
     "output_type": "execute_result"
    }
   ],
   "source": [
    "Student.get_sid()"
   ]
  },
  {
   "cell_type": "code",
   "execution_count": 210,
   "id": "92d5d76c-c7e8-43b9-9824-138a506476c9",
   "metadata": {},
   "outputs": [],
   "source": [
    "#Assignment\n",
    "#make a transaction amount sum in class ATM\n",
    "#Cab booking system, also calculate total no of passenger after each trip"
   ]
  },
  {
   "cell_type": "code",
   "execution_count": null,
   "id": "ae594fa2-639e-4539-af36-f94e65d04b56",
   "metadata": {},
   "outputs": [],
   "source": [
    "#pointers\n",
    "#static variable are at class level, accessed using class name and its object independent\n",
    "#we can access static variable without creating any object\n",
    "#the value stored in static variavble is shared across the instances/objects of the class"
   ]
  },
  {
   "cell_type": "code",
   "execution_count": null,
   "id": "4336753a-f820-4d32-8d6b-4a32be45f905",
   "metadata": {},
   "outputs": [],
   "source": []
  },
  {
   "cell_type": "code",
   "execution_count": null,
   "id": "b5aa7a6a-8416-4c36-ae0a-f0633dd150e1",
   "metadata": {},
   "outputs": [],
   "source": []
  }
 ],
 "metadata": {
  "kernelspec": {
   "display_name": "Python 3 (ipykernel)",
   "language": "python",
   "name": "python3"
  },
  "language_info": {
   "codemirror_mode": {
    "name": "ipython",
    "version": 3
   },
   "file_extension": ".py",
   "mimetype": "text/x-python",
   "name": "python",
   "nbconvert_exporter": "python",
   "pygments_lexer": "ipython3",
   "version": "3.12.7"
  }
 },
 "nbformat": 4,
 "nbformat_minor": 5
}

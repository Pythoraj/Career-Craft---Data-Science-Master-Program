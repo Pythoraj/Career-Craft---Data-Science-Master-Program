{
 "cells": [
  {
   "cell_type": "markdown",
   "id": "6609ffdc-4368-41c4-97cf-f6a4f4eb848c",
   "metadata": {},
   "source": [
    "Tuple: \n",
    "- Tuple is similer to list.\n",
    "- tuple is immutable\n",
    "- It has index, order, allow duplicates value"
   ]
  },
  {
   "cell_type": "markdown",
   "id": "1a531d24-ac20-4411-bb6d-aa75c2f578d3",
   "metadata": {},
   "source": [
    "A tuple in Python is a collection of objects separated by commas and enclosed within parentheses (). Tuples are similar to lists but with a key difference: they are immutable, meaning once a tuple is created, its elements cannot be changed, added, or removed\n",
    "\n",
    "**Creating Tuples:**\n",
    "\n",
    "Tuples can be created in several ways:\n",
    "\n",
    "Using round brackets: mytuple = (\"apple\", \"banana\", \"cherry\") print(mytuple)\n",
    "\n",
    "With one item (note the comma): single_item_tuple = (\"apple\",) print(type(single_item_tuple)) # Output: <class 'tuple'>\n",
    "\n",
    "Using the tuple() constructor: mytuple = tuple((\"apple\", \"banana\", \"cherry\")) print(mytuple)\n",
    "\n",
    "Characteristics of Tuples\n",
    "\n",
    "Ordered: The items have a defined order that will not change.\n",
    "\n",
    "Immutable: Once created, the elements of a tuple cannot be changed.\n",
    "\n",
    "Allow Duplicates: Tuples can contain duplicate values.\n",
    "\n",
    "Accessing Tuple Elements\n",
    "\n",
    "You can access tuple elements using indexing:\n",
    "\n",
    "Positive Indexing: mytuple = (\"apple\", \"banana\", \"cherry\") print(mytuple[0]) # Output: apple\n",
    "\n",
    "Negative Indexing: mytuple = (\"apple\", \"banana\", \"cherry\") print(mytuple[-1]) # Output: cherry\n",
    "\n",
    "Tuple Operations\n",
    "\n",
    "Concatenation: tuple1 = (0, 1, 2, 3) tuple2 = ('python', 'geek') print(tuple1 + tuple2) # Output: (0, 1, 2, 3, 'python', 'geek')\n",
    "\n",
    "Nesting: tuple1 = (0, 1, 2, 3) tuple2 = ('python', 'geek') nested_tuple = (tuple1, tuple2) print(nested_tuple) # Output: ((0, 1, 2, 3), ('python', 'geek'))\n",
    "\n",
    "Repetition: repeated_tuple = ('python',) * 3 print(repeated_tuple) # Output: ('python', 'python', 'python')\n",
    "\n",
    "Slicing: mytuple = (0, 1, 2, 3) print(mytuple[1:]) # Output: (1, 2, 3) print(mytuple[::-1]) # Output: (3, 2, 1, 0) print(mytuple[2:4]) # Output: (2, 3)\n",
    "\n",
    "Important Considerations\n",
    "\n",
    "Length: Use len() to find the number of items in a tuple. mytuple = (\"apple\", \"banana\", \"cherry\") print(len(mytuple)) # Output: 3\n",
    "\n",
    "Conversion: Convert a list to a tuple using the tuple() constructor. mylist = [0, 1, 2] print(tuple(mylist)) # Output: (0, 1, 2)\n",
    "\n",
    "Deletion: You cannot delete individual elements, but you can delete the entire tuple using del. mytuple = (0, 1) del mytuple\n",
    "\n",
    "Tuples are a fundamental data structure in Python, offering a way to store multiple items in a single variable while ensuring the data remains unchanged"
   ]
  },
  {
   "cell_type": "code",
   "execution_count": 5,
   "id": "e26893a2-b67f-4547-8fff-b69ddb1177ac",
   "metadata": {},
   "outputs": [],
   "source": [
    "t = ()"
   ]
  },
  {
   "cell_type": "code",
   "execution_count": 7,
   "id": "3be6b719-10c3-4035-96e6-9a52b830d15f",
   "metadata": {},
   "outputs": [
    {
     "data": {
      "text/plain": [
       "tuple"
      ]
     },
     "execution_count": 7,
     "metadata": {},
     "output_type": "execute_result"
    }
   ],
   "source": [
    "type(t)"
   ]
  },
  {
   "cell_type": "code",
   "execution_count": 9,
   "id": "0d702d00-5976-47d7-bf4b-d97a0d412447",
   "metadata": {},
   "outputs": [],
   "source": [
    "t1 = ('CC',8+2j, True,1,2,3.4)"
   ]
  },
  {
   "cell_type": "code",
   "execution_count": 11,
   "id": "18a187ac-f148-4f6c-8a72-bd638ea0c963",
   "metadata": {},
   "outputs": [
    {
     "data": {
      "text/plain": [
       "'CC'"
      ]
     },
     "execution_count": 11,
     "metadata": {},
     "output_type": "execute_result"
    }
   ],
   "source": [
    "# Access to the element\n",
    "t1[0]"
   ]
  },
  {
   "cell_type": "code",
   "execution_count": 13,
   "id": "fe50e898-1630-44cf-bbf7-72821a75dce2",
   "metadata": {},
   "outputs": [],
   "source": [
    "# for one element we use comma"
   ]
  },
  {
   "cell_type": "code",
   "execution_count": 17,
   "id": "d39e2830-5d33-4556-a2e3-ff5610c7202a",
   "metadata": {},
   "outputs": [],
   "source": [
    "t1=(2)"
   ]
  },
  {
   "cell_type": "code",
   "execution_count": 19,
   "id": "6f2ddf30-8d07-4343-bd47-23b6eb4441a6",
   "metadata": {},
   "outputs": [
    {
     "data": {
      "text/plain": [
       "int"
      ]
     },
     "execution_count": 19,
     "metadata": {},
     "output_type": "execute_result"
    }
   ],
   "source": [
    "type(t1)"
   ]
  },
  {
   "cell_type": "code",
   "execution_count": 21,
   "id": "21d96612-d8d7-4fee-84c1-be698fab8277",
   "metadata": {},
   "outputs": [],
   "source": [
    "t1= (2,)"
   ]
  },
  {
   "cell_type": "code",
   "execution_count": 23,
   "id": "a1d2b990-ed29-40a8-ba57-4faec4aeace4",
   "metadata": {},
   "outputs": [
    {
     "data": {
      "text/plain": [
       "tuple"
      ]
     },
     "execution_count": 23,
     "metadata": {},
     "output_type": "execute_result"
    }
   ],
   "source": [
    "type(t1)"
   ]
  },
  {
   "cell_type": "code",
   "execution_count": 25,
   "id": "e391230e-06ff-4e78-aeca-fdc5e97f403a",
   "metadata": {},
   "outputs": [
    {
     "data": {
      "text/plain": [
       "0"
      ]
     },
     "execution_count": 25,
     "metadata": {},
     "output_type": "execute_result"
    }
   ],
   "source": [
    "t1.count(1)"
   ]
  },
  {
   "cell_type": "code",
   "execution_count": 27,
   "id": "a79fe732-ca9c-49b0-ba8b-fa822d979551",
   "metadata": {},
   "outputs": [],
   "source": [
    "t1 = ('CC',8+2j, True,1,2,3.4)"
   ]
  },
  {
   "cell_type": "code",
   "execution_count": 29,
   "id": "fab5db59-a69d-4eec-a268-fd5b1e4a374f",
   "metadata": {},
   "outputs": [
    {
     "data": {
      "text/plain": [
       "2"
      ]
     },
     "execution_count": 29,
     "metadata": {},
     "output_type": "execute_result"
    }
   ],
   "source": [
    "t1.count(1)"
   ]
  },
  {
   "cell_type": "code",
   "execution_count": 33,
   "id": "06fa869d-812c-4883-b8d3-15589c9171eb",
   "metadata": {},
   "outputs": [],
   "source": [
    "#max(t1)"
   ]
  },
  {
   "cell_type": "code",
   "execution_count": 35,
   "id": "a1054f86-b034-478d-bb94-c660608e5fa8",
   "metadata": {},
   "outputs": [],
   "source": [
    "t = ([1,2,3],'Ram',1,2,3)"
   ]
  },
  {
   "cell_type": "code",
   "execution_count": 37,
   "id": "82e0b5d3-fa21-46c7-bcfa-073041293f6b",
   "metadata": {},
   "outputs": [
    {
     "data": {
      "text/plain": [
       "([1, 2, 3], 'Ram', 1, 2, 3)"
      ]
     },
     "execution_count": 37,
     "metadata": {},
     "output_type": "execute_result"
    }
   ],
   "source": [
    "t"
   ]
  },
  {
   "cell_type": "code",
   "execution_count": 39,
   "id": "c9dc8327-c35a-4039-8b66-25e7e77ee23d",
   "metadata": {},
   "outputs": [
    {
     "data": {
      "text/plain": [
       "5"
      ]
     },
     "execution_count": 39,
     "metadata": {},
     "output_type": "execute_result"
    }
   ],
   "source": [
    "len(t)"
   ]
  },
  {
   "cell_type": "code",
   "execution_count": 41,
   "id": "1862d089-b85b-4e73-80a0-497746de3673",
   "metadata": {},
   "outputs": [
    {
     "data": {
      "text/plain": [
       "True"
      ]
     },
     "execution_count": 41,
     "metadata": {},
     "output_type": "execute_result"
    }
   ],
   "source": [
    "\"Ram\" in t"
   ]
  },
  {
   "cell_type": "code",
   "execution_count": 43,
   "id": "2e441dc1-87c8-4951-8ad7-c28ded1a899e",
   "metadata": {},
   "outputs": [
    {
     "data": {
      "text/plain": [
       "False"
      ]
     },
     "execution_count": 43,
     "metadata": {},
     "output_type": "execute_result"
    }
   ],
   "source": [
    "\"Ram\" not in t"
   ]
  },
  {
   "cell_type": "code",
   "execution_count": 45,
   "id": "e5eb79c7-2b9a-4edc-948a-966087c2774b",
   "metadata": {},
   "outputs": [],
   "source": [
    "t1 = (4,5,6,7)"
   ]
  },
  {
   "cell_type": "code",
   "execution_count": 47,
   "id": "32d17644-0624-4036-8f15-42e72952c9d8",
   "metadata": {},
   "outputs": [
    {
     "data": {
      "text/plain": [
       "([1, 2, 3], 'Ram', 1, 2, 3, 4, 5, 6, 7)"
      ]
     },
     "execution_count": 47,
     "metadata": {},
     "output_type": "execute_result"
    }
   ],
   "source": [
    "t+t1"
   ]
  },
  {
   "cell_type": "code",
   "execution_count": 49,
   "id": "df2d46bc-d676-4211-baed-66e4a84ccad6",
   "metadata": {},
   "outputs": [
    {
     "data": {
      "text/plain": [
       "'Ram'"
      ]
     },
     "execution_count": 49,
     "metadata": {},
     "output_type": "execute_result"
    }
   ],
   "source": [
    "t[1]"
   ]
  },
  {
   "cell_type": "code",
   "execution_count": 51,
   "id": "11613e0b-ba28-4a03-a067-c5ea7c5fcf75",
   "metadata": {},
   "outputs": [
    {
     "ename": "TypeError",
     "evalue": "'tuple' object does not support item assignment",
     "output_type": "error",
     "traceback": [
      "\u001b[1;31m---------------------------------------------------------------------------\u001b[0m",
      "\u001b[1;31mTypeError\u001b[0m                                 Traceback (most recent call last)",
      "Cell \u001b[1;32mIn[51], line 1\u001b[0m\n\u001b[1;32m----> 1\u001b[0m t[\u001b[38;5;241m1\u001b[39m] \u001b[38;5;241m=\u001b[39m \u001b[38;5;124m'\u001b[39m\u001b[38;5;124mRajkumar\u001b[39m\u001b[38;5;124m'\u001b[39m\n",
      "\u001b[1;31mTypeError\u001b[0m: 'tuple' object does not support item assignment"
     ]
    }
   ],
   "source": [
    "t[1] = 'Rajkumar'"
   ]
  },
  {
   "cell_type": "markdown",
   "id": "e4c55350-32db-40ed-86f9-80b892b2cdfb",
   "metadata": {},
   "source": [
    "**Difference between List and Tuple:**\n",
    "\n",
    "- Lists are suitable for collections of items that may need to be modified, such as adding or removing elements.\n",
    "\n",
    "- Tuples are suitable for collections of items that should not change, such as configuration settings or constant values\n",
    "\n",
    "- Tuples are faster then list.\n",
    " "
   ]
  },
  {
   "cell_type": "code",
   "execution_count": 1,
   "id": "522f4bce-bf99-4e01-8be1-562019c7a017",
   "metadata": {},
   "outputs": [],
   "source": [
    "from time import perf_counter\n",
    "start = perf_counter()\n",
    "tup = tuple(range(1000))\n",
    "for i in tup:\n",
    "    i*100\n",
    "end = perf_counter()\n"
   ]
  },
  {
   "cell_type": "code",
   "execution_count": 3,
   "id": "d6df77c2-5bca-41ed-8d6c-65fa886a0539",
   "metadata": {},
   "outputs": [],
   "source": [
    "a,b,c,*d = (1,2,3,4,5,6,7,8)"
   ]
  },
  {
   "cell_type": "code",
   "execution_count": 5,
   "id": "0a56e654-09df-4aec-9f9d-f9425771b484",
   "metadata": {},
   "outputs": [
    {
     "data": {
      "text/plain": [
       "1"
      ]
     },
     "execution_count": 5,
     "metadata": {},
     "output_type": "execute_result"
    }
   ],
   "source": [
    "a"
   ]
  },
  {
   "cell_type": "code",
   "execution_count": 7,
   "id": "135c5b42-a554-4c2b-adca-d138e8386e57",
   "metadata": {},
   "outputs": [
    {
     "data": {
      "text/plain": [
       "2"
      ]
     },
     "execution_count": 7,
     "metadata": {},
     "output_type": "execute_result"
    }
   ],
   "source": [
    "b"
   ]
  },
  {
   "cell_type": "code",
   "execution_count": 9,
   "id": "7240de9e-ee76-43e9-8c4d-43b813707b52",
   "metadata": {},
   "outputs": [
    {
     "data": {
      "text/plain": [
       "3"
      ]
     },
     "execution_count": 9,
     "metadata": {},
     "output_type": "execute_result"
    }
   ],
   "source": [
    "c"
   ]
  },
  {
   "cell_type": "code",
   "execution_count": 11,
   "id": "836e92e9-5ea5-499b-9b5e-48d2c0907044",
   "metadata": {},
   "outputs": [
    {
     "data": {
      "text/plain": [
       "[4, 5, 6, 7, 8]"
      ]
     },
     "execution_count": 11,
     "metadata": {},
     "output_type": "execute_result"
    }
   ],
   "source": [
    "d"
   ]
  },
  {
   "cell_type": "code",
   "execution_count": 13,
   "id": "c3760223-eb18-484a-88d2-ff5240136b6b",
   "metadata": {},
   "outputs": [
    {
     "data": {
      "text/plain": [
       "((1, 5), (2, 6), (3, 7), (4, 8))"
      ]
     },
     "execution_count": 13,
     "metadata": {},
     "output_type": "execute_result"
    }
   ],
   "source": [
    "t1 = (1,2,3,4)\n",
    "t2 = (5,6,7,8)\n",
    "tuple(zip(t1,t2))"
   ]
  },
  {
   "cell_type": "code",
   "execution_count": 15,
   "id": "92d5146c-f247-4679-a7c2-f9e213733eda",
   "metadata": {},
   "outputs": [
    {
     "data": {
      "text/plain": [
       "(('Name', 'Samosa'), ('Price', '15'))"
      ]
     },
     "execution_count": 15,
     "metadata": {},
     "output_type": "execute_result"
    }
   ],
   "source": [
    "a = ('Name','Price')\n",
    "b = ('Samosa','15')\n",
    "tuple(zip(a,b))"
   ]
  },
  {
   "cell_type": "markdown",
   "id": "65f9fbe5-7ff6-4c8a-8ac5-ee476d1caad9",
   "metadata": {},
   "source": [
    "**Set:**\n",
    "\n",
    "- Sets are used to store multiple items in a single variable.\n",
    "\n",
    "- Set is one of 4 built-in data types in Python used to store collections of data, the other 3 are List, Tuple, and Dictionary, all with different   qualities and usage.\n",
    "\n",
    "A set is a collection which is unordered, unchangeable*, and unindexed.\n",
    "\n",
    "* Note: Set items are unchangeable, but you can remove items and add new items.\n",
    "* Note: Sets are unordered, so you cannot be sure in which order the items will appear.\n",
    "* Unchangeable: Once a set is created, you cannot change its items, but you can remove items and add new items.\n",
    "* Duplicates Not Allowed: Sets cannot have two items with the same value.\n",
    "* Note: The values True and 1 are considered the same value in sets, and are treated as duplicates\n",
    "* Note: The values False and 0 are considered the same value in sets, and are treated as duplicates\n",
    "* Set items are unchangeable, but you can remove items and add new items.\n",
    "* As of Python version 3.7, dictionaries are ordered. In Python 3.6 and earlier, dictionaries are unordered.\n",
    "\n",
    "Sets are written with curly brackets."
   ]
  },
  {
   "cell_type": "code",
   "execution_count": 20,
   "id": "a108daf9-9b08-4e68-8f94-c2f84c5b1475",
   "metadata": {},
   "outputs": [
    {
     "name": "stdout",
     "output_type": "stream",
     "text": [
      "{'banana', 'cherry', 'apple'}\n"
     ]
    }
   ],
   "source": [
    "thisset = {\"apple\", \"banana\", \"cherry\", \"apple\"}\n",
    "\n",
    "print(thisset)"
   ]
  },
  {
   "cell_type": "code",
   "execution_count": 23,
   "id": "53f33a82-94a4-4c16-9124-535662e2225b",
   "metadata": {},
   "outputs": [
    {
     "name": "stdout",
     "output_type": "stream",
     "text": [
      "{True, 2, 'cherry', 'apple', 'banana'}\n"
     ]
    }
   ],
   "source": [
    "#True and 1 is considered the same value:\n",
    "\n",
    "thisset = {\"apple\", \"banana\", \"cherry\", True, 1, 2}\n",
    "\n",
    "print(thisset)"
   ]
  },
  {
   "cell_type": "code",
   "execution_count": 25,
   "id": "e6c5cdf0-dae4-4c50-9d77-1380732e91d8",
   "metadata": {},
   "outputs": [
    {
     "name": "stdout",
     "output_type": "stream",
     "text": [
      "{False, True, 'cherry', 'apple', 'banana'}\n"
     ]
    }
   ],
   "source": [
    "#False and 0 is considered the same value:\n",
    "thisset = {\"apple\", \"banana\", \"cherry\", False, True, 0}\n",
    "\n",
    "print(thisset)"
   ]
  },
  {
   "cell_type": "code",
   "execution_count": 34,
   "id": "86fbbfc1-15d9-498a-a2c6-2e1c9d638b86",
   "metadata": {},
   "outputs": [
    {
     "data": {
      "text/plain": [
       "{(0, 9, 8), 1, 2, 3, 4, 5, 6}"
      ]
     },
     "execution_count": 34,
     "metadata": {},
     "output_type": "execute_result"
    }
   ],
   "source": [
    "s = {1,2,3,4,5,6,(0,9,8)}\n",
    "s"
   ]
  },
  {
   "cell_type": "code",
   "execution_count": 36,
   "id": "e924050b-0378-4007-9d27-ed3bc43b64c6",
   "metadata": {},
   "outputs": [
    {
     "ename": "TypeError",
     "evalue": "unhashable type: 'list'",
     "output_type": "error",
     "traceback": [
      "\u001b[1;31m---------------------------------------------------------------------------\u001b[0m",
      "\u001b[1;31mTypeError\u001b[0m                                 Traceback (most recent call last)",
      "Cell \u001b[1;32mIn[36], line 1\u001b[0m\n\u001b[1;32m----> 1\u001b[0m s1 \u001b[38;5;241m=\u001b[39m {\u001b[38;5;241m1\u001b[39m,\u001b[38;5;241m2\u001b[39m,\u001b[38;5;241m3\u001b[39m,\u001b[38;5;241m4\u001b[39m,\u001b[38;5;241m5\u001b[39m,\u001b[38;5;241m6\u001b[39m,[\u001b[38;5;241m0\u001b[39m,\u001b[38;5;241m9\u001b[39m,\u001b[38;5;241m8\u001b[39m]}\n",
      "\u001b[1;31mTypeError\u001b[0m: unhashable type: 'list'"
     ]
    }
   ],
   "source": [
    "s1 = {1,2,3,4,5,6,[0,9,8]}\n"
   ]
  },
  {
   "cell_type": "markdown",
   "id": "f06ab9ba-9dea-4a3a-8065-fea4390deb83",
   "metadata": {},
   "source": [
    "**why mutable data type is not allowed ?**\n",
    "- Ans: Set is unindexed and it have unique value"
   ]
  },
  {
   "cell_type": "code",
   "execution_count": 38,
   "id": "9ae2b39d-f279-4729-92e5-daf5cfb2607e",
   "metadata": {},
   "outputs": [],
   "source": [
    "# TypeError: unhashable type: 'list' why this error is comming."
   ]
  },
  {
   "cell_type": "code",
   "execution_count": 40,
   "id": "7df9773c-2a29-4938-8ac8-26c72ddf67f5",
   "metadata": {},
   "outputs": [
    {
     "data": {
      "text/plain": [
       "{1, 2, 'Rajbhar', 'rajkumar'}"
      ]
     },
     "execution_count": 40,
     "metadata": {},
     "output_type": "execute_result"
    }
   ],
   "source": [
    "{1,2,2,\"rajkumar\",\"Rajbhar\"}"
   ]
  },
  {
   "cell_type": "code",
   "execution_count": 42,
   "id": "2d3bdc33-5564-48ef-b82b-ca845153611f",
   "metadata": {},
   "outputs": [],
   "source": [
    "# set is unindexed and can not be edit but can be add element"
   ]
  },
  {
   "cell_type": "code",
   "execution_count": 44,
   "id": "0e64ce2f-3a68-44c4-977d-a95d137871c5",
   "metadata": {},
   "outputs": [],
   "source": [
    "s = {1,2,3,4,5,6}"
   ]
  },
  {
   "cell_type": "code",
   "execution_count": 48,
   "id": "ffd09872-629b-44e6-9420-29c33e1d5a54",
   "metadata": {},
   "outputs": [],
   "source": [
    "s.add(7)"
   ]
  },
  {
   "cell_type": "code",
   "execution_count": 50,
   "id": "9d81527e-1567-48be-a9bd-82035e0b4d48",
   "metadata": {},
   "outputs": [
    {
     "data": {
      "text/plain": [
       "{1, 2, 3, 4, 5, 6, 7}"
      ]
     },
     "execution_count": 50,
     "metadata": {},
     "output_type": "execute_result"
    }
   ],
   "source": [
    "s"
   ]
  },
  {
   "cell_type": "code",
   "execution_count": 54,
   "id": "d93c8b73-2e2c-4c65-88e5-bb8a3c5415ea",
   "metadata": {},
   "outputs": [],
   "source": [
    "s.update([8])"
   ]
  },
  {
   "cell_type": "code",
   "execution_count": 56,
   "id": "f87d60f5-3352-4f58-86aa-b10642b7e33a",
   "metadata": {},
   "outputs": [
    {
     "data": {
      "text/plain": [
       "{1, 2, 3, 4, 5, 6, 7, 8}"
      ]
     },
     "execution_count": 56,
     "metadata": {},
     "output_type": "execute_result"
    }
   ],
   "source": [
    "s"
   ]
  },
  {
   "cell_type": "code",
   "execution_count": 58,
   "id": "b0a9cd40-fde0-4486-80a6-ec1c9dd014cd",
   "metadata": {},
   "outputs": [],
   "source": [
    "s.discard(7)"
   ]
  },
  {
   "cell_type": "code",
   "execution_count": 60,
   "id": "d2e8feb3-462a-4900-8676-9747245a8cb9",
   "metadata": {},
   "outputs": [
    {
     "data": {
      "text/plain": [
       "{1, 2, 3, 4, 5, 6, 8}"
      ]
     },
     "execution_count": 60,
     "metadata": {},
     "output_type": "execute_result"
    }
   ],
   "source": [
    "s"
   ]
  },
  {
   "cell_type": "code",
   "execution_count": 62,
   "id": "8a277823-167c-4018-944b-3ed6a1cd7397",
   "metadata": {},
   "outputs": [],
   "source": [
    "s.remove(4)"
   ]
  },
  {
   "cell_type": "code",
   "execution_count": 64,
   "id": "f78161db-562a-4838-bc26-4961edcf7112",
   "metadata": {},
   "outputs": [
    {
     "data": {
      "text/plain": [
       "{1, 2, 3, 5, 6, 8}"
      ]
     },
     "execution_count": 64,
     "metadata": {},
     "output_type": "execute_result"
    }
   ],
   "source": [
    "s"
   ]
  },
  {
   "cell_type": "code",
   "execution_count": 66,
   "id": "13821f82-9927-40c1-a1bf-4ac69428a4f1",
   "metadata": {},
   "outputs": [],
   "source": [
    "s.discard(11)"
   ]
  },
  {
   "cell_type": "code",
   "execution_count": 68,
   "id": "2b41aeec-8c6f-46b0-a3d5-e6c7a49b2431",
   "metadata": {},
   "outputs": [
    {
     "ename": "KeyError",
     "evalue": "11",
     "output_type": "error",
     "traceback": [
      "\u001b[1;31m---------------------------------------------------------------------------\u001b[0m",
      "\u001b[1;31mKeyError\u001b[0m                                  Traceback (most recent call last)",
      "Cell \u001b[1;32mIn[68], line 1\u001b[0m\n\u001b[1;32m----> 1\u001b[0m \u001b[43ms\u001b[49m\u001b[38;5;241;43m.\u001b[39;49m\u001b[43mremove\u001b[49m\u001b[43m(\u001b[49m\u001b[38;5;241;43m11\u001b[39;49m\u001b[43m)\u001b[49m\n",
      "\u001b[1;31mKeyError\u001b[0m: 11"
     ]
    }
   ],
   "source": [
    "s.remove(11)"
   ]
  },
  {
   "cell_type": "code",
   "execution_count": 70,
   "id": "55d249e7-29dc-416a-9220-26c3dc6afe2d",
   "metadata": {},
   "outputs": [],
   "source": [
    "s.clear()"
   ]
  },
  {
   "cell_type": "code",
   "execution_count": 80,
   "id": "2c25df01-8c57-4a14-8a98-a4e9368707c8",
   "metadata": {},
   "outputs": [],
   "source": [
    "s.add(2)"
   ]
  },
  {
   "cell_type": "code",
   "execution_count": 82,
   "id": "0e472cc6-6c7f-4966-976a-b7fe940f20a4",
   "metadata": {},
   "outputs": [
    {
     "data": {
      "text/plain": [
       "{1, 2}"
      ]
     },
     "execution_count": 82,
     "metadata": {},
     "output_type": "execute_result"
    }
   ],
   "source": [
    "s"
   ]
  },
  {
   "cell_type": "code",
   "execution_count": 86,
   "id": "3c7c9168-cb73-42be-9b66-fa22b5d6e8ea",
   "metadata": {},
   "outputs": [],
   "source": [
    "s.clear()"
   ]
  },
  {
   "cell_type": "code",
   "execution_count": 88,
   "id": "731513c2-5959-405f-b0ac-18811f87833f",
   "metadata": {},
   "outputs": [],
   "source": [
    "del s"
   ]
  },
  {
   "cell_type": "code",
   "execution_count": 90,
   "id": "64417be5-e742-4dc7-9345-cd5b22067cef",
   "metadata": {},
   "outputs": [
    {
     "ename": "NameError",
     "evalue": "name 's' is not defined",
     "output_type": "error",
     "traceback": [
      "\u001b[1;31m---------------------------------------------------------------------------\u001b[0m",
      "\u001b[1;31mNameError\u001b[0m                                 Traceback (most recent call last)",
      "Cell \u001b[1;32mIn[90], line 1\u001b[0m\n\u001b[1;32m----> 1\u001b[0m \u001b[43ms\u001b[49m\n",
      "\u001b[1;31mNameError\u001b[0m: name 's' is not defined"
     ]
    }
   ],
   "source": [
    "s"
   ]
  },
  {
   "cell_type": "code",
   "execution_count": 92,
   "id": "3380f7a3-f411-4cf3-9d0e-ce853e5d53ca",
   "metadata": {},
   "outputs": [],
   "source": [
    "# Creating sets\n",
    "A = {0, 2, 4, 6, 8}\n",
    "B = {1, 2, 3, 4, 5}"
   ]
  },
  {
   "cell_type": "markdown",
   "id": "99489c0a-6b6d-46b2-b55d-e898b044e784",
   "metadata": {},
   "source": [
    "**Union**\n",
    "\n",
    "The union of two sets includes all elements from both sets. It can be performed using the | operator or the union() method:"
   ]
  },
  {
   "cell_type": "code",
   "execution_count": 95,
   "id": "4b89ef01-76fc-44d2-9d57-b0e2d7bd9897",
   "metadata": {},
   "outputs": [
    {
     "name": "stdout",
     "output_type": "stream",
     "text": [
      "Union: {0, 1, 2, 3, 4, 5, 6, 8}\n",
      "Union using union(): {0, 1, 2, 3, 4, 5, 6, 8}\n"
     ]
    }
   ],
   "source": [
    "# Union\n",
    "print(\"Union:\", A | B) # Output: {0, 1, 2, 3, 4, 5, 6, 8}\n",
    "print(\"Union using union():\", A.union(B))"
   ]
  },
  {
   "cell_type": "code",
   "execution_count": 97,
   "id": "5277b261-26e3-4e09-9b3d-a2c842f4d247",
   "metadata": {},
   "outputs": [
    {
     "data": {
      "text/plain": [
       "{0, 1, 2, 3, 4, 5, 6, 8}"
      ]
     },
     "execution_count": 97,
     "metadata": {},
     "output_type": "execute_result"
    }
   ],
   "source": [
    "A.union(B)"
   ]
  },
  {
   "cell_type": "code",
   "execution_count": 105,
   "id": "6045dfb6-b50b-4bba-a656-d2f916c2eeb9",
   "metadata": {},
   "outputs": [
    {
     "name": "stdout",
     "output_type": "stream",
     "text": [
      "{4, 5, 7}\n"
     ]
    }
   ],
   "source": [
    "# Defining the two sets\n",
    "first_set = {1, 5, 7, 4, 5}\n",
    "second_set = {4, 5, 6, 7, 8}\n",
    " \n",
    "# Creating the intersection of the two sets\n",
    "new_set = first_set & second_set\n",
    "\n",
    " \n",
    "print(new_set) # Output: {4, 5}"
   ]
  },
  {
   "cell_type": "code",
   "execution_count": 107,
   "id": "ac5ec460-973a-4d1e-8168-5598cbc9fd16",
   "metadata": {},
   "outputs": [
    {
     "data": {
      "text/plain": [
       "{4, 5, 7}"
      ]
     },
     "execution_count": 107,
     "metadata": {},
     "output_type": "execute_result"
    }
   ],
   "source": [
    "first_set.intersection(second_set)"
   ]
  },
  {
   "cell_type": "code",
   "execution_count": 109,
   "id": "d6215ee3-cfd0-4df8-94f8-02e240d53658",
   "metadata": {},
   "outputs": [
    {
     "name": "stdout",
     "output_type": "stream",
     "text": [
      "{1}\n"
     ]
    }
   ],
   "source": [
    "# Defining the two sets\n",
    "first_set = {1, 5, 7, 4, 5}\n",
    "second_set = {4, 5, 6, 7, 8}\n",
    " \n",
    "# Creating the difference of the two sets\n",
    "new_set = first_set - second_set\n",
    " \n",
    "print(new_set) # Output: {1, 2, 3}"
   ]
  },
  {
   "cell_type": "code",
   "execution_count": 111,
   "id": "d53cfe77-8b6f-4886-b19a-cf910ba0cdd8",
   "metadata": {},
   "outputs": [
    {
     "name": "stdout",
     "output_type": "stream",
     "text": [
      "{8, 6, 7}\n"
     ]
    }
   ],
   "source": [
    "# Difference of two sets\n",
    "# Initialize A and B\n",
    "first_set = {1, 2, 3, 4, 5}\n",
    "second_set = {4, 5, 6, 7, 8}\n",
    " \n",
    "# Creating the difference between the two sets\n",
    "new_set = second_set.difference(first_set)\n",
    " \n",
    "print(new_set) # Output: {6, 7, 8}"
   ]
  },
  {
   "cell_type": "code",
   "execution_count": 113,
   "id": "a632890c-37b9-465b-965b-c1e50c5eb2df",
   "metadata": {},
   "outputs": [
    {
     "data": {
      "text/plain": [
       "{1, 2, 3, 6, 7, 8}"
      ]
     },
     "execution_count": 113,
     "metadata": {},
     "output_type": "execute_result"
    }
   ],
   "source": [
    "first_set.symmetric_difference(second_set)"
   ]
  },
  {
   "cell_type": "code",
   "execution_count": 115,
   "id": "90c489af-3bc2-41b3-ac43-c5f621092c50",
   "metadata": {},
   "outputs": [
    {
     "data": {
      "text/plain": [
       "True"
      ]
     },
     "execution_count": 115,
     "metadata": {},
     "output_type": "execute_result"
    }
   ],
   "source": [
    "#membership1\n",
    "1 in first_set"
   ]
  },
  {
   "cell_type": "code",
   "execution_count": 117,
   "id": "20dfb798-9076-455e-ac5f-5c683a2d2435",
   "metadata": {},
   "outputs": [
    {
     "data": {
      "text/plain": [
       "False"
      ]
     },
     "execution_count": 117,
     "metadata": {},
     "output_type": "execute_result"
    }
   ],
   "source": [
    "s = {1,2,3}\n",
    "s1= {3,4,5}\n",
    "s.isdisjoint(s1)  # No common elements"
   ]
  },
  {
   "cell_type": "code",
   "execution_count": 121,
   "id": "96b69974-a449-4927-939b-090ffc2ccf60",
   "metadata": {},
   "outputs": [
    {
     "data": {
      "text/plain": [
       "False"
      ]
     },
     "execution_count": 121,
     "metadata": {},
     "output_type": "execute_result"
    }
   ],
   "source": [
    "s={1,2,3,4,5}\n",
    "s1 = {4}\n",
    "s.issubset(s1)"
   ]
  },
  {
   "cell_type": "code",
   "execution_count": 123,
   "id": "933e8bac-13ba-44c8-a660-c52a456c355e",
   "metadata": {},
   "outputs": [
    {
     "data": {
      "text/plain": [
       "True"
      ]
     },
     "execution_count": 123,
     "metadata": {},
     "output_type": "execute_result"
    }
   ],
   "source": [
    "s.issuperset(s1)"
   ]
  },
  {
   "cell_type": "code",
   "execution_count": 125,
   "id": "98729758-70b7-4892-9537-a0d3aaf7b69d",
   "metadata": {},
   "outputs": [],
   "source": [
    "# frozenset >> it is immutable version of set "
   ]
  },
  {
   "cell_type": "code",
   "execution_count": 127,
   "id": "87940537-8bc6-4169-99f3-075893a34231",
   "metadata": {},
   "outputs": [],
   "source": [
    "f = frozenset([1,2,3,4])"
   ]
  },
  {
   "cell_type": "code",
   "execution_count": 129,
   "id": "0df8f4db-bd7e-4f14-85ba-9b059d3771ce",
   "metadata": {},
   "outputs": [
    {
     "data": {
      "text/plain": [
       "frozenset({1, 2, 3, 4})"
      ]
     },
     "execution_count": 129,
     "metadata": {},
     "output_type": "execute_result"
    }
   ],
   "source": [
    "f"
   ]
  },
  {
   "cell_type": "code",
   "execution_count": 131,
   "id": "cdd20521-4b99-45fa-b086-425b2fda198f",
   "metadata": {},
   "outputs": [
    {
     "data": {
      "text/plain": [
       "frozenset"
      ]
     },
     "execution_count": 131,
     "metadata": {},
     "output_type": "execute_result"
    }
   ],
   "source": [
    "type(f)"
   ]
  },
  {
   "cell_type": "code",
   "execution_count": 133,
   "id": "61ceeacc-95cb-4a6a-a834-d626e2f69423",
   "metadata": {},
   "outputs": [
    {
     "ename": "AttributeError",
     "evalue": "'frozenset' object has no attribute 'add'",
     "output_type": "error",
     "traceback": [
      "\u001b[1;31m---------------------------------------------------------------------------\u001b[0m",
      "\u001b[1;31mAttributeError\u001b[0m                            Traceback (most recent call last)",
      "Cell \u001b[1;32mIn[133], line 1\u001b[0m\n\u001b[1;32m----> 1\u001b[0m \u001b[43mf\u001b[49m\u001b[38;5;241;43m.\u001b[39;49m\u001b[43madd\u001b[49m([\u001b[38;5;241m1\u001b[39m,\u001b[38;5;241m2\u001b[39m])\n",
      "\u001b[1;31mAttributeError\u001b[0m: 'frozenset' object has no attribute 'add'"
     ]
    }
   ],
   "source": [
    "f.add([1,2])"
   ]
  },
  {
   "cell_type": "code",
   "execution_count": 135,
   "id": "a9dd2f8c-0503-45c7-8629-cb04718b0f3b",
   "metadata": {},
   "outputs": [
    {
     "data": {
      "text/plain": [
       "frozenset()"
      ]
     },
     "execution_count": 135,
     "metadata": {},
     "output_type": "execute_result"
    }
   ],
   "source": [
    "f1 = frozenset([1,2,3,4])\n",
    "f2 = frozenset([5,6,7,8])\n",
    "f1&f2"
   ]
  },
  {
   "cell_type": "code",
   "execution_count": 137,
   "id": "c841f49c-2ffa-42b4-b1dd-da73013aac5a",
   "metadata": {},
   "outputs": [
    {
     "data": {
      "text/plain": [
       "frozenset({1, 2, 3, 4, 5, 6, 7, 8})"
      ]
     },
     "execution_count": 137,
     "metadata": {},
     "output_type": "execute_result"
    }
   ],
   "source": [
    "f1|f2"
   ]
  },
  {
   "cell_type": "code",
   "execution_count": null,
   "id": "3d8a9938-af50-482e-a75d-6c5f2de33f7d",
   "metadata": {},
   "outputs": [],
   "source": []
  }
 ],
 "metadata": {
  "kernelspec": {
   "display_name": "Python 3 (ipykernel)",
   "language": "python",
   "name": "python3"
  },
  "language_info": {
   "codemirror_mode": {
    "name": "ipython",
    "version": 3
   },
   "file_extension": ".py",
   "mimetype": "text/x-python",
   "name": "python",
   "nbconvert_exporter": "python",
   "pygments_lexer": "ipython3",
   "version": "3.9.18"
  }
 },
 "nbformat": 4,
 "nbformat_minor": 5
}

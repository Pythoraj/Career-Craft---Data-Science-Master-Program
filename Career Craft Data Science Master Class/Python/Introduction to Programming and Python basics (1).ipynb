{
 "cells": [
  {
   "cell_type": "code",
   "execution_count": 1,
   "id": "a40d4105-0d8f-4fc8-be97-250091ab37c4",
   "metadata": {},
   "outputs": [
    {
     "name": "stdout",
     "output_type": "stream",
     "text": [
      "Hello world\n"
     ]
    }
   ],
   "source": [
    "print(\"Hello world\")"
   ]
  },
  {
   "cell_type": "code",
   "execution_count": 3,
   "id": "0ea22f72-5b93-42f2-ac6b-56920b896a42",
   "metadata": {},
   "outputs": [
    {
     "name": "stdout",
     "output_type": "stream",
     "text": [
      "Hello monjolika\n"
     ]
    }
   ],
   "source": [
    "print(\"Hello monjolika\") #A predefined keyword"
   ]
  },
  {
   "cell_type": "code",
   "execution_count": 5,
   "id": "573ceb65-009f-4fb0-8fac-f929643cb4e2",
   "metadata": {},
   "outputs": [
    {
     "name": "stdout",
     "output_type": "stream",
     "text": [
      "\n",
      "Here is a list of the Python keywords.  Enter any keyword to get more help.\n",
      "\n",
      "False               class               from                or\n",
      "None                continue            global              pass\n",
      "True                def                 if                  raise\n",
      "and                 del                 import              return\n",
      "as                  elif                in                  try\n",
      "assert              else                is                  while\n",
      "async               except              lambda              with\n",
      "await               finally             nonlocal            yield\n",
      "break               for                 not                 \n",
      "\n"
     ]
    }
   ],
   "source": [
    "help(\"keywords\")"
   ]
  },
  {
   "cell_type": "code",
   "execution_count": 7,
   "id": "0d2a8533-6c53-4e88-9fac-4476efa8ea1d",
   "metadata": {},
   "outputs": [
    {
     "name": "stdout",
     "output_type": "stream",
     "text": [
      "Ajay\n"
     ]
    }
   ],
   "source": [
    "#basic data structure\n",
    "name = \"Ajay\"\n",
    "print(name)"
   ]
  },
  {
   "cell_type": "code",
   "execution_count": 9,
   "id": "93aef4e8-ab45-48e0-bff6-0c6c97381d20",
   "metadata": {},
   "outputs": [
    {
     "data": {
      "text/plain": [
       "3"
      ]
     },
     "execution_count": 9,
     "metadata": {},
     "output_type": "execute_result"
    }
   ],
   "source": [
    "a = 3\n",
    "a"
   ]
  },
  {
   "cell_type": "code",
   "execution_count": 11,
   "id": "6e02c5af-9f93-43a6-b151-a8c3686b83a7",
   "metadata": {},
   "outputs": [
    {
     "data": {
      "text/plain": [
       "'Ajay'"
      ]
     },
     "execution_count": 11,
     "metadata": {},
     "output_type": "execute_result"
    }
   ],
   "source": [
    "a = \"Ajay\"\n",
    "a"
   ]
  },
  {
   "cell_type": "code",
   "execution_count": 13,
   "id": "87a7aba2-4fe3-40f5-891d-aa5813c7124f",
   "metadata": {},
   "outputs": [
    {
     "data": {
      "text/plain": [
       "5.6"
      ]
     },
     "execution_count": 13,
     "metadata": {},
     "output_type": "execute_result"
    }
   ],
   "source": [
    "a = 5.6\n",
    "a"
   ]
  },
  {
   "cell_type": "code",
   "execution_count": 15,
   "id": "d1ecbf35-037e-49cc-bd51-6c8d92d525f6",
   "metadata": {},
   "outputs": [
    {
     "data": {
      "text/plain": [
       "float"
      ]
     },
     "execution_count": 15,
     "metadata": {},
     "output_type": "execute_result"
    }
   ],
   "source": [
    "type(a) #to detect the data type of an object"
   ]
  },
  {
   "cell_type": "code",
   "execution_count": 17,
   "id": "e184a0cf-8b40-4755-821d-dd2adebce68e",
   "metadata": {},
   "outputs": [
    {
     "data": {
      "text/plain": [
       "str"
      ]
     },
     "execution_count": 17,
     "metadata": {},
     "output_type": "execute_result"
    }
   ],
   "source": [
    "b = \"Monjo\"\n",
    "type(b)"
   ]
  },
  {
   "cell_type": "code",
   "execution_count": 19,
   "id": "d2f5ae24-2dd5-44cf-a461-05196ed8c584",
   "metadata": {},
   "outputs": [
    {
     "data": {
      "text/plain": [
       "bool"
      ]
     },
     "execution_count": 19,
     "metadata": {},
     "output_type": "execute_result"
    }
   ],
   "source": [
    "c = True\n",
    "type(c)"
   ]
  },
  {
   "cell_type": "code",
   "execution_count": 21,
   "id": "02d3f6b4-11b1-431a-89b8-241f8ab048af",
   "metadata": {},
   "outputs": [
    {
     "data": {
      "text/plain": [
       "bool"
      ]
     },
     "execution_count": 21,
     "metadata": {},
     "output_type": "execute_result"
    }
   ],
   "source": [
    "d = False\n",
    "type(d)"
   ]
  },
  {
   "cell_type": "code",
   "execution_count": 23,
   "id": "2cb5faa0-5d30-4633-95db-8edcf56ed5fc",
   "metadata": {},
   "outputs": [
    {
     "data": {
      "text/plain": [
       "complex"
      ]
     },
     "execution_count": 23,
     "metadata": {},
     "output_type": "execute_result"
    }
   ],
   "source": [
    "c = 3+5j\n",
    "type(c)"
   ]
  },
  {
   "cell_type": "code",
   "execution_count": 25,
   "id": "329444ca-ec9e-4594-ad0f-97fba48a445a",
   "metadata": {},
   "outputs": [
    {
     "data": {
      "text/plain": [
       "3.0"
      ]
     },
     "execution_count": 25,
     "metadata": {},
     "output_type": "execute_result"
    }
   ],
   "source": [
    "c.real"
   ]
  },
  {
   "cell_type": "code",
   "execution_count": 27,
   "id": "3095d75a-1131-499c-ac74-1986f0631d86",
   "metadata": {},
   "outputs": [
    {
     "data": {
      "text/plain": [
       "5.0"
      ]
     },
     "execution_count": 27,
     "metadata": {},
     "output_type": "execute_result"
    }
   ],
   "source": [
    "c.imag"
   ]
  },
  {
   "cell_type": "code",
   "execution_count": 29,
   "id": "f836e6e1-a783-4d92-aeaf-5c48160c5b62",
   "metadata": {},
   "outputs": [
    {
     "data": {
      "text/plain": [
       "NoneType"
      ]
     },
     "execution_count": 29,
     "metadata": {},
     "output_type": "execute_result"
    }
   ],
   "source": [
    "f = None\n",
    "type(f)"
   ]
  },
  {
   "cell_type": "code",
   "execution_count": 31,
   "id": "b42419bb-553c-41b9-8dad-000816535de7",
   "metadata": {},
   "outputs": [],
   "source": [
    "#variable >>  A placeholder/container to store the data/object, so that it can be used at a later stage\n",
    "#A variable, class >> identifier\n"
   ]
  },
  {
   "cell_type": "code",
   "execution_count": 35,
   "id": "ea674ad8-a610-4fa4-9559-91f23444db73",
   "metadata": {},
   "outputs": [],
   "source": [
    "a = 5 # a is variable/identifier, == is operator, 5 lis literal/value\n"
   ]
  },
  {
   "cell_type": "code",
   "execution_count": null,
   "id": "3c72c200-9bdf-4833-bd04-25170f4d9f32",
   "metadata": {},
   "outputs": [],
   "source": [
    "#in other programming language >> you need to define a variable initailly at the start of program and define datatype\n",
    "#This is called as static typing\n",
    "# int a = 5"
   ]
  },
  {
   "cell_type": "code",
   "execution_count": 37,
   "id": "95fa512d-b45d-4f84-af7b-2847d6f5ba05",
   "metadata": {},
   "outputs": [],
   "source": [
    "a = 54 #in python wherever needed/required, you can make a variable"
   ]
  },
  {
   "cell_type": "code",
   "execution_count": 41,
   "id": "e4f45f66-96df-40aa-a65a-daa235ea959d",
   "metadata": {},
   "outputs": [
    {
     "data": {
      "text/plain": [
       "int"
      ]
     },
     "execution_count": 41,
     "metadata": {},
     "output_type": "execute_result"
    }
   ],
   "source": [
    "#dynamic typing >> Python interpreter understands the datatype of variable \n",
    "a = 5\n",
    "type(a)"
   ]
  },
  {
   "cell_type": "code",
   "execution_count": 45,
   "id": "d8f2eb73-fe31-4236-9f47-03053d9cf841",
   "metadata": {},
   "outputs": [
    {
     "name": "stdout",
     "output_type": "stream",
     "text": [
      "15\n",
      "Ajay\n"
     ]
    }
   ],
   "source": [
    "#dynamic binding\n",
    "#In other programming language if you define a variable, it will store same datatype throught program\n",
    "#but in python, the declaration can change >> same variable can store different datatype\n",
    "a = 15\n",
    "print(a)\n",
    "a = \"Ajay\"\n",
    "print(a)"
   ]
  },
  {
   "cell_type": "code",
   "execution_count": 47,
   "id": "0c931cbd-c606-48d0-a826-a58698d0c3ad",
   "metadata": {},
   "outputs": [],
   "source": [
    "#rules of defining a variable/identifier\n",
    "#no keywords should be the name of variable\n",
    "print = \"Hello\""
   ]
  },
  {
   "cell_type": "code",
   "execution_count": 1,
   "id": "e0fb54c8-c2fb-4ea6-85bd-cd0a25f17d0f",
   "metadata": {},
   "outputs": [
    {
     "name": "stdout",
     "output_type": "stream",
     "text": [
      "Aabra ka dabra\n"
     ]
    }
   ],
   "source": [
    "print(\"Aabra ka dabra\")"
   ]
  },
  {
   "cell_type": "code",
   "execution_count": 3,
   "id": "0e9dba12-fd61-4dcb-aabb-f57cd6cb2e1f",
   "metadata": {},
   "outputs": [
    {
     "name": "stderr",
     "output_type": "stream",
     "text": [
      "UsageError: Line magic function `%` not found.\n"
     ]
    }
   ],
   "source": [
    "#no special character\n",
    "% = 4"
   ]
  },
  {
   "cell_type": "code",
   "execution_count": 5,
   "id": "def3fc11-b6b4-443d-adc5-5ed1f42a81f5",
   "metadata": {},
   "outputs": [
    {
     "ename": "SyntaxError",
     "evalue": "invalid syntax (3267274145.py, line 1)",
     "output_type": "error",
     "traceback": [
      "\u001b[1;36m  Cell \u001b[1;32mIn[5], line 1\u001b[1;36m\u001b[0m\n\u001b[1;33m    $ = 1000\u001b[0m\n\u001b[1;37m    ^\u001b[0m\n\u001b[1;31mSyntaxError\u001b[0m\u001b[1;31m:\u001b[0m invalid syntax\n"
     ]
    }
   ],
   "source": [
    "$ = 1000"
   ]
  },
  {
   "cell_type": "code",
   "execution_count": 7,
   "id": "9d05beb9-511a-4ef5-85cc-59e46bcd085c",
   "metadata": {},
   "outputs": [
    {
     "ename": "SyntaxError",
     "evalue": "invalid syntax (2211328532.py, line 1)",
     "output_type": "error",
     "traceback": [
      "\u001b[1;36m  Cell \u001b[1;32mIn[7], line 1\u001b[1;36m\u001b[0m\n\u001b[1;33m    ^ = 200\u001b[0m\n\u001b[1;37m    ^\u001b[0m\n\u001b[1;31mSyntaxError\u001b[0m\u001b[1;31m:\u001b[0m invalid syntax\n"
     ]
    }
   ],
   "source": [
    "^ = 200"
   ]
  },
  {
   "cell_type": "code",
   "execution_count": 9,
   "id": "ed29e17a-81b7-4c35-a0be-4c1fa5879344",
   "metadata": {},
   "outputs": [
    {
     "ename": "SyntaxError",
     "evalue": "cannot assign to literal here. Maybe you meant '==' instead of '='? (3321736416.py, line 2)",
     "output_type": "error",
     "traceback": [
      "\u001b[1;36m  Cell \u001b[1;32mIn[9], line 2\u001b[1;36m\u001b[0m\n\u001b[1;33m    2 = \"aabra\"\u001b[0m\n\u001b[1;37m    ^\u001b[0m\n\u001b[1;31mSyntaxError\u001b[0m\u001b[1;31m:\u001b[0m cannot assign to literal here. Maybe you meant '==' instead of '='?\n"
     ]
    }
   ],
   "source": [
    "#no integer and float in the start\n",
    "2 = \"aabra\""
   ]
  },
  {
   "cell_type": "code",
   "execution_count": 11,
   "id": "29177eef-8e6b-4b91-9bb7-f3bd4b7ba55f",
   "metadata": {},
   "outputs": [
    {
     "ename": "SyntaxError",
     "evalue": "invalid decimal literal (3794928009.py, line 1)",
     "output_type": "error",
     "traceback": [
      "\u001b[1;36m  Cell \u001b[1;32mIn[11], line 1\u001b[1;36m\u001b[0m\n\u001b[1;33m    1name = \"Vandana\"\u001b[0m\n\u001b[1;37m    ^\u001b[0m\n\u001b[1;31mSyntaxError\u001b[0m\u001b[1;31m:\u001b[0m invalid decimal literal\n"
     ]
    }
   ],
   "source": [
    "1name = \"Vandana\""
   ]
  },
  {
   "cell_type": "code",
   "execution_count": 13,
   "id": "105c9f62-2d7e-4c65-8ed8-9a8330425502",
   "metadata": {},
   "outputs": [
    {
     "ename": "SyntaxError",
     "evalue": "cannot assign to literal here. Maybe you meant '==' instead of '='? (4199080234.py, line 1)",
     "output_type": "error",
     "traceback": [
      "\u001b[1;36m  Cell \u001b[1;32mIn[13], line 1\u001b[1;36m\u001b[0m\n\u001b[1;33m    1.2 = abc\u001b[0m\n\u001b[1;37m    ^\u001b[0m\n\u001b[1;31mSyntaxError\u001b[0m\u001b[1;31m:\u001b[0m cannot assign to literal here. Maybe you meant '==' instead of '='?\n"
     ]
    }
   ],
   "source": [
    "1.2 = abc"
   ]
  },
  {
   "cell_type": "code",
   "execution_count": 15,
   "id": "2e397053-8475-452a-b9ea-db41fcaea784",
   "metadata": {},
   "outputs": [],
   "source": [
    "#use strrings or underscore\n",
    "name = \"Ajay\""
   ]
  },
  {
   "cell_type": "code",
   "execution_count": 17,
   "id": "d94212e4-f361-41e2-bcb4-7087c9ffa78b",
   "metadata": {},
   "outputs": [
    {
     "data": {
      "text/plain": [
       "'Ajay'"
      ]
     },
     "execution_count": 17,
     "metadata": {},
     "output_type": "execute_result"
    }
   ],
   "source": [
    "name"
   ]
  },
  {
   "cell_type": "code",
   "execution_count": 19,
   "id": "06ab7538-3295-44c3-99ed-09557f14c26d",
   "metadata": {},
   "outputs": [],
   "source": [
    "abc = \"monjolika\""
   ]
  },
  {
   "cell_type": "code",
   "execution_count": 21,
   "id": "b29578e4-f5e4-4a83-8322-b17668135a53",
   "metadata": {},
   "outputs": [
    {
     "data": {
      "text/plain": [
       "'monjolika'"
      ]
     },
     "execution_count": 21,
     "metadata": {},
     "output_type": "execute_result"
    }
   ],
   "source": [
    "abc"
   ]
  },
  {
   "cell_type": "code",
   "execution_count": 23,
   "id": "f6a58aed-99e8-46a4-a91e-48965e520fe1",
   "metadata": {},
   "outputs": [],
   "source": [
    "location = \"Mumbai\""
   ]
  },
  {
   "cell_type": "code",
   "execution_count": 25,
   "id": "59e941c8-ac87-43d9-ad7d-5667c19e72f7",
   "metadata": {},
   "outputs": [
    {
     "data": {
      "text/plain": [
       "'Mumbai'"
      ]
     },
     "execution_count": 25,
     "metadata": {},
     "output_type": "execute_result"
    }
   ],
   "source": [
    "location"
   ]
  },
  {
   "cell_type": "code",
   "execution_count": 27,
   "id": "7434c8b8-7656-4ece-8656-e0b8bfc6134b",
   "metadata": {},
   "outputs": [],
   "source": [
    "_afor = \"Apple\""
   ]
  },
  {
   "cell_type": "code",
   "execution_count": 29,
   "id": "7eca4acf-a722-46e4-8f6e-74fdf6be7566",
   "metadata": {},
   "outputs": [
    {
     "data": {
      "text/plain": [
       "'Apple'"
      ]
     },
     "execution_count": 29,
     "metadata": {},
     "output_type": "execute_result"
    }
   ],
   "source": [
    "_afor"
   ]
  },
  {
   "cell_type": "code",
   "execution_count": 31,
   "id": "fad0c5d2-c1e2-42c6-ad6d-359adb5ef0d3",
   "metadata": {},
   "outputs": [],
   "source": [
    "_ = \"Ball\""
   ]
  },
  {
   "cell_type": "code",
   "execution_count": 33,
   "id": "06e51308-d00a-4473-9a3a-26f1b9069d5b",
   "metadata": {},
   "outputs": [
    {
     "data": {
      "text/plain": [
       "'Ball'"
      ]
     },
     "execution_count": 33,
     "metadata": {},
     "output_type": "execute_result"
    }
   ],
   "source": [
    "_"
   ]
  },
  {
   "cell_type": "code",
   "execution_count": 35,
   "id": "797f5183-d9d3-4dc3-a1e2-370c39064bf8",
   "metadata": {},
   "outputs": [
    {
     "ename": "SyntaxError",
     "evalue": "cannot assign to expression here. Maybe you meant '==' instead of '='? (2314180980.py, line 1)",
     "output_type": "error",
     "traceback": [
      "\u001b[1;36m  Cell \u001b[1;32mIn[35], line 1\u001b[1;36m\u001b[0m\n\u001b[1;33m    a - bc = \"Ram\"\u001b[0m\n\u001b[1;37m    ^\u001b[0m\n\u001b[1;31mSyntaxError\u001b[0m\u001b[1;31m:\u001b[0m cannot assign to expression here. Maybe you meant '==' instead of '='?\n"
     ]
    }
   ],
   "source": [
    "a - bc = \"Ram\""
   ]
  },
  {
   "cell_type": "code",
   "execution_count": 37,
   "id": "2c6146b5-e7ba-4ffd-948e-989568c58b4f",
   "metadata": {},
   "outputs": [
    {
     "ename": "SyntaxError",
     "evalue": "cannot assign to expression here. Maybe you meant '==' instead of '='? (4214145992.py, line 1)",
     "output_type": "error",
     "traceback": [
      "\u001b[1;36m  Cell \u001b[1;32mIn[37], line 1\u001b[1;36m\u001b[0m\n\u001b[1;33m    data + ai = \"careercraft\"\u001b[0m\n\u001b[1;37m    ^\u001b[0m\n\u001b[1;31mSyntaxError\u001b[0m\u001b[1;31m:\u001b[0m cannot assign to expression here. Maybe you meant '==' instead of '='?\n"
     ]
    }
   ],
   "source": [
    "data + ai = \"careercraft\""
   ]
  },
  {
   "cell_type": "code",
   "execution_count": 39,
   "id": "bb606f5a-87cf-49ad-9075-6d2461ad992c",
   "metadata": {},
   "outputs": [
    {
     "ename": "SyntaxError",
     "evalue": "invalid syntax (2855548561.py, line 1)",
     "output_type": "error",
     "traceback": [
      "\u001b[1;36m  Cell \u001b[1;32mIn[39], line 1\u001b[1;36m\u001b[0m\n\u001b[1;33m    career craft = \"data sc\"\u001b[0m\n\u001b[1;37m           ^\u001b[0m\n\u001b[1;31mSyntaxError\u001b[0m\u001b[1;31m:\u001b[0m invalid syntax\n"
     ]
    }
   ],
   "source": [
    "career craft = \"data sc\""
   ]
  },
  {
   "cell_type": "code",
   "execution_count": 41,
   "id": "8b941e2e-3862-4f13-a683-e892f00aabd2",
   "metadata": {},
   "outputs": [],
   "source": [
    "career_craft = \"data sc\""
   ]
  },
  {
   "cell_type": "code",
   "execution_count": 43,
   "id": "a3316b83-8481-4403-bb17-4a41b0740844",
   "metadata": {},
   "outputs": [
    {
     "data": {
      "text/plain": [
       "'data sc'"
      ]
     },
     "execution_count": 43,
     "metadata": {},
     "output_type": "execute_result"
    }
   ],
   "source": [
    "career_craft"
   ]
  },
  {
   "cell_type": "code",
   "execution_count": 45,
   "id": "a40d1ad1-ff4d-41ec-9d25-a2d5ef921159",
   "metadata": {},
   "outputs": [],
   "source": [
    "name1 = \"Ajay\""
   ]
  },
  {
   "cell_type": "code",
   "execution_count": 47,
   "id": "edca56eb-31e2-401e-b509-89383db9e3f6",
   "metadata": {},
   "outputs": [
    {
     "data": {
      "text/plain": [
       "'Ajay'"
      ]
     },
     "execution_count": 47,
     "metadata": {},
     "output_type": "execute_result"
    }
   ],
   "source": [
    "name1"
   ]
  },
  {
   "cell_type": "code",
   "execution_count": 49,
   "id": "f544532b-0df1-4951-9c84-5427ebe94f72",
   "metadata": {},
   "outputs": [
    {
     "ename": "SyntaxError",
     "evalue": "invalid decimal literal (439783609.py, line 1)",
     "output_type": "error",
     "traceback": [
      "\u001b[1;36m  Cell \u001b[1;32mIn[49], line 1\u001b[1;36m\u001b[0m\n\u001b[1;33m    1name = \"Ajay\"\u001b[0m\n\u001b[1;37m    ^\u001b[0m\n\u001b[1;31mSyntaxError\u001b[0m\u001b[1;31m:\u001b[0m invalid decimal literal\n"
     ]
    }
   ],
   "source": [
    "1name = \"Ajay\""
   ]
  },
  {
   "cell_type": "code",
   "execution_count": 51,
   "id": "049ceb27-2074-4e45-b251-4ab8c3027fa3",
   "metadata": {},
   "outputs": [
    {
     "data": {
      "text/plain": [
       "5"
      ]
     },
     "execution_count": 51,
     "metadata": {},
     "output_type": "execute_result"
    }
   ],
   "source": [
    "a = 5\n",
    "a"
   ]
  },
  {
   "cell_type": "code",
   "execution_count": 53,
   "id": "a3310830-e276-4178-8670-1cac6825dea8",
   "metadata": {},
   "outputs": [
    {
     "data": {
      "text/plain": [
       "10000000000.0"
      ]
     },
     "execution_count": 53,
     "metadata": {},
     "output_type": "execute_result"
    }
   ],
   "source": [
    "a = 1e10 # This means 1 * 10 to poer 10\n",
    "a"
   ]
  },
  {
   "cell_type": "code",
   "execution_count": 57,
   "id": "26274155-c28d-4b7b-9988-cf9011a113f1",
   "metadata": {},
   "outputs": [
    {
     "data": {
      "text/plain": [
       "inf"
      ]
     },
     "execution_count": 57,
     "metadata": {},
     "output_type": "execute_result"
    }
   ],
   "source": [
    "1e309 #1*10 to power 309"
   ]
  },
  {
   "cell_type": "code",
   "execution_count": 59,
   "id": "a3fd682f-4b5e-4044-9576-ad9b89cdecf0",
   "metadata": {},
   "outputs": [
    {
     "data": {
      "text/plain": [
       "inf"
      ]
     },
     "execution_count": 59,
     "metadata": {},
     "output_type": "execute_result"
    }
   ],
   "source": [
    "1.8e309"
   ]
  },
  {
   "cell_type": "code",
   "execution_count": 61,
   "id": "3bb73104-67f1-486b-8426-ef9b12636c6b",
   "metadata": {},
   "outputs": [],
   "source": [
    "#different way of declaring the variable\n",
    "a = b = c =100"
   ]
  },
  {
   "cell_type": "code",
   "execution_count": 63,
   "id": "daadc639-3d05-4e8c-a38b-fde2dd864c46",
   "metadata": {},
   "outputs": [
    {
     "data": {
      "text/plain": [
       "100"
      ]
     },
     "execution_count": 63,
     "metadata": {},
     "output_type": "execute_result"
    }
   ],
   "source": [
    "a"
   ]
  },
  {
   "cell_type": "code",
   "execution_count": 65,
   "id": "409c134f-0493-43d1-b448-cb843209ac3f",
   "metadata": {},
   "outputs": [
    {
     "data": {
      "text/plain": [
       "100"
      ]
     },
     "execution_count": 65,
     "metadata": {},
     "output_type": "execute_result"
    }
   ],
   "source": [
    "b"
   ]
  },
  {
   "cell_type": "code",
   "execution_count": 67,
   "id": "08b99ba9-7e8c-41cc-bce8-140d608b1f34",
   "metadata": {},
   "outputs": [
    {
     "data": {
      "text/plain": [
       "100"
      ]
     },
     "execution_count": 67,
     "metadata": {},
     "output_type": "execute_result"
    }
   ],
   "source": [
    "c"
   ]
  },
  {
   "cell_type": "code",
   "execution_count": 69,
   "id": "045171b0-45ee-4836-8abd-a363ff1d55e7",
   "metadata": {},
   "outputs": [],
   "source": [
    "a = 100\n",
    "b=101\n",
    "c=102"
   ]
  },
  {
   "cell_type": "code",
   "execution_count": 71,
   "id": "d358c325-91b8-40f4-83c6-bbaa1258ca1d",
   "metadata": {},
   "outputs": [],
   "source": [
    "a, b, c = 100, 101, 102"
   ]
  },
  {
   "cell_type": "code",
   "execution_count": 73,
   "id": "9777d739-3bfe-45b2-8799-eb825b0437be",
   "metadata": {},
   "outputs": [
    {
     "data": {
      "text/plain": [
       "100"
      ]
     },
     "execution_count": 73,
     "metadata": {},
     "output_type": "execute_result"
    }
   ],
   "source": [
    "a"
   ]
  },
  {
   "cell_type": "code",
   "execution_count": 75,
   "id": "a9519fe0-129a-4736-b660-d977df62671f",
   "metadata": {},
   "outputs": [
    {
     "data": {
      "text/plain": [
       "101"
      ]
     },
     "execution_count": 75,
     "metadata": {},
     "output_type": "execute_result"
    }
   ],
   "source": [
    "b"
   ]
  },
  {
   "cell_type": "code",
   "execution_count": 77,
   "id": "0d44078d-053b-465d-aae1-034344ae040d",
   "metadata": {},
   "outputs": [
    {
     "data": {
      "text/plain": [
       "102"
      ]
     },
     "execution_count": 77,
     "metadata": {},
     "output_type": "execute_result"
    }
   ],
   "source": [
    "c"
   ]
  },
  {
   "cell_type": "code",
   "execution_count": 79,
   "id": "3157a5f1-5ad5-4722-b723-a288ee44ec09",
   "metadata": {},
   "outputs": [],
   "source": [
    "#comments\n",
    "#This is a lecture in Python\n"
   ]
  },
  {
   "cell_type": "code",
   "execution_count": null,
   "id": "68ebc3b5-a02d-4214-ac80-30296c7dac62",
   "metadata": {},
   "outputs": [],
   "source": [
    "#This is first line of comment\n",
    "#This is second line of comments\n",
    "\n",
    "#Why? #similar to multiple cooks destroying the important dish by adding salt multiple times,\n",
    "#A software can also be a mess without comments"
   ]
  },
  {
   "cell_type": "code",
   "execution_count": 83,
   "id": "13b84d3e-f3b3-462a-b92c-b64425c7a884",
   "metadata": {},
   "outputs": [
    {
     "data": {
      "text/plain": [
       "2"
      ]
     },
     "execution_count": 83,
     "metadata": {},
     "output_type": "execute_result"
    }
   ],
   "source": [
    "#Multiline comments\n",
    "\n",
    "'''\n",
    "This is a multiline comments\n",
    "We are at CareerCraft\n",
    "We are learning things in details\n",
    "'''\n",
    "a = 2\n",
    "a"
   ]
  },
  {
   "cell_type": "code",
   "execution_count": 85,
   "id": "4567a89f-cc6f-4f7b-9cae-9b06c092f1c2",
   "metadata": {},
   "outputs": [
    {
     "data": {
      "text/plain": [
       "2"
      ]
     },
     "execution_count": 85,
     "metadata": {},
     "output_type": "execute_result"
    }
   ],
   "source": [
    "#doc string>> document string\n",
    "\n",
    "This is a multiline comments\n",
    "We are at CareerCraft\n",
    "We are learning things in details\n",
    "\"\"\"\n",
    "a = 2\n",
    "a"
   ]
  },
  {
   "cell_type": "code",
   "execution_count": 87,
   "id": "62f085fc-32d2-4a4e-b936-1e12d62ddb48",
   "metadata": {},
   "outputs": [
    {
     "data": {
      "text/plain": [
       "7"
      ]
     },
     "execution_count": 87,
     "metadata": {},
     "output_type": "execute_result"
    }
   ],
   "source": [
    "5 + 2"
   ]
  },
  {
   "cell_type": "code",
   "execution_count": 89,
   "id": "726fc774-1f99-4452-ab6e-3010df997bad",
   "metadata": {},
   "outputs": [
    {
     "ename": "TypeError",
     "evalue": "can only concatenate str (not \"int\") to str",
     "output_type": "error",
     "traceback": [
      "\u001b[1;31m---------------------------------------------------------------------------\u001b[0m",
      "\u001b[1;31mTypeError\u001b[0m                                 Traceback (most recent call last)",
      "Cell \u001b[1;32mIn[89], line 1\u001b[0m\n\u001b[1;32m----> 1\u001b[0m \u001b[38;5;124m\"\u001b[39m\u001b[38;5;124m5\u001b[39m\u001b[38;5;124m\"\u001b[39m \u001b[38;5;241m+\u001b[39m \u001b[38;5;241m2\u001b[39m\n",
      "\u001b[1;31mTypeError\u001b[0m: can only concatenate str (not \"int\") to str"
     ]
    }
   ],
   "source": [
    "\"5\" + 2 #you can not add string to an integer"
   ]
  },
  {
   "cell_type": "code",
   "execution_count": 91,
   "id": "de7390ca-834e-4112-8b1b-bfb3938d4b0e",
   "metadata": {},
   "outputs": [],
   "source": [
    "#datatype conversion\n",
    "#datatype conversion is of two types:\n",
    "#implicit >> python takes care\n",
    "#explicit >> externally you change the data type"
   ]
  },
  {
   "cell_type": "code",
   "execution_count": 95,
   "id": "5bb2a942-0542-4249-b586-4e628f12678e",
   "metadata": {},
   "outputs": [
    {
     "data": {
      "text/plain": [
       "6.5"
      ]
     },
     "execution_count": 95,
     "metadata": {},
     "output_type": "execute_result"
    }
   ],
   "source": [
    "3 + 3.5 #int+float >> python will implicitly change the datatype"
   ]
  },
  {
   "cell_type": "code",
   "execution_count": 97,
   "id": "ce0a3332-a0f8-4a13-865f-b5e580b7e063",
   "metadata": {},
   "outputs": [
    {
     "ename": "TypeError",
     "evalue": "unsupported operand type(s) for +: 'int' and 'str'",
     "output_type": "error",
     "traceback": [
      "\u001b[1;31m---------------------------------------------------------------------------\u001b[0m",
      "\u001b[1;31mTypeError\u001b[0m                                 Traceback (most recent call last)",
      "Cell \u001b[1;32mIn[97], line 1\u001b[0m\n\u001b[1;32m----> 1\u001b[0m \u001b[38;5;241m3\u001b[39m \u001b[38;5;241m+\u001b[39m \u001b[38;5;124m\"\u001b[39m\u001b[38;5;124m3.5\u001b[39m\u001b[38;5;124m\"\u001b[39m\n",
      "\u001b[1;31mTypeError\u001b[0m: unsupported operand type(s) for +: 'int' and 'str'"
     ]
    }
   ],
   "source": [
    "3 + \"3.5\" #explicit type casting"
   ]
  },
  {
   "cell_type": "code",
   "execution_count": 99,
   "id": "0bce4fcc-aab6-4aa8-a936-1cdf1c68ec63",
   "metadata": {},
   "outputs": [
    {
     "data": {
      "text/plain": [
       "6"
      ]
     },
     "execution_count": 99,
     "metadata": {},
     "output_type": "execute_result"
    }
   ],
   "source": [
    "3 + int(\"3\")"
   ]
  },
  {
   "cell_type": "code",
   "execution_count": 101,
   "id": "752bbe78-87cc-421e-ab7f-54fcf19bf233",
   "metadata": {},
   "outputs": [
    {
     "data": {
      "text/plain": [
       "3.2"
      ]
     },
     "execution_count": 101,
     "metadata": {},
     "output_type": "execute_result"
    }
   ],
   "source": [
    "float(\"3.2\")"
   ]
  },
  {
   "cell_type": "code",
   "execution_count": 103,
   "id": "1f5f7aaf-84e1-4bd4-be44-5dedf7ba7eef",
   "metadata": {},
   "outputs": [
    {
     "data": {
      "text/plain": [
       "(3+2j)"
      ]
     },
     "execution_count": 103,
     "metadata": {},
     "output_type": "execute_result"
    }
   ],
   "source": [
    "complex(\"3+2j\")"
   ]
  },
  {
   "cell_type": "code",
   "execution_count": 105,
   "id": "af744734-c12a-4258-aa01-8bff2f811c4a",
   "metadata": {},
   "outputs": [
    {
     "ename": "ValueError",
     "evalue": "invalid literal for int() with base 10: '2+5j'",
     "output_type": "error",
     "traceback": [
      "\u001b[1;31m---------------------------------------------------------------------------\u001b[0m",
      "\u001b[1;31mValueError\u001b[0m                                Traceback (most recent call last)",
      "Cell \u001b[1;32mIn[105], line 1\u001b[0m\n\u001b[1;32m----> 1\u001b[0m \u001b[38;5;28mint\u001b[39m(\u001b[38;5;124m\"\u001b[39m\u001b[38;5;124m2+5j\u001b[39m\u001b[38;5;124m\"\u001b[39m)\n",
      "\u001b[1;31mValueError\u001b[0m: invalid literal for int() with base 10: '2+5j'"
     ]
    }
   ],
   "source": [
    "int(\"2+5j\") #error because information loss will happen"
   ]
  },
  {
   "cell_type": "code",
   "execution_count": 111,
   "id": "4e8455be-eb85-433c-b37d-0b2181babfd3",
   "metadata": {},
   "outputs": [
    {
     "ename": "ValueError",
     "evalue": "invalid literal for int() with base 10: '3.4'",
     "output_type": "error",
     "traceback": [
      "\u001b[1;31m---------------------------------------------------------------------------\u001b[0m",
      "\u001b[1;31mValueError\u001b[0m                                Traceback (most recent call last)",
      "Cell \u001b[1;32mIn[111], line 1\u001b[0m\n\u001b[1;32m----> 1\u001b[0m \u001b[38;5;28mint\u001b[39m(\u001b[38;5;124m\"\u001b[39m\u001b[38;5;124m3.4\u001b[39m\u001b[38;5;124m\"\u001b[39m)\n",
      "\u001b[1;31mValueError\u001b[0m: invalid literal for int() with base 10: '3.4'"
     ]
    }
   ],
   "source": [
    "int(\"3.4\") #error because information loss will happen"
   ]
  },
  {
   "cell_type": "code",
   "execution_count": 113,
   "id": "5dac83be-5323-4a21-8c03-822114f97fff",
   "metadata": {},
   "outputs": [
    {
     "ename": "ValueError",
     "evalue": "invalid literal for int() with base 10: 'Ajay'",
     "output_type": "error",
     "traceback": [
      "\u001b[1;31m---------------------------------------------------------------------------\u001b[0m",
      "\u001b[1;31mValueError\u001b[0m                                Traceback (most recent call last)",
      "Cell \u001b[1;32mIn[113], line 4\u001b[0m\n\u001b[0;32m      1\u001b[0m \u001b[38;5;66;03m#type casting >> cast means to change the data type\u001b[39;00m\n\u001b[0;32m      3\u001b[0m a \u001b[38;5;241m=\u001b[39m \u001b[38;5;124m\"\u001b[39m\u001b[38;5;124mAjay\u001b[39m\u001b[38;5;124m\"\u001b[39m\n\u001b[1;32m----> 4\u001b[0m \u001b[38;5;28mint\u001b[39m(a)\n",
      "\u001b[1;31mValueError\u001b[0m: invalid literal for int() with base 10: 'Ajay'"
     ]
    }
   ],
   "source": [
    "#type casting >> cast means to change the data type\n",
    "\n",
    "a = \"Ajay\"\n",
    "int(a)"
   ]
  },
  {
   "cell_type": "code",
   "execution_count": 115,
   "id": "5a5290bc-b79e-4d25-b2de-bb827123f3b1",
   "metadata": {},
   "outputs": [
    {
     "ename": "ValueError",
     "evalue": "invalid literal for int() with base 10: '3.5'",
     "output_type": "error",
     "traceback": [
      "\u001b[1;31m---------------------------------------------------------------------------\u001b[0m",
      "\u001b[1;31mValueError\u001b[0m                                Traceback (most recent call last)",
      "Cell \u001b[1;32mIn[115], line 2\u001b[0m\n\u001b[0;32m      1\u001b[0m a \u001b[38;5;241m=\u001b[39m \u001b[38;5;124m\"\u001b[39m\u001b[38;5;124m3.5\u001b[39m\u001b[38;5;124m\"\u001b[39m\n\u001b[1;32m----> 2\u001b[0m \u001b[38;5;28mint\u001b[39m(a)\n",
      "\u001b[1;31mValueError\u001b[0m: invalid literal for int() with base 10: '3.5'"
     ]
    }
   ],
   "source": [
    "a = \"3.5\"\n",
    "int(a)"
   ]
  },
  {
   "cell_type": "code",
   "execution_count": 117,
   "id": "ac2cec2b-5549-4aca-802a-0d14a0491491",
   "metadata": {},
   "outputs": [
    {
     "data": {
      "text/plain": [
       "0"
      ]
     },
     "execution_count": 117,
     "metadata": {},
     "output_type": "execute_result"
    }
   ],
   "source": [
    "a = True #boolean >> python understand true as 1, false as 0\n",
    "True - True"
   ]
  },
  {
   "cell_type": "code",
   "execution_count": 119,
   "id": "61a3e180-6b6a-4f58-867d-695225323684",
   "metadata": {},
   "outputs": [
    {
     "data": {
      "text/plain": [
       "1"
      ]
     },
     "execution_count": 119,
     "metadata": {},
     "output_type": "execute_result"
    }
   ],
   "source": [
    "True-False"
   ]
  },
  {
   "cell_type": "code",
   "execution_count": 121,
   "id": "4b920bea-41cd-4eba-996d-7761066f05bb",
   "metadata": {},
   "outputs": [
    {
     "data": {
      "text/plain": [
       "True"
      ]
     },
     "execution_count": 121,
     "metadata": {},
     "output_type": "execute_result"
    }
   ],
   "source": [
    "bool(1)"
   ]
  },
  {
   "cell_type": "code",
   "execution_count": 123,
   "id": "fa0d26c1-0968-4db4-ad41-d4c6acb8743b",
   "metadata": {},
   "outputs": [
    {
     "data": {
      "text/plain": [
       "False"
      ]
     },
     "execution_count": 123,
     "metadata": {},
     "output_type": "execute_result"
    }
   ],
   "source": [
    "bool(0)"
   ]
  },
  {
   "cell_type": "code",
   "execution_count": 125,
   "id": "70a1fbbb-7a29-4fb9-a20f-e42af0e2b7ea",
   "metadata": {},
   "outputs": [
    {
     "data": {
      "text/plain": [
       "True"
      ]
     },
     "execution_count": 125,
     "metadata": {},
     "output_type": "execute_result"
    }
   ],
   "source": [
    "bool(\"Ajay\")"
   ]
  },
  {
   "cell_type": "code",
   "execution_count": 127,
   "id": "b210ec59-d114-4a95-a73c-0d316af016c9",
   "metadata": {},
   "outputs": [
    {
     "data": {
      "text/plain": [
       "False"
      ]
     },
     "execution_count": 127,
     "metadata": {},
     "output_type": "execute_result"
    }
   ],
   "source": [
    "bool(None)"
   ]
  },
  {
   "cell_type": "code",
   "execution_count": 129,
   "id": "52d2a8f4-a2f6-4d2d-8ae9-618b3b75ffa0",
   "metadata": {},
   "outputs": [],
   "source": [
    "#variables can only start with _ and string\n",
    "#dont use keywords as variable name\n",
    "#Python is a case sensitive language"
   ]
  },
  {
   "cell_type": "code",
   "execution_count": 133,
   "id": "b7361933-7b61-4bc4-a41b-f2724e0a9f23",
   "metadata": {},
   "outputs": [
    {
     "ename": "NameError",
     "evalue": "name 'A' is not defined",
     "output_type": "error",
     "traceback": [
      "\u001b[1;31m---------------------------------------------------------------------------\u001b[0m",
      "\u001b[1;31mNameError\u001b[0m                                 Traceback (most recent call last)",
      "Cell \u001b[1;32mIn[133], line 2\u001b[0m\n\u001b[0;32m      1\u001b[0m a \u001b[38;5;241m=\u001b[39m \u001b[38;5;241m5\u001b[39m\n\u001b[1;32m----> 2\u001b[0m A\n",
      "\u001b[1;31mNameError\u001b[0m: name 'A' is not defined"
     ]
    }
   ],
   "source": [
    "a = 5\n",
    "A"
   ]
  },
  {
   "cell_type": "code",
   "execution_count": 135,
   "id": "93d9e2b9-3392-4abc-9f8c-0e252e9be7d3",
   "metadata": {},
   "outputs": [
    {
     "name": "stdout",
     "output_type": "stream",
     "text": [
      "234\n"
     ]
    }
   ],
   "source": [
    "print(\"234\")"
   ]
  },
  {
   "cell_type": "code",
   "execution_count": 137,
   "id": "017f8e1c-fa8d-4739-8b87-b74bd1720aad",
   "metadata": {},
   "outputs": [
    {
     "name": "stdout",
     "output_type": "stream",
     "text": [
      "2 3\n"
     ]
    }
   ],
   "source": [
    "a = 2\n",
    "b = 3\n",
    "print(a, b) #by default, sep is blank space"
   ]
  },
  {
   "cell_type": "code",
   "execution_count": 139,
   "id": "f313cbb2-48eb-4215-9d69-2c373a04df21",
   "metadata": {},
   "outputs": [
    {
     "name": "stdout",
     "output_type": "stream",
     "text": [
      "2#3\n"
     ]
    }
   ],
   "source": [
    "print(a,b, sep = \"#\")"
   ]
  },
  {
   "cell_type": "code",
   "execution_count": 141,
   "id": "ab0c492b-9bf3-4f00-8fc4-903e6ed3b6e6",
   "metadata": {},
   "outputs": [
    {
     "name": "stdout",
     "output_type": "stream",
     "text": [
      "2__3\n"
     ]
    }
   ],
   "source": [
    "print(a,b, sep = \"__\")"
   ]
  },
  {
   "cell_type": "code",
   "execution_count": 143,
   "id": "dd98c02c-13eb-4051-bfe9-d87b3d97c679",
   "metadata": {},
   "outputs": [
    {
     "name": "stdout",
     "output_type": "stream",
     "text": [
      "2\n",
      "3\n"
     ]
    }
   ],
   "source": [
    "print(a)\n",
    "print(b)"
   ]
  },
  {
   "cell_type": "code",
   "execution_count": 147,
   "id": "070d2993-2c27-4e68-bedd-2929b4274673",
   "metadata": {},
   "outputs": [
    {
     "name": "stdin",
     "output_type": "stream",
     "text": [
      "Enter a no 5\n",
      "another no 6\n"
     ]
    },
    {
     "name": "stdout",
     "output_type": "stream",
     "text": [
      "56\n"
     ]
    }
   ],
   "source": [
    "#take inputs from the user\n",
    "a = input(\"Enter a no\") #by default input takes values as string\n",
    "b = input(\"another no\")\n",
    "print(a+b) "
   ]
  },
  {
   "cell_type": "code",
   "execution_count": 149,
   "id": "c15644a4-4e1f-41b5-84cb-5fc6e30fb044",
   "metadata": {},
   "outputs": [
    {
     "name": "stdin",
     "output_type": "stream",
     "text": [
      "Enter a no 3\n",
      "another no 4\n"
     ]
    },
    {
     "name": "stdout",
     "output_type": "stream",
     "text": [
      "7\n"
     ]
    }
   ],
   "source": [
    "a = int(input(\"Enter a no\"))\n",
    "b = int(input(\"another no\"))\n",
    "print(a+b)"
   ]
  },
  {
   "cell_type": "code",
   "execution_count": 151,
   "id": "ed72bcf8-45d6-4236-bbbe-1fb7b5a4ffda",
   "metadata": {},
   "outputs": [],
   "source": [
    "a = 3 # 3is literal/values\n",
    "#different kinds of literals\n",
    "\n",
    "#integer >> Binary, decimal, octal, hexa decimal\n",
    "\n",
    "#for float >> float, scientific no (big), scientific no (small)\n",
    "\n",
    "#complex"
   ]
  },
  {
   "cell_type": "code",
   "execution_count": 156,
   "id": "4482722f-98d0-4f28-9f5c-39e4609a1197",
   "metadata": {},
   "outputs": [
    {
     "data": {
      "text/plain": [
       "2"
      ]
     },
     "execution_count": 156,
     "metadata": {},
     "output_type": "execute_result"
    }
   ],
   "source": [
    "a = 0b10\n",
    "a"
   ]
  },
  {
   "cell_type": "code",
   "execution_count": 158,
   "id": "253b67cc-607a-4c81-9534-9fbda2e2cbac",
   "metadata": {},
   "outputs": [
    {
     "data": {
      "text/plain": [
       "2"
      ]
     },
     "execution_count": 158,
     "metadata": {},
     "output_type": "execute_result"
    }
   ],
   "source": [
    "0b10"
   ]
  },
  {
   "cell_type": "code",
   "execution_count": 160,
   "id": "c99bb4f8-dfa6-4605-832c-ff60b06a5187",
   "metadata": {},
   "outputs": [],
   "source": [
    "b = 100.1 #decimal"
   ]
  },
  {
   "cell_type": "code",
   "execution_count": 162,
   "id": "9f3c4b11-dbcf-4176-8e64-96dc3dcd7bbd",
   "metadata": {},
   "outputs": [
    {
     "data": {
      "text/plain": [
       "100.1"
      ]
     },
     "execution_count": 162,
     "metadata": {},
     "output_type": "execute_result"
    }
   ],
   "source": [
    "b"
   ]
  },
  {
   "cell_type": "code",
   "execution_count": 164,
   "id": "9d124a16-e135-45da-aec6-3e70e1d21d8c",
   "metadata": {},
   "outputs": [
    {
     "data": {
      "text/plain": [
       "192"
      ]
     },
     "execution_count": 164,
     "metadata": {},
     "output_type": "execute_result"
    }
   ],
   "source": [
    "c = 0o300 #octal\n",
    "c"
   ]
  },
  {
   "cell_type": "code",
   "execution_count": 166,
   "id": "a1ff7529-cbd0-433d-84e7-bee76dc3f665",
   "metadata": {},
   "outputs": [
    {
     "data": {
      "text/plain": [
       "300"
      ]
     },
     "execution_count": 166,
     "metadata": {},
     "output_type": "execute_result"
    }
   ],
   "source": [
    "0x12c #hexa deciaml"
   ]
  },
  {
   "cell_type": "code",
   "execution_count": 168,
   "id": "88391ace-e4e5-4ccd-bc9b-f73d7182c9a8",
   "metadata": {},
   "outputs": [
    {
     "data": {
      "text/plain": [
       "3.2"
      ]
     },
     "execution_count": 168,
     "metadata": {},
     "output_type": "execute_result"
    }
   ],
   "source": [
    "3.2"
   ]
  },
  {
   "cell_type": "code",
   "execution_count": 170,
   "id": "3ccd583c-8c8b-470d-83d9-92d731523e41",
   "metadata": {},
   "outputs": [
    {
     "data": {
      "text/plain": [
       "20000000000.0"
      ]
     },
     "execution_count": 170,
     "metadata": {},
     "output_type": "execute_result"
    }
   ],
   "source": [
    "2e10 #scintific notation of big no"
   ]
  },
  {
   "cell_type": "code",
   "execution_count": 174,
   "id": "1de47768-6742-4203-9c72-322b5936a012",
   "metadata": {},
   "outputs": [
    {
     "data": {
      "text/plain": [
       "0.002"
      ]
     },
     "execution_count": 174,
     "metadata": {},
     "output_type": "execute_result"
    }
   ],
   "source": [
    "2e-3 #scientific notation of small no"
   ]
  },
  {
   "cell_type": "code",
   "execution_count": 176,
   "id": "23f63153-2b6e-4cca-b9e4-1d2e9c8cfdde",
   "metadata": {},
   "outputs": [
    {
     "data": {
      "text/plain": [
       "(3+5j)"
      ]
     },
     "execution_count": 176,
     "metadata": {},
     "output_type": "execute_result"
    }
   ],
   "source": [
    "3+5j"
   ]
  },
  {
   "cell_type": "code",
   "execution_count": null,
   "id": "927bb6dc-4ef6-45ba-9473-3c821e863ed3",
   "metadata": {},
   "outputs": [],
   "source": []
  }
 ],
 "metadata": {
  "kernelspec": {
   "display_name": "Python 3 (ipykernel)",
   "language": "python",
   "name": "python3"
  },
  "language_info": {
   "codemirror_mode": {
    "name": "ipython",
    "version": 3
   },
   "file_extension": ".py",
   "mimetype": "text/x-python",
   "name": "python",
   "nbconvert_exporter": "python",
   "pygments_lexer": "ipython3",
   "version": "3.12.7"
  }
 },
 "nbformat": 4,
 "nbformat_minor": 5
}

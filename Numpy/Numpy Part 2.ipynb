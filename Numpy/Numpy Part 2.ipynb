{
 "cells": [
  {
   "cell_type": "code",
   "execution_count": 1,
   "id": "ea2a3038-ef2d-4fa7-8dd9-951982732c64",
   "metadata": {},
   "outputs": [
    {
     "data": {
      "text/plain": [
       "2"
      ]
     },
     "execution_count": 1,
     "metadata": {},
     "output_type": "execute_result"
    }
   ],
   "source": [
    "#random module>> used to generate random sequence of nos/values\n",
    "\n",
    "import random\n",
    "random.choice((1, 2, 3, 4))"
   ]
  },
  {
   "cell_type": "code",
   "execution_count": 3,
   "id": "acee0fbd-1bf6-4d70-ad68-811f429fc485",
   "metadata": {},
   "outputs": [
    {
     "data": {
      "text/plain": [
       "'y'"
      ]
     },
     "execution_count": 3,
     "metadata": {},
     "output_type": "execute_result"
    }
   ],
   "source": [
    "random.choice(\"Ajay\")"
   ]
  },
  {
   "cell_type": "code",
   "execution_count": 5,
   "id": "9dc8bc08-984d-4111-90b7-a1be9546b456",
   "metadata": {},
   "outputs": [
    {
     "data": {
      "text/plain": [
       "5"
      ]
     },
     "execution_count": 5,
     "metadata": {},
     "output_type": "execute_result"
    }
   ],
   "source": [
    "random.randrange(1, 10)"
   ]
  },
  {
   "cell_type": "code",
   "execution_count": 9,
   "id": "a6ea185b-3925-4dcb-b0ee-d1131758121e",
   "metadata": {},
   "outputs": [],
   "source": [
    "l = [1, 2, 3, 4, 5]\n",
    "random.shuffle(l)"
   ]
  },
  {
   "cell_type": "code",
   "execution_count": 11,
   "id": "b231b7a2-2154-4d58-90ae-89520721387c",
   "metadata": {},
   "outputs": [
    {
     "data": {
      "text/plain": [
       "[5, 2, 4, 1, 3]"
      ]
     },
     "execution_count": 11,
     "metadata": {},
     "output_type": "execute_result"
    }
   ],
   "source": [
    "l"
   ]
  },
  {
   "cell_type": "code",
   "execution_count": 13,
   "id": "2e87c54b-a96d-4d9e-9358-477d5810ff7f",
   "metadata": {},
   "outputs": [
    {
     "data": {
      "text/plain": [
       "7.937896296792769"
      ]
     },
     "execution_count": 13,
     "metadata": {},
     "output_type": "execute_result"
    }
   ],
   "source": [
    "random.uniform(7, 14)"
   ]
  },
  {
   "cell_type": "code",
   "execution_count": 15,
   "id": "d1c4160c-cb99-4d32-bd4d-33d140e49422",
   "metadata": {},
   "outputs": [],
   "source": [
    "#idea>> to use the functionality of random module with array"
   ]
  },
  {
   "cell_type": "code",
   "execution_count": 21,
   "id": "7e72b315-16dd-48f7-a0eb-aad77250276a",
   "metadata": {},
   "outputs": [
    {
     "data": {
      "text/plain": [
       "array([], dtype=float64)"
      ]
     },
     "execution_count": 21,
     "metadata": {},
     "output_type": "execute_result"
    }
   ],
   "source": [
    "import numpy as np\n",
    "np.array([])"
   ]
  },
  {
   "cell_type": "code",
   "execution_count": 23,
   "id": "719ab99c-c464-4554-be88-5a44bc9434bf",
   "metadata": {},
   "outputs": [
    {
     "data": {
      "text/plain": [
       "0.16890343850920708"
      ]
     },
     "execution_count": 23,
     "metadata": {},
     "output_type": "execute_result"
    }
   ],
   "source": [
    "np.random.random_sample()"
   ]
  },
  {
   "cell_type": "code",
   "execution_count": 25,
   "id": "6a5e73d3-ff24-46c7-a6ab-19e69a7df1f7",
   "metadata": {},
   "outputs": [
    {
     "data": {
      "text/plain": [
       "array([0.03388245, 0.09068228, 0.63253441, 0.33214695, 0.43869614])"
      ]
     },
     "execution_count": 25,
     "metadata": {},
     "output_type": "execute_result"
    }
   ],
   "source": [
    "np.random.random_sample((5,))"
   ]
  },
  {
   "cell_type": "code",
   "execution_count": 49,
   "id": "5d8889ab-406c-4c7d-bd30-4dd13bbf1b1a",
   "metadata": {},
   "outputs": [
    {
     "data": {
      "text/plain": [
       "array([0.6375921])"
      ]
     },
     "execution_count": 49,
     "metadata": {},
     "output_type": "execute_result"
    }
   ],
   "source": [
    "np.random.rand(1)"
   ]
  },
  {
   "cell_type": "code",
   "execution_count": 45,
   "id": "de7989f3-dad7-4bc2-85a5-d4abd8d4c40b",
   "metadata": {},
   "outputs": [
    {
     "data": {
      "text/plain": [
       "array([0.42277068])"
      ]
     },
     "execution_count": 45,
     "metadata": {},
     "output_type": "execute_result"
    }
   ],
   "source": [
    "np.random.rand(1)"
   ]
  },
  {
   "cell_type": "code",
   "execution_count": 31,
   "id": "505df78e-f5bb-4be6-b14b-8278009a454d",
   "metadata": {},
   "outputs": [
    {
     "data": {
      "text/plain": [
       "array([[0.10186818, 0.70576583, 0.78126464],\n",
       "       [0.91701548, 0.64432353, 0.22116926]])"
      ]
     },
     "execution_count": 31,
     "metadata": {},
     "output_type": "execute_result"
    }
   ],
   "source": [
    "np.random.rand(2, 3)"
   ]
  },
  {
   "cell_type": "code",
   "execution_count": 33,
   "id": "136ea82f-f704-4451-a3c1-f6e066abe23b",
   "metadata": {},
   "outputs": [
    {
     "data": {
      "text/plain": [
       "array([[ 0.22244591, -0.33804727,  0.34424502],\n",
       "       [ 0.75481732, -1.67030296, -1.01312545]])"
      ]
     },
     "execution_count": 33,
     "metadata": {},
     "output_type": "execute_result"
    }
   ],
   "source": [
    "np.random.randn(2, 3)"
   ]
  },
  {
   "cell_type": "code",
   "execution_count": 37,
   "id": "f0d03d9d-1997-4ef3-b587-354fa194dbde",
   "metadata": {},
   "outputs": [
    {
     "data": {
      "text/plain": [
       "array([[4, 3, 4, 4],\n",
       "       [1, 1, 3, 1],\n",
       "       [4, 3, 4, 2]])"
      ]
     },
     "execution_count": 37,
     "metadata": {},
     "output_type": "execute_result"
    }
   ],
   "source": [
    "a = np.random.randint(1, 5, size = (3, 4))\n",
    "a"
   ]
  },
  {
   "cell_type": "code",
   "execution_count": 39,
   "id": "19e350bb-7e87-4b4d-87ea-2c4880687a90",
   "metadata": {},
   "outputs": [
    {
     "data": {
      "text/plain": [
       "(3, 4)"
      ]
     },
     "execution_count": 39,
     "metadata": {},
     "output_type": "execute_result"
    }
   ],
   "source": [
    "a.shape"
   ]
  },
  {
   "cell_type": "code",
   "execution_count": 41,
   "id": "174f3f89-8b1e-4c7d-943a-af19a63fea4d",
   "metadata": {},
   "outputs": [
    {
     "data": {
      "text/plain": [
       "12"
      ]
     },
     "execution_count": 41,
     "metadata": {},
     "output_type": "execute_result"
    }
   ],
   "source": [
    "a.size"
   ]
  },
  {
   "cell_type": "code",
   "execution_count": 43,
   "id": "e8066676-0d35-4696-bc2c-46a6ddb4e476",
   "metadata": {},
   "outputs": [
    {
     "data": {
      "text/plain": [
       "2"
      ]
     },
     "execution_count": 43,
     "metadata": {},
     "output_type": "execute_result"
    }
   ],
   "source": [
    "a.ndim"
   ]
  },
  {
   "cell_type": "code",
   "execution_count": 55,
   "id": "cca6ab9d-b4b6-45d8-bc0a-1bffc83cb30a",
   "metadata": {},
   "outputs": [
    {
     "data": {
      "text/plain": [
       "array([[0, 0, 0, 0],\n",
       "       [0, 0, 0, 0],\n",
       "       [0, 0, 0, 0]])"
      ]
     },
     "execution_count": 55,
     "metadata": {},
     "output_type": "execute_result"
    }
   ],
   "source": [
    "np.zeros((3, 4), dtype=int)"
   ]
  },
  {
   "cell_type": "code",
   "execution_count": 61,
   "id": "fe9ea3c8-2b7e-4062-a723-f64b19bab781",
   "metadata": {},
   "outputs": [
    {
     "data": {
      "text/plain": [
       "array([[950, 120, 851, 784],\n",
       "       [877, 390,  39, 780],\n",
       "       [283,  87, 214, 311]])"
      ]
     },
     "execution_count": 61,
     "metadata": {},
     "output_type": "execute_result"
    }
   ],
   "source": [
    "np.random.randint(1, 1000, (3, 4))"
   ]
  },
  {
   "cell_type": "code",
   "execution_count": 63,
   "id": "7d2dbf39-1f83-48cd-95ba-d785c2c63afa",
   "metadata": {},
   "outputs": [],
   "source": [
    "#use case>> many of the time while working data science project you need to simulate the data\n",
    "#that point of time numpy random modules comes handly"
   ]
  },
  {
   "cell_type": "code",
   "execution_count": 69,
   "id": "ba6e90db-5c8e-412c-b786-424a13648b11",
   "metadata": {},
   "outputs": [],
   "source": [
    "#indexing and slicing\n",
    "#index>> one element at a time"
   ]
  },
  {
   "cell_type": "code",
   "execution_count": 74,
   "id": "8b1e5e02-a47c-4b70-b347-28e67f38ab76",
   "metadata": {},
   "outputs": [],
   "source": [
    "a  = np.array([1, 2, 3, 4, 5])"
   ]
  },
  {
   "cell_type": "code",
   "execution_count": 76,
   "id": "21dd863a-5c6b-4edd-9c8b-068f0e21b85a",
   "metadata": {},
   "outputs": [
    {
     "data": {
      "text/plain": [
       "array([1, 2, 3, 4, 5])"
      ]
     },
     "execution_count": 76,
     "metadata": {},
     "output_type": "execute_result"
    }
   ],
   "source": [
    "a"
   ]
  },
  {
   "cell_type": "code",
   "execution_count": 78,
   "id": "79c8c32f-ee0c-47b0-b312-58408a157842",
   "metadata": {},
   "outputs": [
    {
     "data": {
      "text/plain": [
       "1"
      ]
     },
     "execution_count": 78,
     "metadata": {},
     "output_type": "execute_result"
    }
   ],
   "source": [
    "a[0]"
   ]
  },
  {
   "cell_type": "code",
   "execution_count": 80,
   "id": "1d276827-d490-45e4-b1ba-867b97216383",
   "metadata": {},
   "outputs": [
    {
     "data": {
      "text/plain": [
       "5"
      ]
     },
     "execution_count": 80,
     "metadata": {},
     "output_type": "execute_result"
    }
   ],
   "source": [
    "a[-1]"
   ]
  },
  {
   "cell_type": "code",
   "execution_count": 152,
   "id": "597944ab-808b-416c-9681-173fd6c27940",
   "metadata": {},
   "outputs": [
    {
     "data": {
      "text/plain": [
       "array([5, 4, 3, 2, 1])"
      ]
     },
     "execution_count": 152,
     "metadata": {},
     "output_type": "execute_result"
    }
   ],
   "source": [
    "a[::-1]"
   ]
  },
  {
   "cell_type": "code",
   "execution_count": 162,
   "id": "87ad5590-2de0-41fb-9f06-dc9ea4474360",
   "metadata": {},
   "outputs": [
    {
     "data": {
      "text/plain": [
       "array([1, 2, 3, 4, 5])"
      ]
     },
     "execution_count": 162,
     "metadata": {},
     "output_type": "execute_result"
    }
   ],
   "source": [
    "a"
   ]
  },
  {
   "cell_type": "code",
   "execution_count": 160,
   "id": "5c3d1e38-2666-4930-a000-d3ceb19c553f",
   "metadata": {},
   "outputs": [
    {
     "data": {
      "text/plain": [
       "array([2, 4])"
      ]
     },
     "execution_count": 160,
     "metadata": {},
     "output_type": "execute_result"
    }
   ],
   "source": [
    "a[1::2] #start:end:stop"
   ]
  },
  {
   "cell_type": "code",
   "execution_count": 82,
   "id": "5d0454a7-4e9d-4eae-b564-76f3e6453fba",
   "metadata": {},
   "outputs": [
    {
     "data": {
      "text/plain": [
       "array([[1, 2, 3],\n",
       "       [4, 5, 6]])"
      ]
     },
     "execution_count": 82,
     "metadata": {},
     "output_type": "execute_result"
    }
   ],
   "source": [
    "b = np.array([[1, 2, 3], [4, 5, 6]])\n",
    "b"
   ]
  },
  {
   "cell_type": "code",
   "execution_count": 86,
   "id": "15cbd470-d87a-49a2-b534-98039696851e",
   "metadata": {},
   "outputs": [
    {
     "data": {
      "text/plain": [
       "5"
      ]
     },
     "execution_count": 86,
     "metadata": {},
     "output_type": "execute_result"
    }
   ],
   "source": [
    "#To get 5 first approach\n",
    "b[1][1] "
   ]
  },
  {
   "cell_type": "code",
   "execution_count": 88,
   "id": "afb69644-da78-44ee-af48-30a73eaeedde",
   "metadata": {},
   "outputs": [
    {
     "data": {
      "text/plain": [
       "5"
      ]
     },
     "execution_count": 88,
     "metadata": {},
     "output_type": "execute_result"
    }
   ],
   "source": [
    "#To get 5 2nd approach\n",
    "b[1, 1]"
   ]
  },
  {
   "cell_type": "code",
   "execution_count": 94,
   "id": "374ec40a-574f-45af-aea6-db9c3f47480b",
   "metadata": {},
   "outputs": [
    {
     "data": {
      "text/plain": [
       "array([[[1, 2, 3]],\n",
       "\n",
       "       [[4, 5, 6]]])"
      ]
     },
     "execution_count": 94,
     "metadata": {},
     "output_type": "execute_result"
    }
   ],
   "source": [
    "c = np.expand_dims(b, axis=1)\n",
    "c"
   ]
  },
  {
   "cell_type": "code",
   "execution_count": 102,
   "id": "77a5c1a4-5e95-45a7-8141-abc5514ac4d5",
   "metadata": {},
   "outputs": [
    {
     "data": {
      "text/plain": [
       "5"
      ]
     },
     "execution_count": 102,
     "metadata": {},
     "output_type": "execute_result"
    }
   ],
   "source": [
    "c[1, 0, 1]"
   ]
  },
  {
   "cell_type": "code",
   "execution_count": 104,
   "id": "9308f141-4540-412d-b331-32827ad5d6ba",
   "metadata": {},
   "outputs": [
    {
     "data": {
      "text/plain": [
       "array([[[1, 2, 3]],\n",
       "\n",
       "       [[4, 5, 6]]])"
      ]
     },
     "execution_count": 104,
     "metadata": {},
     "output_type": "execute_result"
    }
   ],
   "source": [
    "c"
   ]
  },
  {
   "cell_type": "code",
   "execution_count": 108,
   "id": "2170ae13-209e-4564-b2ac-0cedc0323932",
   "metadata": {},
   "outputs": [
    {
     "data": {
      "text/plain": [
       "array([[ 0,  1,  2],\n",
       "       [ 3,  4,  5],\n",
       "       [ 6,  7,  8],\n",
       "       [ 9, 10, 11],\n",
       "       [12, 13, 14],\n",
       "       [15, 16, 17]])"
      ]
     },
     "execution_count": 108,
     "metadata": {},
     "output_type": "execute_result"
    }
   ],
   "source": [
    "arr = np.arange(18).reshape(6, 3)\n",
    "arr"
   ]
  },
  {
   "cell_type": "code",
   "execution_count": 112,
   "id": "a91714a5-4dac-46ad-afeb-4ab5a81dc830",
   "metadata": {},
   "outputs": [
    {
     "data": {
      "text/plain": [
       "10"
      ]
     },
     "execution_count": 112,
     "metadata": {},
     "output_type": "execute_result"
    }
   ],
   "source": [
    "arr[3][1]"
   ]
  },
  {
   "cell_type": "code",
   "execution_count": 114,
   "id": "744a00b1-042e-492b-ad56-06c24bc91a5b",
   "metadata": {},
   "outputs": [
    {
     "data": {
      "text/plain": [
       "10"
      ]
     },
     "execution_count": 114,
     "metadata": {},
     "output_type": "execute_result"
    }
   ],
   "source": [
    "arr[3, 1]"
   ]
  },
  {
   "cell_type": "code",
   "execution_count": 116,
   "id": "5c4140bf-3778-477e-8c5a-2f2550d79b2f",
   "metadata": {},
   "outputs": [
    {
     "data": {
      "text/plain": [
       "array([[ 0,  1,  2],\n",
       "       [ 3,  4,  5],\n",
       "       [ 6,  7,  8],\n",
       "       [ 9, 10, 11],\n",
       "       [12, 13, 14],\n",
       "       [15, 16, 17]])"
      ]
     },
     "execution_count": 116,
     "metadata": {},
     "output_type": "execute_result"
    }
   ],
   "source": [
    "#slicing>> multiple elements at a time\n",
    "arr"
   ]
  },
  {
   "cell_type": "code",
   "execution_count": 122,
   "id": "66b314a2-23b7-4506-afb7-2cc8243425a5",
   "metadata": {},
   "outputs": [
    {
     "data": {
      "text/plain": [
       "array([[ 3,  4],\n",
       "       [ 6,  7],\n",
       "       [ 9, 10]])"
      ]
     },
     "execution_count": 122,
     "metadata": {},
     "output_type": "execute_result"
    }
   ],
   "source": [
    "arr[1:4, 0:2]"
   ]
  },
  {
   "cell_type": "code",
   "execution_count": 126,
   "id": "95fba160-35f3-4f1b-8ade-1fd1ec8a24b4",
   "metadata": {},
   "outputs": [
    {
     "data": {
      "text/plain": [
       "array([[ 2],\n",
       "       [ 5],\n",
       "       [ 8],\n",
       "       [11],\n",
       "       [14],\n",
       "       [17]])"
      ]
     },
     "execution_count": 126,
     "metadata": {},
     "output_type": "execute_result"
    }
   ],
   "source": [
    "arr[:, 2:4]"
   ]
  },
  {
   "cell_type": "code",
   "execution_count": 128,
   "id": "88ef56b3-bce5-4df7-9a53-e2a4ce5839d6",
   "metadata": {},
   "outputs": [
    {
     "data": {
      "text/plain": [
       "array([[ 0,  1,  2],\n",
       "       [ 3,  4,  5],\n",
       "       [ 6,  7,  8],\n",
       "       [ 9, 10, 11],\n",
       "       [12, 13, 14],\n",
       "       [15, 16, 17]])"
      ]
     },
     "execution_count": 128,
     "metadata": {},
     "output_type": "execute_result"
    }
   ],
   "source": [
    "#fancy slicing/indexing\n",
    "arr"
   ]
  },
  {
   "cell_type": "code",
   "execution_count": 132,
   "id": "18098f7c-fc8d-41db-810d-541056a3b1df",
   "metadata": {},
   "outputs": [
    {
     "data": {
      "text/plain": [
       "array([[ 0,  2],\n",
       "       [ 3,  5],\n",
       "       [ 6,  8],\n",
       "       [ 9, 11],\n",
       "       [12, 14],\n",
       "       [15, 17]])"
      ]
     },
     "execution_count": 132,
     "metadata": {},
     "output_type": "execute_result"
    }
   ],
   "source": [
    "arr[:, [0, 2]]"
   ]
  },
  {
   "cell_type": "code",
   "execution_count": 138,
   "id": "8c95099e-5130-4b0b-8f17-1573760b6b44",
   "metadata": {},
   "outputs": [
    {
     "data": {
      "text/plain": [
       "array([[ 6,  7,  8],\n",
       "       [12, 13, 14]])"
      ]
     },
     "execution_count": 138,
     "metadata": {},
     "output_type": "execute_result"
    }
   ],
   "source": [
    "arr[[2, 4], :]"
   ]
  },
  {
   "cell_type": "code",
   "execution_count": 140,
   "id": "96610514-9ecb-49c4-aed9-453d8ff3eaf6",
   "metadata": {},
   "outputs": [
    {
     "data": {
      "text/plain": [
       "array([ 7, 14])"
      ]
     },
     "execution_count": 140,
     "metadata": {},
     "output_type": "execute_result"
    }
   ],
   "source": [
    "arr[[2, 4], [1, 2]] #1 and 2 will be the row indexes respectively from the already sleected array"
   ]
  },
  {
   "cell_type": "code",
   "execution_count": 142,
   "id": "f941b225-4ef6-4fe1-b628-6da4603631a5",
   "metadata": {},
   "outputs": [
    {
     "data": {
      "text/plain": [
       "array([[ 0,  1,  2],\n",
       "       [ 3,  4,  5],\n",
       "       [ 6,  7,  8],\n",
       "       [ 9, 10, 11],\n",
       "       [12, 13, 14],\n",
       "       [15, 16, 17]])"
      ]
     },
     "execution_count": 142,
     "metadata": {},
     "output_type": "execute_result"
    }
   ],
   "source": [
    "arr"
   ]
  },
  {
   "cell_type": "code",
   "execution_count": 148,
   "id": "6d91b810-e401-41b3-bd12-61603c2b8005",
   "metadata": {},
   "outputs": [
    {
     "data": {
      "text/plain": [
       "array([[15, 16, 17],\n",
       "       [12, 13, 14],\n",
       "       [ 9, 10, 11],\n",
       "       [ 6,  7,  8],\n",
       "       [ 3,  4,  5],\n",
       "       [ 0,  1,  2]])"
      ]
     },
     "execution_count": 148,
     "metadata": {},
     "output_type": "execute_result"
    }
   ],
   "source": [
    "#reversing the array using slicing\n",
    "arr[::-1]"
   ]
  },
  {
   "cell_type": "code",
   "execution_count": 150,
   "id": "381fec4f-cd00-4725-a4d4-f7ae7edc5554",
   "metadata": {},
   "outputs": [
    {
     "data": {
      "text/plain": [
       "array([1, 2, 3, 4, 5])"
      ]
     },
     "execution_count": 150,
     "metadata": {},
     "output_type": "execute_result"
    }
   ],
   "source": [
    "a"
   ]
  },
  {
   "cell_type": "code",
   "execution_count": 164,
   "id": "fa51236b-1d72-47c5-b9aa-cc077ed00000",
   "metadata": {},
   "outputs": [
    {
     "data": {
      "text/plain": [
       "array([[[ 0,  1,  2,  3],\n",
       "        [ 4,  5,  6,  7],\n",
       "        [ 8,  9, 10, 11]],\n",
       "\n",
       "       [[12, 13, 14, 15],\n",
       "        [16, 17, 18, 19],\n",
       "        [20, 21, 22, 23]],\n",
       "\n",
       "       [[24, 25, 26, 27],\n",
       "        [28, 29, 30, 31],\n",
       "        [32, 33, 34, 35]]])"
      ]
     },
     "execution_count": 164,
     "metadata": {},
     "output_type": "execute_result"
    }
   ],
   "source": [
    "#practice\n",
    "arr1 = np.arange(36).reshape(3, 3, 4)\n",
    "arr1"
   ]
  },
  {
   "cell_type": "code",
   "execution_count": 172,
   "id": "e1dde7c5-9b25-4d47-96d6-e5de24c4d8e3",
   "metadata": {},
   "outputs": [
    {
     "data": {
      "text/plain": [
       "array([[ 0,  1,  2,  3],\n",
       "       [ 4,  5,  6,  7],\n",
       "       [ 8,  9, 10, 11]])"
      ]
     },
     "execution_count": 172,
     "metadata": {},
     "output_type": "execute_result"
    }
   ],
   "source": [
    "arr1[0]"
   ]
  },
  {
   "cell_type": "code",
   "execution_count": 174,
   "id": "a30c3fec-adb1-4a3d-a0ff-9df4d2e69c90",
   "metadata": {},
   "outputs": [
    {
     "data": {
      "text/plain": [
       "array([[ 0,  1,  2,  3],\n",
       "       [ 4,  5,  6,  7],\n",
       "       [ 8,  9, 10, 11]])"
      ]
     },
     "execution_count": 174,
     "metadata": {},
     "output_type": "execute_result"
    }
   ],
   "source": [
    "arr1[0, :, :]"
   ]
  },
  {
   "cell_type": "code",
   "execution_count": 194,
   "id": "f35a6943-c0c1-4af7-b5f3-08046087aa61",
   "metadata": {},
   "outputs": [
    {
     "data": {
      "text/plain": [
       "array([[17, 18],\n",
       "       [21, 22]])"
      ]
     },
     "execution_count": 194,
     "metadata": {},
     "output_type": "execute_result"
    }
   ],
   "source": [
    "arr1[1, 1:3, 1:3]"
   ]
  },
  {
   "cell_type": "code",
   "execution_count": 196,
   "id": "bac48982-9c9e-4892-9de4-d1530c12bb6b",
   "metadata": {},
   "outputs": [
    {
     "data": {
      "text/plain": [
       "array([[[ 0,  1,  2,  3],\n",
       "        [ 4,  5,  6,  7],\n",
       "        [ 8,  9, 10, 11]],\n",
       "\n",
       "       [[12, 13, 14, 15],\n",
       "        [16, 17, 18, 19],\n",
       "        [20, 21, 22, 23]],\n",
       "\n",
       "       [[24, 25, 26, 27],\n",
       "        [28, 29, 30, 31],\n",
       "        [32, 33, 34, 35]]])"
      ]
     },
     "execution_count": 196,
     "metadata": {},
     "output_type": "execute_result"
    }
   ],
   "source": [
    "arr1"
   ]
  },
  {
   "cell_type": "code",
   "execution_count": 230,
   "id": "ceca80e1-910d-4e0a-8a68-d3de05d8c78a",
   "metadata": {},
   "outputs": [
    {
     "data": {
      "text/plain": [
       "array([[24, 27],\n",
       "       [28, 31],\n",
       "       [32, 35]])"
      ]
     },
     "execution_count": 230,
     "metadata": {},
     "output_type": "execute_result"
    }
   ],
   "source": [
    "arr1[2, :, 0:4:3]"
   ]
  },
  {
   "cell_type": "code",
   "execution_count": 310,
   "id": "fd29e6cb-35fc-42a9-92b2-0e1507a47c8b",
   "metadata": {},
   "outputs": [],
   "source": [
    "#mathematical computation using array\n",
    "\n",
    "\n",
    "arr1 = np.random.randint(1, 3, (3,3))\n",
    "arr2 = np.random.randint(1, 3, (3,3))"
   ]
  },
  {
   "cell_type": "code",
   "execution_count": 236,
   "id": "2ae38e93-f4be-4e5f-b67d-f8950f6d2b43",
   "metadata": {},
   "outputs": [
    {
     "data": {
      "text/plain": [
       "array([[1, 1, 1],\n",
       "       [1, 2, 2],\n",
       "       [2, 2, 1]])"
      ]
     },
     "execution_count": 236,
     "metadata": {},
     "output_type": "execute_result"
    }
   ],
   "source": [
    "arr1"
   ]
  },
  {
   "cell_type": "code",
   "execution_count": 238,
   "id": "e4d91632-59ca-4e4e-930c-aabc71a7caa9",
   "metadata": {},
   "outputs": [
    {
     "data": {
      "text/plain": [
       "array([[1, 1, 2],\n",
       "       [2, 1, 1],\n",
       "       [2, 1, 2]])"
      ]
     },
     "execution_count": 238,
     "metadata": {},
     "output_type": "execute_result"
    }
   ],
   "source": [
    "arr2"
   ]
  },
  {
   "cell_type": "code",
   "execution_count": 240,
   "id": "a1f41b09-b078-4605-b037-2e975ef7c1de",
   "metadata": {},
   "outputs": [
    {
     "data": {
      "text/plain": [
       "array([[2, 2, 3],\n",
       "       [3, 3, 3],\n",
       "       [4, 3, 3]])"
      ]
     },
     "execution_count": 240,
     "metadata": {},
     "output_type": "execute_result"
    }
   ],
   "source": [
    "arr1+arr2 #index wise element addition"
   ]
  },
  {
   "cell_type": "code",
   "execution_count": 242,
   "id": "66e99cdd-2812-4890-9430-b17886a699ba",
   "metadata": {},
   "outputs": [
    {
     "data": {
      "text/plain": [
       "array([[1, 1, 2],\n",
       "       [2, 2, 2],\n",
       "       [4, 2, 2]])"
      ]
     },
     "execution_count": 242,
     "metadata": {},
     "output_type": "execute_result"
    }
   ],
   "source": [
    "arr1*arr2 #index wise element multiplication"
   ]
  },
  {
   "cell_type": "code",
   "execution_count": 276,
   "id": "6dccde9a-efed-467b-950f-fc62cc8c50f0",
   "metadata": {},
   "outputs": [
    {
     "data": {
      "text/plain": [
       "array([[1, 1, 2],\n",
       "       [2, 2, 2],\n",
       "       [4, 2, 2]])"
      ]
     },
     "execution_count": 276,
     "metadata": {},
     "output_type": "execute_result"
    }
   ],
   "source": [
    "np.multiply(arr1, arr2)"
   ]
  },
  {
   "cell_type": "code",
   "execution_count": 274,
   "id": "bf2e248c-3cad-4b85-b339-ec7e22191ccb",
   "metadata": {},
   "outputs": [
    {
     "data": {
      "text/plain": [
       "array([[ 0,  0, -1],\n",
       "       [-1,  1,  1],\n",
       "       [ 0,  1, -1]])"
      ]
     },
     "execution_count": 274,
     "metadata": {},
     "output_type": "execute_result"
    }
   ],
   "source": [
    "arr1-arr2"
   ]
  },
  {
   "cell_type": "code",
   "execution_count": 244,
   "id": "46e052c9-0636-4c00-a944-aa140fc1a524",
   "metadata": {},
   "outputs": [
    {
     "data": {
      "text/plain": [
       "array([[1. , 1. , 0.5],\n",
       "       [0.5, 2. , 2. ],\n",
       "       [1. , 2. , 0.5]])"
      ]
     },
     "execution_count": 244,
     "metadata": {},
     "output_type": "execute_result"
    }
   ],
   "source": [
    "arr1/arr2 #index wise division"
   ]
  },
  {
   "cell_type": "code",
   "execution_count": 278,
   "id": "4e018784-f446-4bbe-af47-8796f3e443e3",
   "metadata": {},
   "outputs": [
    {
     "data": {
      "text/plain": [
       "array([[0, 0, 1],\n",
       "       [1, 0, 0],\n",
       "       [0, 0, 1]])"
      ]
     },
     "execution_count": 278,
     "metadata": {},
     "output_type": "execute_result"
    }
   ],
   "source": [
    "np.mod(arr1, arr2) #return element wise remainder"
   ]
  },
  {
   "cell_type": "code",
   "execution_count": 280,
   "id": "a235e983-bdb4-46df-91b6-9cd3ec86b160",
   "metadata": {},
   "outputs": [
    {
     "data": {
      "text/plain": [
       "array([[1, 1, 0],\n",
       "       [0, 2, 2],\n",
       "       [1, 2, 0]])"
      ]
     },
     "execution_count": 280,
     "metadata": {},
     "output_type": "execute_result"
    }
   ],
   "source": [
    "arr1 // arr2 #floor division, %>>remainder"
   ]
  },
  {
   "cell_type": "code",
   "execution_count": 282,
   "id": "83d51459-52b8-47a7-ac05-962fd9e41419",
   "metadata": {},
   "outputs": [
    {
     "data": {
      "text/plain": [
       "array([[1.        , 1.        , 1.        ],\n",
       "       [1.        , 1.41421356, 1.41421356],\n",
       "       [1.41421356, 1.41421356, 1.        ]])"
      ]
     },
     "execution_count": 282,
     "metadata": {},
     "output_type": "execute_result"
    }
   ],
   "source": [
    "np.sqrt(arr1)"
   ]
  },
  {
   "cell_type": "code",
   "execution_count": 284,
   "id": "6adb6298-998c-42c8-848f-e683d52d8e4b",
   "metadata": {},
   "outputs": [
    {
     "data": {
      "text/plain": [
       "array([[1, 1, 1],\n",
       "       [1, 8, 8],\n",
       "       [8, 8, 1]], dtype=int32)"
      ]
     },
     "execution_count": 284,
     "metadata": {},
     "output_type": "execute_result"
    }
   ],
   "source": [
    "np.power(arr1, 3)"
   ]
  },
  {
   "cell_type": "code",
   "execution_count": 246,
   "id": "e40f7a85-9547-4f1d-8087-566067d28343",
   "metadata": {},
   "outputs": [
    {
     "ename": "ZeroDivisionError",
     "evalue": "division by zero",
     "output_type": "error",
     "traceback": [
      "\u001b[1;31m---------------------------------------------------------------------------\u001b[0m",
      "\u001b[1;31mZeroDivisionError\u001b[0m                         Traceback (most recent call last)",
      "Cell \u001b[1;32mIn[246], line 1\u001b[0m\n\u001b[1;32m----> 1\u001b[0m \u001b[38;5;241m2\u001b[39m\u001b[38;5;241m/\u001b[39m\u001b[38;5;241m0\u001b[39m\n",
      "\u001b[1;31mZeroDivisionError\u001b[0m: division by zero"
     ]
    }
   ],
   "source": [
    "2/0"
   ]
  },
  {
   "cell_type": "code",
   "execution_count": 248,
   "id": "1440e395-392b-43ce-8d38-9c4bcde6e6ad",
   "metadata": {},
   "outputs": [
    {
     "name": "stderr",
     "output_type": "stream",
     "text": [
      "C:\\Users\\ajayk\\AppData\\Local\\Temp\\ipykernel_5556\\1510032488.py:1: RuntimeWarning: divide by zero encountered in divide\n",
      "  arr1/0\n"
     ]
    },
    {
     "data": {
      "text/plain": [
       "array([[inf, inf, inf],\n",
       "       [inf, inf, inf],\n",
       "       [inf, inf, inf]])"
      ]
     },
     "execution_count": 248,
     "metadata": {},
     "output_type": "execute_result"
    }
   ],
   "source": [
    "arr1/0"
   ]
  },
  {
   "cell_type": "code",
   "execution_count": 250,
   "id": "5d03449a-1ca9-458e-9451-4e290818942c",
   "metadata": {},
   "outputs": [
    {
     "data": {
      "text/plain": [
       "array([[1, 1, 1],\n",
       "       [1, 2, 2],\n",
       "       [2, 2, 1]])"
      ]
     },
     "execution_count": 250,
     "metadata": {},
     "output_type": "execute_result"
    }
   ],
   "source": [
    "arr1"
   ]
  },
  {
   "cell_type": "code",
   "execution_count": 252,
   "id": "776fe0c2-33b1-428f-8935-128ce9af98b4",
   "metadata": {},
   "outputs": [
    {
     "data": {
      "text/plain": [
       "array([[False, False, False],\n",
       "       [False,  True,  True],\n",
       "       [ True,  True, False]])"
      ]
     },
     "execution_count": 252,
     "metadata": {},
     "output_type": "execute_result"
    }
   ],
   "source": [
    "#conditions on one array\n",
    "arr1>1"
   ]
  },
  {
   "cell_type": "code",
   "execution_count": 254,
   "id": "4aa68c4f-76bb-4870-a501-e84d3aef9523",
   "metadata": {},
   "outputs": [
    {
     "data": {
      "text/plain": [
       "array([2, 2, 2, 2])"
      ]
     },
     "execution_count": 254,
     "metadata": {},
     "output_type": "execute_result"
    }
   ],
   "source": [
    "arr1[arr1>1]"
   ]
  },
  {
   "cell_type": "code",
   "execution_count": 258,
   "id": "c3b09d61-78b6-4b87-b3c1-977fcb01c161",
   "metadata": {},
   "outputs": [
    {
     "data": {
      "text/plain": [
       "array([2, 2, 2, 2])"
      ]
     },
     "execution_count": 258,
     "metadata": {},
     "output_type": "execute_result"
    }
   ],
   "source": [
    "arr1[arr1 % 2 == 0]"
   ]
  },
  {
   "cell_type": "code",
   "execution_count": 262,
   "id": "3aa6a8bb-d893-4ad1-a9a4-62e7aeee1940",
   "metadata": {},
   "outputs": [
    {
     "data": {
      "text/plain": [
       "array([2, 2, 2, 2])"
      ]
     },
     "execution_count": 262,
     "metadata": {},
     "output_type": "execute_result"
    }
   ],
   "source": [
    "#multiple condition on array\n",
    "arr1[(arr1 > 1) & (arr1%2 == 0)]"
   ]
  },
  {
   "cell_type": "code",
   "execution_count": 264,
   "id": "6b0dc194-e9a6-4882-9956-ab1c8278cfbc",
   "metadata": {},
   "outputs": [
    {
     "data": {
      "text/plain": [
       "array([1, 1, 1, 1, 1])"
      ]
     },
     "execution_count": 264,
     "metadata": {},
     "output_type": "execute_result"
    }
   ],
   "source": [
    "arr1[~(arr1 % 2 == 0)]"
   ]
  },
  {
   "cell_type": "code",
   "execution_count": 266,
   "id": "6b79a1e9-d305-43c8-b2ea-42c5697a6741",
   "metadata": {},
   "outputs": [
    {
     "data": {
      "text/plain": [
       "array([[False, False, False],\n",
       "       [False,  True,  True],\n",
       "       [False,  True, False]])"
      ]
     },
     "execution_count": 266,
     "metadata": {},
     "output_type": "execute_result"
    }
   ],
   "source": [
    "#conditions of comparing two arrays\n",
    "arr1 > arr2"
   ]
  },
  {
   "cell_type": "code",
   "execution_count": 268,
   "id": "7e0f31e1-a5cd-444b-bd22-38a9ea121c2a",
   "metadata": {},
   "outputs": [
    {
     "data": {
      "text/plain": [
       "array([2, 2, 2])"
      ]
     },
     "execution_count": 268,
     "metadata": {},
     "output_type": "execute_result"
    }
   ],
   "source": [
    "arr1[arr1 > arr2]"
   ]
  },
  {
   "cell_type": "code",
   "execution_count": 270,
   "id": "02d282f3-a8e2-4e7e-88e7-94986f526ae7",
   "metadata": {},
   "outputs": [
    {
     "data": {
      "text/plain": [
       "array([[1, 1, 1],\n",
       "       [1, 2, 2],\n",
       "       [2, 2, 1]])"
      ]
     },
     "execution_count": 270,
     "metadata": {},
     "output_type": "execute_result"
    }
   ],
   "source": [
    "arr1"
   ]
  },
  {
   "cell_type": "code",
   "execution_count": 272,
   "id": "e67a59fb-a86a-4f9f-ac75-7847a7d64c2b",
   "metadata": {},
   "outputs": [
    {
     "data": {
      "text/plain": [
       "array([[-2, -2, -2],\n",
       "       [-2, -3, -3],\n",
       "       [-3, -3, -2]])"
      ]
     },
     "execution_count": 272,
     "metadata": {},
     "output_type": "execute_result"
    }
   ],
   "source": [
    "~arr1"
   ]
  },
  {
   "cell_type": "code",
   "execution_count": 296,
   "id": "c6183b63-820b-4403-be25-2a50502e0d49",
   "metadata": {},
   "outputs": [
    {
     "data": {
      "text/plain": [
       "-2"
      ]
     },
     "execution_count": 296,
     "metadata": {},
     "output_type": "execute_result"
    }
   ],
   "source": [
    "~1"
   ]
  },
  {
   "cell_type": "code",
   "execution_count": 298,
   "id": "ee08edfc-b88a-46ab-ac8b-ecb8fc487d68",
   "metadata": {},
   "outputs": [
    {
     "data": {
      "text/plain": [
       "-301"
      ]
     },
     "execution_count": 298,
     "metadata": {},
     "output_type": "execute_result"
    }
   ],
   "source": [
    "~300"
   ]
  },
  {
   "cell_type": "code",
   "execution_count": 300,
   "id": "d5e0eee0-846a-46c2-a4ec-4ea6be028087",
   "metadata": {},
   "outputs": [
    {
     "data": {
      "text/plain": [
       "array([[False, False,  True],\n",
       "       [ True, False, False],\n",
       "       [False, False,  True]])"
      ]
     },
     "execution_count": 300,
     "metadata": {},
     "output_type": "execute_result"
    }
   ],
   "source": [
    "arr1 < arr2"
   ]
  },
  {
   "cell_type": "code",
   "execution_count": 304,
   "id": "12da1ae7-fafe-4f6a-869b-93acf6a4ae79",
   "metadata": {},
   "outputs": [
    {
     "data": {
      "text/plain": [
       "array([[ True,  True,  True],\n",
       "       [ True,  True,  True],\n",
       "       [ True,  True,  True]])"
      ]
     },
     "execution_count": 304,
     "metadata": {},
     "output_type": "execute_result"
    }
   ],
   "source": [
    "arr1 == arr2"
   ]
  },
  {
   "cell_type": "code",
   "execution_count": 312,
   "id": "6d2fb7b3-0f31-46ce-b667-da00976cddc7",
   "metadata": {},
   "outputs": [
    {
     "data": {
      "text/plain": [
       "array([[2, 1, 2],\n",
       "       [1, 2, 2],\n",
       "       [2, 2, 2]])"
      ]
     },
     "execution_count": 312,
     "metadata": {},
     "output_type": "execute_result"
    }
   ],
   "source": [
    "arr1"
   ]
  },
  {
   "cell_type": "code",
   "execution_count": 314,
   "id": "98a9daab-a5b2-4d2d-96d4-d4da879a87e9",
   "metadata": {},
   "outputs": [
    {
     "data": {
      "text/plain": [
       "array([[1, 1, 1],\n",
       "       [2, 2, 1],\n",
       "       [1, 1, 1]])"
      ]
     },
     "execution_count": 314,
     "metadata": {},
     "output_type": "execute_result"
    }
   ],
   "source": [
    "arr2"
   ]
  },
  {
   "cell_type": "code",
   "execution_count": 322,
   "id": "6c7bce7a-a445-420d-910d-8a22a1eb3f63",
   "metadata": {},
   "outputs": [],
   "source": [
    "#operations on numpy string array\n",
    "\n",
    "d = np.array([1, \"atanaska\", 3, \"Ajay\"])"
   ]
  },
  {
   "cell_type": "code",
   "execution_count": 324,
   "id": "f1896c9f-bf79-4090-99f4-51d111fb5af3",
   "metadata": {},
   "outputs": [
    {
     "data": {
      "text/plain": [
       "array(['1', 'atanaska', '3', 'Ajay'], dtype='<U11')"
      ]
     },
     "execution_count": 324,
     "metadata": {},
     "output_type": "execute_result"
    }
   ],
   "source": [
    "d"
   ]
  },
  {
   "cell_type": "code",
   "execution_count": 326,
   "id": "8bb71fa1-aabe-464d-b2ed-e6e3bd2311a8",
   "metadata": {},
   "outputs": [
    {
     "data": {
      "text/plain": [
       "array(['1', 'ATANASKA', '3', 'AJAY'], dtype='<U11')"
      ]
     },
     "execution_count": 326,
     "metadata": {},
     "output_type": "execute_result"
    }
   ],
   "source": [
    "np.char.upper(d)"
   ]
  },
  {
   "cell_type": "code",
   "execution_count": 328,
   "id": "79c2d11e-9f10-4bb6-bdb2-6b2aaecb6618",
   "metadata": {},
   "outputs": [
    {
     "data": {
      "text/plain": [
       "array(['1', 'atanaska', '3', 'ajay'], dtype='<U11')"
      ]
     },
     "execution_count": 328,
     "metadata": {},
     "output_type": "execute_result"
    }
   ],
   "source": [
    "np.char.lower(d)"
   ]
  },
  {
   "cell_type": "code",
   "execution_count": 332,
   "id": "508b6626-f8b3-4cdc-85ef-21e03bee29b3",
   "metadata": {},
   "outputs": [
    {
     "data": {
      "text/plain": [
       "array(['1', 'Atanaska', '3', 'Ajay'], dtype='<U11')"
      ]
     },
     "execution_count": 332,
     "metadata": {},
     "output_type": "execute_result"
    }
   ],
   "source": [
    "np.char.capitalize(d)"
   ]
  },
  {
   "cell_type": "code",
   "execution_count": 334,
   "id": "c373c812-2a83-46ea-a425-79a36a085063",
   "metadata": {},
   "outputs": [
    {
     "data": {
      "text/plain": [
       "array([False, False, False,  True])"
      ]
     },
     "execution_count": 334,
     "metadata": {},
     "output_type": "execute_result"
    }
   ],
   "source": [
    "np.char.startswith(d, \"Aj\")"
   ]
  },
  {
   "cell_type": "code",
   "execution_count": 336,
   "id": "8014f352-94dd-44e7-9a63-2e178d781042",
   "metadata": {},
   "outputs": [
    {
     "data": {
      "text/plain": [
       "array(['Ajay'], dtype='<U11')"
      ]
     },
     "execution_count": 336,
     "metadata": {},
     "output_type": "execute_result"
    }
   ],
   "source": [
    "d[np.char.startswith(d, \"Aj\")]"
   ]
  },
  {
   "cell_type": "code",
   "execution_count": 338,
   "id": "dcebc803-1646-49f3-9d39-01bf4a7e32d4",
   "metadata": {},
   "outputs": [
    {
     "data": {
      "text/plain": [
       "array([False,  True, False, False])"
      ]
     },
     "execution_count": 338,
     "metadata": {},
     "output_type": "execute_result"
    }
   ],
   "source": [
    "np.char.endswith(d, \"ka\")"
   ]
  },
  {
   "cell_type": "code",
   "execution_count": 340,
   "id": "37393883-0487-4ea2-b47b-289bf35db034",
   "metadata": {},
   "outputs": [
    {
     "data": {
      "text/plain": [
       "array(['atanaska'], dtype='<U11')"
      ]
     },
     "execution_count": 340,
     "metadata": {},
     "output_type": "execute_result"
    }
   ],
   "source": [
    "d[np.char.endswith(d, \"ka\")]"
   ]
  },
  {
   "cell_type": "code",
   "execution_count": 344,
   "id": "454bd3b0-7146-4cef-b9c3-917858ee5ed8",
   "metadata": {},
   "outputs": [
    {
     "data": {
      "text/plain": [
       "array([False,  True, False, False])"
      ]
     },
     "execution_count": 344,
     "metadata": {},
     "output_type": "execute_result"
    }
   ],
   "source": [
    "np.char.endswith(d, \"ka\")"
   ]
  },
  {
   "cell_type": "code",
   "execution_count": 346,
   "id": "c5a450ff-5720-43c7-9036-33ba0c971114",
   "metadata": {},
   "outputs": [
    {
     "data": {
      "text/plain": [
       "array(['1', 'ATANASKA', '3', 'aJAY'], dtype='<U11')"
      ]
     },
     "execution_count": 346,
     "metadata": {},
     "output_type": "execute_result"
    }
   ],
   "source": [
    "np.char.swapcase(d)"
   ]
  },
  {
   "cell_type": "code",
   "execution_count": 348,
   "id": "dfcea09d-33c1-429d-8f88-ea3ca9d52c9f",
   "metadata": {},
   "outputs": [],
   "source": [
    "#broadcasting"
   ]
  },
  {
   "attachments": {
    "43f02d26-16be-43a2-aacd-b322f1ac667b.png": {
     "image/png": "[encoded data removed]"
    }
   },
   "cell_type": "markdown",
   "id": "fe147a66-bbff-4e20-a9a5-60ee52fea24d",
   "metadata": {},
   "source": [
    "![image.png](attachment:43f02d26-16be-43a2-aacd-b322f1ac667b.png)"
   ]
  },
  {
   "cell_type": "code",
   "execution_count": null,
   "id": "54e6b6e7-1547-4fd4-b684-26f55c41ca45",
   "metadata": {},
   "outputs": [],
   "source": [
    "#rules of broadcasting\n",
    "\n",
    "\n",
    "#if the dimension is different(case 3)\n",
    "#if two arrays have different dimensions, add a new dimension to the lesser dimension array (case 3 example below)\n",
    "\n",
    "#if the dimension is same(case 1 and 2) and size is different:\n",
    "#stretch/broadcast the lower size array to that of bigger dimension array \n",
    "\n",
    "#case 4\n",
    "#else if any array is bigger than row and column of another array which can be stretched further to get the same dimension>> it will not be bradcasted\n"
   ]
  },
  {
   "cell_type": "code",
   "execution_count": 358,
   "id": "9e31eff8-b277-4264-a2fb-8e264cb183da",
   "metadata": {},
   "outputs": [
    {
     "data": {
      "text/plain": [
       "array([[2, 1, 2],\n",
       "       [1, 2, 2],\n",
       "       [2, 2, 2]])"
      ]
     },
     "execution_count": 358,
     "metadata": {},
     "output_type": "execute_result"
    }
   ],
   "source": [
    "arr1"
   ]
  },
  {
   "cell_type": "code",
   "execution_count": 360,
   "id": "ea66a957-ddd0-41e2-8263-cfaa084db6f1",
   "metadata": {},
   "outputs": [
    {
     "data": {
      "text/plain": [
       "array([[7, 6, 7],\n",
       "       [6, 7, 7],\n",
       "       [7, 7, 7]])"
      ]
     },
     "execution_count": 360,
     "metadata": {},
     "output_type": "execute_result"
    }
   ],
   "source": [
    "#case 1\n",
    "#similar to first case in the image\n",
    "arr1 + 5 #arr1 is 3 rows and 3 columns array, 5 is scaler value. Since we want to add 5, 5 will be broadcasted equivalent to the shape of arr1"
   ]
  },
  {
   "cell_type": "code",
   "execution_count": 363,
   "id": "7cf9a57d-53b6-474a-b84d-b9e4baa72168",
   "metadata": {},
   "outputs": [
    {
     "data": {
      "text/plain": [
       "array([[2, 1, 2],\n",
       "       [1, 2, 2],\n",
       "       [2, 2, 2]])"
      ]
     },
     "execution_count": 363,
     "metadata": {},
     "output_type": "execute_result"
    }
   ],
   "source": [
    "arr1"
   ]
  },
  {
   "cell_type": "code",
   "execution_count": 365,
   "id": "537f4858-fd77-4900-b226-187c653ef7f0",
   "metadata": {},
   "outputs": [],
   "source": [
    "b = np.array([4, 5, 6])"
   ]
  },
  {
   "cell_type": "code",
   "execution_count": 367,
   "id": "fe26c7bf-51b3-4a14-9444-9559ff5a7fd8",
   "metadata": {},
   "outputs": [
    {
     "data": {
      "text/plain": [
       "array([4, 5, 6])"
      ]
     },
     "execution_count": 367,
     "metadata": {},
     "output_type": "execute_result"
    }
   ],
   "source": [
    "b"
   ]
  },
  {
   "cell_type": "code",
   "execution_count": 369,
   "id": "6c333fe4-229a-4a48-9652-38568a85e108",
   "metadata": {},
   "outputs": [
    {
     "data": {
      "text/plain": [
       "array([[2, 1, 2],\n",
       "       [1, 2, 2],\n",
       "       [2, 2, 2]])"
      ]
     },
     "execution_count": 369,
     "metadata": {},
     "output_type": "execute_result"
    }
   ],
   "source": [
    "arr1"
   ]
  },
  {
   "cell_type": "code",
   "execution_count": 371,
   "id": "dbe76c09-9510-4b25-ae09-fce4bce94d04",
   "metadata": {},
   "outputs": [
    {
     "data": {
      "text/plain": [
       "array([[6, 6, 8],\n",
       "       [5, 7, 8],\n",
       "       [6, 7, 8]])"
      ]
     },
     "execution_count": 371,
     "metadata": {},
     "output_type": "execute_result"
    }
   ],
   "source": [
    "#case 2\n",
    "#similar to 2nd case in the image\n",
    "arr1 + b #b is broadcased to the shape of arr1 to get added"
   ]
  },
  {
   "cell_type": "code",
   "execution_count": 381,
   "id": "e9d84fc9-a439-4dd8-876c-f653a38c5823",
   "metadata": {},
   "outputs": [
    {
     "data": {
      "text/plain": [
       "array([[0],\n",
       "       [1],\n",
       "       [2]])"
      ]
     },
     "execution_count": 381,
     "metadata": {},
     "output_type": "execute_result"
    }
   ],
   "source": [
    "p = np.arange(3).reshape((3, 1))\n",
    "p"
   ]
  },
  {
   "cell_type": "code",
   "execution_count": 386,
   "id": "2f017dc2-ccfc-466e-900c-f7f33f2f34a9",
   "metadata": {},
   "outputs": [
    {
     "data": {
      "text/plain": [
       "array([0, 1, 2])"
      ]
     },
     "execution_count": 386,
     "metadata": {},
     "output_type": "execute_result"
    }
   ],
   "source": [
    "q = np.arange(3)\n",
    "q"
   ]
  },
  {
   "cell_type": "code",
   "execution_count": 388,
   "id": "b84b60c1-b55d-4e5c-ac57-9a4be4e066e5",
   "metadata": {},
   "outputs": [
    {
     "data": {
      "text/plain": [
       "array([[0, 1, 2],\n",
       "       [1, 2, 3],\n",
       "       [2, 3, 4]])"
      ]
     },
     "execution_count": 388,
     "metadata": {},
     "output_type": "execute_result"
    }
   ],
   "source": [
    "#case 3\n",
    "#similar to third case in the image\n",
    "p+q"
   ]
  },
  {
   "cell_type": "code",
   "execution_count": 390,
   "id": "66dc9904-23d3-4cdb-a140-5d3dc1211af0",
   "metadata": {},
   "outputs": [
    {
     "data": {
      "text/plain": [
       "array([[2, 1, 2],\n",
       "       [1, 2, 2],\n",
       "       [2, 2, 2]])"
      ]
     },
     "execution_count": 390,
     "metadata": {},
     "output_type": "execute_result"
    }
   ],
   "source": [
    "arr1"
   ]
  },
  {
   "cell_type": "code",
   "execution_count": 392,
   "id": "91dc4142-22e9-4559-b195-31563a878f8d",
   "metadata": {},
   "outputs": [
    {
     "data": {
      "text/plain": [
       "array([1, 2, 3, 4])"
      ]
     },
     "execution_count": 392,
     "metadata": {},
     "output_type": "execute_result"
    }
   ],
   "source": [
    "z = np.array([1, 2, 3, 4])\n",
    "z"
   ]
  },
  {
   "cell_type": "code",
   "execution_count": 394,
   "id": "5ac83f16-7552-40c3-91c0-a2b89b5d9785",
   "metadata": {},
   "outputs": [
    {
     "ename": "ValueError",
     "evalue": "operands could not be broadcast together with shapes (3,3) (4,) ",
     "output_type": "error",
     "traceback": [
      "\u001b[1;31m---------------------------------------------------------------------------\u001b[0m",
      "\u001b[1;31mValueError\u001b[0m                                Traceback (most recent call last)",
      "Cell \u001b[1;32mIn[394], line 1\u001b[0m\n\u001b[1;32m----> 1\u001b[0m arr1\u001b[38;5;241m+\u001b[39mz\n",
      "\u001b[1;31mValueError\u001b[0m: operands could not be broadcast together with shapes (3,3) (4,) "
     ]
    }
   ],
   "source": [
    "#case 4\n",
    "arr1+z"
   ]
  },
  {
   "cell_type": "code",
   "execution_count": 396,
   "id": "0ba3ebff-1193-4772-b638-7103b9e054e3",
   "metadata": {},
   "outputs": [],
   "source": [
    "#miscellaneous functions of n umpy widely used in the industry"
   ]
  },
  {
   "cell_type": "code",
   "execution_count": 404,
   "id": "7fbaf355-a9fe-43ed-b203-cd16dbf77280",
   "metadata": {},
   "outputs": [
    {
     "data": {
      "text/plain": [
       "array([ 9,  8,  0,  6,  4, 15, 16, 23,  3,  8, 23, 21,  5,  0, 21, 23, 24,\n",
       "       22, 24, 22,  8, 12,  1,  1, 18, 21, 14,  7,  8, 15,  3, 24])"
      ]
     },
     "execution_count": 404,
     "metadata": {},
     "output_type": "execute_result"
    }
   ],
   "source": [
    "arr1 = np.random.randint(0, 25, 32)\n",
    "arr1"
   ]
  },
  {
   "cell_type": "code",
   "execution_count": 406,
   "id": "e72025a2-a21e-4fcf-ba88-11f320e43b79",
   "metadata": {},
   "outputs": [
    {
     "data": {
      "text/plain": [
       "array([[23, 18,  8, 10],\n",
       "       [22, 17, 11, 19],\n",
       "       [ 2,  4,  2,  9],\n",
       "       [18, 13,  3,  8],\n",
       "       [ 2, 17, 21,  2],\n",
       "       [17, 12, 12, 12],\n",
       "       [18,  7, 18, 13],\n",
       "       [11,  1, 14, 15]])"
      ]
     },
     "execution_count": 406,
     "metadata": {},
     "output_type": "execute_result"
    }
   ],
   "source": [
    "arr2 = np.random.randint(0, 25, 32).reshape(8, 4)\n",
    "arr2"
   ]
  },
  {
   "cell_type": "code",
   "execution_count": null,
   "id": "1da01cac-7594-41f8-9a9e-3ef47f3a51ef",
   "metadata": {},
   "outputs": [],
   "source": [
    "#unique values in an array"
   ]
  },
  {
   "cell_type": "code",
   "execution_count": 408,
   "id": "5e9e4d3f-7cdf-4bd8-98c4-4cebe87d8613",
   "metadata": {},
   "outputs": [
    {
     "data": {
      "text/plain": [
       "array([ 9,  8,  0,  6,  4, 15, 16, 23,  3,  8, 23, 21,  5,  0, 21, 23, 24,\n",
       "       22, 24, 22,  8, 12,  1,  1, 18, 21, 14,  7,  8, 15,  3, 24])"
      ]
     },
     "execution_count": 408,
     "metadata": {},
     "output_type": "execute_result"
    }
   ],
   "source": [
    "arr1"
   ]
  },
  {
   "cell_type": "code",
   "execution_count": 410,
   "id": "66d14638-645c-49cc-8c53-220ef726ce3b",
   "metadata": {},
   "outputs": [
    {
     "data": {
      "text/plain": [
       "array([ 0,  1,  3,  4,  5,  6,  7,  8,  9, 12, 14, 15, 16, 18, 21, 22, 23,\n",
       "       24])"
      ]
     },
     "execution_count": 410,
     "metadata": {},
     "output_type": "execute_result"
    }
   ],
   "source": [
    "np.unique(arr1) #Find the unique elements of an array."
   ]
  },
  {
   "cell_type": "code",
   "execution_count": 420,
   "id": "216a8ec0-3719-4e88-b383-010a291a1f36",
   "metadata": {},
   "outputs": [],
   "source": [
    "#append in numpy array\n"
   ]
  },
  {
   "cell_type": "code",
   "execution_count": 422,
   "id": "ce50e247-e6ac-4e06-be62-0fcd9120d8f3",
   "metadata": {},
   "outputs": [
    {
     "data": {
      "text/plain": [
       "array([      9,       8,       0,       6,       4,      15,      16,\n",
       "            23,       3,       8,      23,      21,       5,       0,\n",
       "            21,      23,      24,      22,      24,      22,       8,\n",
       "            12,       1,       1,      18,      21,      14,       7,\n",
       "             8,      15,       3,      24, 1000000])"
      ]
     },
     "execution_count": 422,
     "metadata": {},
     "output_type": "execute_result"
    }
   ],
   "source": [
    "np.append(arr1, 1000000) #Append values to the end of an array."
   ]
  },
  {
   "cell_type": "code",
   "execution_count": 425,
   "id": "cb16212f-190f-4af2-ac7e-52fae18a31dd",
   "metadata": {},
   "outputs": [
    {
     "data": {
      "text/plain": [
       "array([[23, 18,  8, 10],\n",
       "       [22, 17, 11, 19],\n",
       "       [ 2,  4,  2,  9],\n",
       "       [18, 13,  3,  8],\n",
       "       [ 2, 17, 21,  2],\n",
       "       [17, 12, 12, 12],\n",
       "       [18,  7, 18, 13],\n",
       "       [11,  1, 14, 15]])"
      ]
     },
     "execution_count": 425,
     "metadata": {},
     "output_type": "execute_result"
    }
   ],
   "source": [
    "arr2"
   ]
  },
  {
   "cell_type": "code",
   "execution_count": 431,
   "id": "88f795ad-e12e-4103-a66e-2a381d47cd99",
   "metadata": {},
   "outputs": [
    {
     "data": {
      "text/plain": [
       "array([[23, 18,  8, 10],\n",
       "       [22, 17, 11, 19],\n",
       "       [ 2,  4,  2,  9],\n",
       "       [18, 13,  3,  8],\n",
       "       [ 2, 17, 21,  2],\n",
       "       [17, 12, 12, 12],\n",
       "       [18,  7, 18, 13],\n",
       "       [11,  1, 14, 15],\n",
       "       [12, 13, 14, 15]])"
      ]
     },
     "execution_count": 431,
     "metadata": {},
     "output_type": "execute_result"
    }
   ],
   "source": [
    "#append the row\n",
    "np.append(arr2,[[12,13,14,15]],axis=0)"
   ]
  },
  {
   "cell_type": "code",
   "execution_count": 447,
   "id": "82aaf397-84b5-4a94-8681-3ea8dfa79b59",
   "metadata": {},
   "outputs": [
    {
     "data": {
      "text/plain": [
       "array([[23, 18,  8, 10],\n",
       "       [22, 17, 11, 19],\n",
       "       [ 2,  4,  2,  9],\n",
       "       [18, 13,  3,  8],\n",
       "       [ 2, 17, 21,  2],\n",
       "       [17, 12, 12, 12],\n",
       "       [18,  7, 18, 13],\n",
       "       [11,  1, 14, 15]])"
      ]
     },
     "execution_count": 447,
     "metadata": {},
     "output_type": "execute_result"
    }
   ],
   "source": [
    "arr2"
   ]
  },
  {
   "cell_type": "code",
   "execution_count": 449,
   "id": "9478c84d-091d-446f-a6f8-d97c69dd8a6a",
   "metadata": {},
   "outputs": [
    {
     "data": {
      "text/plain": [
       "array([[2.30000000e+01, 1.80000000e+01, 8.00000000e+00, 1.00000000e+01,\n",
       "        4.24530152e-01],\n",
       "       [2.20000000e+01, 1.70000000e+01, 1.10000000e+01, 1.90000000e+01,\n",
       "        6.54663398e-02],\n",
       "       [2.00000000e+00, 4.00000000e+00, 2.00000000e+00, 9.00000000e+00,\n",
       "        5.73436769e-01],\n",
       "       [1.80000000e+01, 1.30000000e+01, 3.00000000e+00, 8.00000000e+00,\n",
       "        3.72243760e-01],\n",
       "       [2.00000000e+00, 1.70000000e+01, 2.10000000e+01, 2.00000000e+00,\n",
       "        1.48760056e-01],\n",
       "       [1.70000000e+01, 1.20000000e+01, 1.20000000e+01, 1.20000000e+01,\n",
       "        8.57558403e-01],\n",
       "       [1.80000000e+01, 7.00000000e+00, 1.80000000e+01, 1.30000000e+01,\n",
       "        2.15551008e-02],\n",
       "       [1.10000000e+01, 1.00000000e+00, 1.40000000e+01, 1.50000000e+01,\n",
       "        3.69643941e-01]])"
      ]
     },
     "execution_count": 449,
     "metadata": {},
     "output_type": "execute_result"
    }
   ],
   "source": [
    "#append column wise>> write it correctly\n",
    "\n",
    "#generic way \n",
    "np.append(arr2, np.random.random((arr2.shape[0], 1)), axis=1)"
   ]
  },
  {
   "cell_type": "code",
   "execution_count": 451,
   "id": "c318fa9e-917c-444e-bb14-8ec319c567fe",
   "metadata": {},
   "outputs": [
    {
     "data": {
      "text/plain": [
       "array([[23, 18,  8, 10, 20],\n",
       "       [22, 17, 11, 19,  4],\n",
       "       [ 2,  4,  2,  9,  5],\n",
       "       [18, 13,  3,  8,  6],\n",
       "       [ 2, 17, 21,  2,  8],\n",
       "       [17, 12, 12, 12,  9],\n",
       "       [18,  7, 18, 13,  3],\n",
       "       [11,  1, 14, 15,  7]])"
      ]
     },
     "execution_count": 451,
     "metadata": {},
     "output_type": "execute_result"
    }
   ],
   "source": [
    "np.append(arr2, [[20], [4], [5], [6], [8], [9], [3], [7]], axis=1)"
   ]
  },
  {
   "cell_type": "code",
   "execution_count": 457,
   "id": "370822df-05b6-4973-9355-ca701e817757",
   "metadata": {},
   "outputs": [],
   "source": [
    "#concatenation >> similar to stacking\n"
   ]
  },
  {
   "cell_type": "code",
   "execution_count": 461,
   "id": "b40d7564-2e49-476d-ba33-e7f92d86dce3",
   "metadata": {},
   "outputs": [],
   "source": [
    "a = np.array([[1, 2], [3, 4]])\n",
    "b = np.array([[10, 20], [30, 40]])"
   ]
  },
  {
   "cell_type": "code",
   "execution_count": 463,
   "id": "170b2a2c-29c7-4ef7-b3b5-22b91a286d9f",
   "metadata": {},
   "outputs": [
    {
     "data": {
      "text/plain": [
       "array([[1, 2],\n",
       "       [3, 4]])"
      ]
     },
     "execution_count": 463,
     "metadata": {},
     "output_type": "execute_result"
    }
   ],
   "source": [
    "a"
   ]
  },
  {
   "cell_type": "code",
   "execution_count": 465,
   "id": "6d2c9265-c1f9-4720-be51-0382b06cfcdf",
   "metadata": {},
   "outputs": [
    {
     "data": {
      "text/plain": [
       "array([[10, 20],\n",
       "       [30, 40]])"
      ]
     },
     "execution_count": 465,
     "metadata": {},
     "output_type": "execute_result"
    }
   ],
   "source": [
    "b"
   ]
  },
  {
   "cell_type": "code",
   "execution_count": 467,
   "id": "2ac8cd82-3571-4944-8438-c95a0a6979a9",
   "metadata": {},
   "outputs": [
    {
     "data": {
      "text/plain": [
       "array([[ 1,  2],\n",
       "       [ 3,  4],\n",
       "       [10, 20],\n",
       "       [30, 40]])"
      ]
     },
     "execution_count": 467,
     "metadata": {},
     "output_type": "execute_result"
    }
   ],
   "source": [
    "np.concatenate((a, b), axis=0)"
   ]
  },
  {
   "cell_type": "code",
   "execution_count": 469,
   "id": "33201d58-5691-4071-902b-e83ed8a85089",
   "metadata": {},
   "outputs": [
    {
     "data": {
      "text/plain": [
       "array([[ 1,  2, 10, 20],\n",
       "       [ 3,  4, 30, 40]])"
      ]
     },
     "execution_count": 469,
     "metadata": {},
     "output_type": "execute_result"
    }
   ],
   "source": [
    "np.concatenate((a, b), axis=1)"
   ]
  },
  {
   "cell_type": "code",
   "execution_count": 471,
   "id": "d5a73a69-6f5c-40ba-890a-fae81cd5eac2",
   "metadata": {},
   "outputs": [
    {
     "data": {
      "text/plain": [
       "array([ 9,  8,  0,  6,  4, 15, 16, 23,  3,  8, 23, 21,  5,  0, 21, 23, 24,\n",
       "       22, 24, 22,  8, 12,  1,  1, 18, 21, 14,  7,  8, 15,  3, 24])"
      ]
     },
     "execution_count": 471,
     "metadata": {},
     "output_type": "execute_result"
    }
   ],
   "source": [
    "#sort\n",
    "arr1"
   ]
  },
  {
   "cell_type": "code",
   "execution_count": 473,
   "id": "394f4dc5-7cf6-4556-84f3-0a6818aef079",
   "metadata": {},
   "outputs": [
    {
     "data": {
      "text/plain": [
       "array([ 0,  0,  1,  1,  3,  3,  4,  5,  6,  7,  8,  8,  8,  8,  9, 12, 14,\n",
       "       15, 15, 16, 18, 21, 21, 21, 22, 22, 23, 23, 23, 24, 24, 24])"
      ]
     },
     "execution_count": 473,
     "metadata": {},
     "output_type": "execute_result"
    }
   ],
   "source": [
    "np.sort(arr1) #Return a sorted copy of an array."
   ]
  },
  {
   "cell_type": "code",
   "execution_count": 475,
   "id": "dbdaeb73-50d2-45e1-9325-7e19af24347e",
   "metadata": {},
   "outputs": [
    {
     "data": {
      "text/plain": [
       "array([24, 24, 24, 23, 23, 23, 22, 22, 21, 21, 21, 18, 16, 15, 15, 14, 12,\n",
       "        9,  8,  8,  8,  8,  7,  6,  5,  4,  3,  3,  1,  1,  0,  0])"
      ]
     },
     "execution_count": 475,
     "metadata": {},
     "output_type": "execute_result"
    }
   ],
   "source": [
    "np.sort(arr1)[::-1] #reversing the array as reverse parameter here is not there in sort"
   ]
  },
  {
   "cell_type": "code",
   "execution_count": 477,
   "id": "65cf7074-5c18-4ab5-9318-780da4db154e",
   "metadata": {},
   "outputs": [
    {
     "data": {
      "text/plain": [
       "array([ 9,  8,  0,  6,  4, 15, 16, 23,  3,  8, 23, 21,  5,  0, 21, 23, 24,\n",
       "       22, 24, 22,  8, 12,  1,  1, 18, 21, 14,  7,  8, 15,  3, 24])"
      ]
     },
     "execution_count": 477,
     "metadata": {},
     "output_type": "execute_result"
    }
   ],
   "source": [
    "#argmax, argmin >> returns the index of maximum and minimum elements\n",
    "arr1"
   ]
  },
  {
   "cell_type": "code",
   "execution_count": 479,
   "id": "3f9bf8db-67d5-453b-a20e-79c3f5faabc9",
   "metadata": {},
   "outputs": [
    {
     "data": {
      "text/plain": [
       "16"
      ]
     },
     "execution_count": 479,
     "metadata": {},
     "output_type": "execute_result"
    }
   ],
   "source": [
    "np.argmax(arr1) #24 is the maximum value at 16th index"
   ]
  },
  {
   "cell_type": "code",
   "execution_count": 481,
   "id": "96d8a338-dd17-49e8-bf42-ce4bc751d8b0",
   "metadata": {},
   "outputs": [
    {
     "data": {
      "text/plain": [
       "2"
      ]
     },
     "execution_count": 481,
     "metadata": {},
     "output_type": "execute_result"
    }
   ],
   "source": [
    "np.argmin(arr1) #0 at 2nd index"
   ]
  },
  {
   "cell_type": "code",
   "execution_count": 487,
   "id": "00e46cc3-7266-47bf-acae-19ec2fbe91d4",
   "metadata": {},
   "outputs": [
    {
     "data": {
      "text/plain": [
       "array([0, 0, 4, 1], dtype=int64)"
      ]
     },
     "execution_count": 487,
     "metadata": {},
     "output_type": "execute_result"
    }
   ],
   "source": [
    "#argmax and argmin can also be used in 2d array with axis=0 and axis=1\n",
    "\n",
    "np.argmax(arr2, axis=0) #column wise max value index, i.e 23 in first column at 0th index"
   ]
  },
  {
   "cell_type": "code",
   "execution_count": 489,
   "id": "90ae3c03-378a-46eb-8040-136333a82c44",
   "metadata": {},
   "outputs": [
    {
     "data": {
      "text/plain": [
       "array([[23, 18,  8, 10],\n",
       "       [22, 17, 11, 19],\n",
       "       [ 2,  4,  2,  9],\n",
       "       [18, 13,  3,  8],\n",
       "       [ 2, 17, 21,  2],\n",
       "       [17, 12, 12, 12],\n",
       "       [18,  7, 18, 13],\n",
       "       [11,  1, 14, 15]])"
      ]
     },
     "execution_count": 489,
     "metadata": {},
     "output_type": "execute_result"
    }
   ],
   "source": [
    "arr2"
   ]
  },
  {
   "cell_type": "code",
   "execution_count": 491,
   "id": "2d2594ee-23d8-4289-bc41-3bc9e39d6a97",
   "metadata": {},
   "outputs": [
    {
     "data": {
      "text/plain": [
       "array([0, 0, 3, 0, 2, 0, 0, 3], dtype=int64)"
      ]
     },
     "execution_count": 491,
     "metadata": {},
     "output_type": "execute_result"
    }
   ],
   "source": [
    "np.argmax(arr2, axis=1) #row wise index of minimum value"
   ]
  },
  {
   "cell_type": "code",
   "execution_count": 495,
   "id": "3184fe74-939f-4c62-8374-dee33672e460",
   "metadata": {},
   "outputs": [],
   "source": [
    "#where >> it finds the indices where the condition is met"
   ]
  },
  {
   "cell_type": "code",
   "execution_count": 500,
   "id": "8207ae62-f32a-4d49-8e18-d8aa224ade3e",
   "metadata": {},
   "outputs": [
    {
     "data": {
      "text/plain": [
       "(array([ 0,  1,  5,  6,  7,  9, 10, 11, 14, 15, 16, 17, 18, 19, 20, 21, 24,\n",
       "        25, 26, 27, 28, 29, 31], dtype=int64),)"
      ]
     },
     "execution_count": 500,
     "metadata": {},
     "output_type": "execute_result"
    }
   ],
   "source": [
    "np.where(arr1 > 6) #result is inices"
   ]
  },
  {
   "cell_type": "code",
   "execution_count": 504,
   "id": "07622275-dbdd-4dc9-bc7d-97b67e668db4",
   "metadata": {},
   "outputs": [
    {
     "data": {
      "text/plain": [
       "array([-100, -100,    0,    6,    4, -100, -100, -100,    3, -100, -100,\n",
       "       -100,    5,    0, -100, -100, -100, -100, -100, -100, -100, -100,\n",
       "          1,    1, -100, -100, -100, -100, -100, -100,    3, -100])"
      ]
     },
     "execution_count": 504,
     "metadata": {},
     "output_type": "execute_result"
    }
   ],
   "source": [
    "#replace some value with othe rvalue\n",
    "\n",
    "np.where(arr1 > 6, -100, arr1)"
   ]
  },
  {
   "cell_type": "code",
   "execution_count": 506,
   "id": "158303a3-d80c-41f8-8d24-d080640d1135",
   "metadata": {},
   "outputs": [
    {
     "data": {
      "text/plain": [
       "array([  9, 100, 100, 100, 100,  15, 100,  23,   3, 100,  23,  21,   5,\n",
       "       100,  21,  23, 100, 100, 100, 100, 100, 100,   1,   1, 100,  21,\n",
       "       100,   7, 100,  15,   3, 100])"
      ]
     },
     "execution_count": 506,
     "metadata": {},
     "output_type": "execute_result"
    }
   ],
   "source": [
    "np.where(arr1%2 ==0, 100, arr1)"
   ]
  },
  {
   "cell_type": "code",
   "execution_count": 508,
   "id": "cc091633-5a82-416c-b005-e66a89f1c5fc",
   "metadata": {},
   "outputs": [
    {
     "data": {
      "text/plain": [
       "array([  9,  17,  17,  23,  27,  42,  58,  81,  84,  92, 115, 136, 141,\n",
       "       141, 162, 185, 209, 231, 255, 277, 285, 297, 298, 299, 317, 338,\n",
       "       352, 359, 367, 382, 385, 409])"
      ]
     },
     "execution_count": 508,
     "metadata": {},
     "output_type": "execute_result"
    }
   ],
   "source": [
    "#cumsum>> cumalitive sum\n",
    "np.cumsum(arr1)"
   ]
  },
  {
   "cell_type": "code",
   "execution_count": 510,
   "id": "4c22541e-8060-43e3-8387-8dcd7f3bc407",
   "metadata": {},
   "outputs": [
    {
     "data": {
      "text/plain": [
       "array([ 9,  8,  0,  6,  4, 15, 16, 23,  3,  8, 23, 21,  5,  0, 21, 23, 24,\n",
       "       22, 24, 22,  8, 12,  1,  1, 18, 21, 14,  7,  8, 15,  3, 24])"
      ]
     },
     "execution_count": 510,
     "metadata": {},
     "output_type": "execute_result"
    }
   ],
   "source": [
    "arr1"
   ]
  },
  {
   "cell_type": "code",
   "execution_count": 512,
   "id": "b2aaf9d6-c055-447e-b81b-2d172418567c",
   "metadata": {},
   "outputs": [
    {
     "data": {
      "text/plain": [
       "array([[ 23,  18,   8,  10],\n",
       "       [ 45,  35,  19,  29],\n",
       "       [ 47,  39,  21,  38],\n",
       "       [ 65,  52,  24,  46],\n",
       "       [ 67,  69,  45,  48],\n",
       "       [ 84,  81,  57,  60],\n",
       "       [102,  88,  75,  73],\n",
       "       [113,  89,  89,  88]])"
      ]
     },
     "execution_count": 512,
     "metadata": {},
     "output_type": "execute_result"
    }
   ],
   "source": [
    "#cumsum can also be used with axis\n",
    "np.cumsum(arr2, axis=0)"
   ]
  },
  {
   "cell_type": "code",
   "execution_count": 514,
   "id": "724c919a-f5e0-447f-b20c-93a67f359d9d",
   "metadata": {},
   "outputs": [
    {
     "data": {
      "text/plain": [
       "array([ 9, 72,  0,  0,  0,  0,  0,  0,  0,  0,  0,  0,  0,  0,  0,  0,  0,\n",
       "        0,  0,  0,  0,  0,  0,  0,  0,  0,  0,  0,  0,  0,  0,  0])"
      ]
     },
     "execution_count": 514,
     "metadata": {},
     "output_type": "execute_result"
    }
   ],
   "source": [
    "#cumprod\n",
    "np.cumprod(arr1)"
   ]
  },
  {
   "cell_type": "code",
   "execution_count": 516,
   "id": "b8703146-2840-47b6-aeab-6674e1cad291",
   "metadata": {},
   "outputs": [
    {
     "data": {
      "text/plain": [
       "array([ 9,  8,  0,  6,  4, 15, 16, 23,  3,  8, 23, 21,  5,  0, 21, 23, 24,\n",
       "       22, 24, 22,  8, 12,  1,  1, 18, 21, 14,  7,  8, 15,  3, 24])"
      ]
     },
     "execution_count": 516,
     "metadata": {},
     "output_type": "execute_result"
    }
   ],
   "source": [
    "#flip>> reverse\n",
    "\n",
    "arr1"
   ]
  },
  {
   "cell_type": "code",
   "execution_count": 518,
   "id": "e1006686-3778-4cc2-9523-d5a9181563bb",
   "metadata": {},
   "outputs": [
    {
     "data": {
      "text/plain": [
       "array([24,  3, 15,  8,  7, 14, 21, 18,  1,  1, 12,  8, 22, 24, 22, 24, 23,\n",
       "       21,  0,  5, 21, 23,  8,  3, 23, 16, 15,  4,  6,  0,  8,  9])"
      ]
     },
     "execution_count": 518,
     "metadata": {},
     "output_type": "execute_result"
    }
   ],
   "source": [
    "np.flip(arr1)"
   ]
  },
  {
   "cell_type": "code",
   "execution_count": 524,
   "id": "b201a846-bed3-4bbd-abdf-c1eb1d1dbfea",
   "metadata": {},
   "outputs": [
    {
     "data": {
      "text/plain": [
       "21.25"
      ]
     },
     "execution_count": 524,
     "metadata": {},
     "output_type": "execute_result"
    }
   ],
   "source": [
    "#np.percentile\n",
    "np.percentile(arr1, 75)"
   ]
  },
  {
   "cell_type": "code",
   "execution_count": 528,
   "id": "e4a227af-8b24-45ba-9c36-8969b2be55ae",
   "metadata": {},
   "outputs": [
    {
     "data": {
      "text/plain": [
       "1.2000000000000002"
      ]
     },
     "execution_count": 528,
     "metadata": {},
     "output_type": "execute_result"
    }
   ],
   "source": [
    "#quantile\n",
    "np.quantile(arr1, 0.1)"
   ]
  },
  {
   "cell_type": "code",
   "execution_count": 530,
   "id": "069b559c-4260-4691-8acb-e49757389c3b",
   "metadata": {},
   "outputs": [
    {
     "data": {
      "text/plain": [
       "array([1., 2., 0., 3., 4.])"
      ]
     },
     "execution_count": 530,
     "metadata": {},
     "output_type": "execute_result"
    }
   ],
   "source": [
    "#np.nan_to_num() >> replace the nan value with 0\n",
    "np.nan_to_num([1, 2, np.nan, 3, 4])"
   ]
  },
  {
   "cell_type": "code",
   "execution_count": 532,
   "id": "dd6a82e9-b18a-4ba3-b39b-1c896eca4dbe",
   "metadata": {},
   "outputs": [
    {
     "data": {
      "text/plain": [
       "2.0"
      ]
     },
     "execution_count": 532,
     "metadata": {},
     "output_type": "execute_result"
    }
   ],
   "source": [
    "#np.nanmean() >> replace the missing value with mean\n",
    "np.nanmean([1, 2, 3, np.nan])"
   ]
  },
  {
   "cell_type": "code",
   "execution_count": 534,
   "id": "6a6cb2f8-56af-49e5-b52d-3eb019f27a03",
   "metadata": {},
   "outputs": [
    {
     "data": {
      "text/plain": [
       "True"
      ]
     },
     "execution_count": 534,
     "metadata": {},
     "output_type": "execute_result"
    }
   ],
   "source": [
    "#np.array_equal >> validate if two arrays are same\n",
    "np.array_equal([1, 2], [1, 2])"
   ]
  },
  {
   "cell_type": "code",
   "execution_count": 536,
   "id": "dc455962-4714-4187-ab1c-905ac9ef1a54",
   "metadata": {},
   "outputs": [
    {
     "data": {
      "text/plain": [
       "array([0, 0, 1, 1])"
      ]
     },
     "execution_count": 536,
     "metadata": {},
     "output_type": "execute_result"
    }
   ],
   "source": [
    "#np.isin() >> check if element exist in array\n",
    "l = [1, 0, 2, 31]\n",
    "\n",
    "arr1[np.isin(arr1,l)]"
   ]
  },
  {
   "cell_type": "code",
   "execution_count": 538,
   "id": "95d47c55-7bc6-430c-8500-75ff469947b2",
   "metadata": {},
   "outputs": [
    {
     "data": {
      "text/plain": [
       "(array([15,  6, 11], dtype=int64), array([ 0, 10, 20, 30]))"
      ]
     },
     "execution_count": 538,
     "metadata": {},
     "output_type": "execute_result"
    }
   ],
   "source": [
    "#histogram\n",
    "\n",
    "np.histogram(arr1,bins=[0,10, 20, 30])"
   ]
  },
  {
   "cell_type": "code",
   "execution_count": 540,
   "id": "bdd7bf69-0a24-40da-863a-dad700a73f8f",
   "metadata": {},
   "outputs": [
    {
     "name": "stdout",
     "output_type": "stream",
     "text": [
      "[[1.         0.98465565]\n",
      " [0.98465565 1.        ]]\n"
     ]
    }
   ],
   "source": [
    "#np.corrcoef\n",
    "expenses = np.array([1500, 2000, 1800, 2500, 3000])\n",
    "family_members = np.array([2, 4, 3, 5, 6])\n",
    "\n",
    "correlation = np.corrcoef(expenses, family_members)\n",
    "print(correlation)\n"
   ]
  },
  {
   "cell_type": "code",
   "execution_count": 542,
   "id": "9429d493-db54-4575-be46-244010a8b12c",
   "metadata": {},
   "outputs": [],
   "source": [
    "#np.put >> Replaces specified elements of an array with given values.\n",
    "np.put(arr1, [10, 12], [10000, 100000])"
   ]
  },
  {
   "cell_type": "code",
   "execution_count": 544,
   "id": "a56fd270-f8bc-4a8c-961c-c0952aa46c4d",
   "metadata": {},
   "outputs": [
    {
     "data": {
      "text/plain": [
       "array([     9,      8,      0,      6,      4,     15,     16,     23,\n",
       "            3,      8,  10000,     21, 100000,      0,     21,     23,\n",
       "           24,     22,     24,     22,      8,     12,      1,      1,\n",
       "           18,     21,     14,      7,      8,     15,      3,     24])"
      ]
     },
     "execution_count": 544,
     "metadata": {},
     "output_type": "execute_result"
    }
   ],
   "source": [
    "arr1"
   ]
  },
  {
   "cell_type": "code",
   "execution_count": 546,
   "id": "1c8ec5aa-7712-4403-be5a-6002aacb9e6c",
   "metadata": {},
   "outputs": [
    {
     "data": {
      "text/plain": [
       "True"
      ]
     },
     "execution_count": 546,
     "metadata": {},
     "output_type": "execute_result"
    }
   ],
   "source": [
    "#np.any>> check anomalies in data\n",
    "np.any([1, -1, 0]) #any negative no"
   ]
  },
  {
   "cell_type": "code",
   "execution_count": 550,
   "id": "e0c8fe0c-e33f-47fa-96b0-bae602647031",
   "metadata": {},
   "outputs": [
    {
     "data": {
      "text/plain": [
       "True"
      ]
     },
     "execution_count": 550,
     "metadata": {},
     "output_type": "execute_result"
    }
   ],
   "source": [
    "#np.all>> check if all conditions are met\n",
    "all_positive = np.all([1 > 0, 2 > 0])\n",
    "all_positive"
   ]
  },
  {
   "cell_type": "code",
   "execution_count": 552,
   "id": "bac9c927-dba9-453c-b924-0a6ba394ce31",
   "metadata": {},
   "outputs": [
    {
     "data": {
      "text/plain": [
       "array([10, 20, 30])"
      ]
     },
     "execution_count": 552,
     "metadata": {},
     "output_type": "execute_result"
    }
   ],
   "source": [
    "#Calculate absolute differences.\n",
    "\n",
    "differences = np.abs([-10, 20, -30])\n",
    "differences\n"
   ]
  },
  {
   "cell_type": "code",
   "execution_count": 554,
   "id": "3c8fa36d-f65f-42b8-8765-6df5820023e8",
   "metadata": {},
   "outputs": [
    {
     "data": {
      "text/plain": [
       "array([     6,      4,     15,     16,     23,      3,      8,  10000,\n",
       "           21, 100000,      0,     21,     23,     24,     22,     24,\n",
       "           22,      8,     12,      1,      1,     18,     21,     14,\n",
       "            7,      8,     15,      3,     24])"
      ]
     },
     "execution_count": 554,
     "metadata": {},
     "output_type": "execute_result"
    }
   ],
   "source": [
    "#np.delete>> deletes subarray\n",
    "np.delete(arr1, [0,1, 2])"
   ]
  },
  {
   "cell_type": "code",
   "execution_count": 556,
   "id": "fbea8822-05a8-4594-955b-5ba837092883",
   "metadata": {},
   "outputs": [
    {
     "data": {
      "text/plain": [
       "array([10, 10, 10, 10, 10, 15, 16, 23, 10, 10, 30, 21, 30, 10, 21, 23, 24,\n",
       "       22, 24, 22, 10, 12, 10, 10, 18, 21, 14, 10, 10, 15, 10, 24])"
      ]
     },
     "execution_count": 556,
     "metadata": {},
     "output_type": "execute_result"
    }
   ],
   "source": [
    "#np.clip>> Clip (limit) the values in an array.\n",
    "np.clip(arr1, a_min = 10, a_max=30)"
   ]
  },
  {
   "cell_type": "code",
   "execution_count": 558,
   "id": "d47e0c42-1c39-4364-8f7e-c97972b30c61",
   "metadata": {},
   "outputs": [
    {
     "name": "stdout",
     "output_type": "stream",
     "text": [
      "Uniform Random Numbers: [0.16528788 0.23728201 0.37525849 0.39945445 0.94994284]\n",
      "Probabilities: [5.86899853e-02 9.69299195e-01 5.24078807e-01 4.72209962e-01\n",
      " 3.61180349e-01 9.30275969e-01 8.02977216e-01 1.74719275e-04\n",
      " 8.31584993e-01 4.62989344e-01]\n"
     ]
    }
   ],
   "source": [
    "# np.uniform()\n",
    "# Generates random numbers uniformly distributed between a specified range.\n",
    "\n",
    "# Generate 5 random numbers between 0 and 1\n",
    "uniform_random = np.random.uniform(0, 1, 5)\n",
    "print(\"Uniform Random Numbers:\", uniform_random)\n",
    "\n",
    "# Use case: Simulate random probabilities\n",
    "probabilities = np.random.uniform(0, 1, 10)\n",
    "print(\"Probabilities:\", probabilities)"
   ]
  },
  {
   "cell_type": "code",
   "execution_count": 560,
   "id": "316f0e3a-6f57-4834-aa3a-42058a56e515",
   "metadata": {},
   "outputs": [
    {
     "name": "stdout",
     "output_type": "stream",
     "text": [
      "Count of Non-Zero Elements: 4\n"
     ]
    }
   ],
   "source": [
    "#.count_nonzero()\n",
    "arr = np.array([0, 1, 2, 0, 3, 4])\n",
    "\n",
    "# Count non-zero elements\n",
    "non_zero_count = np.count_nonzero(arr)\n",
    "print(\"Count of Non-Zero Elements:\", non_zero_count)"
   ]
  },
  {
   "cell_type": "code",
   "execution_count": 562,
   "id": "716956f7-625c-4e29-bc3a-5d36c18a2a64",
   "metadata": {},
   "outputs": [
    {
     "name": "stdout",
     "output_type": "stream",
     "text": [
      "Tiled Array: [1 2 3 1 2 3 1 2 3]\n",
      "Tiled 2D Array:\n",
      " [[1 2 3]\n",
      " [1 2 3]\n",
      " [1 2 3]]\n"
     ]
    }
   ],
   "source": [
    "#tile()\n",
    "#Repeats an array along a specified axis.\n",
    "\n",
    "# Original array\n",
    "arr = np.array([1, 2, 3])\n",
    "\n",
    "# Tile the array 3 times\n",
    "tiled_array = np.tile(arr, 3)\n",
    "print(\"Tiled Array:\", tiled_array)\n",
    "\n",
    "# 2D example: Repeat the array as rows\n",
    "tiled_2d = np.tile(arr, (3, 1))\n",
    "print(\"Tiled 2D Array:\\n\", tiled_2d)\n"
   ]
  },
  {
   "cell_type": "code",
   "execution_count": 564,
   "id": "6d719d0a-846c-4f5e-8a3d-790bceedb7ed",
   "metadata": {},
   "outputs": [
    {
     "name": "stdout",
     "output_type": "stream",
     "text": [
      "arr1 equals arr2: True\n",
      "arr1 equals arr3: False\n"
     ]
    }
   ],
   "source": [
    "# array_equal()\n",
    "# Checks if two arrays are equal element-wise.\n",
    "\n",
    "arr1 = np.array([1, 2, 3])\n",
    "arr2 = np.array([1, 2, 3])\n",
    "arr3 = np.array([1, 2, 4])\n",
    "\n",
    "# Compare arrays\n",
    "print(\"arr1 equals arr2:\", np.array_equal(arr1, arr2))  # True\n",
    "print(\"arr1 equals arr3:\", np.array_equal(arr1, arr3))  # False"
   ]
  },
  {
   "cell_type": "code",
   "execution_count": 568,
   "id": "90929b04-3eed-4342-ab69-2125878c2747",
   "metadata": {},
   "outputs": [
    {
     "name": "stdout",
     "output_type": "stream",
     "text": [
      "Are the arrays approximately equal?: True\n",
      "Are arr1 and arr3 approximately equal?: False\n"
     ]
    }
   ],
   "source": [
    "# allclose()\n",
    "# Checks if two arrays are approximately equal, considering numerical tolerance.\n",
    "\n",
    "# Define two arrays\n",
    "arr1 = np.array([1.00001, 2.00001, 3.00001])\n",
    "arr2 = np.array([1.00002, 2.00002, 3.00002])\n",
    "\n",
    "# Compare with tolerance\n",
    "are_close = np.allclose(arr1, arr2, atol=0.001)\n",
    "print(\"Are the arrays approximately equal?:\", are_close)\n",
    "\n",
    "# Arrays with larger difference\n",
    "arr3 = np.array([1.01, 2.01, 3.01])\n",
    "print(\"Are arr1 and arr3 approximately equal?:\", np.allclose(arr1, arr3, atol=1e-4))"
   ]
  },
  {
   "cell_type": "code",
   "execution_count": 572,
   "id": "d84a3364-8cf5-45a9-baa1-b82fbbb6d86f",
   "metadata": {},
   "outputs": [
    {
     "data": {
      "text/plain": [
       "3"
      ]
     },
     "execution_count": 572,
     "metadata": {},
     "output_type": "execute_result"
    }
   ],
   "source": [
    "#searchsorted\n",
    "np.searchsorted(arr1, 170) #Find indices where elements should be inserted to maintain order."
   ]
  },
  {
   "cell_type": "code",
   "execution_count": 574,
   "id": "8b73ce97-df38-4817-8022-cfc4553de479",
   "metadata": {},
   "outputs": [
    {
     "data": {
      "text/plain": [
       "array([1.00001, 2.00001, 3.00001])"
      ]
     },
     "execution_count": 574,
     "metadata": {},
     "output_type": "execute_result"
    }
   ],
   "source": [
    "arr1"
   ]
  },
  {
   "cell_type": "code",
   "execution_count": 578,
   "id": "25c705d5-a5eb-439f-9373-ae1f2c4cf851",
   "metadata": {},
   "outputs": [
    {
     "data": {
      "text/plain": [
       "array([6.94871721e+244, 2.80056832e-032, 2.80056832e-032])"
      ]
     },
     "execution_count": 578,
     "metadata": {},
     "output_type": "execute_result"
    }
   ],
   "source": [
    "#byteawap\n",
    "arr1.byteswap()"
   ]
  },
  {
   "cell_type": "code",
   "execution_count": 580,
   "id": "1c014695-09e3-460e-8fe9-623af37eb4f9",
   "metadata": {},
   "outputs": [],
   "source": [
    "#matrix and linear algebra"
   ]
  },
  {
   "cell_type": "code",
   "execution_count": 585,
   "id": "4dea71db-89de-4b1c-a24d-9da366d38035",
   "metadata": {},
   "outputs": [],
   "source": [
    "import numpy.matlib as nm"
   ]
  },
  {
   "cell_type": "code",
   "execution_count": 587,
   "id": "bd546a59-8623-4380-a18b-94deac19b519",
   "metadata": {},
   "outputs": [
    {
     "data": {
      "text/plain": [
       "matrix([[0., 0., 0., 0., 0.]])"
      ]
     },
     "execution_count": 587,
     "metadata": {},
     "output_type": "execute_result"
    }
   ],
   "source": [
    "nm.zeros(5)"
   ]
  },
  {
   "cell_type": "code",
   "execution_count": 589,
   "id": "005bfb5c-32f5-4723-b0c4-3bb2dafd107e",
   "metadata": {},
   "outputs": [
    {
     "data": {
      "text/plain": [
       "matrix([[1., 1., 1., 1.],\n",
       "        [1., 1., 1., 1.],\n",
       "        [1., 1., 1., 1.]])"
      ]
     },
     "execution_count": 589,
     "metadata": {},
     "output_type": "execute_result"
    }
   ],
   "source": [
    "nm.ones((3, 4))"
   ]
  },
  {
   "cell_type": "code",
   "execution_count": 591,
   "id": "6fa522e2-6b4c-49aa-aaad-e5f256e8a111",
   "metadata": {},
   "outputs": [],
   "source": [
    "#numpy linear algebra\n",
    "\n",
    "arr1 = np.random.randint(1, 10, (3, 3))\n",
    "arr2 = np.random.randint(1, 10, (3, 3))"
   ]
  },
  {
   "cell_type": "code",
   "execution_count": 593,
   "id": "65b6d89c-c622-432f-b75c-972e1576f209",
   "metadata": {},
   "outputs": [
    {
     "data": {
      "text/plain": [
       "array([[7, 9, 9],\n",
       "       [1, 5, 2],\n",
       "       [6, 3, 1]])"
      ]
     },
     "execution_count": 593,
     "metadata": {},
     "output_type": "execute_result"
    }
   ],
   "source": [
    "arr1\n"
   ]
  },
  {
   "cell_type": "code",
   "execution_count": 595,
   "id": "85126b9e-1380-4fcf-97d8-b344acd5209d",
   "metadata": {},
   "outputs": [
    {
     "data": {
      "text/plain": [
       "array([[1, 9, 4],\n",
       "       [4, 9, 7],\n",
       "       [6, 8, 1]])"
      ]
     },
     "execution_count": 595,
     "metadata": {},
     "output_type": "execute_result"
    }
   ],
   "source": [
    "arr2"
   ]
  },
  {
   "cell_type": "code",
   "execution_count": 597,
   "id": "63c315c6-7e8f-4e3a-b11e-84cbae1d8c58",
   "metadata": {},
   "outputs": [
    {
     "data": {
      "text/plain": [
       "array([[ 97, 216, 100],\n",
       "       [ 33,  70,  41],\n",
       "       [ 24,  89,  46]])"
      ]
     },
     "execution_count": 597,
     "metadata": {},
     "output_type": "execute_result"
    }
   ],
   "source": [
    "arr1 @ arr2"
   ]
  },
  {
   "cell_type": "code",
   "execution_count": 613,
   "id": "22b7a1b5-1f05-4ad3-8e35-290bb932be1a",
   "metadata": {},
   "outputs": [
    {
     "data": {
      "text/plain": [
       "array([[ 97, 216, 100],\n",
       "       [ 33,  70,  41],\n",
       "       [ 24,  89,  46]])"
      ]
     },
     "execution_count": 613,
     "metadata": {},
     "output_type": "execute_result"
    }
   ],
   "source": [
    "np.dot(arr1, arr2)"
   ]
  },
  {
   "cell_type": "code",
   "execution_count": 599,
   "id": "edcd2b11-6858-415e-95a0-73e6c1828eb2",
   "metadata": {},
   "outputs": [
    {
     "data": {
      "text/plain": [
       "-151.0"
      ]
     },
     "execution_count": 599,
     "metadata": {},
     "output_type": "execute_result"
    }
   ],
   "source": [
    "np.linalg.det(arr1)"
   ]
  },
  {
   "cell_type": "code",
   "execution_count": 601,
   "id": "9f4a17b2-9b94-45b7-b023-f6253cb0b7f5",
   "metadata": {},
   "outputs": [
    {
     "data": {
      "text/plain": [
       "array([[ 0.00662252, -0.1192053 ,  0.17880795],\n",
       "       [-0.07284768,  0.31125828,  0.03311258],\n",
       "       [ 0.17880795, -0.21854305, -0.17218543]])"
      ]
     },
     "execution_count": 601,
     "metadata": {},
     "output_type": "execute_result"
    }
   ],
   "source": [
    "np.linalg.inv(arr1)"
   ]
  },
  {
   "cell_type": "code",
   "execution_count": 603,
   "id": "6ee7b993-782a-4fe9-a393-b8878b76257e",
   "metadata": {},
   "outputs": [],
   "source": [
    "a = np.array([[7, 5.3, -3], [3, -5, 2], [5, 3, -7]])"
   ]
  },
  {
   "cell_type": "code",
   "execution_count": 605,
   "id": "3a85e393-d99e-4575-9960-7553b5960589",
   "metadata": {},
   "outputs": [
    {
     "data": {
      "text/plain": [
       "array([[ 7. ,  5.3, -3. ],\n",
       "       [ 3. , -5. ,  2. ],\n",
       "       [ 5. ,  3. , -7. ]])"
      ]
     },
     "execution_count": 605,
     "metadata": {},
     "output_type": "execute_result"
    }
   ],
   "source": [
    "a"
   ]
  },
  {
   "cell_type": "code",
   "execution_count": 607,
   "id": "fb715ca4-7a83-438e-808a-a8c450face19",
   "metadata": {},
   "outputs": [],
   "source": [
    "b = np.array([16, 8, 0])"
   ]
  },
  {
   "cell_type": "code",
   "execution_count": 609,
   "id": "32d60b24-7adc-4d6a-8a10-1ff92149bc20",
   "metadata": {},
   "outputs": [
    {
     "data": {
      "text/plain": [
       "array([16,  8,  0])"
      ]
     },
     "execution_count": 609,
     "metadata": {},
     "output_type": "execute_result"
    }
   ],
   "source": [
    "b"
   ]
  },
  {
   "cell_type": "code",
   "execution_count": 611,
   "id": "8388f4e0-b4f4-4389-9e16-a7d283520f58",
   "metadata": {},
   "outputs": [
    {
     "data": {
      "text/plain": [
       "array([2.59630607, 0.84432718, 2.21635884])"
      ]
     },
     "execution_count": 611,
     "metadata": {},
     "output_type": "execute_result"
    }
   ],
   "source": [
    "np.linalg.solve(a, b)"
   ]
  },
  {
   "cell_type": "code",
   "execution_count": 615,
   "id": "e8bf9e03-9243-4955-8efa-ff06815e2375",
   "metadata": {},
   "outputs": [
    {
     "name": "stdout",
     "output_type": "stream",
     "text": [
      "Eigenvalues: [3. 2.]\n",
      "Eigenvectors:\n",
      " [[0.89442719 0.70710678]\n",
      " [0.4472136  0.70710678]]\n"
     ]
    }
   ],
   "source": [
    "#Eigenvalues and Eigenvectors using numpy.linalg.eig()\n",
    "#Find the eigenvalues and eigenvectors of a square matrix.\n",
    "# Define a square matrix\n",
    "matrix = np.array([[4, -2], [1, 1]])\n",
    "\n",
    "# Calculate eigenvalues and eigenvectors\n",
    "eigenvalues, eigenvectors = np.linalg.eig(matrix)\n",
    "print(\"Eigenvalues:\", eigenvalues)\n",
    "print(\"Eigenvectors:\\n\", eigenvectors)\n",
    "\n",
    "#Use Case: Used in PCA and dimensionality reduction techniques.\n"
   ]
  },
  {
   "cell_type": "code",
   "execution_count": 617,
   "id": "fa0395b8-821b-4e41-a7a2-562e4ee27ea5",
   "metadata": {},
   "outputs": [
    {
     "name": "stdout",
     "output_type": "stream",
     "text": [
      "Euclidean Norm: 5.0\n"
     ]
    }
   ],
   "source": [
    "#Norm of a Vector using numpy.linalg.norm()\n",
    "vector = np.array([3, 4])\n",
    "\n",
    "# Calculate the norm\n",
    "norm = np.linalg.norm(vector)\n",
    "print(\"Euclidean Norm:\", norm)"
   ]
  },
  {
   "cell_type": "code",
   "execution_count": 619,
   "id": "0154c662-67d0-413b-9870-62a98b2a4358",
   "metadata": {},
   "outputs": [
    {
     "name": "stdout",
     "output_type": "stream",
     "text": [
      "U:\n",
      " [[-0.2298477   0.88346102  0.40824829]\n",
      " [-0.52474482  0.24078249 -0.81649658]\n",
      " [-0.81964194 -0.40189603  0.40824829]]\n",
      "Singular Values (S): [9.52551809 0.51430058]\n",
      "V:\n",
      " [[-0.61962948 -0.78489445]\n",
      " [-0.78489445  0.61962948]]\n"
     ]
    }
   ],
   "source": [
    "#Singular Value Decomposition (SVD) using numpy.linalg.svd()\n",
    "# Define a matrix\n",
    "matrix = np.array([[1, 2], [3, 4], [5, 6]])\n",
    "\n",
    "# Perform SVD\n",
    "U, S, V = np.linalg.svd(matrix)\n",
    "print(\"U:\\n\", U)\n",
    "print(\"Singular Values (S):\", S)\n",
    "print(\"V:\\n\", V)\n"
   ]
  },
  {
   "cell_type": "code",
   "execution_count": 621,
   "id": "f5ddeff9-2fc8-41cf-ad26-ac3a1bff0fc7",
   "metadata": {},
   "outputs": [
    {
     "name": "stdout",
     "output_type": "stream",
     "text": [
      "Cholesky Decomposition (L):\n",
      " [[2.         0.        ]\n",
      " [1.         1.41421356]]\n"
     ]
    }
   ],
   "source": [
    "# Lower triangular matrix L\n",
    "\n",
    "# Define a positive-definite matrix\n",
    "matrix = np.array([[4, 2], [2, 3]])\n",
    "\n",
    "# Perform Cholesky decomposition\n",
    "L = np.linalg.cholesky(matrix)\n",
    "print(\"Cholesky Decomposition (L):\\n\", L)"
   ]
  },
  {
   "cell_type": "code",
   "execution_count": 623,
   "id": "3f94634f-bd04-4df3-8a90-03721fa4c0f4",
   "metadata": {},
   "outputs": [
    {
     "data": {
      "text/plain": [
       "array([0.5       , 0.73105858, 0.88079708, 0.95257413, 0.98201379,\n",
       "       0.99330715, 0.99752738, 0.99908895, 0.99966465, 0.99987661,\n",
       "       0.9999546 , 0.9999833 , 0.99999386, 0.99999774, 0.99999917,\n",
       "       0.99999969, 0.99999989, 0.99999996, 0.99999998, 0.99999999,\n",
       "       1.        , 1.        , 1.        , 1.        , 1.        ,\n",
       "       1.        , 1.        , 1.        , 1.        , 1.        ,\n",
       "       1.        , 1.        , 1.        , 1.        , 1.        ,\n",
       "       1.        , 1.        , 1.        , 1.        , 1.        ,\n",
       "       1.        , 1.        , 1.        , 1.        , 1.        ,\n",
       "       1.        , 1.        , 1.        , 1.        , 1.        ])"
      ]
     },
     "execution_count": 623,
     "metadata": {},
     "output_type": "execute_result"
    }
   ],
   "source": [
    "#working with any functions\n",
    "\n",
    "def sigmoid_func(arr):\n",
    "    return  1/(1 + np.exp(-(arr)))\n",
    "arr = np.arange(50)\n",
    "sigmoid_func(arr)"
   ]
  },
  {
   "cell_type": "code",
   "execution_count": 625,
   "id": "09ae5ea5-06ac-4b14-bf0e-fa04cde3db60",
   "metadata": {},
   "outputs": [
    {
     "name": "stdout",
     "output_type": "stream",
     "text": [
      "Use Case 1 - Regression Model Performance:\n",
      "Actual Prices: [202 448 370 206 171 288 120 202 221 314 430 187 472 199 459 251 230 249\n",
      " 408 357 443 393 485 291 376]\n",
      "Predicted Prices: [260 413 121 352 335 444 148 158 269 287 370 289 274 150 463 154 343 419\n",
      " 230 406 234 120 428 266 373]\n",
      "Mean Squared Error (MSE): 16310.88\n",
      "\n",
      "Use Case 2 - Sensor Error Analysis:\n",
      "Actual Temperatures: [25 30 28 22 26 27 29 31 24 23]\n",
      "Predicted Temperatures: [24 32 27 21 25 29 28 30 26 22]\n",
      "Mean Squared Error (MSE): 1.9\n"
     ]
    }
   ],
   "source": [
    "import numpy as np\n",
    "\n",
    "# Define the Mean Squared Error function\n",
    "def mse(actual, predicted):\n",
    "    \"\"\"\n",
    "    Calculate Mean Squared Error between actual and predicted values.\n",
    "    \n",
    "    Parameters:\n",
    "        actual (np.array): Actual values (ground truth).\n",
    "        predicted (np.array): Predicted values.\n",
    "        \n",
    "    Returns:\n",
    "        float: Mean Squared Error.\n",
    "    \"\"\"\n",
    "    return np.mean((actual - predicted) ** 2)\n",
    "\n",
    "# Use Case 1: Model Performance in Regression\n",
    "np.random.seed(42)  # For reproducibility\n",
    "actual_prices = np.random.randint(100, 500, 25)  # True house prices in thousands\n",
    "predicted_prices = np.random.randint(100, 500, 25)  # Predicted house prices\n",
    "mse_regression = mse(actual_prices, predicted_prices)\n",
    "\n",
    "print(\"Use Case 1 - Regression Model Performance:\")\n",
    "print(\"Actual Prices:\", actual_prices)\n",
    "print(\"Predicted Prices:\", predicted_prices)\n",
    "print(\"Mean Squared Error (MSE):\", mse_regression)\n",
    "\n",
    "# Use Case 2: Sensor Error Analysis\n",
    "actual_temperatures = np.array([25, 30, 28, 22, 26, 27, 29, 31, 24, 23])  # Actual temperatures\n",
    "predicted_temperatures = np.array([24, 32, 27, 21, 25, 29, 28, 30, 26, 22])  # Sensor readings\n",
    "mse_sensor = mse(actual_temperatures, predicted_temperatures)\n",
    "\n",
    "print(\"\\nUse Case 2 - Sensor Error Analysis:\")\n",
    "print(\"Actual Temperatures:\", actual_temperatures)\n",
    "print(\"Predicted Temperatures:\", predicted_temperatures)\n",
    "print(\"Mean Squared Error (MSE):\", mse_sensor)\n"
   ]
  },
  {
   "cell_type": "code",
   "execution_count": 635,
   "id": "86ec996a-7d2a-486a-a11f-967b0cb8a6bb",
   "metadata": {},
   "outputs": [
    {
     "data": {
      "image/png": "[encoded data removed]",
      "text/plain": [
       "<Figure size 640x480 with 1 Axes>"
      ]
     },
     "metadata": {},
     "output_type": "display_data"
    }
   ],
   "source": [
    "#numpy use case for plotting\n",
    "import matplotlib.pyplot as plt\n",
    "\n",
    "x = np.linspace(-100,100,50)\n",
    "y = x\n",
    "\n",
    "plt.plot(x,y)\n",
    "plt.show()"
   ]
  },
  {
   "cell_type": "code",
   "execution_count": 637,
   "id": "33c3598a-bba9-4b78-86b9-1d5dc9302164",
   "metadata": {},
   "outputs": [
    {
     "data": {
      "image/png": "[encoded data removed]",
      "text/plain": [
       "<Figure size 640x480 with 1 Axes>"
      ]
     },
     "metadata": {},
     "output_type": "display_data"
    }
   ],
   "source": [
    "x = np.linspace(-100,100,50)\n",
    "y = x**2\n",
    "\n",
    "plt.plot(x,y)\n",
    "plt.show()"
   ]
  },
  {
   "cell_type": "code",
   "execution_count": 646,
   "id": "9574c830-4849-4cb1-b302-0814ae0bff6b",
   "metadata": {},
   "outputs": [
    {
     "data": {
      "image/png": "[encoded data removed]",
      "text/plain": [
       "<Figure size 640x480 with 1 Axes>"
      ]
     },
     "metadata": {},
     "output_type": "display_data"
    }
   ],
   "source": [
    "x = np.linspace(-10,10,100)\n",
    "y = np.sin(x)\n",
    "\n",
    "plt.plot(x,y)\n",
    "plt.show()"
   ]
  },
  {
   "cell_type": "code",
   "execution_count": 648,
   "id": "da45b60f-8e2e-4e9a-9e3f-693e7202aaa3",
   "metadata": {},
   "outputs": [
    {
     "name": "stderr",
     "output_type": "stream",
     "text": [
      "C:\\Users\\ajayk\\AppData\\Local\\Temp\\ipykernel_5556\\1392349142.py:2: RuntimeWarning: invalid value encountered in log\n",
      "  y = x * np.log(x)\n"
     ]
    },
    {
     "data": {
      "image/png": "[encoded data removed]",
      "text/plain": [
       "<Figure size 640x480 with 1 Axes>"
      ]
     },
     "metadata": {},
     "output_type": "display_data"
    }
   ],
   "source": [
    "x = np.linspace(-10,10,100)\n",
    "y = x * np.log(x)\n",
    "\n",
    "plt.plot(x,y)\n",
    "plt.show()"
   ]
  },
  {
   "cell_type": "code",
   "execution_count": 650,
   "id": "e2d9302f-f8d0-4b4f-9eed-9950f8aee890",
   "metadata": {},
   "outputs": [
    {
     "data": {
      "image/png": "[encoded data removed]",
      "text/plain": [
       "<Figure size 640x480 with 1 Axes>"
      ]
     },
     "metadata": {},
     "output_type": "display_data"
    }
   ],
   "source": [
    "# sigmoid\n",
    "x = np.linspace(-10,10,100)\n",
    "y = 1/(1+np.exp(-x))\n",
    "\n",
    "plt.plot(x,y)\n",
    "plt.show()"
   ]
  },
  {
   "cell_type": "raw",
   "id": "d720ea66-6a7f-43da-aca7-deb1e773cfb1",
   "metadata": {},
   "source": [
    "numpy.meshgrid is a powerful function used to generate coordinate grids. It creates a grid of coordinates from two or more 1D arrays, making it easier to evaluate functions over a grid or to visualize 2D and 3D data."
   ]
  },
  {
   "cell_type": "code",
   "execution_count": 653,
   "id": "2d91d61f-12ad-43e5-bc78-2f5e2b4fb31c",
   "metadata": {},
   "outputs": [
    {
     "name": "stdout",
     "output_type": "stream",
     "text": [
      "X:\n",
      " [[-5.  -2.5  0.   2.5  5. ]\n",
      " [-5.  -2.5  0.   2.5  5. ]\n",
      " [-5.  -2.5  0.   2.5  5. ]\n",
      " [-5.  -2.5  0.   2.5  5. ]\n",
      " [-5.  -2.5  0.   2.5  5. ]]\n",
      "Y:\n",
      " [[-5.  -5.  -5.  -5.  -5. ]\n",
      " [-2.5 -2.5 -2.5 -2.5 -2.5]\n",
      " [ 0.   0.   0.   0.   0. ]\n",
      " [ 2.5  2.5  2.5  2.5  2.5]\n",
      " [ 5.   5.   5.   5.   5. ]]\n",
      "Z:\n",
      " [[50.   31.25 25.   31.25 50.  ]\n",
      " [31.25 12.5   6.25 12.5  31.25]\n",
      " [25.    6.25  0.    6.25 25.  ]\n",
      " [31.25 12.5   6.25 12.5  31.25]\n",
      " [50.   31.25 25.   31.25 50.  ]]\n"
     ]
    }
   ],
   "source": [
    "import numpy as np\n",
    "\n",
    "# Define the 1D ranges for x and y\n",
    "x = np.linspace(-5, 5, 5)  # 5 points between -5 and 5\n",
    "y = np.linspace(-5, 5, 5)\n",
    "\n",
    "# Create the meshgrid\n",
    "X, Y = np.meshgrid(x, y)\n",
    "\n",
    "# Evaluate a function: z = x^2 + y^2\n",
    "Z = X**2 + Y**2\n",
    "\n",
    "print(\"X:\\n\", X)\n",
    "print(\"Y:\\n\", Y)\n",
    "print(\"Z:\\n\", Z)\n"
   ]
  },
  {
   "cell_type": "code",
   "execution_count": 655,
   "id": "e7e1a5b9-25f7-43cb-a752-04df94c25565",
   "metadata": {},
   "outputs": [
    {
     "data": {
      "image/png": "[encoded data removed]",
      "text/plain": [
       "<Figure size 640x480 with 1 Axes>"
      ]
     },
     "metadata": {},
     "output_type": "display_data"
    }
   ],
   "source": [
    "# Use the meshgrid to create a 3D plot.\n",
    "\n",
    "import matplotlib.pyplot as plt\n",
    "from mpl_toolkits.mplot3d import Axes3D\n",
    "\n",
    "# Create a 2D grid\n",
    "x = np.linspace(-5, 5, 50)\n",
    "y = np.linspace(-5, 5, 50)\n",
    "X, Y = np.meshgrid(x, y)\n",
    "\n",
    "# Function to evaluate\n",
    "Z = np.sin(np.sqrt(X**2 + Y**2))\n",
    "\n",
    "# Plot the surface\n",
    "fig = plt.figure()\n",
    "ax = fig.add_subplot(111, projection='3d')\n",
    "ax.plot_surface(X, Y, Z, cmap='viridis')\n",
    "plt.show()\n"
   ]
  },
  {
   "cell_type": "code",
   "execution_count": 657,
   "id": "0ddcd3e7-b51c-4622-8449-fe2dcaf41ed0",
   "metadata": {},
   "outputs": [
    {
     "name": "stdout",
     "output_type": "stream",
     "text": [
      "3D Scalar Field:\n",
      " [[[3.   2.25 2.   2.25 3.  ]\n",
      "  [2.25 1.5  1.25 1.5  2.25]\n",
      "  [2.   1.25 1.   1.25 2.  ]\n",
      "  [2.25 1.5  1.25 1.5  2.25]\n",
      "  [3.   2.25 2.   2.25 3.  ]]\n",
      "\n",
      " [[2.25 1.5  1.25 1.5  2.25]\n",
      "  [1.5  0.75 0.5  0.75 1.5 ]\n",
      "  [1.25 0.5  0.25 0.5  1.25]\n",
      "  [1.5  0.75 0.5  0.75 1.5 ]\n",
      "  [2.25 1.5  1.25 1.5  2.25]]\n",
      "\n",
      " [[2.   1.25 1.   1.25 2.  ]\n",
      "  [1.25 0.5  0.25 0.5  1.25]\n",
      "  [1.   0.25 0.   0.25 1.  ]\n",
      "  [1.25 0.5  0.25 0.5  1.25]\n",
      "  [2.   1.25 1.   1.25 2.  ]]\n",
      "\n",
      " [[2.25 1.5  1.25 1.5  2.25]\n",
      "  [1.5  0.75 0.5  0.75 1.5 ]\n",
      "  [1.25 0.5  0.25 0.5  1.25]\n",
      "  [1.5  0.75 0.5  0.75 1.5 ]\n",
      "  [2.25 1.5  1.25 1.5  2.25]]\n",
      "\n",
      " [[3.   2.25 2.   2.25 3.  ]\n",
      "  [2.25 1.5  1.25 1.5  2.25]\n",
      "  [2.   1.25 1.   1.25 2.  ]\n",
      "  [2.25 1.5  1.25 1.5  2.25]\n",
      "  [3.   2.25 2.   2.25 3.  ]]]\n"
     ]
    }
   ],
   "source": [
    "\n",
    "# Define the ranges for x, y, z\n",
    "x = np.linspace(-1, 1, 5)\n",
    "y = np.linspace(-1, 1, 5)\n",
    "z = np.linspace(-1, 1, 5)\n",
    "\n",
    "# Create the 3D meshgrid\n",
    "X, Y, Z = np.meshgrid(x, y, z, indexing='ij')\n",
    "\n",
    "# Evaluate a scalar field: f(x, y, z) = x^2 + y^2 + z^2\n",
    "F = X**2 + Y**2 + Z**2\n",
    "print(\"3D Scalar Field:\\n\", F)\n"
   ]
  },
  {
   "cell_type": "code",
   "execution_count": 659,
   "id": "b8f155f9-48f9-463c-ab0e-87ae2cf0a89c",
   "metadata": {},
   "outputs": [
    {
     "data": {
      "image/png": "[encoded data removed]",
      "text/plain": [
       "<Figure size 640x480 with 2 Axes>"
      ]
     },
     "metadata": {},
     "output_type": "display_data"
    }
   ],
   "source": [
    " #2D Meshgrid for Contour Plotting\n",
    "\n",
    "# Create a grid\n",
    "x = np.linspace(-3, 3, 100)\n",
    "y = np.linspace(-3, 3, 100)\n",
    "X, Y = np.meshgrid(x, y)\n",
    "\n",
    "# Define a function\n",
    "Z = np.exp(-X**2 - Y**2)\n",
    "\n",
    "# Plot contours\n",
    "plt.contourf(X, Y, Z, cmap='plasma')\n",
    "plt.colorbar()\n",
    "plt.title(\"Contour Plot\")\n",
    "plt.show()\n"
   ]
  },
  {
   "cell_type": "code",
   "execution_count": 661,
   "id": "46e602ec-0993-4253-9d6c-4958bf1587f2",
   "metadata": {},
   "outputs": [
    {
     "name": "stdout",
     "output_type": "stream",
     "text": [
      "X (Column indices):\n",
      " [[0 1 2 3 4]\n",
      " [0 1 2 3 4]\n",
      " [0 1 2 3 4]\n",
      " [0 1 2 3 4]\n",
      " [0 1 2 3 4]]\n",
      "Y (Row indices):\n",
      " [[0 0 0 0 0]\n",
      " [1 1 1 1 1]\n",
      " [2 2 2 2 2]\n",
      " [3 3 3 3 3]\n",
      " [4 4 4 4 4]]\n"
     ]
    }
   ],
   "source": [
    "#for image processing\n",
    "# Generate a grid for a 5x5 image\n",
    "rows, cols = 5, 5\n",
    "x = np.arange(cols)  # Columns (0, 1, 2, 3, 4)\n",
    "y = np.arange(rows)  # Rows (0, 1, 2, 3, 4)\n",
    "\n",
    "X, Y = np.meshgrid(x, y)\n",
    "\n",
    "print(\"X (Column indices):\\n\", X)\n",
    "print(\"Y (Row indices):\\n\", Y)\n"
   ]
  },
  {
   "cell_type": "code",
   "execution_count": null,
   "id": "2aaad83e-a84e-4d5b-b274-8541aecb7fbc",
   "metadata": {},
   "outputs": [],
   "source": []
  }
 ],
 "metadata": {
  "kernelspec": {
   "display_name": "Python 3 (ipykernel)",
   "language": "python",
   "name": "python3"
  },
  "language_info": {
   "codemirror_mode": {
    "name": "ipython",
    "version": 3
   },
   "file_extension": ".py",
   "mimetype": "text/x-python",
   "name": "python",
   "nbconvert_exporter": "python",
   "pygments_lexer": "ipython3",
   "version": "3.12.7"
  }
 },
 "nbformat": 4,
 "nbformat_minor": 5
}

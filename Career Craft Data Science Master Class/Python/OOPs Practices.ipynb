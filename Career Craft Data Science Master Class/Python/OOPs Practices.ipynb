{
 "cells": [
  {
   "cell_type": "code",
   "execution_count": 10,
   "id": "2926c9e9-eebf-470d-b059-8eb40945c3e1",
   "metadata": {},
   "outputs": [],
   "source": [
    "# class without constructor or __init__() mothod\n",
    "# We we will not use __init__() then we have to pass object manually every time.\n",
    "\n",
    "class Student:\n",
    "    def reading(self):\n",
    "        print(\"The student is reading\")\n",
    "\n",
    "    def writing(self):\n",
    "        print(\"The students are writing.\")"
   ]
  },
  {
   "cell_type": "code",
   "execution_count": 12,
   "id": "00bdb9cb-167b-4018-8408-7b2ee8955a3b",
   "metadata": {},
   "outputs": [
    {
     "name": "stdout",
     "output_type": "stream",
     "text": [
      "The student is reading\n",
      "The students are writing.\n"
     ]
    }
   ],
   "source": [
    "obj = Student()\n",
    "obj.reading()\n",
    "obj.writing()"
   ]
  },
  {
   "cell_type": "markdown",
   "id": "fe2ea507-57ed-41eb-9da7-7bb124d710f1",
   "metadata": {},
   "source": [
    "2. Siple class method: "
   ]
  },
  {
   "cell_type": "code",
   "execution_count": 15,
   "id": "d20b2d26-1ff9-4929-ad4f-3051639e847a",
   "metadata": {},
   "outputs": [],
   "source": [
    "class Calculator:\n",
    "    def add(self, a,b):\n",
    "        return (a+b)\n",
    "\n",
    "    def subtract(self, a,b):\n",
    "        return(a-b)\n"
   ]
  },
  {
   "cell_type": "code",
   "execution_count": 19,
   "id": "b0ae5aa2-9c2d-4c49-9fbf-ca1cb3842fdc",
   "metadata": {},
   "outputs": [
    {
     "name": "stdout",
     "output_type": "stream",
     "text": [
      "9\n",
      "2\n"
     ]
    }
   ],
   "source": [
    "obj1 = Calculator()\n",
    "print(obj1.add(4,5))\n",
    "print(obj1.subtract(8,6))"
   ]
  },
  {
   "cell_type": "markdown",
   "id": "ea9418f3-6187-47bf-8643-3a946c4b0d44",
   "metadata": {},
   "source": [
    "3.Using class Attribute:"
   ]
  },
  {
   "cell_type": "code",
   "execution_count": 52,
   "id": "bf0a80be-5e55-4100-8227-6b5182719321",
   "metadata": {},
   "outputs": [],
   "source": [
    "class Counter:\n",
    "    count = 0    # class attribute\n",
    "\n",
    "    def increment(self):\n",
    "        Counter.count+=1\n",
    "    def get_count(self):\n",
    "        return Counter.count"
   ]
  },
  {
   "cell_type": "code",
   "execution_count": 56,
   "id": "bef71329-a027-4557-b324-4182d2b47d24",
   "metadata": {},
   "outputs": [
    {
     "data": {
      "text/plain": [
       "3"
      ]
     },
     "execution_count": 56,
     "metadata": {},
     "output_type": "execute_result"
    }
   ],
   "source": [
    "obj = Counter()\n",
    "obj.increment()\n",
    "obj.increment()\n",
    "obj.get_count()"
   ]
  },
  {
   "cell_type": "markdown",
   "id": "9e5295a7-5333-436f-a220-758ad6fb40f7",
   "metadata": {},
   "source": [
    "4. Working with Instance Method"
   ]
  },
  {
   "cell_type": "code",
   "execution_count": 59,
   "id": "81796a8d-284d-486c-b512-b360b24df5e4",
   "metadata": {},
   "outputs": [],
   "source": [
    "class Greet:\n",
    "    def greet(self, name):\n",
    "        return(f\"Hello, {name}\")"
   ]
  },
  {
   "cell_type": "code",
   "execution_count": 71,
   "id": "8818586c-6d8f-48c4-8ab6-069eafee53b0",
   "metadata": {},
   "outputs": [
    {
     "data": {
      "text/plain": [
       "'Hello, Rajkumar Rajbhar'"
      ]
     },
     "execution_count": 71,
     "metadata": {},
     "output_type": "execute_result"
    }
   ],
   "source": [
    "Obj = Greet()\n",
    "Obj.greet('Rajkumar Rajbhar')"
   ]
  },
  {
   "cell_type": "markdown",
   "id": "81251f11-f3c2-4bba-ac80-564aa6b6b7f4",
   "metadata": {},
   "source": [
    "Example 4: Static Method Example:"
   ]
  },
  {
   "cell_type": "code",
   "execution_count": 80,
   "id": "e6482f8c-5fff-4455-b6fe-3039d92716e1",
   "metadata": {},
   "outputs": [],
   "source": [
    "class MathUtil:\n",
    "\n",
    "    @staticmethod\n",
    "    def square(n):\n",
    "        return n*n\n",
    "    "
   ]
  },
  {
   "cell_type": "code",
   "execution_count": 84,
   "id": "3a707ece-8c9f-452a-932f-c2af4ccf15d4",
   "metadata": {},
   "outputs": [
    {
     "data": {
      "text/plain": [
       "16"
      ]
     },
     "execution_count": 84,
     "metadata": {},
     "output_type": "execute_result"
    }
   ],
   "source": [
    "obj = MathUtil()\n",
    "obj.square(4)"
   ]
  },
  {
   "cell_type": "markdown",
   "id": "839de04c-9ec0-40b2-a170-e333741b183a",
   "metadata": {},
   "source": [
    "Example 5: Mixing Class and Instance Method"
   ]
  },
  {
   "cell_type": "code",
   "execution_count": 87,
   "id": "7f9ddd8e-7d71-4759-8e3c-9ef2df384edf",
   "metadata": {},
   "outputs": [
    {
     "data": {
      "text/plain": [
       "'Dog'"
      ]
     },
     "execution_count": 87,
     "metadata": {},
     "output_type": "execute_result"
    }
   ],
   "source": [
    "class Animal:\n",
    "    species=\"Unknown\"   #Class Attribute\n",
    "\n",
    "    def set_species(self, species_name):\n",
    "        Animal.species = species_name\n",
    "    def get_species(self):\n",
    "        return Animal.species\n",
    "animal = Animal()\n",
    "animal.set_species(\"Dog\")\n",
    "animal.get_species()"
   ]
  },
  {
   "cell_type": "code",
   "execution_count": 89,
   "id": "4893e243-e078-43f4-b38c-37ac52e0148e",
   "metadata": {},
   "outputs": [
    {
     "data": {
      "text/plain": [
       "'Hourse'"
      ]
     },
     "execution_count": 89,
     "metadata": {},
     "output_type": "execute_result"
    }
   ],
   "source": [
    "animal.set_species(\"Hourse\")\n",
    "animal.get_species()"
   ]
  },
  {
   "cell_type": "code",
   "execution_count": 93,
   "id": "8d333b6f-3d12-4c19-852c-c048b87faa46",
   "metadata": {},
   "outputs": [
    {
     "data": {
      "text/plain": [
       "'Bull'"
      ]
     },
     "execution_count": 93,
     "metadata": {},
     "output_type": "execute_result"
    }
   ],
   "source": [
    "animal1 = Animal()\n",
    "animal1.set_species(\"Bull\")\n",
    "animal1.get_species()"
   ]
  },
  {
   "cell_type": "markdown",
   "id": "d0e8b7eb-7c59-4524-83a7-5bdc385f2f74",
   "metadata": {},
   "source": [
    "6. class with attribute Set Dictionary"
   ]
  },
  {
   "cell_type": "code",
   "execution_count": 100,
   "id": "dae9c7d8-66f1-4650-9212-5134cb361eef",
   "metadata": {},
   "outputs": [],
   "source": [
    "class Book:\n",
    "    def print_details(self):\n",
    "        print(f\"Title: {self.title},Author: {self.author}\")\n",
    "    "
   ]
  },
  {
   "cell_type": "code",
   "execution_count": 102,
   "id": "62952cae-94c3-46ce-bd89-348d2f63d483",
   "metadata": {},
   "outputs": [
    {
     "name": "stdout",
     "output_type": "stream",
     "text": [
      "Title: 1984,Author: Rajkumar Rajbhar\n"
     ]
    }
   ],
   "source": [
    "book = Book()\n",
    "book.title = '1991'\n",
    "\n",
    "book = Book()\n",
    "book.title = '1984'\n",
    "book.author = (\"Rajkumar Rajbhar\")\n",
    "book.print_details()"
   ]
  },
  {
   "cell_type": "code",
   "execution_count": null,
   "id": "762823e4-2c17-49ed-a00c-ef8e7ed436f4",
   "metadata": {},
   "outputs": [],
   "source": []
  }
 ],
 "metadata": {
  "kernelspec": {
   "display_name": "Python [conda env:base] *",
   "language": "python",
   "name": "conda-base-py"
  },
  "language_info": {
   "codemirror_mode": {
    "name": "ipython",
    "version": 3
   },
   "file_extension": ".py",
   "mimetype": "text/x-python",
   "name": "python",
   "nbconvert_exporter": "python",
   "pygments_lexer": "ipython3",
   "version": "3.9.18"
  }
 },
 "nbformat": 4,
 "nbformat_minor": 5
}

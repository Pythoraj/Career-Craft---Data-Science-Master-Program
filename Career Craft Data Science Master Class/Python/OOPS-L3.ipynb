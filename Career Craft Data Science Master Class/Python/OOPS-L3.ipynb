{
 "cells": [
  {
   "cell_type": "markdown",
   "id": "2a282193-71aa-42d3-88ac-2f5e1e0a8539",
   "metadata": {},
   "source": [
    "Inheretence\n",
    "\n",
    "Polymorphism\n",
    "\n",
    "Abstraction\n",
    "\n",
    "Decorator, static Method & Static Class."
   ]
  },
  {
   "cell_type": "markdown",
   "id": "a19a1a6b-cbd5-4d2a-85d6-73bd29938f34",
   "metadata": {},
   "source": [
    "# Can we access a class and methods of our class from aonther class?\n",
    "1. Inheritance\n",
    "2. Aggregation\n",
    "\n",
    "Always multiple class have reletion \n",
    "\n",
    "*Aggregation:* \n",
    "Aggregation means has a relationship."
   ]
  },
  {
   "cell_type": "code",
   "execution_count": 10,
   "id": "d7a6ad8b-5793-4fb9-a2ff-1d955d2b34cd",
   "metadata": {},
   "outputs": [],
   "source": [
    "class Student:\n",
    "    def __init__(self, name, gender, address):\n",
    "        self.name = name\n",
    "        self.gender = gender\n",
    "        self.address = address\n",
    "    def show_address(self):\n",
    "        print(Address.city,Address.state,Address.country)\n",
    "\n",
    "\n",
    "\n",
    "class Address:\n",
    "    def __init__(self, city, state, country):\n",
    "        self.city = city\n",
    "        self.state = state\n",
    "        self.country = country\n",
    "\n",
    "Add1 = Address(\"Banglor\",\"Karnataka\",\"India\")"
   ]
  },
  {
   "cell_type": "code",
   "execution_count": 12,
   "id": "84c7e124-49ce-462f-acf4-ece6947c9d9f",
   "metadata": {},
   "outputs": [],
   "source": [
    "class Student:\n",
    "    def __init__(self, name, gender, address):\n",
    "        self.name = name\n",
    "        self.gender = gender\n",
    "        self.address = address\n",
    "    def show_address(self):\n",
    "        print(Address.city,Address.state,Address.country)\n",
    "\n",
    "\n",
    "\n",
    "class Address:\n",
    "    def __init__(self, city, state, country):\n",
    "        self.city = city\n",
    "        self.state = state\n",
    "        self.country = country\n",
    "\n",
    "Obj = Student(\"Rajkumar\",\"M\",Add1)"
   ]
  },
  {
   "cell_type": "code",
   "execution_count": 18,
   "id": "a85a7b76-b270-4a53-9989-8f8506eb1f5c",
   "metadata": {},
   "outputs": [
    {
     "ename": "AttributeError",
     "evalue": "type object 'Address' has no attribute 'city'",
     "output_type": "error",
     "traceback": [
      "\u001b[1;31m---------------------------------------------------------------------------\u001b[0m",
      "\u001b[1;31mAttributeError\u001b[0m                            Traceback (most recent call last)",
      "Cell \u001b[1;32mIn[18], line 1\u001b[0m\n\u001b[1;32m----> 1\u001b[0m \u001b[43mObj\u001b[49m\u001b[38;5;241;43m.\u001b[39;49m\u001b[43mshow_address\u001b[49m\u001b[43m(\u001b[49m\u001b[43m)\u001b[49m\n",
      "Cell \u001b[1;32mIn[12], line 7\u001b[0m, in \u001b[0;36mStudent.show_address\u001b[1;34m(self)\u001b[0m\n\u001b[0;32m      6\u001b[0m \u001b[38;5;28;01mdef\u001b[39;00m \u001b[38;5;21mshow_address\u001b[39m(\u001b[38;5;28mself\u001b[39m):\n\u001b[1;32m----> 7\u001b[0m     \u001b[38;5;28mprint\u001b[39m(\u001b[43mAddress\u001b[49m\u001b[38;5;241;43m.\u001b[39;49m\u001b[43mcity\u001b[49m,Address\u001b[38;5;241m.\u001b[39mstate,Address\u001b[38;5;241m.\u001b[39mcountry)\n",
      "\u001b[1;31mAttributeError\u001b[0m: type object 'Address' has no attribute 'city'"
     ]
    }
   ],
   "source": [
    "Obj.show_address()"
   ]
  },
  {
   "cell_type": "code",
   "execution_count": null,
   "id": "1156fcc7-fe8a-49b9-a7f6-195d55bddcd4",
   "metadata": {},
   "outputs": [],
   "source": []
  }
 ],
 "metadata": {
  "kernelspec": {
   "display_name": "Python 3 (ipykernel)",
   "language": "python",
   "name": "python3"
  },
  "language_info": {
   "codemirror_mode": {
    "name": "ipython",
    "version": 3
   },
   "file_extension": ".py",
   "mimetype": "text/x-python",
   "name": "python",
   "nbconvert_exporter": "python",
   "pygments_lexer": "ipython3",
   "version": "3.9.18"
  }
 },
 "nbformat": 4,
 "nbformat_minor": 5
}
